{
 "cells": [
  {
   "attachments": {},
   "cell_type": "markdown",
   "metadata": {},
   "source": [
    "# FILE NÀY DÙNG ĐỂ LẤY DATA CỦA 20 TRẬN ĐẤU GẦN NHẤT CỦA TOP 100 NGƯỜI CHƠI SERVER KR VÀ SERVER NA TỪ FILE *data_summoner_tft_csv.csv*"
   ]
  },
  {
   "cell_type": "code",
   "execution_count": 12,
   "metadata": {},
   "outputs": [],
   "source": [
    "import requests\n",
    "import csv  \n",
    "import numpy as np\n",
    "import pandas as pd\n",
    "import time\n",
    "import json\n",
    "import os\n"
   ]
  },
  {
   "cell_type": "code",
   "execution_count": 40,
   "metadata": {},
   "outputs": [],
   "source": [
    "data_summoner = []"
   ]
  },
  {
   "cell_type": "code",
   "execution_count": 41,
   "metadata": {},
   "outputs": [],
   "source": [
    "with open('./Data_game/data_summoner_tft_csv.csv') as csv_file:\n",
    "    csv_reader = csv.reader(csv_file, delimiter=',')\n",
    "    line_count = 0\n",
    "    for row in csv_reader:\n",
    "        data_summoner.append(row)\n"
   ]
  },
  {
   "cell_type": "code",
   "execution_count": 42,
   "metadata": {},
   "outputs": [],
   "source": [
    "data_summoner.pop(0)\n",
    "data_summoner = np.array(data_summoner)\n",
    "data_summoner = data_summoner[:100]\n"
   ]
  },
  {
   "cell_type": "code",
   "execution_count": 44,
   "metadata": {},
   "outputs": [
    {
     "data": {
      "text/plain": [
       "array(['98', 'noweekman', 'inikoiniko'], dtype='<U16')"
      ]
     },
     "execution_count": 44,
     "metadata": {},
     "output_type": "execute_result"
    }
   ],
   "source": [
    "data_summoner[98]"
   ]
  },
  {
   "cell_type": "code",
   "execution_count": 45,
   "metadata": {},
   "outputs": [],
   "source": [
    "api_key = \"RGAPI-3b944f31-f2a9-4c3e-bb44-5b92f46a4fd0\"\n"
   ]
  },
  {
   "cell_type": "code",
   "execution_count": 46,
   "metadata": {},
   "outputs": [],
   "source": [
    "'''Lấy id của count trận gần nhất của người chơi puuid'''\n",
    "def get_matches(region, puuid, count, api_key):\n",
    "    api_url = (\n",
    "        \"https://\" +\n",
    "        region +\n",
    "        \".api.riotgames.com/tft/match/v1/matches/by-puuid/\" +\n",
    "        puuid +\n",
    "        \"/ids?\" +\n",
    "        \"start=0&\" +\n",
    "        \"count=\" +\n",
    "        str(count) +\n",
    "        \"&api_key=\" +\n",
    "        api_key\n",
    "    )\n",
    "\n",
    "    resp = requests.get(api_url)\n",
    "    return resp.json()\n"
   ]
  },
  {
   "cell_type": "code",
   "execution_count": 47,
   "metadata": {},
   "outputs": [],
   "source": [
    "def get_match_data(region, match_id, api_key):\n",
    "    api_url = (\n",
    "        \"https://\" +\n",
    "        region +\n",
    "        \".api.riotgames.com/tft/match/v1/matches/\" +\n",
    "        match_id +\n",
    "        \"?api_key=\" +\n",
    "        api_key\n",
    "    )\n",
    "    while True:\n",
    "        resp = requests.get(api_url)\n",
    "\n",
    "        if resp.status_code == 429:\n",
    "            time.sleep(10)\n",
    "            continue\n",
    "\n",
    "        data = resp.json()\n",
    "        return data\n"
   ]
  },
  {
   "attachments": {},
   "cell_type": "markdown",
   "metadata": {},
   "source": [
    "## Đọc dữ liệu server KR"
   ]
  },
  {
   "cell_type": "code",
   "execution_count": 29,
   "metadata": {},
   "outputs": [],
   "source": [
    "#Lấy link của summonner name\n",
    "for i in range(87, len(data_summoner)):\n",
    "    api_url = \"https://kr.api.riotgames.com/lol/summoner/v4/summoners/by-name/\"\n",
    "    api_url = api_url + data_summoner[i][1]\n",
    "    api_url = api_url + '?api_key=' + api_key\n",
    "\n",
    "    #Lấy puuid \n",
    "    resp = requests.get(api_url)\n",
    "    resp.json()\n",
    "    player_info = resp.json()\n",
    "    player_puuid = player_info['puuid']\n",
    "\n",
    "    #Lấy id của 20 trận gần nhất\n",
    "    region = \"ASIA\"\n",
    "    matches = get_matches(region, player_puuid, 20, api_key)\n",
    "\n",
    "    #Lấy toàn bộ dữ liệu của 20 trận đó lưu vào thư mục tên người chơi\n",
    "    #Tạo thư mục tên người chơi\n",
    "    path = os.path.join(\"./Data_Match/KR/\", data_summoner[i][1])\n",
    "    os.mkdir(path)\n",
    "\n",
    "    #Lưu file trận đấu vào thư mục tên người chơi đó\n",
    "    for match_id in matches:\n",
    "        match_data = get_match_data(region, match_id, api_key)\n",
    "\n",
    "        file_name = \"./Data_Match/KR/\" +  data_summoner[i][1] + \"/\" + match_data[\"metadata\"][\"match_id\"] + \".json\"\n",
    "        with open(file_name, \"w\") as f_out:\n",
    "            json.dump(match_data, f_out)\n",
    "            f_out.close()\n"
   ]
  },
  {
   "attachments": {},
   "cell_type": "markdown",
   "metadata": {},
   "source": [
    "# Đọc dữ liệu server NA1"
   ]
  },
  {
   "cell_type": "code",
   "execution_count": 48,
   "metadata": {},
   "outputs": [
    {
     "name": "stdout",
     "output_type": "stream",
     "text": [
      "./Data_Match/NA1/inikoiniko/NA1_4524062810.json\n",
      "./Data_Match/NA1/inikoiniko/NA1_4524033872.json\n",
      "./Data_Match/NA1/inikoiniko/NA1_4524012017.json\n",
      "./Data_Match/NA1/inikoiniko/NA1_4523980187.json\n",
      "./Data_Match/NA1/inikoiniko/NA1_4523943636.json\n",
      "./Data_Match/NA1/inikoiniko/NA1_4523882673.json\n",
      "./Data_Match/NA1/inikoiniko/NA1_4523606744.json\n",
      "./Data_Match/NA1/inikoiniko/NA1_4523570432.json\n",
      "./Data_Match/NA1/inikoiniko/NA1_4523270477.json\n",
      "./Data_Match/NA1/inikoiniko/NA1_4523263005.json\n",
      "./Data_Match/NA1/inikoiniko/NA1_4523242677.json\n",
      "./Data_Match/NA1/inikoiniko/NA1_4523237374.json\n",
      "./Data_Match/NA1/inikoiniko/NA1_4523234841.json\n",
      "./Data_Match/NA1/inikoiniko/NA1_4523220908.json\n",
      "./Data_Match/NA1/inikoiniko/NA1_4523205194.json\n",
      "./Data_Match/NA1/inikoiniko/NA1_4523192027.json\n",
      "./Data_Match/NA1/inikoiniko/NA1_4523167486.json\n",
      "./Data_Match/NA1/inikoiniko/NA1_4523161063.json\n",
      "./Data_Match/NA1/inikoiniko/NA1_4522986780.json\n",
      "./Data_Match/NA1/inikoiniko/NA1_4522940937.json\n",
      "./Data_Match/NA1/imigod/NA1_4523459493.json\n",
      "./Data_Match/NA1/imigod/NA1_4523430999.json\n",
      "./Data_Match/NA1/imigod/NA1_4523403727.json\n",
      "./Data_Match/NA1/imigod/NA1_4523387583.json\n",
      "./Data_Match/NA1/imigod/NA1_4523375033.json\n",
      "./Data_Match/NA1/imigod/NA1_4523351609.json\n",
      "./Data_Match/NA1/imigod/NA1_4523339576.json\n",
      "./Data_Match/NA1/imigod/NA1_4523330956.json\n",
      "./Data_Match/NA1/imigod/NA1_4523310143.json\n",
      "./Data_Match/NA1/imigod/NA1_4523301970.json\n",
      "./Data_Match/NA1/imigod/NA1_4523284429.json\n",
      "./Data_Match/NA1/imigod/NA1_4523267614.json\n",
      "./Data_Match/NA1/imigod/NA1_4523271756.json\n",
      "./Data_Match/NA1/imigod/NA1_4523252335.json\n",
      "./Data_Match/NA1/imigod/NA1_4523247193.json\n",
      "./Data_Match/NA1/imigod/NA1_4523234489.json\n",
      "./Data_Match/NA1/imigod/NA1_4523230092.json\n",
      "./Data_Match/NA1/imigod/NA1_4523214483.json\n",
      "./Data_Match/NA1/imigod/NA1_4523201395.json\n",
      "./Data_Match/NA1/imigod/NA1_4523189535.json\n"
     ]
    }
   ],
   "source": [
    "#Lấy link của summonner name\n",
    "for i in range(98, len(data_summoner)):\n",
    "    api_url = \"https://na1.api.riotgames.com/lol/summoner/v4/summoners/by-name/\"\n",
    "    api_url = api_url + data_summoner[i][2]\n",
    "    api_url = api_url + '?api_key=' + api_key\n",
    "\n",
    "    #Lấy puuid\n",
    "    resp = requests.get(api_url)\n",
    "    resp.json()\n",
    "    player_info = resp.json()\n",
    "    player_puuid = player_info['puuid']\n",
    "\n",
    "    #Lấy id của 20 trận gần nhất\n",
    "    region = \"AMERICAS\"\n",
    "    matches = get_matches(region, player_puuid, 20, api_key)\n",
    "\n",
    "    #Lấy toàn bộ dữ liệu của 20 trận đó lưu vào thư mục tên người chơi\n",
    "    #Tạo thư mục tên người chơi\n",
    "    path = os.path.join(\"./Data_Match/NA1/\", data_summoner[i][2])\n",
    "    os.mkdir(path)\n",
    "\n",
    "    #Lưu file trận đấu vào thư mục tên người chơi đó\n",
    "    for match_id in matches:\n",
    "        match_data = get_match_data(region, match_id, api_key)\n",
    "\n",
    "        file_name = \"./Data_Match/NA1/\" + \\\n",
    "            data_summoner[i][2] + \"/\" + \\\n",
    "            match_data[\"metadata\"][\"match_id\"] + \".json\"\n",
    "        \n",
    "        print(file_name)\n",
    "        \n",
    "        with open(file_name, \"w\") as f_out:\n",
    "            json.dump(match_data, f_out)\n",
    "            f_out.close()\n"
   ]
  },
  {
   "cell_type": "code",
   "execution_count": null,
   "metadata": {},
   "outputs": [],
   "source": [
    "\n"
   ]
  },
  {
   "cell_type": "code",
   "execution_count": null,
   "metadata": {},
   "outputs": [],
   "source": []
  },
  {
   "cell_type": "code",
   "execution_count": null,
   "metadata": {},
   "outputs": [],
   "source": []
  },
  {
   "cell_type": "code",
   "execution_count": null,
   "metadata": {},
   "outputs": [],
   "source": []
  },
  {
   "cell_type": "code",
   "execution_count": null,
   "metadata": {},
   "outputs": [],
   "source": []
  },
  {
   "cell_type": "code",
   "execution_count": null,
   "metadata": {},
   "outputs": [],
   "source": []
  },
  {
   "cell_type": "code",
   "execution_count": null,
   "metadata": {},
   "outputs": [],
   "source": []
  },
  {
   "cell_type": "code",
   "execution_count": null,
   "metadata": {},
   "outputs": [],
   "source": []
  },
  {
   "cell_type": "code",
   "execution_count": null,
   "metadata": {},
   "outputs": [],
   "source": []
  },
  {
   "cell_type": "code",
   "execution_count": null,
   "metadata": {},
   "outputs": [],
   "source": []
  },
  {
   "cell_type": "code",
   "execution_count": null,
   "metadata": {},
   "outputs": [],
   "source": []
  },
  {
   "cell_type": "code",
   "execution_count": null,
   "metadata": {},
   "outputs": [],
   "source": []
  },
  {
   "cell_type": "code",
   "execution_count": null,
   "metadata": {},
   "outputs": [],
   "source": []
  },
  {
   "cell_type": "code",
   "execution_count": null,
   "metadata": {},
   "outputs": [],
   "source": []
  }
 ],
 "metadata": {
  "kernelspec": {
   "display_name": "Python 3",
   "language": "python",
   "name": "python3"
  },
  "language_info": {
   "codemirror_mode": {
    "name": "ipython",
    "version": 3
   },
   "file_extension": ".py",
   "mimetype": "text/x-python",
   "name": "python",
   "nbconvert_exporter": "python",
   "pygments_lexer": "ipython3",
   "version": "3.9.13"
  },
  "orig_nbformat": 4,
  "vscode": {
   "interpreter": {
    "hash": "90fee8763d76b2516181321d6a2084a8775622914896b9db6868725b6ee87a03"
   }
  }
 },
 "nbformat": 4,
 "nbformat_minor": 2
}
