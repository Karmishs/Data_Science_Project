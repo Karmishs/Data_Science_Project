{
 "cells": [
  {
   "attachments": {},
   "cell_type": "markdown",
   "id": "a577d301",
   "metadata": {
    "id": "a577d301"
   },
   "source": [
    "### LẤY DỮ LIỆU VỀ ĐỘI HÌNH"
   ]
  },
  {
   "cell_type": "code",
   "execution_count": 1,
   "id": "652e004b",
   "metadata": {
    "id": "652e004b"
   },
   "outputs": [],
   "source": [
    "# Import requests for crawling a page and Beautiful Soup for parse the HTML content\n",
    "# Import other libraries for demonstration\n",
    "from bs4 import BeautifulSoup\n",
    "import requests\n",
    "import pandas as pd\n",
    "import matplotlib.pyplot as plt\n",
    "import numpy as np\n",
    "import re\n",
    "import pandas as pd\n",
    "!conda activate min_ds-env"
   ]
  },
  {
   "cell_type": "code",
   "execution_count": 2,
   "id": "01f8d403",
   "metadata": {
    "id": "01f8d403"
   },
   "outputs": [],
   "source": [
    "# Fetch a website URL and store it to webpage\n",
    "webpage = requests.get(\"https://blitz.gg/tft/comps/stats\")\n",
    "#Take the webpage variable and fetch the content using BeautifulSoup\n",
    "soup = BeautifulSoup(webpage.content, \"html.parser\")\n",
    "data_comp = soup.find_all(attrs = {\"class\": \"⚡a1225826 notExpanded\"})#tìm ra các đội hình\n",
    "augments = soup.find_all(attrs = {\"class\": \"⚡2a34b3a9\"})"
   ]
  },
  {
   "attachments": {},
   "cell_type": "markdown",
   "id": "f593df5a",
   "metadata": {},
   "source": [
    "#### LẤY TÊN CỦA ĐỘI HÌNH"
   ]
  },
  {
   "cell_type": "code",
   "execution_count": 3,
   "id": "f0c140c3",
   "metadata": {},
   "outputs": [],
   "source": [
    "#find Comp's name\n",
    "#⚡3b99671c type-body2 is the class's name in html\n",
    "comp_name = []\n",
    "for each in range(len(data_comp)):\n",
    "    each_comp = data_comp[each]\n",
    "    temp = each_comp.text\n",
    "    # print(temp.split(\"Avg\")[0])\n",
    "    comp_name.append(temp.split(\"Avg\")[0])"
   ]
  },
  {
   "attachments": {},
   "cell_type": "markdown",
   "id": "89105350",
   "metadata": {},
   "source": [
    "#### LẤY TỘC HỆ CỦA TỪNG ĐỘI HÌNH"
   ]
  },
  {
   "cell_type": "code",
   "execution_count": 4,
   "id": "5e8f3487",
   "metadata": {},
   "outputs": [
    {
     "data": {
      "text/plain": [
       "[['A.D.M.I.N.', 'Aegis', 'Hacker', 'Heart', 'Mascot', 'Ox Force', 'Prankster'],\n",
       " ['Arsenal', 'Civilian', 'Forecaster', 'Ace', 'Aegis', 'Mascot', 'Ox Force'],\n",
       " ['Forecaster', 'Aegis', 'Civilian', 'Ox Force', 'Star Guardian'],\n",
       " ['Corrupted'],\n",
       " ['Ace', 'Brawler', 'Duelist', 'Hacker', 'Prankster'],\n",
       " ['Arsenal', 'Ox Force', 'Renegade', 'Aegis'],\n",
       " ['Defender', 'Brawler', 'Ace', 'Aegis'],\n",
       " ['Forecaster',\n",
       "  'Brawler',\n",
       "  'Ace',\n",
       "  'Aegis',\n",
       "  'Anima Squad',\n",
       "  'Civilian',\n",
       "  'Prankster'],\n",
       " ['Defender', 'Ace', 'Aegis', 'Brawler'],\n",
       " ['Forecaster',\n",
       "  'Hacker',\n",
       "  'Aegis',\n",
       "  'Brawler',\n",
       "  'Civilian',\n",
       "  'Duelist',\n",
       "  'Prankster'],\n",
       " ['Supers', 'Brawler', 'Duelist', 'Recon'],\n",
       " ['Ace', 'Defender'],\n",
       " ['Anima Squad', 'Arsenal', 'Ace', 'Aegis', 'Mascot', 'Ox Force', 'Prankster'],\n",
       " ['Defender', 'Ace', 'Aegis', 'Anima Squad', 'Prankster'],\n",
       " ['Star Guardian', 'Defender', 'Heart'],\n",
       " ['Duelist', 'Supers'],\n",
       " ['Supers', 'Brawler', 'Duelist', 'Heart', 'Mascot', 'Recon'],\n",
       " ['Aegis',\n",
       "  'Anima Squad',\n",
       "  'Brawler',\n",
       "  'Duelist',\n",
       "  'Prankster',\n",
       "  'Recon',\n",
       "  'Star Guardian'],\n",
       " ['Supers', 'Ace', 'Brawler', 'Defender']]"
      ]
     },
     "execution_count": 4,
     "metadata": {},
     "output_type": "execute_result"
    }
   ],
   "source": [
    "#find Traces active\n",
    "traces_active = []\n",
    "for each in range(len(data_comp)):\n",
    "    each_comp = data_comp[each]\n",
    "    all_traces = each_comp.find_all('div', class_ = \"⚡3cc1099b\")\n",
    "    name_traces = []\n",
    "    for each_traces in range(len(all_traces)):\n",
    "        temp = all_traces[each_traces].attrs\n",
    "        name_traces.append(temp['data-tip'])\n",
    "    traces_active.append(name_traces)\n",
    "traces_active"
   ]
  },
  {
   "attachments": {},
   "cell_type": "markdown",
   "id": "2dabaedc",
   "metadata": {},
   "source": [
    "#### LẤY TÊN CỦA TẤT CẢ CÁC TƯỚNG CÓ TRONG ĐỘI HÌNH ĐÓ"
   ]
  },
  {
   "cell_type": "code",
   "execution_count": 5,
   "id": "48482ac0",
   "metadata": {},
   "outputs": [],
   "source": [
    "def champ_data_cleanning(champ):\n",
    "    return champ.split(\"/\")[3]"
   ]
  },
  {
   "cell_type": "code",
   "execution_count": 6,
   "id": "80303b8d",
   "metadata": {},
   "outputs": [
    {
     "name": "stdout",
     "output_type": "stream",
     "text": [
      "[['Annie', 'Zoe', 'Leblanc', 'Alistar', 'Soraka', 'Ekko', 'Syndra', 'Nunu'], ['Galio', 'Sivir', 'Senna', 'Alistar', 'Zac', 'Samira', 'Leona', 'Janna', 'Aphelios'], ['Lux', 'Annie', 'Sona', 'Leblanc', 'Alistar', 'Taliyah', 'Ekko', 'Janna'], ['Velkoz', 'Rammus', 'Chogath', 'Zac', 'Belveth', 'AurelionSol', 'Urgot', 'Fiddlesticks'], ['Renekton', 'Yasuo', 'Zoe', 'Senna', 'Zed', 'Sejuani', 'Ekko', 'Mordekaiser'], ['Talon', 'Fiora', 'Annie', 'Alistar', 'Viego', 'Ekko', 'Leona', 'Aphelios'], ['WuKong', 'Vi', 'Rell', 'Draven', 'Riven', 'Jax', 'Sett', 'Sejuani', 'Leona'], ['Vi', 'LeeSin', 'Jinx', 'Riven', 'Sejuani', 'MissFortune', 'Ekko', 'Janna'], ['WuKong', 'Poppy', 'Draven', 'Riven', 'Jax', 'Sett', 'Ekko', 'Leona'], ['Yasuo', 'Vi', 'Zoe', 'Leblanc', 'Zed', 'Sejuani', 'Ekko', 'Janna'], ['Renekton', 'Gangplank', 'Ashe', 'Vi', 'Malphite', 'LeeSin', 'Vayne', 'Sejuani'], ['WuKong', 'Draven', 'Jax', 'Sett', 'Samira', 'MissFortune', 'Mordekaiser', 'Leona'], ['Nasus', 'Jinx', 'Vayne', 'Riven', 'Alistar', 'MissFortune', 'Ekko', 'Aphelios'], ['WuKong', 'Rell', 'Jinx', 'Riven', 'Sett', 'MissFortune', 'Ekko', 'Leona'], ['Lux', 'Yuumi', 'Rell', 'Riven', 'KaiSa', 'Taliyah', 'Ekko', 'Syndra'], ['Kayle', 'Gangplank', 'Yasuo', 'Malphite', 'LeeSin', 'Fiora', 'Vayne', 'Zed'], ['Renekton', 'Gangplank', 'Ashe', 'Yuumi', 'Yasuo', 'Malphite', 'LeeSin', 'Ezreal'], ['Vi', 'Jinx', 'Vayne', 'Riven', 'Nilah', 'KaiSa', 'Ekko'], ['WuKong', 'Gangplank', 'Malphite', 'LeeSin', 'Draven', 'Jax', 'Sett', 'Leona']]\n"
     ]
    }
   ],
   "source": [
    "#find comp's champions\n",
    "comp_champ = []\n",
    "for each in range(len(data_comp)):\n",
    "    each_comp = data_comp[each]\n",
    "    champs = each_comp.find_all('a')\n",
    "    name_champs = []\n",
    "    for each_champ in range(len(champs)):\n",
    "        name_champs.append(champ_data_cleanning(champs[each_champ]['href']))\n",
    "    comp_champ.append(name_champs)\n",
    "print(comp_champ)"
   ]
  },
  {
   "attachments": {},
   "cell_type": "markdown",
   "id": "55bedd6c",
   "metadata": {},
   "source": [
    "#### LẤY SỐ LƯỢNG ĐỒ CÓ TRONG ĐỘI HÌNH ĐÓ"
   ]
  },
  {
   "cell_type": "code",
   "execution_count": 7,
   "id": "5d30aed3",
   "metadata": {},
   "outputs": [
    {
     "data": {
      "text/plain": [
       "[8, 8, 8, 8, 8, 8, 8, 8, 8, 8, 8, 8, 8, 8, 8, 8, 8, 8, 8]"
      ]
     },
     "execution_count": 7,
     "metadata": {},
     "output_type": "execute_result"
    }
   ],
   "source": [
    "#get Comp's number of items\n",
    "temp = data_comp[0]\n",
    "temp = str(temp)\n",
    "comp_Items_Num = temp.count(\"champ-items carry-champion\")*2\n",
    "comp_Items_Num = []\n",
    "for each in range(len(data_comp)):\n",
    "    each_comp = data_comp[each]\n",
    "    each_comp = str(each_comp)\n",
    "    comp_Items_Num.append(each_comp.count(\"champ-items carry-champion\")*2)\n",
    "comp_Items_Num"
   ]
  },
  {
   "cell_type": "code",
   "execution_count": 8,
   "id": "981c677a",
   "metadata": {},
   "outputs": [],
   "source": [
    "data = [comp_name, traces_active, comp_champ, comp_Items_Num]\n",
    "cc = {'Composition':comp_name,'Traces Active':traces_active, 'Champions':comp_champ, 'Total Items': comp_Items_Num}\n",
    "data_comp_tft_df = pd.DataFrame(cc)"
   ]
  },
  {
   "cell_type": "code",
   "execution_count": 10,
   "id": "64d392c1",
   "metadata": {},
   "outputs": [
    {
     "data": {
      "text/html": [
       "<div>\n",
       "<style scoped>\n",
       "    .dataframe tbody tr th:only-of-type {\n",
       "        vertical-align: middle;\n",
       "    }\n",
       "\n",
       "    .dataframe tbody tr th {\n",
       "        vertical-align: top;\n",
       "    }\n",
       "\n",
       "    .dataframe thead th {\n",
       "        text-align: right;\n",
       "    }\n",
       "</style>\n",
       "<table border=\"1\" class=\"dataframe\">\n",
       "  <thead>\n",
       "    <tr style=\"text-align: right;\">\n",
       "      <th></th>\n",
       "      <th>Composition</th>\n",
       "      <th>Traces Active</th>\n",
       "      <th>Champions</th>\n",
       "      <th>Total Items</th>\n",
       "    </tr>\n",
       "  </thead>\n",
       "  <tbody>\n",
       "    <tr>\n",
       "      <th>0</th>\n",
       "      <td>A.D.M.I.N. / AegisHacker</td>\n",
       "      <td>[A.D.M.I.N., Aegis, Hacker, Heart, Mascot, Ox ...</td>\n",
       "      <td>[Annie, Zoe, Leblanc, Alistar, Soraka, Ekko, S...</td>\n",
       "      <td>8</td>\n",
       "    </tr>\n",
       "    <tr>\n",
       "      <th>1</th>\n",
       "      <td>Samira / ApheliosCivilian</td>\n",
       "      <td>[Arsenal, Civilian, Forecaster, Ace, Aegis, Ma...</td>\n",
       "      <td>[Galio, Sivir, Senna, Alistar, Zac, Samira, Le...</td>\n",
       "      <td>8</td>\n",
       "    </tr>\n",
       "    <tr>\n",
       "      <th>2</th>\n",
       "      <td>TaliyahStar Guardian</td>\n",
       "      <td>[Forecaster, Aegis, Civilian, Ox Force, Star G...</td>\n",
       "      <td>[Lux, Annie, Sona, Leblanc, Alistar, Taliyah, ...</td>\n",
       "      <td>8</td>\n",
       "    </tr>\n",
       "    <tr>\n",
       "      <th>3</th>\n",
       "      <td>Bel'Veth / Aurelion SolCorrupted</td>\n",
       "      <td>[Corrupted]</td>\n",
       "      <td>[Velkoz, Rammus, Chogath, Zac, Belveth, Aureli...</td>\n",
       "      <td>8</td>\n",
       "    </tr>\n",
       "    <tr>\n",
       "      <th>4</th>\n",
       "      <td>ZedBrawler</td>\n",
       "      <td>[Ace, Brawler, Duelist, Hacker, Prankster]</td>\n",
       "      <td>[Renekton, Yasuo, Zoe, Senna, Zed, Sejuani, Ek...</td>\n",
       "      <td>8</td>\n",
       "    </tr>\n",
       "    <tr>\n",
       "      <th>5</th>\n",
       "      <td>Viego / Aphelios6 OxForce</td>\n",
       "      <td>[Arsenal, Ox Force, Renegade, Aegis]</td>\n",
       "      <td>[Talon, Fiora, Annie, Alistar, Viego, Ekko, Le...</td>\n",
       "      <td>8</td>\n",
       "    </tr>\n",
       "    <tr>\n",
       "      <th>6</th>\n",
       "      <td>Defender / AegisAce</td>\n",
       "      <td>[Defender, Brawler, Ace, Aegis]</td>\n",
       "      <td>[WuKong, Vi, Rell, Draven, Riven, Jax, Sett, S...</td>\n",
       "      <td>8</td>\n",
       "    </tr>\n",
       "    <tr>\n",
       "      <th>7</th>\n",
       "      <td>Miss FortuneAnima Squad</td>\n",
       "      <td>[Forecaster, Brawler, Ace, Aegis, Anima Squad,...</td>\n",
       "      <td>[Vi, LeeSin, Jinx, Riven, Sejuani, MissFortune...</td>\n",
       "      <td>8</td>\n",
       "    </tr>\n",
       "    <tr>\n",
       "      <th>8</th>\n",
       "      <td>Defender / AegisBrawler</td>\n",
       "      <td>[Defender, Ace, Aegis, Brawler]</td>\n",
       "      <td>[WuKong, Poppy, Draven, Riven, Jax, Sett, Ekko...</td>\n",
       "      <td>8</td>\n",
       "    </tr>\n",
       "    <tr>\n",
       "      <th>9</th>\n",
       "      <td>ZedHacker</td>\n",
       "      <td>[Forecaster, Hacker, Aegis, Brawler, Civilian,...</td>\n",
       "      <td>[Yasuo, Vi, Zoe, Leblanc, Zed, Sejuani, Ekko, ...</td>\n",
       "      <td>8</td>\n",
       "    </tr>\n",
       "    <tr>\n",
       "      <th>10</th>\n",
       "      <td>AsheSupers</td>\n",
       "      <td>[Supers, Brawler, Duelist, Recon]</td>\n",
       "      <td>[Renekton, Gangplank, Ashe, Vi, Malphite, LeeS...</td>\n",
       "      <td>8</td>\n",
       "    </tr>\n",
       "    <tr>\n",
       "      <th>11</th>\n",
       "      <td>Miss Fortune / SamiraDefender</td>\n",
       "      <td>[Ace, Defender]</td>\n",
       "      <td>[WuKong, Draven, Jax, Sett, Samira, MissFortun...</td>\n",
       "      <td>8</td>\n",
       "    </tr>\n",
       "    <tr>\n",
       "      <th>12</th>\n",
       "      <td>Miss Fortune / ApheliosAnima Squad</td>\n",
       "      <td>[Anima Squad, Arsenal, Ace, Aegis, Mascot, Ox ...</td>\n",
       "      <td>[Nasus, Jinx, Vayne, Riven, Alistar, MissFortu...</td>\n",
       "      <td>8</td>\n",
       "    </tr>\n",
       "    <tr>\n",
       "      <th>13</th>\n",
       "      <td>Miss FortuneDefender</td>\n",
       "      <td>[Defender, Ace, Aegis, Anima Squad, Prankster]</td>\n",
       "      <td>[WuKong, Rell, Jinx, Riven, Sett, MissFortune,...</td>\n",
       "      <td>8</td>\n",
       "    </tr>\n",
       "    <tr>\n",
       "      <th>14</th>\n",
       "      <td>Taliyah / Kai'Sa7 StarGuardian</td>\n",
       "      <td>[Star Guardian, Defender, Heart]</td>\n",
       "      <td>[Lux, Yuumi, Rell, Riven, KaiSa, Taliyah, Ekko...</td>\n",
       "      <td>8</td>\n",
       "    </tr>\n",
       "    <tr>\n",
       "      <th>15</th>\n",
       "      <td>Zed6 Duelist</td>\n",
       "      <td>[Duelist, Supers]</td>\n",
       "      <td>[Kayle, Gangplank, Yasuo, Malphite, LeeSin, Fi...</td>\n",
       "      <td>8</td>\n",
       "    </tr>\n",
       "    <tr>\n",
       "      <th>16</th>\n",
       "      <td>AsheSupers</td>\n",
       "      <td>[Supers, Brawler, Duelist, Heart, Mascot, Recon]</td>\n",
       "      <td>[Renekton, Gangplank, Ashe, Yuumi, Yasuo, Malp...</td>\n",
       "      <td>8</td>\n",
       "    </tr>\n",
       "    <tr>\n",
       "      <th>17</th>\n",
       "      <td>Kai'SaAnima Squad</td>\n",
       "      <td>[Aegis, Anima Squad, Brawler, Duelist, Prankst...</td>\n",
       "      <td>[Vi, Jinx, Vayne, Riven, Nilah, KaiSa, Ekko]</td>\n",
       "      <td>8</td>\n",
       "    </tr>\n",
       "    <tr>\n",
       "      <th>18</th>\n",
       "      <td>Supers / BrawlerDefender</td>\n",
       "      <td>[Supers, Ace, Brawler, Defender]</td>\n",
       "      <td>[WuKong, Gangplank, Malphite, LeeSin, Draven, ...</td>\n",
       "      <td>8</td>\n",
       "    </tr>\n",
       "  </tbody>\n",
       "</table>\n",
       "</div>"
      ],
      "text/plain": [
       "                           Composition  \\\n",
       "0             A.D.M.I.N. / AegisHacker   \n",
       "1            Samira / ApheliosCivilian   \n",
       "2                 TaliyahStar Guardian   \n",
       "3     Bel'Veth / Aurelion SolCorrupted   \n",
       "4                           ZedBrawler   \n",
       "5            Viego / Aphelios6 OxForce   \n",
       "6                  Defender / AegisAce   \n",
       "7              Miss FortuneAnima Squad   \n",
       "8              Defender / AegisBrawler   \n",
       "9                            ZedHacker   \n",
       "10                          AsheSupers   \n",
       "11       Miss Fortune / SamiraDefender   \n",
       "12  Miss Fortune / ApheliosAnima Squad   \n",
       "13                Miss FortuneDefender   \n",
       "14      Taliyah / Kai'Sa7 StarGuardian   \n",
       "15                        Zed6 Duelist   \n",
       "16                          AsheSupers   \n",
       "17                   Kai'SaAnima Squad   \n",
       "18            Supers / BrawlerDefender   \n",
       "\n",
       "                                        Traces Active  \\\n",
       "0   [A.D.M.I.N., Aegis, Hacker, Heart, Mascot, Ox ...   \n",
       "1   [Arsenal, Civilian, Forecaster, Ace, Aegis, Ma...   \n",
       "2   [Forecaster, Aegis, Civilian, Ox Force, Star G...   \n",
       "3                                         [Corrupted]   \n",
       "4          [Ace, Brawler, Duelist, Hacker, Prankster]   \n",
       "5                [Arsenal, Ox Force, Renegade, Aegis]   \n",
       "6                     [Defender, Brawler, Ace, Aegis]   \n",
       "7   [Forecaster, Brawler, Ace, Aegis, Anima Squad,...   \n",
       "8                     [Defender, Ace, Aegis, Brawler]   \n",
       "9   [Forecaster, Hacker, Aegis, Brawler, Civilian,...   \n",
       "10                  [Supers, Brawler, Duelist, Recon]   \n",
       "11                                    [Ace, Defender]   \n",
       "12  [Anima Squad, Arsenal, Ace, Aegis, Mascot, Ox ...   \n",
       "13     [Defender, Ace, Aegis, Anima Squad, Prankster]   \n",
       "14                   [Star Guardian, Defender, Heart]   \n",
       "15                                  [Duelist, Supers]   \n",
       "16   [Supers, Brawler, Duelist, Heart, Mascot, Recon]   \n",
       "17  [Aegis, Anima Squad, Brawler, Duelist, Prankst...   \n",
       "18                   [Supers, Ace, Brawler, Defender]   \n",
       "\n",
       "                                            Champions  Total Items  \n",
       "0   [Annie, Zoe, Leblanc, Alistar, Soraka, Ekko, S...            8  \n",
       "1   [Galio, Sivir, Senna, Alistar, Zac, Samira, Le...            8  \n",
       "2   [Lux, Annie, Sona, Leblanc, Alistar, Taliyah, ...            8  \n",
       "3   [Velkoz, Rammus, Chogath, Zac, Belveth, Aureli...            8  \n",
       "4   [Renekton, Yasuo, Zoe, Senna, Zed, Sejuani, Ek...            8  \n",
       "5   [Talon, Fiora, Annie, Alistar, Viego, Ekko, Le...            8  \n",
       "6   [WuKong, Vi, Rell, Draven, Riven, Jax, Sett, S...            8  \n",
       "7   [Vi, LeeSin, Jinx, Riven, Sejuani, MissFortune...            8  \n",
       "8   [WuKong, Poppy, Draven, Riven, Jax, Sett, Ekko...            8  \n",
       "9   [Yasuo, Vi, Zoe, Leblanc, Zed, Sejuani, Ekko, ...            8  \n",
       "10  [Renekton, Gangplank, Ashe, Vi, Malphite, LeeS...            8  \n",
       "11  [WuKong, Draven, Jax, Sett, Samira, MissFortun...            8  \n",
       "12  [Nasus, Jinx, Vayne, Riven, Alistar, MissFortu...            8  \n",
       "13  [WuKong, Rell, Jinx, Riven, Sett, MissFortune,...            8  \n",
       "14  [Lux, Yuumi, Rell, Riven, KaiSa, Taliyah, Ekko...            8  \n",
       "15  [Kayle, Gangplank, Yasuo, Malphite, LeeSin, Fi...            8  \n",
       "16  [Renekton, Gangplank, Ashe, Yuumi, Yasuo, Malp...            8  \n",
       "17       [Vi, Jinx, Vayne, Riven, Nilah, KaiSa, Ekko]            8  \n",
       "18  [WuKong, Gangplank, Malphite, LeeSin, Draven, ...            8  "
      ]
     },
     "execution_count": 10,
     "metadata": {},
     "output_type": "execute_result"
    }
   ],
   "source": [
    "data_comp_tft_df"
   ]
  }
 ],
 "metadata": {
  "colab": {
   "provenance": []
  },
  "kernelspec": {
   "display_name": "min_ds-env",
   "language": "python",
   "name": "python3"
  },
  "language_info": {
   "codemirror_mode": {
    "name": "ipython",
    "version": 3
   },
   "file_extension": ".py",
   "mimetype": "text/x-python",
   "name": "python",
   "nbconvert_exporter": "python",
   "pygments_lexer": "ipython3",
   "version": "3.8.8 | packaged by conda-forge | (default, Feb 20 2021, 15:50:08) [MSC v.1916 64 bit (AMD64)]"
  },
  "vscode": {
   "interpreter": {
    "hash": "1376b7d9f14531d76db176389414f8a4a73502f1aa581cb356349fabafd1ad74"
   }
  }
 },
 "nbformat": 4,
 "nbformat_minor": 5
}
