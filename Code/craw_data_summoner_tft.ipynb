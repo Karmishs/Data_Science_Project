{
 "cells": [
  {
   "attachments": {},
   "cell_type": "markdown",
   "id": "a577d301",
   "metadata": {
    "id": "a577d301"
   },
   "source": [
    "### LẤY TÊN CỦA 1000 NGƯỜI CHƠI TOP ĐẦU CỦA TỪNG SERVER"
   ]
  },
  {
   "cell_type": "code",
   "execution_count": 1,
   "id": "652e004b",
   "metadata": {
    "id": "652e004b"
   },
   "outputs": [],
   "source": [
    "# Import requests for crawling a page and Beautiful Soup for parse the HTML content\n",
    "# Import other libraries for demonstration\n",
    "from bs4 import BeautifulSoup\n",
    "import requests\n",
    "import pandas as pd\n",
    "import matplotlib.pyplot as plt\n",
    "import numpy as np\n",
    "import re\n",
    "import string\n",
    "!conda activate min_ds-env"
   ]
  },
  {
   "cell_type": "code",
   "execution_count": 2,
   "id": "01f8d403",
   "metadata": {
    "id": "01f8d403"
   },
   "outputs": [],
   "source": [
    "url = \"https://lolchess.gg/leaderboards?mode=ranked\"\n",
    "\n",
    "def get_region_url(region):\n",
    "    return url + \"&region=\" + region\n",
    "\n",
    "def get_data(url):\n",
    "    r = requests.get(url)\n",
    "    soup = BeautifulSoup(r.content, \"html.parser\")\n",
    "    return soup\n",
    "\n",
    "def get_pages(soup):\n",
    "    page = soup.find('ul',{'class':'pagination'})\n",
    "    pages = []\n",
    "    for link in page.find_all(class_ = 'page-link'):\n",
    "        pages.append(link.get('href'))\n",
    "    pages[0] = url+\"&page=1\"\n",
    "    return pages\n",
    "\n",
    "def get_summoner_names(page):\n",
    "    data = get_data(page)\n",
    "    summoner_names = []\n",
    "    for link in data.find_all('td',{'class':'summoner'}):\n",
    "        summoner_names.append(link.find('a').text.strip())\n",
    "    return summoner_names"
   ]
  },
  {
   "cell_type": "code",
   "execution_count": 3,
   "id": "3c58cac2",
   "metadata": {},
   "outputs": [],
   "source": [
    "servers = [\"kr\", \"na\"]\n",
    "data_summoner_tft_df = pd.DataFrame()\n",
    "summoners = []\n",
    "for server in servers:\n",
    "    url = get_region_url(server)#<----nhap server muon lay summoners's name   \n",
    "    soup = get_data(url)\n",
    "    pages = get_pages(soup)\n",
    "    for page in range(len(pages)):\n",
    "        summoners = summoners + (get_summoner_names(pages[page]))\n",
    "    data_summoner_tft_df[server] = summoners\n",
    "    summoners.clear()"
   ]
  },
  {
   "cell_type": "code",
   "execution_count": 4,
   "id": "d8bc74f1",
   "metadata": {},
   "outputs": [
    {
     "data": {
      "text/html": [
       "<div>\n",
       "<style scoped>\n",
       "    .dataframe tbody tr th:only-of-type {\n",
       "        vertical-align: middle;\n",
       "    }\n",
       "\n",
       "    .dataframe tbody tr th {\n",
       "        vertical-align: top;\n",
       "    }\n",
       "\n",
       "    .dataframe thead th {\n",
       "        text-align: right;\n",
       "    }\n",
       "</style>\n",
       "<table border=\"1\" class=\"dataframe\">\n",
       "  <thead>\n",
       "    <tr style=\"text-align: right;\">\n",
       "      <th></th>\n",
       "      <th>kr</th>\n",
       "      <th>na</th>\n",
       "    </tr>\n",
       "  </thead>\n",
       "  <tbody>\n",
       "    <tr>\n",
       "      <th>0</th>\n",
       "      <td>쵸리네</td>\n",
       "      <td>sètsuko</td>\n",
       "    </tr>\n",
       "    <tr>\n",
       "      <th>1</th>\n",
       "      <td>strongs2xy</td>\n",
       "      <td>Dıshsoap</td>\n",
       "    </tr>\n",
       "    <tr>\n",
       "      <th>2</th>\n",
       "      <td>꼴픽이</td>\n",
       "      <td>Nostereleven</td>\n",
       "    </tr>\n",
       "    <tr>\n",
       "      <th>3</th>\n",
       "      <td>Twitch yubinster</td>\n",
       "      <td>Liquid Robin</td>\n",
       "    </tr>\n",
       "    <tr>\n",
       "      <th>4</th>\n",
       "      <td>아프리카 코스모</td>\n",
       "      <td>BC Socks</td>\n",
       "    </tr>\n",
       "    <tr>\n",
       "      <th>...</th>\n",
       "      <td>...</td>\n",
       "      <td>...</td>\n",
       "    </tr>\n",
       "    <tr>\n",
       "      <th>995</th>\n",
       "      <td>맛집소개보랄만쥬</td>\n",
       "      <td>Quantstrom</td>\n",
       "    </tr>\n",
       "    <tr>\n",
       "      <th>996</th>\n",
       "      <td>chelly</td>\n",
       "      <td>SojuDeezNutz</td>\n",
       "    </tr>\n",
       "    <tr>\n",
       "      <th>997</th>\n",
       "      <td>Twitch 원벌레</td>\n",
       "      <td>19OO</td>\n",
       "    </tr>\n",
       "    <tr>\n",
       "      <th>998</th>\n",
       "      <td>채팅창안봄수고</td>\n",
       "      <td>masinMing</td>\n",
       "    </tr>\n",
       "    <tr>\n",
       "      <th>999</th>\n",
       "      <td>정 장</td>\n",
       "      <td>Spankin Muffin</td>\n",
       "    </tr>\n",
       "  </tbody>\n",
       "</table>\n",
       "<p>1000 rows × 2 columns</p>\n",
       "</div>"
      ],
      "text/plain": [
       "                   kr              na\n",
       "0                 쵸리네         sètsuko\n",
       "1          strongs2xy        Dıshsoap\n",
       "2                 꼴픽이    Nostereleven\n",
       "3    Twitch yubinster    Liquid Robin\n",
       "4            아프리카 코스모        BC Socks\n",
       "..                ...             ...\n",
       "995          맛집소개보랄만쥬      Quantstrom\n",
       "996            chelly    SojuDeezNutz\n",
       "997        Twitch 원벌레            19OO\n",
       "998           채팅창안봄수고       masinMing\n",
       "999               정 장  Spankin Muffin\n",
       "\n",
       "[1000 rows x 2 columns]"
      ]
     },
     "execution_count": 4,
     "metadata": {},
     "output_type": "execute_result"
    }
   ],
   "source": [
    "data_summoner_tft_df"
   ]
  }
 ],
 "metadata": {
  "colab": {
   "provenance": []
  },
  "kernelspec": {
   "display_name": "min_ds-env",
   "language": "python",
   "name": "python3"
  },
  "language_info": {
   "codemirror_mode": {
    "name": "ipython",
    "version": 3
   },
   "file_extension": ".py",
   "mimetype": "text/x-python",
   "name": "python",
   "nbconvert_exporter": "python",
   "pygments_lexer": "ipython3",
   "version": "3.8.8"
  },
  "vscode": {
   "interpreter": {
    "hash": "1376b7d9f14531d76db176389414f8a4a73502f1aa581cb356349fabafd1ad74"
   }
  }
 },
 "nbformat": 4,
 "nbformat_minor": 5
}
