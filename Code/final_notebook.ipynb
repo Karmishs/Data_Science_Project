{
 "cells": [
  {
   "attachments": {},
   "cell_type": "markdown",
   "metadata": {},
   "source": [
    "# Data collection"
   ]
  },
  {
   "attachments": {},
   "cell_type": "markdown",
   "metadata": {},
   "source": [
    "Phần này chúng em thực hiện lấy dữ liệu từ file nhiều nguồn khác nhau, bao gồm nguồn từ Riot API và một số website chuyên về TFT như blitz.gg hoặc tftactics.gg,.... và phần này được chia công việc nhỏ ra để các bạn có thể cùng nhau tham gia nên sẽ có khá nhiều notebook khác nhau và có một số phần sẽ chạy khá lâu vì sự hạn chế của Riot API (100 requests mỗi 2 phút và số request khá lớn nên việc chạy lại chúng là khá lâu, vì thế chúng em sẽ sử dụng data đã được thu thập từ trước và xử lý trên chúng), phần code này sẽ được lưu trong folder Crawl_code"
   ]
  },
  {
   "cell_type": "code",
   "execution_count": 1,
   "metadata": {},
   "outputs": [],
   "source": [
    "import pandas as pd\n",
    "import matplotlib.pyplot as plt\n",
    "import numpy as np\n",
    "import ast"
   ]
  },
  {
   "attachments": {},
   "cell_type": "markdown",
   "metadata": {},
   "source": [
    "# Data exploration"
   ]
  },
  {
   "attachments": {},
   "cell_type": "markdown",
   "metadata": {},
   "source": [
    "## Khám phá dữ liệu về đội hình trong tập dữ liệu"
   ]
  },
  {
   "attachments": {},
   "cell_type": "markdown",
   "metadata": {},
   "source": [
    "### Đọc data từ file"
   ]
  },
  {
   "cell_type": "code",
   "execution_count": 2,
   "metadata": {},
   "outputs": [],
   "source": [
    "data_team_df = pd.read_csv('../Data/process_data_tft_general_csv.csv', usecols=['Puuid', 'ID Match', 'Placement', 'List Augments', 'List Traits', 'List Champions', 'List Number Items', 'List Champions Tier'])"
   ]
  },
  {
   "cell_type": "code",
   "execution_count": 3,
   "metadata": {},
   "outputs": [
    {
     "data": {
      "text/html": [
       "<div>\n",
       "<style scoped>\n",
       "    .dataframe tbody tr th:only-of-type {\n",
       "        vertical-align: middle;\n",
       "    }\n",
       "\n",
       "    .dataframe tbody tr th {\n",
       "        vertical-align: top;\n",
       "    }\n",
       "\n",
       "    .dataframe thead th {\n",
       "        text-align: right;\n",
       "    }\n",
       "</style>\n",
       "<table border=\"1\" class=\"dataframe\">\n",
       "  <thead>\n",
       "    <tr style=\"text-align: right;\">\n",
       "      <th></th>\n",
       "      <th>Puuid</th>\n",
       "      <th>ID Match</th>\n",
       "      <th>Placement</th>\n",
       "      <th>List Augments</th>\n",
       "      <th>List Traits</th>\n",
       "      <th>List Champions</th>\n",
       "      <th>List Number Items</th>\n",
       "      <th>List Champions Tier</th>\n",
       "    </tr>\n",
       "  </thead>\n",
       "  <tbody>\n",
       "    <tr>\n",
       "      <th>0</th>\n",
       "      <td>_NjJNkxpeKQ-po15A8N1GVKYqYTAjiN1WoqkVUGfwmpHqg...</td>\n",
       "      <td>KR_6267320509</td>\n",
       "      <td>1</td>\n",
       "      <td>['TFT7_Augment_Preparation', 'TFT8_Augment_ViC...</td>\n",
       "      <td>['Set8_Aegis', 1, 0, 'Set8_Brawler', 2, 1, 'Se...</td>\n",
       "      <td>['TFT8_Gangplank', 'TFT8_Vi', 'TFT8_LeeSin', '...</td>\n",
       "      <td>[1, 3, 0, 2, 3, 3, 0]</td>\n",
       "      <td>[2, 3, 2, 3, 3, 3, 1]</td>\n",
       "    </tr>\n",
       "    <tr>\n",
       "      <th>1</th>\n",
       "      <td>WgAZ0CQHGmDf8yctPx5SXkU-rt-9HWv758OmfE6t_Wod8X...</td>\n",
       "      <td>KR_6267320509</td>\n",
       "      <td>4</td>\n",
       "      <td>['TFT8_Augment_ChannelerTrait', 'TFT8_Augment_...</td>\n",
       "      <td>['Set8_Aegis', 2, 1, 'Set8_Channeler', 5, 2, '...</td>\n",
       "      <td>['TFT8_Lux', 'TFT8_Annie', 'TFT8_Yuumi', 'TFT8...</td>\n",
       "      <td>[1, 3, 1, 0, 0, 1, 3, 0]</td>\n",
       "      <td>[2, 3, 2, 2, 2, 2, 2, 1]</td>\n",
       "    </tr>\n",
       "    <tr>\n",
       "      <th>2</th>\n",
       "      <td>WO7vH445Mvh-59sDpk4OAtffIxLMrm2R4wsrGT5ZcUb7cN...</td>\n",
       "      <td>KR_6267320509</td>\n",
       "      <td>7</td>\n",
       "      <td>['TFT6_Augment_ItemGrabBag1', 'TFT8_Augment_Yu...</td>\n",
       "      <td>['Set8_Aegis', 1, 0, 'Set8_AnimaSquad', 1, 0, ...</td>\n",
       "      <td>['TFT8_Galio', 'TFT8_Nasus', 'TFT8_Gangplank',...</td>\n",
       "      <td>[1, 0, 3, 0, 0, 3, 0, 1]</td>\n",
       "      <td>[2, 2, 3, 2, 2, 3, 2, 1]</td>\n",
       "    </tr>\n",
       "    <tr>\n",
       "      <th>3</th>\n",
       "      <td>LjGpzsuqxxKX_8HDCyOmX5bBgwC-p59Oj7rTLhaSwOgN7U...</td>\n",
       "      <td>KR_6267320509</td>\n",
       "      <td>2</td>\n",
       "      <td>['TFT6_Augment_SecondWind1', 'TFT8_Augment_Yas...</td>\n",
       "      <td>['Set8_Admin', 1, 0, 'Set8_AnimaSquad', 1, 0, ...</td>\n",
       "      <td>['TFT8_Fiora', 'TFT8_Yasuo', 'TFT8_Vayne', 'TF...</td>\n",
       "      <td>[0, 1, 1, 0, 1, 1, 3, 3]</td>\n",
       "      <td>[2, 2, 2, 2, 2, 2, 2, 2]</td>\n",
       "    </tr>\n",
       "    <tr>\n",
       "      <th>4</th>\n",
       "      <td>XdejWcFYkQS2jJwSPR2FXlv_IZuw1txCPOLZJtUkqyusTn...</td>\n",
       "      <td>KR_6267320509</td>\n",
       "      <td>5</td>\n",
       "      <td>['TFT6_Augment_ItemGrabBag1', 'TFT8_Augment_Yu...</td>\n",
       "      <td>['Set8_Admin', 1, 0, 'Set8_Aegis', 2, 1, 'Set8...</td>\n",
       "      <td>['TFT8_Lulu', 'TFT8_Annie', 'TFT8_Yuumi', 'TFT...</td>\n",
       "      <td>[0, 3, 1, 0, 1, 3, 1, 3]</td>\n",
       "      <td>[2, 2, 2, 2, 2, 2, 2, 2]</td>\n",
       "    </tr>\n",
       "    <tr>\n",
       "      <th>5</th>\n",
       "      <td>CtB6YjZTon2Z-pYgNfubDLUKwxAZoBQcZVQ12LyNanULi3...</td>\n",
       "      <td>KR_6267320509</td>\n",
       "      <td>6</td>\n",
       "      <td>['TFT6_Augment_TinyTitans', 'TFT8_Augment_Cami...</td>\n",
       "      <td>['Set8_Admin', 4, 2, 'Set8_Aegis', 1, 0, 'Set8...</td>\n",
       "      <td>['TFT8_Talon', 'TFT8_Blitzcrank', 'TFT8_Vi', '...</td>\n",
       "      <td>[0, 2, 0, 3, 0, 0, 1, 1]</td>\n",
       "      <td>[2, 2, 1, 3, 1, 2, 2, 2]</td>\n",
       "    </tr>\n",
       "    <tr>\n",
       "      <th>6</th>\n",
       "      <td>y6gI4h6o614IhVvGBBp45jA-XhRHxqx2tleVdE0egluOSK...</td>\n",
       "      <td>KR_6267320509</td>\n",
       "      <td>3</td>\n",
       "      <td>['TFT6_Augment_TinyTitans', 'TFT8_Augment_Sivi...</td>\n",
       "      <td>['Set8_Ace', 1, 1, 'Set8_Civilian', 1, 1, 'Set...</td>\n",
       "      <td>['TFT8_Sivir', 'TFT8_Velkoz', 'TFT8_Chogath', ...</td>\n",
       "      <td>[0, 0, 3, 0, 3, 3, 0, 1]</td>\n",
       "      <td>[2, 2, 3, 2, 2, 2, 2, 1]</td>\n",
       "    </tr>\n",
       "    <tr>\n",
       "      <th>7</th>\n",
       "      <td>YFHBmecEZcAKDUkoNKCvM_--z5qekvafrDJzBgqJFz6l5a...</td>\n",
       "      <td>KR_6267320509</td>\n",
       "      <td>8</td>\n",
       "      <td>['TFT6_Augment_ItemGrabBag1', 'TFT8_Augment_An...</td>\n",
       "      <td>['Set8_Admin', 1, 0, 'Set8_Aegis', 1, 0, 'Set8...</td>\n",
       "      <td>['TFT8_Lulu', 'TFT8_Annie', 'TFT8_Yuumi', 'TFT...</td>\n",
       "      <td>[0, 3, 1, 0, 3, 3, 1, 0]</td>\n",
       "      <td>[2, 2, 1, 2, 2, 1, 1, 1]</td>\n",
       "    </tr>\n",
       "    <tr>\n",
       "      <th>8</th>\n",
       "      <td>y6gI4h6o614IhVvGBBp45jA-XhRHxqx2tleVdE0egluOSK...</td>\n",
       "      <td>KR_6267390363</td>\n",
       "      <td>6</td>\n",
       "      <td>['TFT8_Augment_AnnieSupport', 'TFT6_Augment_Se...</td>\n",
       "      <td>['Set8_Admin', 1, 0, 'Set8_Aegis', 2, 1, 'Set8...</td>\n",
       "      <td>['TFT8_Lulu', 'TFT8_Annie', 'TFT8_Sona', 'TFT8...</td>\n",
       "      <td>[0, 3, 0, 0, 3, 1, 1]</td>\n",
       "      <td>[2, 3, 2, 1, 2, 2, 2]</td>\n",
       "    </tr>\n",
       "    <tr>\n",
       "      <th>9</th>\n",
       "      <td>GSXdu-IDqnhxAjE9OC-rEbktUy7Q-YfRmdz7P6nztlNYHj...</td>\n",
       "      <td>KR_6267390363</td>\n",
       "      <td>7</td>\n",
       "      <td>['TFT8_Augment_RellCarry', 'TFT6_Augment_Luden...</td>\n",
       "      <td>['Set8_Aegis', 2, 1, 'Set8_Channeler', 2, 1, '...</td>\n",
       "      <td>['TFT8_Rell', 'TFT8_Yuumi', 'TFT8_Nilah', 'TFT...</td>\n",
       "      <td>[3, 0, 0, 1, 0, 1, 3, 0]</td>\n",
       "      <td>[2, 2, 2, 1, 1, 2, 1, 1]</td>\n",
       "    </tr>\n",
       "  </tbody>\n",
       "</table>\n",
       "</div>"
      ],
      "text/plain": [
       "                                               Puuid       ID Match  \\\n",
       "0  _NjJNkxpeKQ-po15A8N1GVKYqYTAjiN1WoqkVUGfwmpHqg...  KR_6267320509   \n",
       "1  WgAZ0CQHGmDf8yctPx5SXkU-rt-9HWv758OmfE6t_Wod8X...  KR_6267320509   \n",
       "2  WO7vH445Mvh-59sDpk4OAtffIxLMrm2R4wsrGT5ZcUb7cN...  KR_6267320509   \n",
       "3  LjGpzsuqxxKX_8HDCyOmX5bBgwC-p59Oj7rTLhaSwOgN7U...  KR_6267320509   \n",
       "4  XdejWcFYkQS2jJwSPR2FXlv_IZuw1txCPOLZJtUkqyusTn...  KR_6267320509   \n",
       "5  CtB6YjZTon2Z-pYgNfubDLUKwxAZoBQcZVQ12LyNanULi3...  KR_6267320509   \n",
       "6  y6gI4h6o614IhVvGBBp45jA-XhRHxqx2tleVdE0egluOSK...  KR_6267320509   \n",
       "7  YFHBmecEZcAKDUkoNKCvM_--z5qekvafrDJzBgqJFz6l5a...  KR_6267320509   \n",
       "8  y6gI4h6o614IhVvGBBp45jA-XhRHxqx2tleVdE0egluOSK...  KR_6267390363   \n",
       "9  GSXdu-IDqnhxAjE9OC-rEbktUy7Q-YfRmdz7P6nztlNYHj...  KR_6267390363   \n",
       "\n",
       "   Placement                                      List Augments  \\\n",
       "0          1  ['TFT7_Augment_Preparation', 'TFT8_Augment_ViC...   \n",
       "1          4  ['TFT8_Augment_ChannelerTrait', 'TFT8_Augment_...   \n",
       "2          7  ['TFT6_Augment_ItemGrabBag1', 'TFT8_Augment_Yu...   \n",
       "3          2  ['TFT6_Augment_SecondWind1', 'TFT8_Augment_Yas...   \n",
       "4          5  ['TFT6_Augment_ItemGrabBag1', 'TFT8_Augment_Yu...   \n",
       "5          6  ['TFT6_Augment_TinyTitans', 'TFT8_Augment_Cami...   \n",
       "6          3  ['TFT6_Augment_TinyTitans', 'TFT8_Augment_Sivi...   \n",
       "7          8  ['TFT6_Augment_ItemGrabBag1', 'TFT8_Augment_An...   \n",
       "8          6  ['TFT8_Augment_AnnieSupport', 'TFT6_Augment_Se...   \n",
       "9          7  ['TFT8_Augment_RellCarry', 'TFT6_Augment_Luden...   \n",
       "\n",
       "                                         List Traits  \\\n",
       "0  ['Set8_Aegis', 1, 0, 'Set8_Brawler', 2, 1, 'Se...   \n",
       "1  ['Set8_Aegis', 2, 1, 'Set8_Channeler', 5, 2, '...   \n",
       "2  ['Set8_Aegis', 1, 0, 'Set8_AnimaSquad', 1, 0, ...   \n",
       "3  ['Set8_Admin', 1, 0, 'Set8_AnimaSquad', 1, 0, ...   \n",
       "4  ['Set8_Admin', 1, 0, 'Set8_Aegis', 2, 1, 'Set8...   \n",
       "5  ['Set8_Admin', 4, 2, 'Set8_Aegis', 1, 0, 'Set8...   \n",
       "6  ['Set8_Ace', 1, 1, 'Set8_Civilian', 1, 1, 'Set...   \n",
       "7  ['Set8_Admin', 1, 0, 'Set8_Aegis', 1, 0, 'Set8...   \n",
       "8  ['Set8_Admin', 1, 0, 'Set8_Aegis', 2, 1, 'Set8...   \n",
       "9  ['Set8_Aegis', 2, 1, 'Set8_Channeler', 2, 1, '...   \n",
       "\n",
       "                                      List Champions  \\\n",
       "0  ['TFT8_Gangplank', 'TFT8_Vi', 'TFT8_LeeSin', '...   \n",
       "1  ['TFT8_Lux', 'TFT8_Annie', 'TFT8_Yuumi', 'TFT8...   \n",
       "2  ['TFT8_Galio', 'TFT8_Nasus', 'TFT8_Gangplank',...   \n",
       "3  ['TFT8_Fiora', 'TFT8_Yasuo', 'TFT8_Vayne', 'TF...   \n",
       "4  ['TFT8_Lulu', 'TFT8_Annie', 'TFT8_Yuumi', 'TFT...   \n",
       "5  ['TFT8_Talon', 'TFT8_Blitzcrank', 'TFT8_Vi', '...   \n",
       "6  ['TFT8_Sivir', 'TFT8_Velkoz', 'TFT8_Chogath', ...   \n",
       "7  ['TFT8_Lulu', 'TFT8_Annie', 'TFT8_Yuumi', 'TFT...   \n",
       "8  ['TFT8_Lulu', 'TFT8_Annie', 'TFT8_Sona', 'TFT8...   \n",
       "9  ['TFT8_Rell', 'TFT8_Yuumi', 'TFT8_Nilah', 'TFT...   \n",
       "\n",
       "          List Number Items       List Champions Tier  \n",
       "0     [1, 3, 0, 2, 3, 3, 0]     [2, 3, 2, 3, 3, 3, 1]  \n",
       "1  [1, 3, 1, 0, 0, 1, 3, 0]  [2, 3, 2, 2, 2, 2, 2, 1]  \n",
       "2  [1, 0, 3, 0, 0, 3, 0, 1]  [2, 2, 3, 2, 2, 3, 2, 1]  \n",
       "3  [0, 1, 1, 0, 1, 1, 3, 3]  [2, 2, 2, 2, 2, 2, 2, 2]  \n",
       "4  [0, 3, 1, 0, 1, 3, 1, 3]  [2, 2, 2, 2, 2, 2, 2, 2]  \n",
       "5  [0, 2, 0, 3, 0, 0, 1, 1]  [2, 2, 1, 3, 1, 2, 2, 2]  \n",
       "6  [0, 0, 3, 0, 3, 3, 0, 1]  [2, 2, 3, 2, 2, 2, 2, 1]  \n",
       "7  [0, 3, 1, 0, 3, 3, 1, 0]  [2, 2, 1, 2, 2, 1, 1, 1]  \n",
       "8     [0, 3, 0, 0, 3, 1, 1]     [2, 3, 2, 1, 2, 2, 2]  \n",
       "9  [3, 0, 0, 1, 0, 1, 3, 0]  [2, 2, 2, 1, 1, 2, 1, 1]  "
      ]
     },
     "execution_count": 3,
     "metadata": {},
     "output_type": "execute_result"
    }
   ],
   "source": [
    "data_team_df[:10]"
   ]
  },
  {
   "attachments": {},
   "cell_type": "markdown",
   "metadata": {},
   "source": [
    "## Data exploration"
   ]
  },
  {
   "attachments": {},
   "cell_type": "markdown",
   "metadata": {},
   "source": [
    "Dữ liệu có bao nhiêu cột và hàng:"
   ]
  },
  {
   "cell_type": "code",
   "execution_count": 4,
   "metadata": {},
   "outputs": [
    {
     "data": {
      "text/plain": [
       "(32000, 8)"
      ]
     },
     "execution_count": 4,
     "metadata": {},
     "output_type": "execute_result"
    }
   ],
   "source": [
    "row, col = data_team_df.shape\n",
    "row, col"
   ]
  },
  {
   "attachments": {},
   "cell_type": "markdown",
   "metadata": {},
   "source": [
    "Dữ liệu ở mỗi dòng sẽ là thông tin đội hình của 1 người chơi trong 1 trận đấu bao gồm mã người chơi, mã trận đấu, thứ hạng, danh sách tộc hệ kích hoạt, danh sách tướng, danh sách trang bị của từng tướng và danh sách cấp sao của các tướng."
   ]
  },
  {
   "attachments": {},
   "cell_type": "markdown",
   "metadata": {},
   "source": [
    "Kiểm tra dữ liệu trùng:"
   ]
  },
  {
   "cell_type": "code",
   "execution_count": 5,
   "metadata": {},
   "outputs": [
    {
     "data": {
      "text/plain": [
       "13904"
      ]
     },
     "execution_count": 5,
     "metadata": {},
     "output_type": "execute_result"
    }
   ],
   "source": [
    "have_duplicated_rows = data_team_df.duplicated().sum()\n",
    "have_duplicated_rows"
   ]
  },
  {
   "attachments": {},
   "cell_type": "markdown",
   "metadata": {},
   "source": [
    "Tổng cổng có 13904 đội hình bị trùng nhau trên tổng số 32000 đội hình. Sở dĩ con số lớn như vậy là do các người chơi có thể chơi cùng nhau rất nhiều trận nên việc lặp là khá nhiều."
   ]
  },
  {
   "attachments": {},
   "cell_type": "markdown",
   "metadata": {},
   "source": [
    "### Loại bỏ các đội hình bị trùng trong các trận đấu:"
   ]
  },
  {
   "cell_type": "code",
   "execution_count": 6,
   "metadata": {},
   "outputs": [
    {
     "data": {
      "text/html": [
       "<div>\n",
       "<style scoped>\n",
       "    .dataframe tbody tr th:only-of-type {\n",
       "        vertical-align: middle;\n",
       "    }\n",
       "\n",
       "    .dataframe tbody tr th {\n",
       "        vertical-align: top;\n",
       "    }\n",
       "\n",
       "    .dataframe thead th {\n",
       "        text-align: right;\n",
       "    }\n",
       "</style>\n",
       "<table border=\"1\" class=\"dataframe\">\n",
       "  <thead>\n",
       "    <tr style=\"text-align: right;\">\n",
       "      <th></th>\n",
       "      <th>Puuid</th>\n",
       "      <th>ID Match</th>\n",
       "      <th>Placement</th>\n",
       "      <th>List Augments</th>\n",
       "      <th>List Traits</th>\n",
       "      <th>List Champions</th>\n",
       "      <th>List Number Items</th>\n",
       "      <th>List Champions Tier</th>\n",
       "    </tr>\n",
       "  </thead>\n",
       "  <tbody>\n",
       "    <tr>\n",
       "      <th>0</th>\n",
       "      <td>_NjJNkxpeKQ-po15A8N1GVKYqYTAjiN1WoqkVUGfwmpHqg...</td>\n",
       "      <td>KR_6267320509</td>\n",
       "      <td>1</td>\n",
       "      <td>['TFT7_Augment_Preparation', 'TFT8_Augment_ViC...</td>\n",
       "      <td>['Set8_Aegis', 1, 0, 'Set8_Brawler', 2, 1, 'Se...</td>\n",
       "      <td>['TFT8_Gangplank', 'TFT8_Vi', 'TFT8_LeeSin', '...</td>\n",
       "      <td>[1, 3, 0, 2, 3, 3, 0]</td>\n",
       "      <td>[2, 3, 2, 3, 3, 3, 1]</td>\n",
       "    </tr>\n",
       "    <tr>\n",
       "      <th>1</th>\n",
       "      <td>WgAZ0CQHGmDf8yctPx5SXkU-rt-9HWv758OmfE6t_Wod8X...</td>\n",
       "      <td>KR_6267320509</td>\n",
       "      <td>4</td>\n",
       "      <td>['TFT8_Augment_ChannelerTrait', 'TFT8_Augment_...</td>\n",
       "      <td>['Set8_Aegis', 2, 1, 'Set8_Channeler', 5, 2, '...</td>\n",
       "      <td>['TFT8_Lux', 'TFT8_Annie', 'TFT8_Yuumi', 'TFT8...</td>\n",
       "      <td>[1, 3, 1, 0, 0, 1, 3, 0]</td>\n",
       "      <td>[2, 3, 2, 2, 2, 2, 2, 1]</td>\n",
       "    </tr>\n",
       "    <tr>\n",
       "      <th>2</th>\n",
       "      <td>WO7vH445Mvh-59sDpk4OAtffIxLMrm2R4wsrGT5ZcUb7cN...</td>\n",
       "      <td>KR_6267320509</td>\n",
       "      <td>7</td>\n",
       "      <td>['TFT6_Augment_ItemGrabBag1', 'TFT8_Augment_Yu...</td>\n",
       "      <td>['Set8_Aegis', 1, 0, 'Set8_AnimaSquad', 1, 0, ...</td>\n",
       "      <td>['TFT8_Galio', 'TFT8_Nasus', 'TFT8_Gangplank',...</td>\n",
       "      <td>[1, 0, 3, 0, 0, 3, 0, 1]</td>\n",
       "      <td>[2, 2, 3, 2, 2, 3, 2, 1]</td>\n",
       "    </tr>\n",
       "    <tr>\n",
       "      <th>3</th>\n",
       "      <td>LjGpzsuqxxKX_8HDCyOmX5bBgwC-p59Oj7rTLhaSwOgN7U...</td>\n",
       "      <td>KR_6267320509</td>\n",
       "      <td>2</td>\n",
       "      <td>['TFT6_Augment_SecondWind1', 'TFT8_Augment_Yas...</td>\n",
       "      <td>['Set8_Admin', 1, 0, 'Set8_AnimaSquad', 1, 0, ...</td>\n",
       "      <td>['TFT8_Fiora', 'TFT8_Yasuo', 'TFT8_Vayne', 'TF...</td>\n",
       "      <td>[0, 1, 1, 0, 1, 1, 3, 3]</td>\n",
       "      <td>[2, 2, 2, 2, 2, 2, 2, 2]</td>\n",
       "    </tr>\n",
       "    <tr>\n",
       "      <th>4</th>\n",
       "      <td>XdejWcFYkQS2jJwSPR2FXlv_IZuw1txCPOLZJtUkqyusTn...</td>\n",
       "      <td>KR_6267320509</td>\n",
       "      <td>5</td>\n",
       "      <td>['TFT6_Augment_ItemGrabBag1', 'TFT8_Augment_Yu...</td>\n",
       "      <td>['Set8_Admin', 1, 0, 'Set8_Aegis', 2, 1, 'Set8...</td>\n",
       "      <td>['TFT8_Lulu', 'TFT8_Annie', 'TFT8_Yuumi', 'TFT...</td>\n",
       "      <td>[0, 3, 1, 0, 1, 3, 1, 3]</td>\n",
       "      <td>[2, 2, 2, 2, 2, 2, 2, 2]</td>\n",
       "    </tr>\n",
       "    <tr>\n",
       "      <th>5</th>\n",
       "      <td>CtB6YjZTon2Z-pYgNfubDLUKwxAZoBQcZVQ12LyNanULi3...</td>\n",
       "      <td>KR_6267320509</td>\n",
       "      <td>6</td>\n",
       "      <td>['TFT6_Augment_TinyTitans', 'TFT8_Augment_Cami...</td>\n",
       "      <td>['Set8_Admin', 4, 2, 'Set8_Aegis', 1, 0, 'Set8...</td>\n",
       "      <td>['TFT8_Talon', 'TFT8_Blitzcrank', 'TFT8_Vi', '...</td>\n",
       "      <td>[0, 2, 0, 3, 0, 0, 1, 1]</td>\n",
       "      <td>[2, 2, 1, 3, 1, 2, 2, 2]</td>\n",
       "    </tr>\n",
       "    <tr>\n",
       "      <th>6</th>\n",
       "      <td>y6gI4h6o614IhVvGBBp45jA-XhRHxqx2tleVdE0egluOSK...</td>\n",
       "      <td>KR_6267320509</td>\n",
       "      <td>3</td>\n",
       "      <td>['TFT6_Augment_TinyTitans', 'TFT8_Augment_Sivi...</td>\n",
       "      <td>['Set8_Ace', 1, 1, 'Set8_Civilian', 1, 1, 'Set...</td>\n",
       "      <td>['TFT8_Sivir', 'TFT8_Velkoz', 'TFT8_Chogath', ...</td>\n",
       "      <td>[0, 0, 3, 0, 3, 3, 0, 1]</td>\n",
       "      <td>[2, 2, 3, 2, 2, 2, 2, 1]</td>\n",
       "    </tr>\n",
       "    <tr>\n",
       "      <th>7</th>\n",
       "      <td>YFHBmecEZcAKDUkoNKCvM_--z5qekvafrDJzBgqJFz6l5a...</td>\n",
       "      <td>KR_6267320509</td>\n",
       "      <td>8</td>\n",
       "      <td>['TFT6_Augment_ItemGrabBag1', 'TFT8_Augment_An...</td>\n",
       "      <td>['Set8_Admin', 1, 0, 'Set8_Aegis', 1, 0, 'Set8...</td>\n",
       "      <td>['TFT8_Lulu', 'TFT8_Annie', 'TFT8_Yuumi', 'TFT...</td>\n",
       "      <td>[0, 3, 1, 0, 3, 3, 1, 0]</td>\n",
       "      <td>[2, 2, 1, 2, 2, 1, 1, 1]</td>\n",
       "    </tr>\n",
       "    <tr>\n",
       "      <th>8</th>\n",
       "      <td>y6gI4h6o614IhVvGBBp45jA-XhRHxqx2tleVdE0egluOSK...</td>\n",
       "      <td>KR_6267390363</td>\n",
       "      <td>6</td>\n",
       "      <td>['TFT8_Augment_AnnieSupport', 'TFT6_Augment_Se...</td>\n",
       "      <td>['Set8_Admin', 1, 0, 'Set8_Aegis', 2, 1, 'Set8...</td>\n",
       "      <td>['TFT8_Lulu', 'TFT8_Annie', 'TFT8_Sona', 'TFT8...</td>\n",
       "      <td>[0, 3, 0, 0, 3, 1, 1]</td>\n",
       "      <td>[2, 3, 2, 1, 2, 2, 2]</td>\n",
       "    </tr>\n",
       "    <tr>\n",
       "      <th>9</th>\n",
       "      <td>GSXdu-IDqnhxAjE9OC-rEbktUy7Q-YfRmdz7P6nztlNYHj...</td>\n",
       "      <td>KR_6267390363</td>\n",
       "      <td>7</td>\n",
       "      <td>['TFT8_Augment_RellCarry', 'TFT6_Augment_Luden...</td>\n",
       "      <td>['Set8_Aegis', 2, 1, 'Set8_Channeler', 2, 1, '...</td>\n",
       "      <td>['TFT8_Rell', 'TFT8_Yuumi', 'TFT8_Nilah', 'TFT...</td>\n",
       "      <td>[3, 0, 0, 1, 0, 1, 3, 0]</td>\n",
       "      <td>[2, 2, 2, 1, 1, 2, 1, 1]</td>\n",
       "    </tr>\n",
       "  </tbody>\n",
       "</table>\n",
       "</div>"
      ],
      "text/plain": [
       "                                               Puuid       ID Match  \\\n",
       "0  _NjJNkxpeKQ-po15A8N1GVKYqYTAjiN1WoqkVUGfwmpHqg...  KR_6267320509   \n",
       "1  WgAZ0CQHGmDf8yctPx5SXkU-rt-9HWv758OmfE6t_Wod8X...  KR_6267320509   \n",
       "2  WO7vH445Mvh-59sDpk4OAtffIxLMrm2R4wsrGT5ZcUb7cN...  KR_6267320509   \n",
       "3  LjGpzsuqxxKX_8HDCyOmX5bBgwC-p59Oj7rTLhaSwOgN7U...  KR_6267320509   \n",
       "4  XdejWcFYkQS2jJwSPR2FXlv_IZuw1txCPOLZJtUkqyusTn...  KR_6267320509   \n",
       "5  CtB6YjZTon2Z-pYgNfubDLUKwxAZoBQcZVQ12LyNanULi3...  KR_6267320509   \n",
       "6  y6gI4h6o614IhVvGBBp45jA-XhRHxqx2tleVdE0egluOSK...  KR_6267320509   \n",
       "7  YFHBmecEZcAKDUkoNKCvM_--z5qekvafrDJzBgqJFz6l5a...  KR_6267320509   \n",
       "8  y6gI4h6o614IhVvGBBp45jA-XhRHxqx2tleVdE0egluOSK...  KR_6267390363   \n",
       "9  GSXdu-IDqnhxAjE9OC-rEbktUy7Q-YfRmdz7P6nztlNYHj...  KR_6267390363   \n",
       "\n",
       "   Placement                                      List Augments  \\\n",
       "0          1  ['TFT7_Augment_Preparation', 'TFT8_Augment_ViC...   \n",
       "1          4  ['TFT8_Augment_ChannelerTrait', 'TFT8_Augment_...   \n",
       "2          7  ['TFT6_Augment_ItemGrabBag1', 'TFT8_Augment_Yu...   \n",
       "3          2  ['TFT6_Augment_SecondWind1', 'TFT8_Augment_Yas...   \n",
       "4          5  ['TFT6_Augment_ItemGrabBag1', 'TFT8_Augment_Yu...   \n",
       "5          6  ['TFT6_Augment_TinyTitans', 'TFT8_Augment_Cami...   \n",
       "6          3  ['TFT6_Augment_TinyTitans', 'TFT8_Augment_Sivi...   \n",
       "7          8  ['TFT6_Augment_ItemGrabBag1', 'TFT8_Augment_An...   \n",
       "8          6  ['TFT8_Augment_AnnieSupport', 'TFT6_Augment_Se...   \n",
       "9          7  ['TFT8_Augment_RellCarry', 'TFT6_Augment_Luden...   \n",
       "\n",
       "                                         List Traits  \\\n",
       "0  ['Set8_Aegis', 1, 0, 'Set8_Brawler', 2, 1, 'Se...   \n",
       "1  ['Set8_Aegis', 2, 1, 'Set8_Channeler', 5, 2, '...   \n",
       "2  ['Set8_Aegis', 1, 0, 'Set8_AnimaSquad', 1, 0, ...   \n",
       "3  ['Set8_Admin', 1, 0, 'Set8_AnimaSquad', 1, 0, ...   \n",
       "4  ['Set8_Admin', 1, 0, 'Set8_Aegis', 2, 1, 'Set8...   \n",
       "5  ['Set8_Admin', 4, 2, 'Set8_Aegis', 1, 0, 'Set8...   \n",
       "6  ['Set8_Ace', 1, 1, 'Set8_Civilian', 1, 1, 'Set...   \n",
       "7  ['Set8_Admin', 1, 0, 'Set8_Aegis', 1, 0, 'Set8...   \n",
       "8  ['Set8_Admin', 1, 0, 'Set8_Aegis', 2, 1, 'Set8...   \n",
       "9  ['Set8_Aegis', 2, 1, 'Set8_Channeler', 2, 1, '...   \n",
       "\n",
       "                                      List Champions  \\\n",
       "0  ['TFT8_Gangplank', 'TFT8_Vi', 'TFT8_LeeSin', '...   \n",
       "1  ['TFT8_Lux', 'TFT8_Annie', 'TFT8_Yuumi', 'TFT8...   \n",
       "2  ['TFT8_Galio', 'TFT8_Nasus', 'TFT8_Gangplank',...   \n",
       "3  ['TFT8_Fiora', 'TFT8_Yasuo', 'TFT8_Vayne', 'TF...   \n",
       "4  ['TFT8_Lulu', 'TFT8_Annie', 'TFT8_Yuumi', 'TFT...   \n",
       "5  ['TFT8_Talon', 'TFT8_Blitzcrank', 'TFT8_Vi', '...   \n",
       "6  ['TFT8_Sivir', 'TFT8_Velkoz', 'TFT8_Chogath', ...   \n",
       "7  ['TFT8_Lulu', 'TFT8_Annie', 'TFT8_Yuumi', 'TFT...   \n",
       "8  ['TFT8_Lulu', 'TFT8_Annie', 'TFT8_Sona', 'TFT8...   \n",
       "9  ['TFT8_Rell', 'TFT8_Yuumi', 'TFT8_Nilah', 'TFT...   \n",
       "\n",
       "          List Number Items       List Champions Tier  \n",
       "0     [1, 3, 0, 2, 3, 3, 0]     [2, 3, 2, 3, 3, 3, 1]  \n",
       "1  [1, 3, 1, 0, 0, 1, 3, 0]  [2, 3, 2, 2, 2, 2, 2, 1]  \n",
       "2  [1, 0, 3, 0, 0, 3, 0, 1]  [2, 2, 3, 2, 2, 3, 2, 1]  \n",
       "3  [0, 1, 1, 0, 1, 1, 3, 3]  [2, 2, 2, 2, 2, 2, 2, 2]  \n",
       "4  [0, 3, 1, 0, 1, 3, 1, 3]  [2, 2, 2, 2, 2, 2, 2, 2]  \n",
       "5  [0, 2, 0, 3, 0, 0, 1, 1]  [2, 2, 1, 3, 1, 2, 2, 2]  \n",
       "6  [0, 0, 3, 0, 3, 3, 0, 1]  [2, 2, 3, 2, 2, 2, 2, 1]  \n",
       "7  [0, 3, 1, 0, 3, 3, 1, 0]  [2, 2, 1, 2, 2, 1, 1, 1]  \n",
       "8     [0, 3, 0, 0, 3, 1, 1]     [2, 3, 2, 1, 2, 2, 2]  \n",
       "9  [3, 0, 0, 1, 0, 1, 3, 0]  [2, 2, 2, 1, 1, 2, 1, 1]  "
      ]
     },
     "execution_count": 6,
     "metadata": {},
     "output_type": "execute_result"
    }
   ],
   "source": [
    "data_team_df = data_team_df.drop_duplicates().reset_index(drop=True)\n",
    "data_team_df[:10]"
   ]
  },
  {
   "attachments": {},
   "cell_type": "markdown",
   "metadata": {},
   "source": [
    "Số hàng và cột của dataframe sau khi loại bỏ các đội hình bị trùng:"
   ]
  },
  {
   "cell_type": "code",
   "execution_count": 7,
   "metadata": {},
   "outputs": [
    {
     "data": {
      "text/plain": [
       "(18096, 8)"
      ]
     },
     "execution_count": 7,
     "metadata": {},
     "output_type": "execute_result"
    }
   ],
   "source": [
    "row, col = data_team_df.shape\n",
    "row, col"
   ]
  },
  {
   "attachments": {},
   "cell_type": "markdown",
   "metadata": {},
   "source": [
    "Ý nghĩa của từng cột:\n",
    "- **Puuid**: id của các người chơi .\n",
    "- **ID Match**: id của trận đấu.\n",
    "- **Placement**: thứ hạng của các người chơi trong 1 trận đấu.\n",
    "- **List Augments**: danh sách lõi nâng cấp trong trận đấu của 1 người chơi.\n",
    "- **List Traits**: danh sách tộc, hệ được kích hoạt của 1 đội hình.\n",
    "- **List Champions**: danh sách các tướng có trong 1 đội hình."
   ]
  },
  {
   "attachments": {},
   "cell_type": "markdown",
   "metadata": {},
   "source": [
    "Kiểu dữ liệu của từng cột trong dataframe:"
   ]
  },
  {
   "cell_type": "code",
   "execution_count": 8,
   "metadata": {},
   "outputs": [
    {
     "data": {
      "text/plain": [
       "Puuid                  object\n",
       "ID Match               object\n",
       "Placement               int64\n",
       "List Augments          object\n",
       "List Traits            object\n",
       "List Champions         object\n",
       "List Number Items      object\n",
       "List Champions Tier    object\n",
       "dtype: object"
      ]
     },
     "execution_count": 8,
     "metadata": {},
     "output_type": "execute_result"
    }
   ],
   "source": [
    "col_dtypes = data_team_df.dtypes\n",
    "col_dtypes"
   ]
  },
  {
   "attachments": {},
   "cell_type": "markdown",
   "metadata": {},
   "source": [
    "Dữ liệu có một số cột có kiểu dữ liệu là list nhưng mà khi đọc vào dataframe thì nó chuyển thành series và nó được hiểu là kiểu string nên ta cần chuyển nó lại dạng list"
   ]
  },
  {
   "cell_type": "code",
   "execution_count": 9,
   "metadata": {},
   "outputs": [],
   "source": [
    "def changeStringToList(col_name, df):\n",
    "    for i in range(len(col_name)):\n",
    "        temp = []\n",
    "        for j in range(len(df[col_name[i]])):\n",
    "            temp.append(ast.literal_eval(df[col_name[i]][j]))\n",
    "        df[col_name[i]] = temp"
   ]
  },
  {
   "cell_type": "code",
   "execution_count": 10,
   "metadata": {},
   "outputs": [],
   "source": [
    "col_name_type_list = ['List Augments', 'List Champions', 'List Traits', 'List Number Items', 'List Champions Tier']\n",
    "changeStringToList(col_name_type_list, data_team_df)"
   ]
  },
  {
   "attachments": {},
   "cell_type": "markdown",
   "metadata": {},
   "source": [
    "## Preprocess"
   ]
  },
  {
   "attachments": {},
   "cell_type": "markdown",
   "metadata": {},
   "source": [
    "### Kiểm tra dữ liệu bị trống"
   ]
  },
  {
   "cell_type": "code",
   "execution_count": 11,
   "metadata": {},
   "outputs": [
    {
     "data": {
      "text/plain": [
       "Puuid                  0\n",
       "ID Match               0\n",
       "Placement              0\n",
       "List Augments          0\n",
       "List Traits            0\n",
       "List Champions         0\n",
       "List Number Items      0\n",
       "List Champions Tier    0\n",
       "dtype: int64"
      ]
     },
     "execution_count": 11,
     "metadata": {},
     "output_type": "execute_result"
    }
   ],
   "source": [
    "data_team_df.isna().sum()"
   ]
  },
  {
   "attachments": {},
   "cell_type": "markdown",
   "metadata": {},
   "source": [
    "Không có những dữ liệu bị thiếu trong dataframe này."
   ]
  },
  {
   "attachments": {},
   "cell_type": "markdown",
   "metadata": {},
   "source": [
    "Đối với cột dữ liệu 'Placement' ta có các thông số sau:"
   ]
  },
  {
   "cell_type": "code",
   "execution_count": 12,
   "metadata": {},
   "outputs": [
    {
     "data": {
      "text/plain": [
       "(1, 8)"
      ]
     },
     "execution_count": 12,
     "metadata": {},
     "output_type": "execute_result"
    }
   ],
   "source": [
    "data_team_df['Placement'].min(), data_team_df['Placement'].max()"
   ]
  },
  {
   "attachments": {},
   "cell_type": "markdown",
   "metadata": {},
   "source": [
    "Vị trí tốt nhất cho một người chơi là vị trí thứ 1, vị trí tệ nhất là vị trí thứ 8"
   ]
  },
  {
   "attachments": {},
   "cell_type": "markdown",
   "metadata": {},
   "source": [
    "### Thông tin về người chơi:"
   ]
  },
  {
   "attachments": {},
   "cell_type": "markdown",
   "metadata": {},
   "source": [
    "- Tổng số người chơi có trong tập dữ liệu"
   ]
  },
  {
   "cell_type": "code",
   "execution_count": 13,
   "metadata": {},
   "outputs": [
    {
     "data": {
      "text/plain": [
       "2449"
      ]
     },
     "execution_count": 13,
     "metadata": {},
     "output_type": "execute_result"
    }
   ],
   "source": [
    "len(data_team_df['Puuid'].unique())"
   ]
  },
  {
   "attachments": {},
   "cell_type": "markdown",
   "metadata": {},
   "source": [
    "- Tổng số trận đấu trong tập dữ liệu:"
   ]
  },
  {
   "cell_type": "code",
   "execution_count": 14,
   "metadata": {},
   "outputs": [
    {
     "data": {
      "text/plain": [
       "2262"
      ]
     },
     "execution_count": 14,
     "metadata": {},
     "output_type": "execute_result"
    }
   ],
   "source": [
    "len(data_team_df['ID Match'].unique())"
   ]
  },
  {
   "attachments": {},
   "cell_type": "markdown",
   "metadata": {},
   "source": [
    "Dựa trên dữ liệu này ta sẽ thấy được rằng số dữ liệu bị trùng ở trên tìm ra được là 13904, nó sẽ bằng với tổng số trận đấu trừ đi số trận bị trùng nhân với 8 (vì có 8 đội hình), vì 13904 = 32000 - 2262*8"
   ]
  },
  {
   "attachments": {},
   "cell_type": "markdown",
   "metadata": {},
   "source": [
    "- Người chơi có số trận đấu nhiều nhất là:"
   ]
  },
  {
   "cell_type": "code",
   "execution_count": 15,
   "metadata": {},
   "outputs": [
    {
     "data": {
      "text/plain": [
       "70"
      ]
     },
     "execution_count": 15,
     "metadata": {},
     "output_type": "execute_result"
    }
   ],
   "source": [
    "data_team_df['Puuid'].value_counts().max()"
   ]
  },
  {
   "attachments": {},
   "cell_type": "markdown",
   "metadata": {},
   "source": [
    "- Số lượng đội hình được sử dụng trong các trận đấu:"
   ]
  },
  {
   "cell_type": "code",
   "execution_count": 16,
   "metadata": {},
   "outputs": [
    {
     "data": {
      "text/plain": [
       "12530"
      ]
     },
     "execution_count": 16,
     "metadata": {},
     "output_type": "execute_result"
    }
   ],
   "source": [
    "num_of_team = set()\n",
    "for i in range(len(data_team_df['List Champions'])):\n",
    "    num_of_team.add(str(data_team_df['List Champions'][i]))\n",
    "len(num_of_team)"
   ]
  },
  {
   "attachments": {},
   "cell_type": "markdown",
   "metadata": {},
   "source": [
    "## Khám phá dữ liệu về trang bị của tướng trong tập dữ liệu"
   ]
  },
  {
   "attachments": {},
   "cell_type": "markdown",
   "metadata": {},
   "source": [
    "### Đọc data từ dataframe"
   ]
  },
  {
   "cell_type": "code",
   "execution_count": 17,
   "metadata": {},
   "outputs": [],
   "source": [
    "data_item_df = pd.read_csv('../Data/process_data_tft_each_item_csv.csv', usecols=['Puuid','ID Match','Champion','List Name Item'])"
   ]
  },
  {
   "cell_type": "code",
   "execution_count": 18,
   "metadata": {},
   "outputs": [
    {
     "data": {
      "text/html": [
       "<div>\n",
       "<style scoped>\n",
       "    .dataframe tbody tr th:only-of-type {\n",
       "        vertical-align: middle;\n",
       "    }\n",
       "\n",
       "    .dataframe tbody tr th {\n",
       "        vertical-align: top;\n",
       "    }\n",
       "\n",
       "    .dataframe thead th {\n",
       "        text-align: right;\n",
       "    }\n",
       "</style>\n",
       "<table border=\"1\" class=\"dataframe\">\n",
       "  <thead>\n",
       "    <tr style=\"text-align: right;\">\n",
       "      <th></th>\n",
       "      <th>Puuid</th>\n",
       "      <th>ID Match</th>\n",
       "      <th>Champion</th>\n",
       "      <th>List Name Item</th>\n",
       "    </tr>\n",
       "  </thead>\n",
       "  <tbody>\n",
       "    <tr>\n",
       "      <th>0</th>\n",
       "      <td>_NjJNkxpeKQ-po15A8N1GVKYqYTAjiN1WoqkVUGfwmpHqg...</td>\n",
       "      <td>KR_6267320509</td>\n",
       "      <td>['TFT8_Gangplank', 'TFT8_Vi', 'TFT8_LeeSin', '...</td>\n",
       "      <td>[['TFT_Item_ZekesHerald'], ['TFT_Item_BrambleV...</td>\n",
       "    </tr>\n",
       "    <tr>\n",
       "      <th>1</th>\n",
       "      <td>WgAZ0CQHGmDf8yctPx5SXkU-rt-9HWv758OmfE6t_Wod8X...</td>\n",
       "      <td>KR_6267320509</td>\n",
       "      <td>['TFT8_Lux', 'TFT8_Annie', 'TFT8_Yuumi', 'TFT8...</td>\n",
       "      <td>[['TFT8_Item_HeartEmblemItem'], ['TFT_Item_Bra...</td>\n",
       "    </tr>\n",
       "    <tr>\n",
       "      <th>2</th>\n",
       "      <td>WO7vH445Mvh-59sDpk4OAtffIxLMrm2R4wsrGT5ZcUb7cN...</td>\n",
       "      <td>KR_6267320509</td>\n",
       "      <td>['TFT8_Galio', 'TFT8_Nasus', 'TFT8_Gangplank',...</td>\n",
       "      <td>[['TFT_Item_GargoyleStoneplate'], [], ['TFT_It...</td>\n",
       "    </tr>\n",
       "    <tr>\n",
       "      <th>3</th>\n",
       "      <td>LjGpzsuqxxKX_8HDCyOmX5bBgwC-p59Oj7rTLhaSwOgN7U...</td>\n",
       "      <td>KR_6267320509</td>\n",
       "      <td>['TFT8_Fiora', 'TFT8_Yasuo', 'TFT8_Vayne', 'TF...</td>\n",
       "      <td>[[], ['TFT8_Item_HackerEmblemItem'], ['TFT_Ite...</td>\n",
       "    </tr>\n",
       "    <tr>\n",
       "      <th>4</th>\n",
       "      <td>XdejWcFYkQS2jJwSPR2FXlv_IZuw1txCPOLZJtUkqyusTn...</td>\n",
       "      <td>KR_6267320509</td>\n",
       "      <td>['TFT8_Lulu', 'TFT8_Annie', 'TFT8_Yuumi', 'TFT...</td>\n",
       "      <td>[[], ['TFT_Item_WarmogsArmor', 'TFT_Item_Titan...</td>\n",
       "    </tr>\n",
       "    <tr>\n",
       "      <th>5</th>\n",
       "      <td>CtB6YjZTon2Z-pYgNfubDLUKwxAZoBQcZVQ12LyNanULi3...</td>\n",
       "      <td>KR_6267320509</td>\n",
       "      <td>['TFT8_Talon', 'TFT8_Blitzcrank', 'TFT8_Vi', '...</td>\n",
       "      <td>[[], ['TFT_Item_TitanicHydra', 'TFT_Item_Titan...</td>\n",
       "    </tr>\n",
       "    <tr>\n",
       "      <th>6</th>\n",
       "      <td>y6gI4h6o614IhVvGBBp45jA-XhRHxqx2tleVdE0egluOSK...</td>\n",
       "      <td>KR_6267320509</td>\n",
       "      <td>['TFT8_Sivir', 'TFT8_Velkoz', 'TFT8_Chogath', ...</td>\n",
       "      <td>[[], [], ['TFT_Item_TitansResolve', 'TFT_Item_...</td>\n",
       "    </tr>\n",
       "    <tr>\n",
       "      <th>7</th>\n",
       "      <td>YFHBmecEZcAKDUkoNKCvM_--z5qekvafrDJzBgqJFz6l5a...</td>\n",
       "      <td>KR_6267320509</td>\n",
       "      <td>['TFT8_Lulu', 'TFT8_Annie', 'TFT8_Yuumi', 'TFT...</td>\n",
       "      <td>[[], ['TFT_Item_WarmogsArmor', 'TFT_Item_Gargo...</td>\n",
       "    </tr>\n",
       "    <tr>\n",
       "      <th>8</th>\n",
       "      <td>y6gI4h6o614IhVvGBBp45jA-XhRHxqx2tleVdE0egluOSK...</td>\n",
       "      <td>KR_6267390363</td>\n",
       "      <td>['TFT8_Lulu', 'TFT8_Annie', 'TFT8_Sona', 'TFT8...</td>\n",
       "      <td>[[], ['TFT_Item_GargoyleStoneplate', 'TFT_Item...</td>\n",
       "    </tr>\n",
       "    <tr>\n",
       "      <th>9</th>\n",
       "      <td>GSXdu-IDqnhxAjE9OC-rEbktUy7Q-YfRmdz7P6nztlNYHj...</td>\n",
       "      <td>KR_6267390363</td>\n",
       "      <td>['TFT8_Rell', 'TFT8_Yuumi', 'TFT8_Nilah', 'TFT...</td>\n",
       "      <td>[['TFT_Item_IonicSpark', 'TFT_Item_Redemption'...</td>\n",
       "    </tr>\n",
       "  </tbody>\n",
       "</table>\n",
       "</div>"
      ],
      "text/plain": [
       "                                               Puuid       ID Match  \\\n",
       "0  _NjJNkxpeKQ-po15A8N1GVKYqYTAjiN1WoqkVUGfwmpHqg...  KR_6267320509   \n",
       "1  WgAZ0CQHGmDf8yctPx5SXkU-rt-9HWv758OmfE6t_Wod8X...  KR_6267320509   \n",
       "2  WO7vH445Mvh-59sDpk4OAtffIxLMrm2R4wsrGT5ZcUb7cN...  KR_6267320509   \n",
       "3  LjGpzsuqxxKX_8HDCyOmX5bBgwC-p59Oj7rTLhaSwOgN7U...  KR_6267320509   \n",
       "4  XdejWcFYkQS2jJwSPR2FXlv_IZuw1txCPOLZJtUkqyusTn...  KR_6267320509   \n",
       "5  CtB6YjZTon2Z-pYgNfubDLUKwxAZoBQcZVQ12LyNanULi3...  KR_6267320509   \n",
       "6  y6gI4h6o614IhVvGBBp45jA-XhRHxqx2tleVdE0egluOSK...  KR_6267320509   \n",
       "7  YFHBmecEZcAKDUkoNKCvM_--z5qekvafrDJzBgqJFz6l5a...  KR_6267320509   \n",
       "8  y6gI4h6o614IhVvGBBp45jA-XhRHxqx2tleVdE0egluOSK...  KR_6267390363   \n",
       "9  GSXdu-IDqnhxAjE9OC-rEbktUy7Q-YfRmdz7P6nztlNYHj...  KR_6267390363   \n",
       "\n",
       "                                            Champion  \\\n",
       "0  ['TFT8_Gangplank', 'TFT8_Vi', 'TFT8_LeeSin', '...   \n",
       "1  ['TFT8_Lux', 'TFT8_Annie', 'TFT8_Yuumi', 'TFT8...   \n",
       "2  ['TFT8_Galio', 'TFT8_Nasus', 'TFT8_Gangplank',...   \n",
       "3  ['TFT8_Fiora', 'TFT8_Yasuo', 'TFT8_Vayne', 'TF...   \n",
       "4  ['TFT8_Lulu', 'TFT8_Annie', 'TFT8_Yuumi', 'TFT...   \n",
       "5  ['TFT8_Talon', 'TFT8_Blitzcrank', 'TFT8_Vi', '...   \n",
       "6  ['TFT8_Sivir', 'TFT8_Velkoz', 'TFT8_Chogath', ...   \n",
       "7  ['TFT8_Lulu', 'TFT8_Annie', 'TFT8_Yuumi', 'TFT...   \n",
       "8  ['TFT8_Lulu', 'TFT8_Annie', 'TFT8_Sona', 'TFT8...   \n",
       "9  ['TFT8_Rell', 'TFT8_Yuumi', 'TFT8_Nilah', 'TFT...   \n",
       "\n",
       "                                      List Name Item  \n",
       "0  [['TFT_Item_ZekesHerald'], ['TFT_Item_BrambleV...  \n",
       "1  [['TFT8_Item_HeartEmblemItem'], ['TFT_Item_Bra...  \n",
       "2  [['TFT_Item_GargoyleStoneplate'], [], ['TFT_It...  \n",
       "3  [[], ['TFT8_Item_HackerEmblemItem'], ['TFT_Ite...  \n",
       "4  [[], ['TFT_Item_WarmogsArmor', 'TFT_Item_Titan...  \n",
       "5  [[], ['TFT_Item_TitanicHydra', 'TFT_Item_Titan...  \n",
       "6  [[], [], ['TFT_Item_TitansResolve', 'TFT_Item_...  \n",
       "7  [[], ['TFT_Item_WarmogsArmor', 'TFT_Item_Gargo...  \n",
       "8  [[], ['TFT_Item_GargoyleStoneplate', 'TFT_Item...  \n",
       "9  [['TFT_Item_IonicSpark', 'TFT_Item_Redemption'...  "
      ]
     },
     "execution_count": 18,
     "metadata": {},
     "output_type": "execute_result"
    }
   ],
   "source": [
    "data_item_df[:10]"
   ]
  },
  {
   "attachments": {},
   "cell_type": "markdown",
   "metadata": {},
   "source": [
    "## Data exploration"
   ]
  },
  {
   "attachments": {},
   "cell_type": "markdown",
   "metadata": {},
   "source": [
    "Dữ liệu có bao nhiêu hàng và cột:"
   ]
  },
  {
   "cell_type": "code",
   "execution_count": 19,
   "metadata": {},
   "outputs": [
    {
     "data": {
      "text/plain": [
       "(32000, 4)"
      ]
     },
     "execution_count": 19,
     "metadata": {},
     "output_type": "execute_result"
    }
   ],
   "source": [
    "row, col = data_item_df.shape\n",
    "row, col"
   ]
  },
  {
   "cell_type": "code",
   "execution_count": 20,
   "metadata": {},
   "outputs": [
    {
     "data": {
      "text/plain": [
       "13909"
      ]
     },
     "execution_count": 20,
     "metadata": {},
     "output_type": "execute_result"
    }
   ],
   "source": [
    "have_duplicated_rows = data_item_df.duplicated('List Name Item').sum()\n",
    "have_duplicated_rows"
   ]
  },
  {
   "attachments": {},
   "cell_type": "markdown",
   "metadata": {},
   "source": [
    "Số lượng dữ liệu trùng cũng giống bên dữ liệu đội hình."
   ]
  },
  {
   "cell_type": "code",
   "execution_count": 21,
   "metadata": {},
   "outputs": [],
   "source": [
    "data_item_df = data_item_df.drop_duplicates().reset_index(drop = True)"
   ]
  },
  {
   "attachments": {},
   "cell_type": "markdown",
   "metadata": {},
   "source": [
    "Ý nghĩa của từng cột:\n",
    "- **Puuid**: id của các người chơi .\n",
    "- **ID Match**: id của trận đấu.\n",
    "- **Champion**: danh sách tướng trong 1 đội hình.\n",
    "- **List Augments**: danh sách trang bị ứng với từng tướng trong đội hình."
   ]
  },
  {
   "attachments": {},
   "cell_type": "markdown",
   "metadata": {},
   "source": [
    "Kiểu dữ liệu của từng cột trong dataframe"
   ]
  },
  {
   "cell_type": "code",
   "execution_count": 22,
   "metadata": {},
   "outputs": [
    {
     "data": {
      "text/plain": [
       "Puuid             object\n",
       "ID Match          object\n",
       "Champion          object\n",
       "List Name Item    object\n",
       "dtype: object"
      ]
     },
     "execution_count": 22,
     "metadata": {},
     "output_type": "execute_result"
    }
   ],
   "source": [
    "col_dtypes = data_item_df.dtypes\n",
    "col_dtypes"
   ]
  },
  {
   "attachments": {},
   "cell_type": "markdown",
   "metadata": {},
   "source": [
    "Có 2 cột dữ liệu dạng list nhưng khi lưu vào csv thì nó chuyển thành string nên ta cần chuyển nó trở lại về list"
   ]
  },
  {
   "cell_type": "code",
   "execution_count": 23,
   "metadata": {},
   "outputs": [],
   "source": [
    "col_name_type_list = ['Champion', 'List Name Item']\n",
    "changeStringToList(col_name_type_list, data_item_df)"
   ]
  },
  {
   "attachments": {},
   "cell_type": "markdown",
   "metadata": {},
   "source": [
    "## Preprocess"
   ]
  },
  {
   "attachments": {},
   "cell_type": "markdown",
   "metadata": {},
   "source": [
    "### Kiểm tra dữ liệu trống:"
   ]
  },
  {
   "cell_type": "code",
   "execution_count": 24,
   "metadata": {},
   "outputs": [
    {
     "data": {
      "text/plain": [
       "Puuid             0\n",
       "ID Match          0\n",
       "Champion          0\n",
       "List Name Item    0\n",
       "dtype: int64"
      ]
     },
     "execution_count": 24,
     "metadata": {},
     "output_type": "execute_result"
    }
   ],
   "source": [
    "data_item_df.isna().sum()"
   ]
  },
  {
   "attachments": {},
   "cell_type": "markdown",
   "metadata": {},
   "source": [
    "Không có dữ liệu bị trống trong dataframe này"
   ]
  },
  {
   "attachments": {},
   "cell_type": "markdown",
   "metadata": {},
   "source": [
    "# Thông tin về tướng và trang bị"
   ]
  },
  {
   "attachments": {},
   "cell_type": "markdown",
   "metadata": {},
   "source": [
    "- Tổng số tướng được sử dụng:"
   ]
  },
  {
   "cell_type": "code",
   "execution_count": 25,
   "metadata": {},
   "outputs": [
    {
     "name": "stdout",
     "output_type": "stream",
     "text": [
      "59\n"
     ]
    }
   ],
   "source": [
    "a = np.array(data_item_df['Champion'])\n",
    "numbers_champ = set(i for j in a for i in j)\n",
    "print(len(numbers_champ)) # 10"
   ]
  },
  {
   "attachments": {},
   "cell_type": "markdown",
   "metadata": {},
   "source": [
    "- Tổng số item được sử dụng"
   ]
  },
  {
   "cell_type": "code",
   "execution_count": 26,
   "metadata": {},
   "outputs": [
    {
     "data": {
      "text/plain": [
       "124"
      ]
     },
     "execution_count": 26,
     "metadata": {},
     "output_type": "execute_result"
    }
   ],
   "source": [
    "b = np.array(data_item_df['List Name Item'])\n",
    "numbers_item = set()\n",
    "for i in b:\n",
    "    for j in i:\n",
    "        for k in j:\n",
    "            numbers_item.add(k)\n",
    "\n",
    "len(numbers_item)"
   ]
  },
  {
   "attachments": {},
   "cell_type": "markdown",
   "metadata": {},
   "source": [
    "## TÍNH TOÁN VÀ VẼ BIỂU ĐỒ CỦA TƯỚNG VÀ LÕI NÂNG CẤP ĐỂ TRẢ LỜI CÂU HỎI: CÁC CHAMPION TRONG TỪNG TOP 1-> TOP 8 ĐƯỢC SỬ DỤNG VỚI TẦN SUẤT LÀ BAO NHIÊU VÀ VỊ TRÍ TRUNG BÌNH CỦA NÓ LÀ BAO NHIÊU?"
   ]
  },
  {
   "attachments": {},
   "cell_type": "markdown",
   "metadata": {},
   "source": [
    "#### file notebook chỉ để tính cho tướng (champion) còn lõi nâng cấp thì không được, bởi vì mục đích là trích xuất xử lý thông tin để người chơi có thể hiểu biết hơn về trò chơi nhưng các lõi nâng cấp hiển thị trong trò chơi khác với cách API lưu tên (gần 200 lõi với tên khác hoàn toàn hiển thị trong trò chơi) nên việc xử lý rất là khó khăn"
   ]
  },
  {
   "cell_type": "code",
   "execution_count": 27,
   "metadata": {},
   "outputs": [],
   "source": [
    "import pandas as pd\n",
    "import numpy as np\n",
    "import ast\n",
    "from itertools import chain\n",
    "import matplotlib.pyplot as plt\n",
    "import ast\n"
   ]
  },
  {
   "attachments": {},
   "cell_type": "markdown",
   "metadata": {},
   "source": [
    "#### Đọc dữ liệu lấy data về champion"
   ]
  },
  {
   "cell_type": "code",
   "execution_count": 28,
   "metadata": {},
   "outputs": [],
   "source": [
    "'''\n",
    "Lọc trùng theo mã trận đấu và danh sách đồ vì:\n",
    "* Các người chơi sẽ gặp nhau ở các trận đấu nên mã trận đấu sẽ bị trùng giữa các thư mục ngườichơi\n",
    "* Có 127 trang bị chia thành 4 loại, mỗi champion có tối đa 3 trang bị chưa kể 1 trận có từ 8-10 trang bị và 6-9 champion \n",
    "mà mỗi champion có thể để từ 0-3 trang bị nên số trường hợp tối đa là rất lớn mà dữ liệu đầu vào chỉ có 32000 đội hình nên các bộ trang bị\n",
    "sẽ không thể bị trùng giữa 2 người chơi khác nhau được!\n",
    "'''\n",
    "champion_df = pd.read_csv('../Data/process_data_tft_each_item_csv.csv', usecols=[\n",
    "                      'ID Match', 'List Name Item', 'Champion']).drop_duplicates().reset_index(drop=True)\n",
    "# champion_df = pd.read_csv('process_data_tft_each_item_csv.csv').drop_duplicates()\n"
   ]
  },
  {
   "attachments": {},
   "cell_type": "markdown",
   "metadata": {},
   "source": [
    "#### Lấy ra list Champion trong đội hình của người chơi"
   ]
  },
  {
   "cell_type": "code",
   "execution_count": 29,
   "metadata": {},
   "outputs": [],
   "source": [
    "list_champions = []\n",
    "for i in range(len(champion_df['Champion'])):\n",
    "    list_champions.append(ast.literal_eval(champion_df['Champion'][i]))"
   ]
  },
  {
   "attachments": {},
   "cell_type": "markdown",
   "metadata": {},
   "source": [
    "#### Tìm ra danh sách champion được sử dụng nhiều nhất và ít nhất"
   ]
  },
  {
   "attachments": {},
   "cell_type": "markdown",
   "metadata": {},
   "source": [
    "ta giảm chiều list_champions lại bằng list(chain.from_iterable)\n",
    "\n",
    "hàm zip dùng để biến 2 list được cho ra thành key và values\n",
    "\n",
    "list(chain) dùng để ép mảng xuống còn 1D và sau đó sort lại\n",
    "\n",
    "sau đó ta rút trích ra được những champion được sử dụng nhiều nhất và ít nhất"
   ]
  },
  {
   "cell_type": "code",
   "execution_count": 30,
   "metadata": {},
   "outputs": [],
   "source": [
    "def get_best_worst_champions(list_champions):\n",
    "    print(len(list_champions))\n",
    "    flatten_list = list(chain.from_iterable(list_champions))\n",
    "\n",
    "    flatten_list = np.array(flatten_list, dtype = object)\n",
    "\n",
    "    unique, counts = np.unique(flatten_list, return_counts=True)\n",
    "    \n",
    "    a = dict(zip(unique, counts))\n",
    "    b = dict(sorted(a.items(), key=lambda item: item[1]))\n",
    "\n",
    "    best_champions = list(b.items())\n",
    "    worst_champions = list(b.items())\n",
    "    return best_champions,worst_champions"
   ]
  },
  {
   "cell_type": "code",
   "execution_count": 31,
   "metadata": {},
   "outputs": [
    {
     "name": "stdout",
     "output_type": "stream",
     "text": [
      "18096\n"
     ]
    }
   ],
   "source": [
    "best_champions,worst_champions = get_best_worst_champions(list_champions)"
   ]
  },
  {
   "attachments": {},
   "cell_type": "markdown",
   "metadata": {},
   "source": [
    "5 champion được dùng nhiều nhất và ít nhất"
   ]
  },
  {
   "cell_type": "code",
   "execution_count": 32,
   "metadata": {},
   "outputs": [
    {
     "name": "stdout",
     "output_type": "stream",
     "text": [
      "[('TFT8_LeeSin', 5151), ('TFT8_Vi', 6196), ('TFT8_Sejuani', 6247), ('TFT8_Ekko', 8228), ('TFT8_Alistar', 8459)] [('TFT8_Poppy', 193), ('TFT8_Sylas', 394), ('TFT8_Draven', 571), ('TFT8_Ashe', 602), ('TFT8_Kayle', 655)]\n"
     ]
    }
   ],
   "source": [
    "print(best_champions[-5:], worst_champions[:5])"
   ]
  },
  {
   "attachments": {},
   "cell_type": "markdown",
   "metadata": {},
   "source": [
    "Biểu đồ sử dụng của các champion đó"
   ]
  },
  {
   "cell_type": "code",
   "execution_count": 33,
   "metadata": {},
   "outputs": [
    {
     "data": {
      "image/png": "[encoded data removed]",
      "text/plain": [
       "<Figure size 640x480 with 1 Axes>"
      ]
     },
     "metadata": {},
     "output_type": "display_data"
    }
   ],
   "source": [
    "bar_chart = np.array(best_champions[-5:] + worst_champions[0:5])\n",
    "bar_chart[:, 0]\n",
    "\n",
    "x = bar_chart[:, 0]\n",
    "y = bar_chart[:, 1]\n",
    "y = y.astype('int64')\n",
    "\n",
    "plt.barh(x, y)\n",
    "for index, value in enumerate(y):\n",
    "    plt.text(value, index,\n",
    "             str(value))\n",
    " \n",
    "plt.show()"
   ]
  },
  {
   "attachments": {},
   "cell_type": "markdown",
   "metadata": {},
   "source": [
    "Ta thấy 5 champion ít nhất có số lượng sử dụng cực kì thấp, chỉ bằng khoảng 8% so với champion được dùng nhiều nhất."
   ]
  },
  {
   "attachments": {},
   "cell_type": "markdown",
   "metadata": {},
   "source": [
    "#### Vị trí trung bình các champion đó trong trận đấu"
   ]
  },
  {
   "cell_type": "code",
   "execution_count": 34,
   "metadata": {},
   "outputs": [],
   "source": [
    "average_df = pd.read_csv('../Data/process_data_tft_each_item_csv.csv', usecols=[\n",
    "                         'ID Match','List Name Item','Champion', 'Placement']).drop_duplicates().reset_index(drop=True)\n"
   ]
  },
  {
   "attachments": {},
   "cell_type": "markdown",
   "metadata": {},
   "source": [
    "chuyển đổi string sang list nhưng lần này ta để trong hàm để dễ sử dụng và nhìn trực quan hơn"
   ]
  },
  {
   "cell_type": "code",
   "execution_count": 35,
   "metadata": {},
   "outputs": [],
   "source": [
    "def convert_string_to_list(ok, placement, column):\n",
    "    temp = ok[ok.eq(placement).any(1)].reset_index(drop=True)\n",
    "    top = []\n",
    "    for i in range(len(temp)):\n",
    "        top.append(ast.literal_eval(temp[column][i]))\n",
    "    return top\n"
   ]
  },
  {
   "attachments": {},
   "cell_type": "markdown",
   "metadata": {},
   "source": [
    "lọc ra trong những top từ 1 đến 8 số lần champion đó được sử dụng. Vòng for để duyệt từng top, sau đó lấy ra số lần sử dụn champion đó"
   ]
  },
  {
   "cell_type": "code",
   "execution_count": 36,
   "metadata": {},
   "outputs": [
    {
     "name": "stdout",
     "output_type": "stream",
     "text": [
      "2262\n",
      "2262\n",
      "2262\n",
      "2262\n",
      "2262\n",
      "2262\n",
      "2262\n",
      "2262\n"
     ]
    }
   ],
   "source": [
    "champion_on_top = {}\n",
    "for i in range(1, 9, 1):\n",
    "    temp = convert_string_to_list(average_df, i, 'Champion')\n",
    "    temp1 = 'top_' + str(i)\n",
    "    champion_on_top[temp1] = get_best_worst_champions(temp)\n"
   ]
  },
  {
   "attachments": {},
   "cell_type": "markdown",
   "metadata": {},
   "source": [
    "5 champion tốt nhất và tệ nhất mà người chơi top 1 sử dụng\n",
    "\n",
    "nếu muốn xem các top khác thì chỉ cần thay đổi string\"top_1\" thành các top khác"
   ]
  },
  {
   "cell_type": "code",
   "execution_count": 37,
   "metadata": {},
   "outputs": [
    {
     "name": "stdout",
     "output_type": "stream",
     "text": [
      "[('TFT8_Poppy', 12), ('TFT8_Sylas', 41), ('TFT8_Ashe', 48), ('TFT8_Kayle', 59), ('TFT8_Rell', 63), ('TFT8_Draven', 70), ('TFT8_Jinx', 74), ('TFT8_Lulu', 79), ('TFT8_BelVeth', 90), ('TFT8_Lux', 110), ('TFT8_MissFortune', 117), ('TFT8_Talon', 117), ('TFT8_Senna', 120), ('TFT8_AurelionSol', 129), ('TFT8_Camille', 134), ('TFT8_Ezreal', 135), ('TFT8_WuKong', 144), ('TFT8_Fiora', 145), ('TFT8_Sett', 155), ('TFT8_Viego', 155), ('TFT8_Chogath', 179), ('TFT8_Zed', 179), ('TFT8_Yasuo', 187), ('TFT8_Renekton', 195), ('TFT8_Kaisa', 196), ('TFT8_Mordekaiser', 204), ('TFT8_Zac', 206), ('TFT8_Rammus', 211), ('TFT8_Sivir', 221), ('TFT8_Velkoz', 260), ('TFT8_Taliyah', 268), ('TFT8_Vayne', 289), ('TFT8_Nilah', 298), ('TFT8_Samira', 312), ('TFT8_Nasus', 322), ('TFT8_Blitzcrank', 343), ('TFT8_Aphelios', 370), ('TFT8_Annie', 385), ('TFT8_Sona', 385), ('TFT8_Jax', 389), ('TFT8_Leblanc', 417), ('TFT8_Riven', 423), ('TFT8_Syndra', 437), ('TFT8_Zoe', 444), ('TFT8_Galio', 452), ('TFT8_Urgot', 496), ('TFT8_Fiddlesticks', 531), ('TFT8_Gangplank', 531), ('TFT8_Malphite', 541), ('TFT8_Yuumi', 548), ('TFT8_Soraka', 557), ('TFT8_Nunu', 577), ('TFT8_Janna', 628), ('TFT8_Sejuani', 718), ('TFT8_Leona', 735), ('TFT8_Vi', 755), ('TFT8_LeeSin', 843), ('TFT8_Ekko', 1095), ('TFT8_Alistar', 1242)] \n",
      " [('TFT8_Poppy', 12), ('TFT8_Sylas', 41), ('TFT8_Ashe', 48), ('TFT8_Kayle', 59), ('TFT8_Rell', 63), ('TFT8_Draven', 70), ('TFT8_Jinx', 74), ('TFT8_Lulu', 79), ('TFT8_BelVeth', 90), ('TFT8_Lux', 110), ('TFT8_MissFortune', 117), ('TFT8_Talon', 117), ('TFT8_Senna', 120), ('TFT8_AurelionSol', 129), ('TFT8_Camille', 134), ('TFT8_Ezreal', 135), ('TFT8_WuKong', 144), ('TFT8_Fiora', 145), ('TFT8_Sett', 155), ('TFT8_Viego', 155), ('TFT8_Chogath', 179), ('TFT8_Zed', 179), ('TFT8_Yasuo', 187), ('TFT8_Renekton', 195), ('TFT8_Kaisa', 196), ('TFT8_Mordekaiser', 204), ('TFT8_Zac', 206), ('TFT8_Rammus', 211), ('TFT8_Sivir', 221), ('TFT8_Velkoz', 260), ('TFT8_Taliyah', 268), ('TFT8_Vayne', 289), ('TFT8_Nilah', 298), ('TFT8_Samira', 312), ('TFT8_Nasus', 322), ('TFT8_Blitzcrank', 343), ('TFT8_Aphelios', 370), ('TFT8_Annie', 385), ('TFT8_Sona', 385), ('TFT8_Jax', 389), ('TFT8_Leblanc', 417), ('TFT8_Riven', 423), ('TFT8_Syndra', 437), ('TFT8_Zoe', 444), ('TFT8_Galio', 452), ('TFT8_Urgot', 496), ('TFT8_Fiddlesticks', 531), ('TFT8_Gangplank', 531), ('TFT8_Malphite', 541), ('TFT8_Yuumi', 548), ('TFT8_Soraka', 557), ('TFT8_Nunu', 577), ('TFT8_Janna', 628), ('TFT8_Sejuani', 718), ('TFT8_Leona', 735), ('TFT8_Vi', 755), ('TFT8_LeeSin', 843), ('TFT8_Ekko', 1095), ('TFT8_Alistar', 1242)]\n"
     ]
    }
   ],
   "source": [
    "best_champions_top_1, worst_champions_top_1 = champion_on_top['top_1']\n",
    "print(best_champions_top_1, \"\\n\", worst_champions_top_1)"
   ]
  },
  {
   "attachments": {},
   "cell_type": "markdown",
   "metadata": {},
   "source": [
    "#### TỈ LỆ CỦA CÁC CHAMPION ĐÓ TRONG TRẬN ĐẤU VÀ SỐ LẦN XUẤT HIỆN CỦA CHAMPION TRONG TỪNG TOP CỦA TRẬN ĐẤU"
   ]
  },
  {
   "cell_type": "code",
   "execution_count": 38,
   "metadata": {},
   "outputs": [],
   "source": [
    "all_champion_df = pd.read_csv(\"../Data/process_data_champion_tft.csv\", usecols=['Champion'])"
   ]
  },
  {
   "cell_type": "code",
   "execution_count": 39,
   "metadata": {},
   "outputs": [],
   "source": [
    "all_champions = all_champion_df['Champion'].to_list()\n"
   ]
  },
  {
   "attachments": {},
   "cell_type": "markdown",
   "metadata": {},
   "source": [
    "champion_avg_top: vị trí trung bình của champ khi ở trong top từ 1 đến 8\n",
    "\n",
    "Nghĩa là khi champ đó được sử dụng thì trung bình bạn sẽ vào được top mấy\n",
    "\n",
    "champion_avg_on_match: tỉ lệ số trận đấu từ top 1 đến 8 mà champ đó được sử dụng\n",
    "\n",
    "Nghĩa là tần suất sử dụng của champ đó trong từng top"
   ]
  },
  {
   "cell_type": "code",
   "execution_count": 40,
   "metadata": {},
   "outputs": [],
   "source": [
    "sum = 0\n",
    "temp = 0\n",
    "champion_avg_top = []\n",
    "champion_avg_on_match = []\n",
    "match_each_top = []\n",
    "for champion in all_champions:\n",
    "    temp1 = []\n",
    "    temp2 = []\n",
    "    for i in range(1, 9, 1):\n",
    "        cc = dict(champion_on_top['top_' + str(i)][0])\n",
    "\n",
    "        if(champion in cc):\n",
    "            temp = temp+dict(champion_on_top['top_' + str(i)][0])[champion]*i\n",
    "            sum = sum + (dict(champion_on_top['top_' + str(i)][0])[champion])\n",
    "            \n",
    "        temp2.append(sum/32000)\n",
    "        champion_avg_on_match.append(temp2)\n",
    "    temp1.append(temp/sum)\n",
    "    champion_avg_top.append(temp1)\n",
    "    temp = 0\n",
    "    sum = 0\n"
   ]
  },
  {
   "cell_type": "code",
   "execution_count": 41,
   "metadata": {},
   "outputs": [
    {
     "name": "stdout",
     "output_type": "stream",
     "text": [
      "[4.26350632462466] [0.0388125, 0.07509375, 0.1094375, 0.14328125, 0.17565625, 0.2071875, 0.23825, 0.26434375]\n"
     ]
    }
   ],
   "source": [
    "print(champion_avg_top[0], champion_avg_on_match[0])"
   ]
  },
  {
   "attachments": {},
   "cell_type": "markdown",
   "metadata": {},
   "source": [
    "như ta thấy ở đây, champ đầu tiên sẽ có avg_top là 4.26: nghĩa là nếu sử dụng champ đó thì vị trí trung bình ta sẽ đạt được là 4.26 và avg_on_match là trong từng top 1 -> 8 thì tần suất xuất hiện là bao nhiêu"
   ]
  },
  {
   "cell_type": "code",
   "execution_count": 42,
   "metadata": {},
   "outputs": [
    {
     "data": {
      "image/png": "[encoded data removed]",
      "text/plain": [
       "<Figure size 640x480 with 1 Axes>"
      ]
     },
     "metadata": {},
     "output_type": "display_data"
    }
   ],
   "source": [
    "bar_chart[:, 0]\n",
    "avg_placement_5_worst_best_champions = []\n",
    "for i in bar_chart[:, 0]:\n",
    "    avg_placement_5_worst_best_champions.append(\n",
    "        champion_avg_top[all_champions.index(i)][0])\n",
    "\n",
    "\n",
    "y = avg_placement_5_worst_best_champions\n",
    "plt.barh(x, y)\n",
    "for index, value in enumerate(y):\n",
    "    plt.text(value, index,\n",
    "             str(round(value, 3)))\n",
    "\n",
    "plt.show()\n"
   ]
  },
  {
   "attachments": {},
   "cell_type": "markdown",
   "metadata": {},
   "source": [
    "Ta có thể thấy các champion ít sử dụng có vị trí trung bình thấp hơn những champion được sử dụng nhiều nhất, chứng tỏ những champion này chưa thực sự hữu ích dành cho người chơi. Lí do bởi vì những champion này vì những champion này bị out meta"
   ]
  },
  {
   "attachments": {},
   "cell_type": "markdown",
   "metadata": {},
   "source": [
    "Biểu đồ của 5 champion có vị trí trung bình cao nhất:"
   ]
  },
  {
   "cell_type": "code",
   "execution_count": 43,
   "metadata": {},
   "outputs": [
    {
     "data": {
      "text/plain": [
       "array([[48],\n",
       "       [23],\n",
       "       [45],\n",
       "       [31],\n",
       "       [12]], dtype=int64)"
      ]
     },
     "execution_count": 43,
     "metadata": {},
     "output_type": "execute_result"
    }
   ],
   "source": [
    "ind = np.argpartition(np.array(champion_avg_top), 5, axis=0)[:5]\n",
    "ind\n"
   ]
  },
  {
   "cell_type": "code",
   "execution_count": 44,
   "metadata": {},
   "outputs": [
    {
     "data": {
      "text/plain": [
       "[3.572199730094467,\n",
       " 3.619876774712028,\n",
       " 3.630266552020636,\n",
       " 3.645412130637636,\n",
       " 3.7021654242101527]"
      ]
     },
     "execution_count": 44,
     "metadata": {},
     "output_type": "execute_result"
    }
   ],
   "source": [
    "name_placement_5_best_champions = []\n",
    "avg_placement_5_best_champions = []\n",
    "for i in range(5):\n",
    "    name_placement_5_best_champions.append(all_champions[ind[i][0]])\n",
    "    avg_placement_5_best_champions.append(champion_avg_top[ind[i][0]][0])\n",
    "avg_placement_5_best_champions\n"
   ]
  },
  {
   "cell_type": "code",
   "execution_count": 45,
   "metadata": {},
   "outputs": [
    {
     "data": {
      "text/plain": [
       "([3.572199730094467,\n",
       "  3.619876774712028,\n",
       "  3.630266552020636,\n",
       "  3.645412130637636,\n",
       "  3.7021654242101527],\n",
       " ['TFT8_Urgot', 'TFT8_Leona', 'TFT8_Syndra', 'TFT8_Nunu', 'TFT8_Fiddlesticks'])"
      ]
     },
     "execution_count": 45,
     "metadata": {},
     "output_type": "execute_result"
    }
   ],
   "source": [
    "y = name_placement_5_best_champions\n",
    "\n",
    "x = avg_placement_5_best_champions\n",
    "y = name_placement_5_best_champions\n",
    "x, y"
   ]
  },
  {
   "cell_type": "code",
   "execution_count": 46,
   "metadata": {},
   "outputs": [
    {
     "data": {
      "image/png": "[encoded data removed]",
      "text/plain": [
       "<Figure size 640x480 with 1 Axes>"
      ]
     },
     "metadata": {},
     "output_type": "display_data"
    }
   ],
   "source": [
    "x = name_placement_5_best_champions\n",
    "y = avg_placement_5_best_champions\n",
    "fig, ax = plt.subplots()\n",
    "plt.barh(x, y)\n",
    "ticks_loc = np.arange(3.5, 3.8, step=0.05)\n",
    "ax.set_xticks(ticks_loc)\n",
    "ax.set_xlim(3.5, 3.8)\n",
    "for index, value in enumerate(y):\n",
    "    plt.text(value, index,\n",
    "             str(round(value, 4)))\n",
    "\n",
    "plt.show()\n"
   ]
  },
  {
   "attachments": {},
   "cell_type": "markdown",
   "metadata": {},
   "source": [
    "Đây là những champion có vị trí trung bình cao nhất, dù vị trí trung bình chênh nhau rất nhỏ nhưng với vị trí trung bình cao như vậy thì sự ảnh hưởng của nó tới meta rất lớn"
   ]
  },
  {
   "attachments": {},
   "cell_type": "markdown",
   "metadata": {},
   "source": [
    "## ĐỂ XÂY DỰNG MỘT ĐỘI HÌNH MẠNH THÌ TA CẦN NHỮNG GÌ ?\n",
    "Đó là cần những vị tướng mạnh, cầm những món trang bị tốt và kích hoạt những tộc hệ hợp lí cho chúng. Vậy ta sẽ làm thế nào để tìm ra những thứ đó thì chúng ta sẽ thực hiện ngay bên dưới đây thôi."
   ]
  },
  {
   "cell_type": "code",
   "execution_count": 47,
   "metadata": {},
   "outputs": [],
   "source": [
    "import pandas as pd\n",
    "import numpy as np\n",
    "import matplotlib.pyplot as plt\n",
    "import ast\n",
    "from itertools import chain"
   ]
  },
  {
   "attachments": {},
   "cell_type": "markdown",
   "metadata": {},
   "source": [
    "### ĐỌC DỮ LIỆU ĐỂ LẤY TẤT CẢ CÁC MÓN ĐỒ"
   ]
  },
  {
   "cell_type": "code",
   "execution_count": 48,
   "metadata": {},
   "outputs": [],
   "source": [
    "'''\n",
    "Lọc trùng theo mã trận đấu và danh sách đồ vì:\n",
    "* Các người chơi sẽ gặp nhau ở các trận đấu nên mã trận đấu sẽ bị trùng giữa các thư mục ngườichơi\n",
    "* Có 127 trang bị chia thành 4 loại, mỗi champion có tối đa 3 trang bị chưa kể 1 trận có từ 8-10 trang bị và 6-9 champion \n",
    "mà mỗi champion có thể để từ 0-3 trang bị nên số trường hợp tối đa là rất lớn mà dữ liệu đầu vào chỉ có 32000 đội hình nên các bộ trang bị\n",
    "sẽ không thể bị trùng giữa 2 người chơi khác nhau được!\n",
    "'''\n",
    "item_df = pd.read_csv('../Data/process_data_tft_each_item_csv.csv', usecols=[\n",
    "                      'ID Match', 'List Name Item']).drop_duplicates().reset_index(drop=True)\n",
    "# item_df = pd.read_csv('process_data_tft_each_item_csv.csv').drop_duplicates()"
   ]
  },
  {
   "cell_type": "code",
   "execution_count": 49,
   "metadata": {},
   "outputs": [
    {
     "data": {
      "text/plain": [
       "18096"
      ]
     },
     "execution_count": 49,
     "metadata": {},
     "output_type": "execute_result"
    }
   ],
   "source": [
    "len(item_df)"
   ]
  },
  {
   "attachments": {},
   "cell_type": "markdown",
   "metadata": {},
   "source": [
    "### LẤY RA SỐ LƯỢNG ĐỒ CÓ TRONG TRẬN ĐẤU\n",
    "\n",
    "ast.literak_eval: dùng để biến đổi string thành list"
   ]
  },
  {
   "cell_type": "code",
   "execution_count": 50,
   "metadata": {},
   "outputs": [],
   "source": [
    "list_items = []\n",
    "for i in range(len(item_df['List Name Item'])):\n",
    "    list_items.append(ast.literal_eval(item_df['List Name Item'][i])) "
   ]
  },
  {
   "attachments": {},
   "cell_type": "markdown",
   "metadata": {},
   "source": [
    "### TÌM RA MÓN ĐỒ ĐƯỢC SỬ DỤNG NHIỀU NHẤT VÀ ÍT NHẤT"
   ]
  },
  {
   "attachments": {},
   "cell_type": "markdown",
   "metadata": {},
   "source": [
    "hàm zip dùng để biến 2 list được cho ra thành key và values\n",
    "\n",
    "lisst(chain) dùng để ép mảng xuống còn 1D và sau đó sort lại"
   ]
  },
  {
   "cell_type": "code",
   "execution_count": 51,
   "metadata": {},
   "outputs": [],
   "source": [
    "def get_best_worst_items(list_items):\n",
    "    flatten_list = list(chain.from_iterable(list_items))\n",
    "    flatten_list = list(chain.from_iterable(flatten_list))\n",
    "    flatten_list = np.array(flatten_list, dtype = object)\n",
    "    unique, counts = np.unique(flatten_list, return_counts=True)\n",
    "    a = dict(zip(unique, counts))\n",
    "    b = dict(sorted(a.items(), key=lambda item: item[1]))\n",
    "    best_item = list(b.items())\n",
    "    worst_item = list(b.items())[0:5]\n",
    "    return best_item, worst_item"
   ]
  },
  {
   "cell_type": "code",
   "execution_count": 52,
   "metadata": {},
   "outputs": [],
   "source": [
    "best_item,worst_item = get_best_worst_items(list_items)"
   ]
  },
  {
   "attachments": {},
   "cell_type": "markdown",
   "metadata": {},
   "source": [
    "5 món đồ tốt nhất và tệ nhất"
   ]
  },
  {
   "cell_type": "code",
   "execution_count": 53,
   "metadata": {},
   "outputs": [
    {
     "data": {
      "text/plain": [
       "array(['TFT_Item_WarmogsArmor', 'TFT_Item_IonicSpark', 'TFT_Item_RedBuff',\n",
       "       'TFT_Item_JeweledGauntlet', 'TFT_Item_MadredsBloodrazor',\n",
       "       'TFT5_Item_MorellonomiconRadiant',\n",
       "       'TFT5_Item_ShroudOfStillnessRadiant',\n",
       "       'TFT5_Item_FrozenHeartRadiant', 'TFT5_Item_LastWhisperRadiant',\n",
       "       'TFT5_Item_RedemptionRadiant'], dtype='<U34')"
      ]
     },
     "execution_count": 53,
     "metadata": {},
     "output_type": "execute_result"
    }
   ],
   "source": [
    "bar_chart = np.array(best_item[-5:] + worst_item)\n",
    "bar_chart[:, 0]"
   ]
  },
  {
   "cell_type": "code",
   "execution_count": 54,
   "metadata": {},
   "outputs": [],
   "source": [
    "x = bar_chart[:, 0]\n",
    "y = bar_chart[:, 1]\n",
    "y = y.astype('int64')\n",
    "# temp = pd.DataFrame(data= {'col1': x, 'col2': y}).sort_values(by='col2')\n",
    "# temp.plot.bar(x='col1', y='col2')"
   ]
  },
  {
   "cell_type": "code",
   "execution_count": 55,
   "metadata": {},
   "outputs": [
    {
     "data": {
      "text/plain": [
       "(array(['TFT_Item_WarmogsArmor', 'TFT_Item_IonicSpark', 'TFT_Item_RedBuff',\n",
       "        'TFT_Item_JeweledGauntlet', 'TFT_Item_MadredsBloodrazor',\n",
       "        'TFT5_Item_MorellonomiconRadiant',\n",
       "        'TFT5_Item_ShroudOfStillnessRadiant',\n",
       "        'TFT5_Item_FrozenHeartRadiant', 'TFT5_Item_LastWhisperRadiant',\n",
       "        'TFT5_Item_RedemptionRadiant'], dtype='<U34'),\n",
       " array([6312, 6347, 7694, 8427, 9805,   12,   12,   14,   14,   14],\n",
       "       dtype=int64))"
      ]
     },
     "execution_count": 55,
     "metadata": {},
     "output_type": "execute_result"
    }
   ],
   "source": [
    "x, y"
   ]
  },
  {
   "attachments": {},
   "cell_type": "markdown",
   "metadata": {},
   "source": [
    "Biểu đồ số lượng sử dụng của các trang bị (giữa 5 món nhiều nhất và 5 món ít nhất):"
   ]
  },
  {
   "cell_type": "code",
   "execution_count": 56,
   "metadata": {},
   "outputs": [
    {
     "data": {
      "image/png": "[encoded data removed]",
      "text/plain": [
       "<Figure size 640x480 with 1 Axes>"
      ]
     },
     "metadata": {},
     "output_type": "display_data"
    }
   ],
   "source": [
    "plt.barh(x, y)\n",
    "for index, value in enumerate(y):\n",
    "    plt.text(value, index,\n",
    "             str(value))\n",
    " \n",
    "plt.show()"
   ]
  },
  {
   "attachments": {},
   "cell_type": "markdown",
   "metadata": {},
   "source": [
    "Ta thấy 5 món đồ ít nhất có số lượng sử dụng cực kì thấp, chỉ bằng khoảng 0,1% so với món dùng nhiều nhất. Vậy ta có nên sử dụng những món đồ có tỉ lệ sử dụng cao ở trên hay không, cùng tìm hiểu ở phần tiếp theo nhé."
   ]
  },
  {
   "attachments": {},
   "cell_type": "markdown",
   "metadata": {},
   "source": [
    "### TÌM VỊ TRÍ TRUNG BÌNH CỦA MÓN ĐỒ ĐÓ TRONG TRẬN ĐẤU"
   ]
  },
  {
   "attachments": {},
   "cell_type": "markdown",
   "metadata": {},
   "source": [
    "Khi người chơi sử dụng món đồ đó thì sẽ được lọt vào top mấy của game"
   ]
  },
  {
   "cell_type": "code",
   "execution_count": 57,
   "metadata": {},
   "outputs": [],
   "source": [
    "average_df = pd.read_csv('../Data/process_data_tft_each_item_csv.csv', usecols = ['Puuid', 'Placement', 'List Name Item']).drop_duplicates().reset_index(drop = True)"
   ]
  },
  {
   "attachments": {},
   "cell_type": "markdown",
   "metadata": {},
   "source": [
    "Chuyển đổi từ string sang list bởi vì đọc từ csv ra các list sẽ bị chuyển thành string"
   ]
  },
  {
   "cell_type": "code",
   "execution_count": 58,
   "metadata": {},
   "outputs": [],
   "source": [
    "def convert_string_to_list(ok, placement, column):\n",
    "    temp = ok[ok.eq(placement).any(1)].reset_index(drop=True)\n",
    "    top = []\n",
    "    for i in range(len(temp)):\n",
    "        top.append(ast.literal_eval(temp[column][i]))\n",
    "    return top"
   ]
  },
  {
   "attachments": {},
   "cell_type": "markdown",
   "metadata": {},
   "source": [
    "Lọc ra trong những top từ 1 đến 8 số lần item đó được sử dụng"
   ]
  },
  {
   "cell_type": "code",
   "execution_count": 59,
   "metadata": {},
   "outputs": [],
   "source": [
    "item_on_top = {}\n",
    "for i in range(1,9,1):\n",
    "    temp = convert_string_to_list(average_df, i, 'List Name Item')\n",
    "    temp1 = 'top_' + str(i)\n",
    "    item_on_top[temp1] = get_best_worst_items(temp)"
   ]
  },
  {
   "attachments": {},
   "cell_type": "markdown",
   "metadata": {},
   "source": [
    "Top 5 những item được sử dụng khi người chơi đạt top 1 (thấp đến cao)"
   ]
  },
  {
   "cell_type": "code",
   "execution_count": 60,
   "metadata": {},
   "outputs": [
    {
     "name": "stdout",
     "output_type": "stream",
     "text": [
      "[('TFT_Item_SeraphsEmbrace', 1054), ('TFT_Item_IonicSpark', 1114), ('TFT_Item_JeweledGauntlet', 1184), ('TFT_Item_RedBuff', 1194), ('TFT_Item_MadredsBloodrazor', 1510)]                  [('TFT5_Item_RapidFirecannonRadiant', 1), ('TFT5_Item_StatikkShivRadiant', 1), ('TFT5_Item_ArchangelsStaffRadiant', 2), ('TFT5_Item_ChaliceOfPowerRadiant', 2), ('TFT5_Item_GargoyleStoneplateRadiant', 2)]\n"
     ]
    }
   ],
   "source": [
    "best_item_top_1, worst_item_top_1 = item_on_top['top_1']\n",
    "print(best_item_top_1[-5:], \"                \", worst_item_top_1[-5:])"
   ]
  },
  {
   "attachments": {},
   "cell_type": "markdown",
   "metadata": {},
   "source": [
    "### TỈ LỆ CỦA MÓN ĐỒ ĐÓ TRONG TRẬN ĐẤU VÀ SỐ LẦN XUẤT HIỆN CỦA MÓN ĐỒ TRONG TỪNG TOP CỦA TRẬN ĐẤU"
   ]
  },
  {
   "cell_type": "code",
   "execution_count": 61,
   "metadata": {},
   "outputs": [],
   "source": [
    "all_item_df = pd.read_csv(\"../Data/item_tft_csv.csv\", usecols=[\"Item\"])"
   ]
  },
  {
   "cell_type": "code",
   "execution_count": 62,
   "metadata": {},
   "outputs": [],
   "source": [
    "all_items = all_item_df['Item'].to_list()"
   ]
  },
  {
   "attachments": {},
   "cell_type": "markdown",
   "metadata": {},
   "source": [
    "item_avg_top: vị trí trung bình của món đồ khi ở trong top từ 1 đến 8\n",
    "\n",
    "item_avg_on_match: tỉ lệ số trận đấu từ top 1 đến 8 mà món đồ đó được sử dụng"
   ]
  },
  {
   "cell_type": "code",
   "execution_count": 63,
   "metadata": {},
   "outputs": [],
   "source": [
    "item_avg_top = []\n",
    "item_avg_on_match = []\n",
    "match_each_top = []\n",
    "for item in all_items:\n",
    "    temp = 0\n",
    "    sum = 0\n",
    "    temp1 = []\n",
    "    for i in range(1,9,1):\n",
    "        index_top = dict(item_on_top['top_' + str(i)][0])\n",
    "        if(item in index_top):\n",
    "            temp = temp+dict(item_on_top['top_' + str(i)][0])[item]*i\n",
    "            sum = sum + (dict(item_on_top['top_' + str(i)][0])[item])\n",
    "    temp1.append(temp/sum)\n",
    "    item_avg_top.append(temp1)\n"
   ]
  },
  {
   "cell_type": "code",
   "execution_count": 64,
   "metadata": {},
   "outputs": [],
   "source": [
    "avg_placement_5_worst_best_item = []\n",
    "for i in bar_chart[:, 0]:\n",
    "    avg_placement_5_worst_best_item.append(item_avg_top[all_items.index(i)][0])"
   ]
  },
  {
   "attachments": {},
   "cell_type": "markdown",
   "metadata": {},
   "source": [
    "Biểu đồ vị trí trung bình của 5 món trang bị dùng ít nhất và dùng nhiều nhất:"
   ]
  },
  {
   "cell_type": "code",
   "execution_count": 65,
   "metadata": {},
   "outputs": [
    {
     "data": {
      "image/png": "[encoded data removed]",
      "text/plain": [
       "<Figure size 640x480 with 1 Axes>"
      ]
     },
     "metadata": {},
     "output_type": "display_data"
    }
   ],
   "source": [
    "y = avg_placement_5_worst_best_item\n",
    "plt.barh(x, y)\n",
    "for index, value in enumerate(y):\n",
    "    plt.text(value, index,\n",
    "             str(round(value, 3)))\n",
    "\n",
    "plt.show()"
   ]
  },
  {
   "attachments": {},
   "cell_type": "markdown",
   "metadata": {},
   "source": [
    "Ta có thể thấy các món đồ ít sử dụng có vị trí trung bình thấp hơn những món được sử dụng nhiều nhất, chứng tỏ những món này chưa thực sự hữu ích dành cho người chơi (và trên thực tế những món đồ này khá là khó kiếm do nó là trang bị đặc biệt và có những trang bị đặc biệt khác mạnh hơn chúng nhiều nên chúng ít được người chơi sử dụng). Tuy nhiên vẫn có 1 trường hợp đặc biệt với món trang bị 'MorellonomiconRadiant' khi nó có vị trí trung bình khá cao nhưng vẫn ít được sử dụng, có thể người chơi chưa nhận ra sức mạnh của nó chăng ?"
   ]
  },
  {
   "attachments": {},
   "cell_type": "markdown",
   "metadata": {},
   "source": [
    "Từ đó ta có thể rút ra nhận xét rằng những món đồ phổ biến kia được dùng nhiều như vậy bởi lẽ nó thực sự là hữu ích và có sức mạnh cao hơn so với những món đồ thuộc top dưới vì vậy hãy tận dụng chúng để có thể dành được top cao. Những cũng đừng quên có một vài trang bị tuy chưa được đánh giá cao nhưng vẫn có một sức mạnh khá tốt như món trang bị 'MorellonomiconRadiant' kia, hãy thử và cảm nhận chúng thế nào"
   ]
  },
  {
   "attachments": {},
   "cell_type": "markdown",
   "metadata": {},
   "source": [
    "Biểu đồ của 5 món trang bị có vị trí trung bình cao nhất:"
   ]
  },
  {
   "cell_type": "code",
   "execution_count": 66,
   "metadata": {},
   "outputs": [
    {
     "data": {
      "text/plain": [
       "array([[41],\n",
       "       [85],\n",
       "       [28],\n",
       "       [ 6],\n",
       "       [34]], dtype=int64)"
      ]
     },
     "execution_count": 66,
     "metadata": {},
     "output_type": "execute_result"
    }
   ],
   "source": [
    "ind = np.argpartition(np.array(item_avg_top), 5, axis=0)[:5]\n",
    "ind"
   ]
  },
  {
   "cell_type": "code",
   "execution_count": 67,
   "metadata": {},
   "outputs": [
    {
     "data": {
      "text/plain": [
       "[3.1153846153846154, 1.0991189427312775, 3.125, 3.444, 3.4375]"
      ]
     },
     "execution_count": 67,
     "metadata": {},
     "output_type": "execute_result"
    }
   ],
   "source": [
    "name_placement_5_best_item = []\n",
    "avg_placement_5_best_item = []\n",
    "for i in range(5):\n",
    "    name_placement_5_best_item.append(all_items[ind[i][0]])\n",
    "    avg_placement_5_best_item.append(item_avg_top[ind[i][0]][0])\n",
    "avg_placement_5_best_item"
   ]
  },
  {
   "cell_type": "code",
   "execution_count": 68,
   "metadata": {},
   "outputs": [
    {
     "data": {
      "text/plain": [
       "['TFT5_Item_TrapClawRadiant',\n",
       " 'TFT_Item_EmptyBag',\n",
       " 'TFT5_Item_LocketOfTheIronSolariRadiant',\n",
       " 'TFT4_Item_OrnnRanduinsSanctum',\n",
       " 'TFT5_Item_RunaansHurricaneRadiant']"
      ]
     },
     "execution_count": 68,
     "metadata": {},
     "output_type": "execute_result"
    }
   ],
   "source": [
    "y = name_placement_5_best_item\n",
    "y"
   ]
  },
  {
   "cell_type": "code",
   "execution_count": 69,
   "metadata": {},
   "outputs": [
    {
     "data": {
      "text/plain": [
       "([3.1153846153846154, 1.0991189427312775, 3.125, 3.444, 3.4375],\n",
       " ['TFT5_Item_TrapClawRadiant',\n",
       "  'TFT_Item_EmptyBag',\n",
       "  'TFT5_Item_LocketOfTheIronSolariRadiant',\n",
       "  'TFT4_Item_OrnnRanduinsSanctum',\n",
       "  'TFT5_Item_RunaansHurricaneRadiant'])"
      ]
     },
     "execution_count": 69,
     "metadata": {},
     "output_type": "execute_result"
    }
   ],
   "source": [
    "x = avg_placement_5_best_item\n",
    "y = name_placement_5_best_item\n",
    "x, y"
   ]
  },
  {
   "attachments": {},
   "cell_type": "markdown",
   "metadata": {},
   "source": [
    "Biểu đồ của 5 món trang bị có vị trí trung bình cao nhất:"
   ]
  },
  {
   "cell_type": "code",
   "execution_count": 70,
   "metadata": {},
   "outputs": [
    {
     "data": {
      "image/png": "[encoded data removed]",
      "text/plain": [
       "<Figure size 640x480 with 1 Axes>"
      ]
     },
     "metadata": {},
     "output_type": "display_data"
    }
   ],
   "source": [
    "x = name_placement_5_best_item\n",
    "y = avg_placement_5_best_item\n",
    "plt.barh(x, y)\n",
    "for index, value in enumerate(y):\n",
    "    plt.text(value, index,\n",
    "             str(round(value,3)))\n",
    "\n",
    "plt.show()"
   ]
  },
  {
   "attachments": {},
   "cell_type": "markdown",
   "metadata": {},
   "source": [
    "Đây là những trang bị có vị trí trung bình cao nhất, tuy nhiên trong đây có một món trang bị đặc thù là 'EmptyBag' nhưng món đồ này là một món đặc biệt được tạo ra từ 1 item khác có tên là 'TFT_Item_ThiefsGloves' nên ta sẽ xem đây như là 1 trường hợp ngoại lệ."
   ]
  },
  {
   "attachments": {},
   "cell_type": "markdown",
   "metadata": {},
   "source": [
    "Còn đây là vị trí trung bình của các món trang bị có tỉ lệ top cao nhất, bạn nên sở hữu chúng ngay khi có thể để giành chiến thắng nhé"
   ]
  },
  {
   "attachments": {},
   "cell_type": "markdown",
   "metadata": {},
   "source": [
    "## TƯƠNG TỰ VỚI TỘC VÀ HỆ"
   ]
  },
  {
   "attachments": {},
   "cell_type": "markdown",
   "metadata": {},
   "source": [
    "#### Đọc dữ liệu để lấy hệ và tộc"
   ]
  },
  {
   "cell_type": "code",
   "execution_count": 71,
   "metadata": {},
   "outputs": [],
   "source": [
    "traits_df = pd.read_csv('../Data/process_data_tft_general_csv.csv', usecols = ['ID Match','List Traits','List Number Items']).drop_duplicates().reset_index(drop=True)"
   ]
  },
  {
   "cell_type": "code",
   "execution_count": 72,
   "metadata": {},
   "outputs": [],
   "source": [
    "list_traits = []\n",
    "\n",
    "for i in range(len(traits_df['List Traits'])):\n",
    "    list_traits.append(ast.literal_eval(traits_df['List Traits'][i])) "
   ]
  },
  {
   "attachments": {},
   "cell_type": "markdown",
   "metadata": {},
   "source": [
    "### TÌM RA TỘC HỆ ĐƯỢC SỬ DỤNG NHIỀU NHẤT VÀ ÍT NHẤT"
   ]
  },
  {
   "cell_type": "code",
   "execution_count": 73,
   "metadata": {},
   "outputs": [],
   "source": [
    "def get_best_worst_traits(list_traits):\n",
    "    flatten_list = list(chain.from_iterable(list_traits))\n",
    "    flatten_list = np.array(flatten_list, dtype = object)\n",
    "    cc = flatten_list[0::3]\n",
    "    unique, counts= np.unique(cc, return_counts=True)\n",
    "    a = dict(zip(unique, counts))\n",
    "    b = dict(sorted(a.items(), key=lambda item: item[1]))\n",
    "    best_traits = list(b.items())\n",
    "    worst_traits = list(b.items())[:5]\n",
    "    return best_traits, worst_traits"
   ]
  },
  {
   "cell_type": "code",
   "execution_count": 74,
   "metadata": {},
   "outputs": [
    {
     "name": "stdout",
     "output_type": "stream",
     "text": [
      "[('Set8_Arsenal', 2083), ('Set8_Corrupted', 2743), ('Set8_Forecaster', 3248), ('Set8_Deadeye', 3851), ('Set8_Recon', 4189), ('Set8_Ace', 4514), ('Set8_Renegade', 4654), ('Set8_Defender', 5130), ('Set8_Supers', 5689), ('Set8_Hacker', 5996), ('Set8_Civilian', 6227), ('Set8_ExoPrime', 6245), ('Set8_Admin', 6911), ('Set8_Threat', 7052), ('Set8_GenAE', 7400), ('Set8_Duelist', 7559), ('Set8_Channeler', 8131), ('Set8_AnimaSquad', 8222), ('Set8_SpaceCorps', 8809), ('Set8_Prankster', 9558), ('Set8_Heart', 9802), ('Set8_UndergroundThe', 10438), ('Set8_OxForce', 10648), ('Set8_Mascot', 11301), ('Set8_Brawler', 11791), ('Set8_StarGuardian', 12293), ('Set8_Aegis', 13821)]                  [('Set8_Arsenal', 2083), ('Set8_Corrupted', 2743), ('Set8_Forecaster', 3248), ('Set8_Deadeye', 3851), ('Set8_Recon', 4189)]\n"
     ]
    }
   ],
   "source": [
    "a, b = get_best_worst_traits(list_traits)\n",
    "print(a,\"                \", b)"
   ]
  },
  {
   "cell_type": "code",
   "execution_count": 75,
   "metadata": {},
   "outputs": [
    {
     "data": {
      "image/png": "[encoded data removed]",
      "text/plain": [
       "<Figure size 640x480 with 1 Axes>"
      ]
     },
     "metadata": {},
     "output_type": "display_data"
    }
   ],
   "source": [
    "x = np.array(a[-5:] + a[:5])\n",
    "x = x[:, 0]\n",
    "y = np.array(a[-5:] + a[:5])\n",
    "y = np.array(y[:, 1])\n",
    "y = y.astype('int64')\n",
    "plt.bar(x = x, height=y, )\n",
    "plt.xticks(rotation=45)\n",
    "plt.show()"
   ]
  },
  {
   "attachments": {},
   "cell_type": "markdown",
   "metadata": {},
   "source": [
    "Đối với tộc hệ ta nên chọn những tộc hệ được dùng nhiều, bởi chúng có sức mạnh tốt và được nhiều người tin tưởng để sử dụng chúng nhằm giành vị trí cao."
   ]
  },
  {
   "attachments": {},
   "cell_type": "markdown",
   "metadata": {},
   "source": [
    "### VỊ TRÍ TRUNG BÌNH CỦA TỘC VÀ HỆ"
   ]
  },
  {
   "attachments": {},
   "cell_type": "markdown",
   "metadata": {},
   "source": [
    "Vì Puuid thay đổi theo thời gian nên list các tộc hệ sẽ bị trùng rất nhiều dẫn đến số lwuonjg trận đấu khác biệt sẽ nhỏ hơn số lượng thu thập"
   ]
  },
  {
   "cell_type": "code",
   "execution_count": 76,
   "metadata": {},
   "outputs": [],
   "source": [
    "list_traits_df = pd.read_csv('../Data/process_data_tft_general_csv.csv', usecols= ['Placement', 'List Traits','ID Match']).drop_duplicates().reset_index(drop=True)"
   ]
  },
  {
   "attachments": {},
   "cell_type": "markdown",
   "metadata": {},
   "source": [
    "Tộc và hệ tốt nhất và tệ nhất ở top 1"
   ]
  },
  {
   "cell_type": "code",
   "execution_count": 77,
   "metadata": {},
   "outputs": [],
   "source": [
    "all_traits = list_traits_df['List Traits'].to_list()"
   ]
  },
  {
   "cell_type": "code",
   "execution_count": 78,
   "metadata": {},
   "outputs": [],
   "source": [
    "traits_on_top = {}\n",
    "for i in range(1,9,1):\n",
    "    temp = convert_string_to_list(list_traits_df, i, 'List Traits')\n",
    "    temp1 = 'top_' + str(i)\n",
    "    traits_on_top[temp1] = get_best_worst_traits(temp)"
   ]
  },
  {
   "cell_type": "code",
   "execution_count": 79,
   "metadata": {},
   "outputs": [
    {
     "name": "stdout",
     "output_type": "stream",
     "text": [
      "[('Set8_Arsenal', 368), ('Set8_Recon', 379), ('Set8_Deadeye', 535), ('Set8_Corrupted', 541), ('Set8_Defender', 588), ('Set8_Ace', 615), ('Set8_Hacker', 628), ('Set8_Forecaster', 633), ('Set8_Renegade', 803), ('Set8_Admin', 838), ('Set8_Supers', 877), ('Set8_Duelist', 893), ('Set8_GenAE', 1003), ('Set8_AnimaSquad', 1025), ('Set8_SpaceCorps', 1031), ('Set8_ExoPrime', 1035), ('Set8_Civilian', 1046), ('Set8_Threat', 1081), ('Set8_Channeler', 1123), ('Set8_Prankster', 1179), ('Set8_UndergroundThe', 1306), ('Set8_Heart', 1423), ('Set8_Brawler', 1446), ('Set8_OxForce', 1450), ('Set8_Mascot', 1575), ('Set8_StarGuardian', 1626), ('Set8_Aegis', 1859)]                [('Set8_Arsenal', 368), ('Set8_Recon', 379), ('Set8_Deadeye', 535), ('Set8_Corrupted', 541), ('Set8_Defender', 588)]\n"
     ]
    }
   ],
   "source": [
    "best_traits_on_top_1, worst_traits_on_top_1 = traits_on_top['top_1']\n",
    "print(best_traits_on_top_1, \"              \", worst_traits_on_top_1)"
   ]
  },
  {
   "cell_type": "code",
   "execution_count": 80,
   "metadata": {},
   "outputs": [
    {
     "data": {
      "text/plain": [
       "[('Set8_Brawler', 1446),\n",
       " ('Set8_OxForce', 1450),\n",
       " ('Set8_Mascot', 1575),\n",
       " ('Set8_StarGuardian', 1626),\n",
       " ('Set8_Aegis', 1859)]"
      ]
     },
     "execution_count": 80,
     "metadata": {},
     "output_type": "execute_result"
    }
   ],
   "source": [
    "bar_chart = np.array(best_traits_on_top_1[-5:] + worst_traits_on_top_1)\n",
    "best_traits_on_top_1[-5:]"
   ]
  },
  {
   "cell_type": "code",
   "execution_count": 81,
   "metadata": {},
   "outputs": [],
   "source": [
    "x = bar_chart[:, 0]\n",
    "y = bar_chart[:, 1]\n",
    "y = y.astype('int64')"
   ]
  },
  {
   "cell_type": "code",
   "execution_count": 82,
   "metadata": {},
   "outputs": [
    {
     "data": {
      "image/png": "[encoded data removed]",
      "text/plain": [
       "<Figure size 640x480 with 1 Axes>"
      ]
     },
     "metadata": {},
     "output_type": "display_data"
    }
   ],
   "source": [
    "plt.barh(x, y)\n",
    "for index, value in enumerate(y):\n",
    "    plt.text(value, index,\n",
    "             str(value))\n",
    " \n",
    "plt.show()"
   ]
  },
  {
   "attachments": {},
   "cell_type": "markdown",
   "metadata": {},
   "source": [
    "Nếu bạn giành vị trí đầu tiên thì những tộc hệ sau đây không nên bỏ qua vì đây là các tộc hệ mà những người chơi top 1 hay sử dụng nhất đó."
   ]
  },
  {
   "attachments": {},
   "cell_type": "markdown",
   "metadata": {},
   "source": [
    "### TỈ LỆ CỦA TỘC HỆ ĐÓ TRONG TRẬN ĐẤU VÀ SỐ LẦN XUẤT HIỆN CỦA TỘC HỆ TRONG TỪNG TOP CỦA TRẬN ĐẤU"
   ]
  },
  {
   "attachments": {},
   "cell_type": "markdown",
   "metadata": {},
   "source": [
    "traits_avg_top: tộc hệ trung bình trong các top trận đấu\n",
    "\n",
    "traits_avg_on_match: tần suất xuất hiện của tộc hệ trong trận đấu"
   ]
  },
  {
   "cell_type": "code",
   "execution_count": 83,
   "metadata": {},
   "outputs": [],
   "source": [
    "all_traits_df = pd.read_csv('../Data/TocHe.csv', usecols=['Trait'])"
   ]
  },
  {
   "cell_type": "code",
   "execution_count": 84,
   "metadata": {},
   "outputs": [],
   "source": [
    "all_traits = all_traits_df['Trait'].to_list()"
   ]
  },
  {
   "attachments": {},
   "cell_type": "markdown",
   "metadata": {},
   "source": [
    "traits_avg_top:  vị trí trung bình của tộc hệ khi ở trong top từ 1 đến 8\n",
    "\n",
    "traits_avg_on_match: tỉ lệ số trận đấu từ top 1 đến 8 mà tộc hệ đó được sử dụng"
   ]
  },
  {
   "cell_type": "code",
   "execution_count": 85,
   "metadata": {},
   "outputs": [],
   "source": [
    "sum = 0\n",
    "temp = 0\n",
    "traits_avg_top = []\n",
    "traits_avg_on_match = []\n",
    "for item in all_traits:\n",
    "    temp1 = []\n",
    "    temp2 = []\n",
    "    for i in range(1,9,1):\n",
    "        cc = dict(traits_on_top['top_' + str(i)][0])\n",
    "        if(item in cc):\n",
    "            temp = temp+dict(traits_on_top['top_' + str(i)][0])[item]*i\n",
    "            sum = sum + (dict(traits_on_top['top_' + str(i)][0])[item]) \n",
    "        temp2.append(sum/len(list_traits_df))\n",
    "        traits_avg_on_match.append(temp2)\n",
    "    temp1.append(temp/sum)\n",
    "    traits_avg_top.append(temp1)\n",
    "    \n",
    "    temp = 0\n",
    "    sum = 0"
   ]
  },
  {
   "attachments": {},
   "cell_type": "markdown",
   "metadata": {},
   "source": [
    "# Liệu những champion nào sẽ được dùng cùng nhau nhiều nhất trong các trận đấu của những người chơi? Câu hỏi tương tự với các trang bị?"
   ]
  },
  {
   "cell_type": "code",
   "execution_count": 86,
   "metadata": {},
   "outputs": [],
   "source": [
    "\n",
    "import pandas as pd\n",
    "import numpy as np\n",
    "import matplotlib.pyplot as plt\n",
    "import ast\n",
    "from apyori import apriori\n",
    "from sklearn.datasets import load_iris\n",
    "from mlxtend.frequent_patterns import fpgrowth\n",
    "from mlxtend.frequent_patterns import association_rules\n",
    "from mlxtend.preprocessing import TransactionEncoder\n"
   ]
  },
  {
   "attachments": {},
   "cell_type": "markdown",
   "metadata": {},
   "source": [
    "### Đọc data"
   ]
  },
  {
   "cell_type": "code",
   "execution_count": 87,
   "metadata": {},
   "outputs": [],
   "source": [
    "# To make sure the first row is not thought of as the heading\n",
    "dataset = pd.read_csv('../Data/process_data_tft_each_item_csv.csv', usecols=[\n",
    "                      'ID Match', 'List Name Item', 'Champion']).drop_duplicates().reset_index(drop=True)\n"
   ]
  },
  {
   "attachments": {},
   "cell_type": "markdown",
   "metadata": {},
   "source": [
    "## Sử dụng thuật khai thác mẫu phổ biến với cây FP để tìm ra các tập hợp có support nhiều nhất tương ứng với sử dụng nhiều nhất (Apriori không được sử dụng vì số transaction rất nhiều nên sẽ bị time out)"
   ]
  },
  {
   "attachments": {},
   "cell_type": "markdown",
   "metadata": {},
   "source": [
    "### Với các Champion \n",
    "Đầu tiên tạo mảng 2 chiều lưu danh sách các đội hình chứa các champion của mõi người chơi"
   ]
  },
  {
   "cell_type": "code",
   "execution_count": 88,
   "metadata": {},
   "outputs": [],
   "source": [
    "list_items = []\n",
    "for i in range(len(dataset['Champion'])):\n",
    "    list_items.append(ast.literal_eval(dataset['Champion'][i]))\n"
   ]
  },
  {
   "attachments": {},
   "cell_type": "markdown",
   "metadata": {},
   "source": [
    "Sử dụng apply valuecounts để tạo dataframe 2 chiều với index là tất cả trận đấu còn column là tên các champion của trò chơi, mỗi hàng là 1 transaction, vì đôi lúc người chơi sẽ dùng 2 champion trùng nhau trong 1 trận đấu nên thay thế các số 2, 3, 4 thành 1 để FP tree hoạt động được"
   ]
  },
  {
   "cell_type": "code",
   "execution_count": 89,
   "metadata": {},
   "outputs": [],
   "source": [
    "df_champion = pd.DataFrame(list_items).apply(pd.value_counts, 1).fillna(0)"
   ]
  },
  {
   "cell_type": "code",
   "execution_count": 90,
   "metadata": {},
   "outputs": [],
   "source": [
    "df_champion = df_champion.replace(2, 1)\n",
    "df_champion = df_champion.replace(3, 1)\n",
    "df_champion = df_champion.replace(4, 1)\n"
   ]
  },
  {
   "attachments": {},
   "cell_type": "markdown",
   "metadata": {},
   "source": [
    "**Áp cây fp để sinh tập phổ biến với min_sup = 0.1, sort theo support**"
   ]
  },
  {
   "cell_type": "code",
   "execution_count": 91,
   "metadata": {},
   "outputs": [
    {
     "name": "stderr",
     "output_type": "stream",
     "text": [
      "c:\\Users\\ACER\\anaconda3\\envs\\min_ds-env\\lib\\site-packages\\mlxtend\\frequent_patterns\\fpcommon.py:111: DeprecationWarning: DataFrames with non-bool types result in worse computationalperformance and their support might be discontinued in the future.Please use a DataFrame with bool type\n",
      "  warnings.warn(\n"
     ]
    }
   ],
   "source": [
    "res=fpgrowth(df_champion,min_support=0.1, use_colnames=True)\n",
    "res = res.sort_values('support', ascending=False)\n"
   ]
  },
  {
   "cell_type": "code",
   "execution_count": 92,
   "metadata": {},
   "outputs": [
    {
     "data": {
      "text/html": [
       "<div>\n",
       "<style scoped>\n",
       "    .dataframe tbody tr th:only-of-type {\n",
       "        vertical-align: middle;\n",
       "    }\n",
       "\n",
       "    .dataframe tbody tr th {\n",
       "        vertical-align: top;\n",
       "    }\n",
       "\n",
       "    .dataframe thead th {\n",
       "        text-align: right;\n",
       "    }\n",
       "</style>\n",
       "<table border=\"1\" class=\"dataframe\">\n",
       "  <thead>\n",
       "    <tr style=\"text-align: right;\">\n",
       "      <th></th>\n",
       "      <th>support</th>\n",
       "      <th>itemsets</th>\n",
       "    </tr>\n",
       "  </thead>\n",
       "  <tbody>\n",
       "    <tr>\n",
       "      <th>6</th>\n",
       "      <td>0.466015</td>\n",
       "      <td>(TFT8_Alistar)</td>\n",
       "    </tr>\n",
       "    <tr>\n",
       "      <th>7</th>\n",
       "      <td>0.450265</td>\n",
       "      <td>(TFT8_Ekko)</td>\n",
       "    </tr>\n",
       "    <tr>\n",
       "      <th>0</th>\n",
       "      <td>0.341291</td>\n",
       "      <td>(TFT8_Vi)</td>\n",
       "    </tr>\n",
       "    <tr>\n",
       "      <th>14</th>\n",
       "      <td>0.338417</td>\n",
       "      <td>(TFT8_Sejuani)</td>\n",
       "    </tr>\n",
       "    <tr>\n",
       "      <th>43</th>\n",
       "      <td>0.295590</td>\n",
       "      <td>(TFT8_Alistar, TFT8_Ekko)</td>\n",
       "    </tr>\n",
       "  </tbody>\n",
       "</table>\n",
       "</div>"
      ],
      "text/plain": [
       "     support                   itemsets\n",
       "6   0.466015             (TFT8_Alistar)\n",
       "7   0.450265                (TFT8_Ekko)\n",
       "0   0.341291                  (TFT8_Vi)\n",
       "14  0.338417             (TFT8_Sejuani)\n",
       "43  0.295590  (TFT8_Alistar, TFT8_Ekko)"
      ]
     },
     "execution_count": 92,
     "metadata": {},
     "output_type": "execute_result"
    }
   ],
   "source": [
    "res.head()"
   ]
  },
  {
   "attachments": {},
   "cell_type": "markdown",
   "metadata": {},
   "source": [
    "**Xuất các bộ k champ đi cùng nhau**"
   ]
  },
  {
   "attachments": {},
   "cell_type": "markdown",
   "metadata": {},
   "source": [
    "3 champion hay đi cùng nhau"
   ]
  },
  {
   "cell_type": "code",
   "execution_count": 93,
   "metadata": {},
   "outputs": [
    {
     "data": {
      "text/html": [
       "<div>\n",
       "<style scoped>\n",
       "    .dataframe tbody tr th:only-of-type {\n",
       "        vertical-align: middle;\n",
       "    }\n",
       "\n",
       "    .dataframe tbody tr th {\n",
       "        vertical-align: top;\n",
       "    }\n",
       "\n",
       "    .dataframe thead th {\n",
       "        text-align: right;\n",
       "    }\n",
       "</style>\n",
       "<table border=\"1\" class=\"dataframe\">\n",
       "  <thead>\n",
       "    <tr style=\"text-align: right;\">\n",
       "      <th></th>\n",
       "      <th>support</th>\n",
       "      <th>itemsets</th>\n",
       "    </tr>\n",
       "  </thead>\n",
       "  <tbody>\n",
       "    <tr>\n",
       "      <th>40</th>\n",
       "      <td>0.152796</td>\n",
       "      <td>(TFT8_Malphite, TFT8_LeeSin, TFT8_Gangplank)</td>\n",
       "    </tr>\n",
       "    <tr>\n",
       "      <th>48</th>\n",
       "      <td>0.132681</td>\n",
       "      <td>(TFT8_Annie, TFT8_Alistar, TFT8_Ekko)</td>\n",
       "    </tr>\n",
       "    <tr>\n",
       "      <th>76</th>\n",
       "      <td>0.107538</td>\n",
       "      <td>(TFT8_Sejuani, TFT8_Jax, TFT8_Vi)</td>\n",
       "    </tr>\n",
       "    <tr>\n",
       "      <th>71</th>\n",
       "      <td>0.105603</td>\n",
       "      <td>(TFT8_Sejuani, TFT8_Riven, TFT8_Vi)</td>\n",
       "    </tr>\n",
       "    <tr>\n",
       "      <th>77</th>\n",
       "      <td>0.103172</td>\n",
       "      <td>(TFT8_Sejuani, TFT8_Jax, TFT8_Riven)</td>\n",
       "    </tr>\n",
       "    <tr>\n",
       "      <th>78</th>\n",
       "      <td>0.102619</td>\n",
       "      <td>(TFT8_Jax, TFT8_Riven, TFT8_Vi)</td>\n",
       "    </tr>\n",
       "  </tbody>\n",
       "</table>\n",
       "</div>"
      ],
      "text/plain": [
       "     support                                      itemsets\n",
       "40  0.152796  (TFT8_Malphite, TFT8_LeeSin, TFT8_Gangplank)\n",
       "48  0.132681         (TFT8_Annie, TFT8_Alistar, TFT8_Ekko)\n",
       "76  0.107538             (TFT8_Sejuani, TFT8_Jax, TFT8_Vi)\n",
       "71  0.105603           (TFT8_Sejuani, TFT8_Riven, TFT8_Vi)\n",
       "77  0.103172          (TFT8_Sejuani, TFT8_Jax, TFT8_Riven)\n",
       "78  0.102619               (TFT8_Jax, TFT8_Riven, TFT8_Vi)"
      ]
     },
     "execution_count": 93,
     "metadata": {},
     "output_type": "execute_result"
    }
   ],
   "source": [
    "res.loc[res[\"itemsets\"].apply(lambda x: len(x) == 3)]\n"
   ]
  },
  {
   "attachments": {},
   "cell_type": "markdown",
   "metadata": {},
   "source": [
    "2 champion hay đi cùng nhau"
   ]
  },
  {
   "cell_type": "code",
   "execution_count": 94,
   "metadata": {},
   "outputs": [
    {
     "data": {
      "text/html": [
       "<div>\n",
       "<style scoped>\n",
       "    .dataframe tbody tr th:only-of-type {\n",
       "        vertical-align: middle;\n",
       "    }\n",
       "\n",
       "    .dataframe tbody tr th {\n",
       "        vertical-align: top;\n",
       "    }\n",
       "\n",
       "    .dataframe thead th {\n",
       "        text-align: right;\n",
       "    }\n",
       "</style>\n",
       "<table border=\"1\" class=\"dataframe\">\n",
       "  <thead>\n",
       "    <tr style=\"text-align: right;\">\n",
       "      <th></th>\n",
       "      <th>support</th>\n",
       "      <th>itemsets</th>\n",
       "    </tr>\n",
       "  </thead>\n",
       "  <tbody>\n",
       "    <tr>\n",
       "      <th>43</th>\n",
       "      <td>0.295590</td>\n",
       "      <td>(TFT8_Alistar, TFT8_Ekko)</td>\n",
       "    </tr>\n",
       "    <tr>\n",
       "      <th>54</th>\n",
       "      <td>0.213749</td>\n",
       "      <td>(TFT8_Sejuani, TFT8_Vi)</td>\n",
       "    </tr>\n",
       "    <tr>\n",
       "      <th>44</th>\n",
       "      <td>0.165064</td>\n",
       "      <td>(TFT8_Annie, TFT8_Alistar)</td>\n",
       "    </tr>\n",
       "    <tr>\n",
       "      <th>37</th>\n",
       "      <td>0.158267</td>\n",
       "      <td>(TFT8_Malphite, TFT8_LeeSin)</td>\n",
       "    </tr>\n",
       "    <tr>\n",
       "      <th>38</th>\n",
       "      <td>0.154178</td>\n",
       "      <td>(TFT8_Malphite, TFT8_Gangplank)</td>\n",
       "    </tr>\n",
       "    <tr>\n",
       "      <th>36</th>\n",
       "      <td>0.153957</td>\n",
       "      <td>(TFT8_LeeSin, TFT8_Gangplank)</td>\n",
       "    </tr>\n",
       "    <tr>\n",
       "      <th>32</th>\n",
       "      <td>0.153570</td>\n",
       "      <td>(TFT8_Vi, TFT8_Ekko)</td>\n",
       "    </tr>\n",
       "    <tr>\n",
       "      <th>57</th>\n",
       "      <td>0.152188</td>\n",
       "      <td>(TFT8_Zoe, TFT8_Ekko)</td>\n",
       "    </tr>\n",
       "    <tr>\n",
       "      <th>45</th>\n",
       "      <td>0.149646</td>\n",
       "      <td>(TFT8_Annie, TFT8_Ekko)</td>\n",
       "    </tr>\n",
       "    <tr>\n",
       "      <th>69</th>\n",
       "      <td>0.147270</td>\n",
       "      <td>(TFT8_Riven, TFT8_Vi)</td>\n",
       "    </tr>\n",
       "    <tr>\n",
       "      <th>33</th>\n",
       "      <td>0.145225</td>\n",
       "      <td>(TFT8_Alistar, TFT8_Vi)</td>\n",
       "    </tr>\n",
       "    <tr>\n",
       "      <th>59</th>\n",
       "      <td>0.132239</td>\n",
       "      <td>(TFT8_Leblanc, TFT8_Zoe)</td>\n",
       "    </tr>\n",
       "    <tr>\n",
       "      <th>62</th>\n",
       "      <td>0.131079</td>\n",
       "      <td>(TFT8_Vayne, TFT8_Nilah)</td>\n",
       "    </tr>\n",
       "    <tr>\n",
       "      <th>70</th>\n",
       "      <td>0.130029</td>\n",
       "      <td>(TFT8_Sejuani, TFT8_Riven)</td>\n",
       "    </tr>\n",
       "    <tr>\n",
       "      <th>68</th>\n",
       "      <td>0.128813</td>\n",
       "      <td>(TFT8_Alistar, TFT8_Leona)</td>\n",
       "    </tr>\n",
       "    <tr>\n",
       "      <th>34</th>\n",
       "      <td>0.126934</td>\n",
       "      <td>(TFT8_LeeSin, TFT8_Vi)</td>\n",
       "    </tr>\n",
       "    <tr>\n",
       "      <th>60</th>\n",
       "      <td>0.126713</td>\n",
       "      <td>(TFT8_Leblanc, TFT8_Ekko)</td>\n",
       "    </tr>\n",
       "    <tr>\n",
       "      <th>55</th>\n",
       "      <td>0.125111</td>\n",
       "      <td>(TFT8_Sejuani, TFT8_Ekko)</td>\n",
       "    </tr>\n",
       "    <tr>\n",
       "      <th>72</th>\n",
       "      <td>0.121684</td>\n",
       "      <td>(TFT8_Sejuani, TFT8_Jax)</td>\n",
       "    </tr>\n",
       "    <tr>\n",
       "      <th>58</th>\n",
       "      <td>0.120192</td>\n",
       "      <td>(TFT8_Zoe, TFT8_Alistar)</td>\n",
       "    </tr>\n",
       "    <tr>\n",
       "      <th>73</th>\n",
       "      <td>0.120192</td>\n",
       "      <td>(TFT8_Jax, TFT8_Vi)</td>\n",
       "    </tr>\n",
       "    <tr>\n",
       "      <th>61</th>\n",
       "      <td>0.117816</td>\n",
       "      <td>(TFT8_Leblanc, TFT8_Alistar)</td>\n",
       "    </tr>\n",
       "    <tr>\n",
       "      <th>67</th>\n",
       "      <td>0.117042</td>\n",
       "      <td>(TFT8_Leona, TFT8_Ekko)</td>\n",
       "    </tr>\n",
       "    <tr>\n",
       "      <th>49</th>\n",
       "      <td>0.115550</td>\n",
       "      <td>(TFT8_Alistar, TFT8_Yuumi)</td>\n",
       "    </tr>\n",
       "    <tr>\n",
       "      <th>35</th>\n",
       "      <td>0.115164</td>\n",
       "      <td>(TFT8_Sejuani, TFT8_LeeSin)</td>\n",
       "    </tr>\n",
       "    <tr>\n",
       "      <th>74</th>\n",
       "      <td>0.114224</td>\n",
       "      <td>(TFT8_Jax, TFT8_Riven)</td>\n",
       "    </tr>\n",
       "    <tr>\n",
       "      <th>65</th>\n",
       "      <td>0.113672</td>\n",
       "      <td>(TFT8_Janna, TFT8_Alistar)</td>\n",
       "    </tr>\n",
       "    <tr>\n",
       "      <th>51</th>\n",
       "      <td>0.112124</td>\n",
       "      <td>(TFT8_Taliyah, TFT8_Ekko)</td>\n",
       "    </tr>\n",
       "    <tr>\n",
       "      <th>75</th>\n",
       "      <td>0.110245</td>\n",
       "      <td>(TFT8_Jax, TFT8_LeeSin)</td>\n",
       "    </tr>\n",
       "    <tr>\n",
       "      <th>66</th>\n",
       "      <td>0.108035</td>\n",
       "      <td>(TFT8_Janna, TFT8_Ekko)</td>\n",
       "    </tr>\n",
       "    <tr>\n",
       "      <th>63</th>\n",
       "      <td>0.107206</td>\n",
       "      <td>(TFT8_Blitzcrank, TFT8_Vi)</td>\n",
       "    </tr>\n",
       "    <tr>\n",
       "      <th>53</th>\n",
       "      <td>0.106819</td>\n",
       "      <td>(TFT8_Nunu, TFT8_Alistar)</td>\n",
       "    </tr>\n",
       "    <tr>\n",
       "      <th>41</th>\n",
       "      <td>0.106709</td>\n",
       "      <td>(TFT8_Sona, TFT8_Alistar)</td>\n",
       "    </tr>\n",
       "    <tr>\n",
       "      <th>56</th>\n",
       "      <td>0.104719</td>\n",
       "      <td>(TFT8_Sejuani, TFT8_Alistar)</td>\n",
       "    </tr>\n",
       "    <tr>\n",
       "      <th>47</th>\n",
       "      <td>0.104056</td>\n",
       "      <td>(TFT8_Leblanc, TFT8_Annie)</td>\n",
       "    </tr>\n",
       "    <tr>\n",
       "      <th>64</th>\n",
       "      <td>0.103946</td>\n",
       "      <td>(TFT8_Sejuani, TFT8_Blitzcrank)</td>\n",
       "    </tr>\n",
       "    <tr>\n",
       "      <th>50</th>\n",
       "      <td>0.102951</td>\n",
       "      <td>(TFT8_LeeSin, TFT8_Yuumi)</td>\n",
       "    </tr>\n",
       "    <tr>\n",
       "      <th>39</th>\n",
       "      <td>0.101901</td>\n",
       "      <td>(TFT8_Malphite, TFT8_Yuumi)</td>\n",
       "    </tr>\n",
       "    <tr>\n",
       "      <th>52</th>\n",
       "      <td>0.101735</td>\n",
       "      <td>(TFT8_Malphite, TFT8_Galio)</td>\n",
       "    </tr>\n",
       "    <tr>\n",
       "      <th>46</th>\n",
       "      <td>0.100685</td>\n",
       "      <td>(TFT8_Annie, TFT8_Zoe)</td>\n",
       "    </tr>\n",
       "    <tr>\n",
       "      <th>42</th>\n",
       "      <td>0.100354</td>\n",
       "      <td>(TFT8_Sona, TFT8_Ekko)</td>\n",
       "    </tr>\n",
       "  </tbody>\n",
       "</table>\n",
       "</div>"
      ],
      "text/plain": [
       "     support                         itemsets\n",
       "43  0.295590        (TFT8_Alistar, TFT8_Ekko)\n",
       "54  0.213749          (TFT8_Sejuani, TFT8_Vi)\n",
       "44  0.165064       (TFT8_Annie, TFT8_Alistar)\n",
       "37  0.158267     (TFT8_Malphite, TFT8_LeeSin)\n",
       "38  0.154178  (TFT8_Malphite, TFT8_Gangplank)\n",
       "36  0.153957    (TFT8_LeeSin, TFT8_Gangplank)\n",
       "32  0.153570             (TFT8_Vi, TFT8_Ekko)\n",
       "57  0.152188            (TFT8_Zoe, TFT8_Ekko)\n",
       "45  0.149646          (TFT8_Annie, TFT8_Ekko)\n",
       "69  0.147270            (TFT8_Riven, TFT8_Vi)\n",
       "33  0.145225          (TFT8_Alistar, TFT8_Vi)\n",
       "59  0.132239         (TFT8_Leblanc, TFT8_Zoe)\n",
       "62  0.131079         (TFT8_Vayne, TFT8_Nilah)\n",
       "70  0.130029       (TFT8_Sejuani, TFT8_Riven)\n",
       "68  0.128813       (TFT8_Alistar, TFT8_Leona)\n",
       "34  0.126934           (TFT8_LeeSin, TFT8_Vi)\n",
       "60  0.126713        (TFT8_Leblanc, TFT8_Ekko)\n",
       "55  0.125111        (TFT8_Sejuani, TFT8_Ekko)\n",
       "72  0.121684         (TFT8_Sejuani, TFT8_Jax)\n",
       "58  0.120192         (TFT8_Zoe, TFT8_Alistar)\n",
       "73  0.120192              (TFT8_Jax, TFT8_Vi)\n",
       "61  0.117816     (TFT8_Leblanc, TFT8_Alistar)\n",
       "67  0.117042          (TFT8_Leona, TFT8_Ekko)\n",
       "49  0.115550       (TFT8_Alistar, TFT8_Yuumi)\n",
       "35  0.115164      (TFT8_Sejuani, TFT8_LeeSin)\n",
       "74  0.114224           (TFT8_Jax, TFT8_Riven)\n",
       "65  0.113672       (TFT8_Janna, TFT8_Alistar)\n",
       "51  0.112124        (TFT8_Taliyah, TFT8_Ekko)\n",
       "75  0.110245          (TFT8_Jax, TFT8_LeeSin)\n",
       "66  0.108035          (TFT8_Janna, TFT8_Ekko)\n",
       "63  0.107206       (TFT8_Blitzcrank, TFT8_Vi)\n",
       "53  0.106819        (TFT8_Nunu, TFT8_Alistar)\n",
       "41  0.106709        (TFT8_Sona, TFT8_Alistar)\n",
       "56  0.104719     (TFT8_Sejuani, TFT8_Alistar)\n",
       "47  0.104056       (TFT8_Leblanc, TFT8_Annie)\n",
       "64  0.103946  (TFT8_Sejuani, TFT8_Blitzcrank)\n",
       "50  0.102951        (TFT8_LeeSin, TFT8_Yuumi)\n",
       "39  0.101901      (TFT8_Malphite, TFT8_Yuumi)\n",
       "52  0.101735      (TFT8_Malphite, TFT8_Galio)\n",
       "46  0.100685           (TFT8_Annie, TFT8_Zoe)\n",
       "42  0.100354           (TFT8_Sona, TFT8_Ekko)"
      ]
     },
     "execution_count": 94,
     "metadata": {},
     "output_type": "execute_result"
    }
   ],
   "source": [
    "res.loc[res[\"itemsets\"].apply(lambda x: len(x) == 2)]\n"
   ]
  },
  {
   "attachments": {},
   "cell_type": "markdown",
   "metadata": {},
   "source": [
    "**Rút ra luật kết hợp với metric = lift, lift càng cao thì độ phụ thuộc vào nhau của vế trái phải càng lớn**"
   ]
  },
  {
   "cell_type": "code",
   "execution_count": 95,
   "metadata": {},
   "outputs": [],
   "source": [
    "temp=association_rules(res, metric=\"lift\", min_threshold=1)"
   ]
  },
  {
   "cell_type": "code",
   "execution_count": 96,
   "metadata": {},
   "outputs": [
    {
     "data": {
      "text/html": [
       "<div>\n",
       "<style scoped>\n",
       "    .dataframe tbody tr th:only-of-type {\n",
       "        vertical-align: middle;\n",
       "    }\n",
       "\n",
       "    .dataframe tbody tr th {\n",
       "        vertical-align: top;\n",
       "    }\n",
       "\n",
       "    .dataframe thead th {\n",
       "        text-align: right;\n",
       "    }\n",
       "</style>\n",
       "<table border=\"1\" class=\"dataframe\">\n",
       "  <thead>\n",
       "    <tr style=\"text-align: right;\">\n",
       "      <th></th>\n",
       "      <th>antecedents</th>\n",
       "      <th>consequents</th>\n",
       "      <th>antecedent support</th>\n",
       "      <th>consequent support</th>\n",
       "      <th>support</th>\n",
       "      <th>confidence</th>\n",
       "      <th>lift</th>\n",
       "      <th>leverage</th>\n",
       "      <th>conviction</th>\n",
       "    </tr>\n",
       "  </thead>\n",
       "  <tbody>\n",
       "    <tr>\n",
       "      <th>14</th>\n",
       "      <td>(TFT8_LeeSin, TFT8_Gangplank)</td>\n",
       "      <td>(TFT8_Malphite)</td>\n",
       "      <td>0.153957</td>\n",
       "      <td>0.169595</td>\n",
       "      <td>0.152796</td>\n",
       "      <td>0.992462</td>\n",
       "      <td>5.851938</td>\n",
       "      <td>0.126686</td>\n",
       "      <td>110.166998</td>\n",
       "    </tr>\n",
       "    <tr>\n",
       "      <th>15</th>\n",
       "      <td>(TFT8_Malphite)</td>\n",
       "      <td>(TFT8_LeeSin, TFT8_Gangplank)</td>\n",
       "      <td>0.169595</td>\n",
       "      <td>0.153957</td>\n",
       "      <td>0.152796</td>\n",
       "      <td>0.900945</td>\n",
       "      <td>5.851938</td>\n",
       "      <td>0.126686</td>\n",
       "      <td>8.541141</td>\n",
       "    </tr>\n",
       "    <tr>\n",
       "      <th>17</th>\n",
       "      <td>(TFT8_Gangplank)</td>\n",
       "      <td>(TFT8_Malphite, TFT8_LeeSin)</td>\n",
       "      <td>0.175785</td>\n",
       "      <td>0.158267</td>\n",
       "      <td>0.152796</td>\n",
       "      <td>0.869224</td>\n",
       "      <td>5.492133</td>\n",
       "      <td>0.124975</td>\n",
       "      <td>6.436425</td>\n",
       "    </tr>\n",
       "    <tr>\n",
       "      <th>12</th>\n",
       "      <td>(TFT8_Malphite, TFT8_LeeSin)</td>\n",
       "      <td>(TFT8_Gangplank)</td>\n",
       "      <td>0.158267</td>\n",
       "      <td>0.175785</td>\n",
       "      <td>0.152796</td>\n",
       "      <td>0.965433</td>\n",
       "      <td>5.492133</td>\n",
       "      <td>0.124975</td>\n",
       "      <td>23.843966</td>\n",
       "    </tr>\n",
       "    <tr>\n",
       "      <th>8</th>\n",
       "      <td>(TFT8_Malphite)</td>\n",
       "      <td>(TFT8_Gangplank)</td>\n",
       "      <td>0.169595</td>\n",
       "      <td>0.175785</td>\n",
       "      <td>0.154178</td>\n",
       "      <td>0.909091</td>\n",
       "      <td>5.171616</td>\n",
       "      <td>0.124365</td>\n",
       "      <td>9.066368</td>\n",
       "    </tr>\n",
       "    <tr>\n",
       "      <th>...</th>\n",
       "      <td>...</td>\n",
       "      <td>...</td>\n",
       "      <td>...</td>\n",
       "      <td>...</td>\n",
       "      <td>...</td>\n",
       "      <td>...</td>\n",
       "      <td>...</td>\n",
       "      <td>...</td>\n",
       "      <td>...</td>\n",
       "    </tr>\n",
       "    <tr>\n",
       "      <th>54</th>\n",
       "      <td>(TFT8_Sejuani)</td>\n",
       "      <td>(TFT8_LeeSin)</td>\n",
       "      <td>0.338417</td>\n",
       "      <td>0.282770</td>\n",
       "      <td>0.115164</td>\n",
       "      <td>0.340300</td>\n",
       "      <td>1.203455</td>\n",
       "      <td>0.019469</td>\n",
       "      <td>1.087208</td>\n",
       "    </tr>\n",
       "    <tr>\n",
       "      <th>49</th>\n",
       "      <td>(TFT8_Alistar)</td>\n",
       "      <td>(TFT8_Leblanc)</td>\n",
       "      <td>0.466015</td>\n",
       "      <td>0.211594</td>\n",
       "      <td>0.117816</td>\n",
       "      <td>0.252816</td>\n",
       "      <td>1.194820</td>\n",
       "      <td>0.019210</td>\n",
       "      <td>1.055171</td>\n",
       "    </tr>\n",
       "    <tr>\n",
       "      <th>48</th>\n",
       "      <td>(TFT8_Leblanc)</td>\n",
       "      <td>(TFT8_Alistar)</td>\n",
       "      <td>0.211594</td>\n",
       "      <td>0.466015</td>\n",
       "      <td>0.117816</td>\n",
       "      <td>0.556803</td>\n",
       "      <td>1.194820</td>\n",
       "      <td>0.019210</td>\n",
       "      <td>1.204850</td>\n",
       "    </tr>\n",
       "    <tr>\n",
       "      <th>45</th>\n",
       "      <td>(TFT8_Alistar)</td>\n",
       "      <td>(TFT8_Zoe)</td>\n",
       "      <td>0.466015</td>\n",
       "      <td>0.223198</td>\n",
       "      <td>0.120192</td>\n",
       "      <td>0.257915</td>\n",
       "      <td>1.155542</td>\n",
       "      <td>0.016179</td>\n",
       "      <td>1.046783</td>\n",
       "    </tr>\n",
       "    <tr>\n",
       "      <th>44</th>\n",
       "      <td>(TFT8_Zoe)</td>\n",
       "      <td>(TFT8_Alistar)</td>\n",
       "      <td>0.223198</td>\n",
       "      <td>0.466015</td>\n",
       "      <td>0.120192</td>\n",
       "      <td>0.538500</td>\n",
       "      <td>1.155542</td>\n",
       "      <td>0.016179</td>\n",
       "      <td>1.157064</td>\n",
       "    </tr>\n",
       "  </tbody>\n",
       "</table>\n",
       "<p>110 rows × 9 columns</p>\n",
       "</div>"
      ],
      "text/plain": [
       "                      antecedents                    consequents  \\\n",
       "14  (TFT8_LeeSin, TFT8_Gangplank)                (TFT8_Malphite)   \n",
       "15                (TFT8_Malphite)  (TFT8_LeeSin, TFT8_Gangplank)   \n",
       "17               (TFT8_Gangplank)   (TFT8_Malphite, TFT8_LeeSin)   \n",
       "12   (TFT8_Malphite, TFT8_LeeSin)               (TFT8_Gangplank)   \n",
       "8                 (TFT8_Malphite)               (TFT8_Gangplank)   \n",
       "..                            ...                            ...   \n",
       "54                 (TFT8_Sejuani)                  (TFT8_LeeSin)   \n",
       "49                 (TFT8_Alistar)                 (TFT8_Leblanc)   \n",
       "48                 (TFT8_Leblanc)                 (TFT8_Alistar)   \n",
       "45                 (TFT8_Alistar)                     (TFT8_Zoe)   \n",
       "44                     (TFT8_Zoe)                 (TFT8_Alistar)   \n",
       "\n",
       "    antecedent support  consequent support   support  confidence      lift  \\\n",
       "14            0.153957            0.169595  0.152796    0.992462  5.851938   \n",
       "15            0.169595            0.153957  0.152796    0.900945  5.851938   \n",
       "17            0.175785            0.158267  0.152796    0.869224  5.492133   \n",
       "12            0.158267            0.175785  0.152796    0.965433  5.492133   \n",
       "8             0.169595            0.175785  0.154178    0.909091  5.171616   \n",
       "..                 ...                 ...       ...         ...       ...   \n",
       "54            0.338417            0.282770  0.115164    0.340300  1.203455   \n",
       "49            0.466015            0.211594  0.117816    0.252816  1.194820   \n",
       "48            0.211594            0.466015  0.117816    0.556803  1.194820   \n",
       "45            0.466015            0.223198  0.120192    0.257915  1.155542   \n",
       "44            0.223198            0.466015  0.120192    0.538500  1.155542   \n",
       "\n",
       "    leverage  conviction  \n",
       "14  0.126686  110.166998  \n",
       "15  0.126686    8.541141  \n",
       "17  0.124975    6.436425  \n",
       "12  0.124975   23.843966  \n",
       "8   0.124365    9.066368  \n",
       "..       ...         ...  \n",
       "54  0.019469    1.087208  \n",
       "49  0.019210    1.055171  \n",
       "48  0.019210    1.204850  \n",
       "45  0.016179    1.046783  \n",
       "44  0.016179    1.157064  \n",
       "\n",
       "[110 rows x 9 columns]"
      ]
     },
     "execution_count": 96,
     "metadata": {},
     "output_type": "execute_result"
    }
   ],
   "source": [
    "temp.sort_values('lift',ascending=False)"
   ]
  },
  {
   "attachments": {},
   "cell_type": "markdown",
   "metadata": {},
   "source": [
    "### TƯƠNG TỰ CHAMPION, TA CÓ TRANG BỊ"
   ]
  },
  {
   "cell_type": "code",
   "execution_count": 97,
   "metadata": {},
   "outputs": [],
   "source": [
    "list_items = []\n",
    "for i in range(len(dataset['List Name Item'])):\n",
    "    list_items.append(ast.literal_eval(dataset['List Name Item'][i]))\n",
    "list_items = [elem for twod in list_items for elem in twod]\n",
    "list_items = [elem for elem in list_items if elem != []]\n",
    "\n"
   ]
  },
  {
   "cell_type": "code",
   "execution_count": 98,
   "metadata": {},
   "outputs": [],
   "source": [
    "te = TransactionEncoder()\n",
    "te_ary = te.fit(list_items).transform(list_items)\n",
    "df_itemset = pd.DataFrame(te_ary, columns=te.columns_)\n",
    "# temp = df_itemset.copy()\n"
   ]
  },
  {
   "cell_type": "code",
   "execution_count": 99,
   "metadata": {},
   "outputs": [],
   "source": [
    "frequent_itemsets = fpgrowth(df_itemset, min_support=0.001, use_colnames=True)\n",
    "frequent_itemsets = frequent_itemsets.sort_values('support', ascending=False)\n"
   ]
  },
  {
   "cell_type": "code",
   "execution_count": 100,
   "metadata": {},
   "outputs": [
    {
     "data": {
      "text/html": [
       "<div>\n",
       "<style scoped>\n",
       "    .dataframe tbody tr th:only-of-type {\n",
       "        vertical-align: middle;\n",
       "    }\n",
       "\n",
       "    .dataframe tbody tr th {\n",
       "        vertical-align: top;\n",
       "    }\n",
       "\n",
       "    .dataframe thead th {\n",
       "        text-align: right;\n",
       "    }\n",
       "</style>\n",
       "<table border=\"1\" class=\"dataframe\">\n",
       "  <thead>\n",
       "    <tr style=\"text-align: right;\">\n",
       "      <th></th>\n",
       "      <th>support</th>\n",
       "      <th>itemsets</th>\n",
       "    </tr>\n",
       "  </thead>\n",
       "  <tbody>\n",
       "    <tr>\n",
       "      <th>18</th>\n",
       "      <td>0.123983</td>\n",
       "      <td>(TFT_Item_MadredsBloodrazor)</td>\n",
       "    </tr>\n",
       "    <tr>\n",
       "      <th>14</th>\n",
       "      <td>0.107192</td>\n",
       "      <td>(TFT_Item_JeweledGauntlet)</td>\n",
       "    </tr>\n",
       "    <tr>\n",
       "      <th>36</th>\n",
       "      <td>0.099222</td>\n",
       "      <td>(TFT_Item_RedBuff)</td>\n",
       "    </tr>\n",
       "    <tr>\n",
       "      <th>42</th>\n",
       "      <td>0.081129</td>\n",
       "      <td>(TFT_Item_IonicSpark)</td>\n",
       "    </tr>\n",
       "    <tr>\n",
       "      <th>28</th>\n",
       "      <td>0.079633</td>\n",
       "      <td>(TFT_Item_WarmogsArmor)</td>\n",
       "    </tr>\n",
       "  </tbody>\n",
       "</table>\n",
       "</div>"
      ],
      "text/plain": [
       "     support                      itemsets\n",
       "18  0.123983  (TFT_Item_MadredsBloodrazor)\n",
       "14  0.107192    (TFT_Item_JeweledGauntlet)\n",
       "36  0.099222            (TFT_Item_RedBuff)\n",
       "42  0.081129         (TFT_Item_IonicSpark)\n",
       "28  0.079633       (TFT_Item_WarmogsArmor)"
      ]
     },
     "execution_count": 100,
     "metadata": {},
     "output_type": "execute_result"
    }
   ],
   "source": [
    "frequent_itemsets.head()"
   ]
  },
  {
   "cell_type": "code",
   "execution_count": 101,
   "metadata": {},
   "outputs": [
    {
     "name": "stdout",
     "output_type": "stream",
     "text": [
      "      support                                                                          itemsets\n",
      "190  0.010807   (TFT_Item_SeraphsEmbrace, TFT_Item_MadredsBloodrazor, TFT_Item_JeweledGauntlet)\n",
      "147  0.008344    (TFT_Item_MadredsBloodrazor, TFT_Item_JeweledGauntlet, TFT_Item_SpearOfShojin)\n",
      "232  0.004488        (TFT_Item_Quicksilver, TFT_Item_GuinsoosRageblade, TFT_Item_Bloodthirster)\n",
      "98   0.003430      (TFT_Item_GuinsoosRageblade, TFT_Item_Bloodthirster, TFT_Item_TitansResolve)\n",
      "202  0.003327           (TFT_Item_Bloodthirster, TFT_Item_InfinityEdge, TFT_Item_TitansResolve)\n",
      "165  0.003314     (TFT_Item_SeraphsEmbrace, TFT_Item_JeweledGauntlet, TFT_Item_HextechGunblade)\n",
      "332  0.003185                      (TFT_Item_RedBuff, TFT_Item_IonicSpark, TFT_Item_Redemption)\n",
      "346  0.002992                    (TFT_Item_RedBuff, TFT_Item_IonicSpark, TFT_Item_WarmogsArmor)\n",
      "417  0.002876         (TFT_Item_GuardianAngel, TFT_Item_LastWhisper, TFT_Item_RunaansHurricane)\n",
      "359  0.002721  (TFT_Item_SeraphsEmbrace, TFT_Item_MadredsBloodrazor, TFT_Item_RabadonsDeathcap)\n"
     ]
    }
   ],
   "source": [
    "item_k_3 = frequent_itemsets.loc[frequent_itemsets[\"itemsets\"].apply(\n",
    "    lambda x: len(x) == 3)]\n",
    "print(item_k_3[:10].to_string())\n"
   ]
  },
  {
   "cell_type": "code",
   "execution_count": 102,
   "metadata": {},
   "outputs": [
    {
     "data": {
      "text/html": [
       "<div>\n",
       "<style scoped>\n",
       "    .dataframe tbody tr th:only-of-type {\n",
       "        vertical-align: middle;\n",
       "    }\n",
       "\n",
       "    .dataframe tbody tr th {\n",
       "        vertical-align: top;\n",
       "    }\n",
       "\n",
       "    .dataframe thead th {\n",
       "        text-align: right;\n",
       "    }\n",
       "</style>\n",
       "<table border=\"1\" class=\"dataframe\">\n",
       "  <thead>\n",
       "    <tr style=\"text-align: right;\">\n",
       "      <th></th>\n",
       "      <th>antecedents</th>\n",
       "      <th>consequents</th>\n",
       "      <th>antecedent support</th>\n",
       "      <th>consequent support</th>\n",
       "      <th>support</th>\n",
       "      <th>confidence</th>\n",
       "      <th>lift</th>\n",
       "      <th>leverage</th>\n",
       "      <th>conviction</th>\n",
       "    </tr>\n",
       "  </thead>\n",
       "  <tbody>\n",
       "    <tr>\n",
       "      <th>0</th>\n",
       "      <td>(TFT_Item_MadredsBloodrazor)</td>\n",
       "      <td>(TFT_Item_JeweledGauntlet)</td>\n",
       "      <td>0.123983</td>\n",
       "      <td>0.107192</td>\n",
       "      <td>0.032395</td>\n",
       "      <td>0.261286</td>\n",
       "      <td>2.437545</td>\n",
       "      <td>0.019105</td>\n",
       "      <td>1.208597</td>\n",
       "    </tr>\n",
       "    <tr>\n",
       "      <th>1</th>\n",
       "      <td>(TFT_Item_JeweledGauntlet)</td>\n",
       "      <td>(TFT_Item_MadredsBloodrazor)</td>\n",
       "      <td>0.107192</td>\n",
       "      <td>0.123983</td>\n",
       "      <td>0.032395</td>\n",
       "      <td>0.302214</td>\n",
       "      <td>2.437545</td>\n",
       "      <td>0.019105</td>\n",
       "      <td>1.255423</td>\n",
       "    </tr>\n",
       "    <tr>\n",
       "      <th>2</th>\n",
       "      <td>(TFT_Item_JeweledGauntlet)</td>\n",
       "      <td>(TFT_Item_SpearOfShojin)</td>\n",
       "      <td>0.107192</td>\n",
       "      <td>0.072012</td>\n",
       "      <td>0.027856</td>\n",
       "      <td>0.259865</td>\n",
       "      <td>3.608655</td>\n",
       "      <td>0.020136</td>\n",
       "      <td>1.253810</td>\n",
       "    </tr>\n",
       "    <tr>\n",
       "      <th>3</th>\n",
       "      <td>(TFT_Item_SpearOfShojin)</td>\n",
       "      <td>(TFT_Item_JeweledGauntlet)</td>\n",
       "      <td>0.072012</td>\n",
       "      <td>0.107192</td>\n",
       "      <td>0.027856</td>\n",
       "      <td>0.386819</td>\n",
       "      <td>3.608655</td>\n",
       "      <td>0.020136</td>\n",
       "      <td>1.456028</td>\n",
       "    </tr>\n",
       "    <tr>\n",
       "      <th>4</th>\n",
       "      <td>(TFT_Item_SeraphsEmbrace)</td>\n",
       "      <td>(TFT_Item_JeweledGauntlet)</td>\n",
       "      <td>0.077983</td>\n",
       "      <td>0.107192</td>\n",
       "      <td>0.027791</td>\n",
       "      <td>0.356375</td>\n",
       "      <td>3.324638</td>\n",
       "      <td>0.019432</td>\n",
       "      <td>1.387155</td>\n",
       "    </tr>\n",
       "    <tr>\n",
       "      <th>...</th>\n",
       "      <td>...</td>\n",
       "      <td>...</td>\n",
       "      <td>...</td>\n",
       "      <td>...</td>\n",
       "      <td>...</td>\n",
       "      <td>...</td>\n",
       "      <td>...</td>\n",
       "      <td>...</td>\n",
       "      <td>...</td>\n",
       "    </tr>\n",
       "    <tr>\n",
       "      <th>817</th>\n",
       "      <td>(TFT_Item_MadredsBloodrazor)</td>\n",
       "      <td>(TFT_Item_GuinsoosRageblade, TFT_Item_StatikkS...</td>\n",
       "      <td>0.123983</td>\n",
       "      <td>0.006035</td>\n",
       "      <td>0.001019</td>\n",
       "      <td>0.008217</td>\n",
       "      <td>1.361507</td>\n",
       "      <td>0.000271</td>\n",
       "      <td>1.002200</td>\n",
       "    </tr>\n",
       "    <tr>\n",
       "      <th>818</th>\n",
       "      <td>(TFT_Item_GuinsoosRageblade)</td>\n",
       "      <td>(TFT_Item_MadredsBloodrazor, TFT_Item_StatikkS...</td>\n",
       "      <td>0.073598</td>\n",
       "      <td>0.005868</td>\n",
       "      <td>0.001019</td>\n",
       "      <td>0.013843</td>\n",
       "      <td>2.359122</td>\n",
       "      <td>0.000587</td>\n",
       "      <td>1.008087</td>\n",
       "    </tr>\n",
       "    <tr>\n",
       "      <th>819</th>\n",
       "      <td>(TFT_Item_StatikkShiv)</td>\n",
       "      <td>(TFT_Item_MadredsBloodrazor, TFT_Item_Guinsoos...</td>\n",
       "      <td>0.047922</td>\n",
       "      <td>0.016185</td>\n",
       "      <td>0.001019</td>\n",
       "      <td>0.021259</td>\n",
       "      <td>1.313561</td>\n",
       "      <td>0.000243</td>\n",
       "      <td>1.005185</td>\n",
       "    </tr>\n",
       "    <tr>\n",
       "      <th>820</th>\n",
       "      <td>(TFT_Item_RedBuff)</td>\n",
       "      <td>(TFT4_Item_OrnnAnimaVisage)</td>\n",
       "      <td>0.099222</td>\n",
       "      <td>0.003611</td>\n",
       "      <td>0.001006</td>\n",
       "      <td>0.010138</td>\n",
       "      <td>2.807547</td>\n",
       "      <td>0.000648</td>\n",
       "      <td>1.006594</td>\n",
       "    </tr>\n",
       "    <tr>\n",
       "      <th>821</th>\n",
       "      <td>(TFT4_Item_OrnnAnimaVisage)</td>\n",
       "      <td>(TFT_Item_RedBuff)</td>\n",
       "      <td>0.003611</td>\n",
       "      <td>0.099222</td>\n",
       "      <td>0.001006</td>\n",
       "      <td>0.278571</td>\n",
       "      <td>2.807547</td>\n",
       "      <td>0.000648</td>\n",
       "      <td>1.248603</td>\n",
       "    </tr>\n",
       "  </tbody>\n",
       "</table>\n",
       "<p>822 rows × 9 columns</p>\n",
       "</div>"
      ],
      "text/plain": [
       "                      antecedents  \\\n",
       "0    (TFT_Item_MadredsBloodrazor)   \n",
       "1      (TFT_Item_JeweledGauntlet)   \n",
       "2      (TFT_Item_JeweledGauntlet)   \n",
       "3        (TFT_Item_SpearOfShojin)   \n",
       "4       (TFT_Item_SeraphsEmbrace)   \n",
       "..                            ...   \n",
       "817  (TFT_Item_MadredsBloodrazor)   \n",
       "818  (TFT_Item_GuinsoosRageblade)   \n",
       "819        (TFT_Item_StatikkShiv)   \n",
       "820            (TFT_Item_RedBuff)   \n",
       "821   (TFT4_Item_OrnnAnimaVisage)   \n",
       "\n",
       "                                           consequents  antecedent support  \\\n",
       "0                           (TFT_Item_JeweledGauntlet)            0.123983   \n",
       "1                         (TFT_Item_MadredsBloodrazor)            0.107192   \n",
       "2                             (TFT_Item_SpearOfShojin)            0.107192   \n",
       "3                           (TFT_Item_JeweledGauntlet)            0.072012   \n",
       "4                           (TFT_Item_JeweledGauntlet)            0.077983   \n",
       "..                                                 ...                 ...   \n",
       "817  (TFT_Item_GuinsoosRageblade, TFT_Item_StatikkS...            0.123983   \n",
       "818  (TFT_Item_MadredsBloodrazor, TFT_Item_StatikkS...            0.073598   \n",
       "819  (TFT_Item_MadredsBloodrazor, TFT_Item_Guinsoos...            0.047922   \n",
       "820                        (TFT4_Item_OrnnAnimaVisage)            0.099222   \n",
       "821                                 (TFT_Item_RedBuff)            0.003611   \n",
       "\n",
       "     consequent support   support  confidence      lift  leverage  conviction  \n",
       "0              0.107192  0.032395    0.261286  2.437545  0.019105    1.208597  \n",
       "1              0.123983  0.032395    0.302214  2.437545  0.019105    1.255423  \n",
       "2              0.072012  0.027856    0.259865  3.608655  0.020136    1.253810  \n",
       "3              0.107192  0.027856    0.386819  3.608655  0.020136    1.456028  \n",
       "4              0.107192  0.027791    0.356375  3.324638  0.019432    1.387155  \n",
       "..                  ...       ...         ...       ...       ...         ...  \n",
       "817            0.006035  0.001019    0.008217  1.361507  0.000271    1.002200  \n",
       "818            0.005868  0.001019    0.013843  2.359122  0.000587    1.008087  \n",
       "819            0.016185  0.001019    0.021259  1.313561  0.000243    1.005185  \n",
       "820            0.003611  0.001006    0.010138  2.807547  0.000648    1.006594  \n",
       "821            0.099222  0.001006    0.278571  2.807547  0.000648    1.248603  \n",
       "\n",
       "[822 rows x 9 columns]"
      ]
     },
     "execution_count": 102,
     "metadata": {},
     "output_type": "execute_result"
    }
   ],
   "source": [
    "rules = association_rules(frequent_itemsets, metric=\"lift\", min_threshold=1)\n",
    "rules\n"
   ]
  },
  {
   "attachments": {},
   "cell_type": "markdown",
   "metadata": {},
   "source": [
    "### Vì tựa game này là 1 tựa game khá là phức tạp và có nhiều cơ chế nên ta cần tìm hiểu chúng và 1 trong những điều quan trọng nhất chính là các vị tướng, vậy bạn có bao giờ tự hỏi các vị tướng có vai trò thế nào trong đội hình chưa ? Phần sau đây sẽ cho ta biết rõ thêm về các vị tướng để mọi người có thể dễ dàng nắm bắt hơn."
   ]
  },
  {
   "attachments": {},
   "cell_type": "markdown",
   "metadata": {},
   "source": [
    "Ta sẽ thực hiện gom cụm các vị tướng để có thể biết được các vị tướng thuộc nhóm nào trong game để dễ dàng sắp xếp và lên đồ phù hợp cho chúng."
   ]
  },
  {
   "cell_type": "code",
   "execution_count": 103,
   "metadata": {},
   "outputs": [],
   "source": [
    "import pandas as pd\n",
    "import numpy as np\n",
    "from itertools import chain\n",
    "import ast\n",
    "import matplotlib.pyplot as plt\n",
    "from sklearn.cluster import AgglomerativeClustering\n",
    "import scipy.cluster.hierarchy as sch\n",
    "from sklearn.metrics import silhouette_score"
   ]
  },
  {
   "attachments": {},
   "cell_type": "markdown",
   "metadata": {},
   "source": [
    "Đọc dữ liệu từ file:"
   ]
  },
  {
   "cell_type": "code",
   "execution_count": 104,
   "metadata": {},
   "outputs": [
    {
     "data": {
      "text/html": [
       "<div>\n",
       "<style scoped>\n",
       "    .dataframe tbody tr th:only-of-type {\n",
       "        vertical-align: middle;\n",
       "    }\n",
       "\n",
       "    .dataframe tbody tr th {\n",
       "        vertical-align: top;\n",
       "    }\n",
       "\n",
       "    .dataframe thead th {\n",
       "        text-align: right;\n",
       "    }\n",
       "</style>\n",
       "<table border=\"1\" class=\"dataframe\">\n",
       "  <thead>\n",
       "    <tr style=\"text-align: right;\">\n",
       "      <th></th>\n",
       "      <th>Champion</th>\n",
       "      <th>List Name Item</th>\n",
       "    </tr>\n",
       "  </thead>\n",
       "  <tbody>\n",
       "    <tr>\n",
       "      <th>0</th>\n",
       "      <td>['TFT8_Gangplank', 'TFT8_Vi', 'TFT8_LeeSin', '...</td>\n",
       "      <td>[['TFT_Item_ZekesHerald'], ['TFT_Item_BrambleV...</td>\n",
       "    </tr>\n",
       "    <tr>\n",
       "      <th>1</th>\n",
       "      <td>['TFT8_Lux', 'TFT8_Annie', 'TFT8_Yuumi', 'TFT8...</td>\n",
       "      <td>[['TFT8_Item_HeartEmblemItem'], ['TFT_Item_Bra...</td>\n",
       "    </tr>\n",
       "    <tr>\n",
       "      <th>2</th>\n",
       "      <td>['TFT8_Galio', 'TFT8_Nasus', 'TFT8_Gangplank',...</td>\n",
       "      <td>[['TFT_Item_GargoyleStoneplate'], [], ['TFT_It...</td>\n",
       "    </tr>\n",
       "    <tr>\n",
       "      <th>3</th>\n",
       "      <td>['TFT8_Fiora', 'TFT8_Yasuo', 'TFT8_Vayne', 'TF...</td>\n",
       "      <td>[[], ['TFT8_Item_HackerEmblemItem'], ['TFT_Ite...</td>\n",
       "    </tr>\n",
       "    <tr>\n",
       "      <th>4</th>\n",
       "      <td>['TFT8_Lulu', 'TFT8_Annie', 'TFT8_Yuumi', 'TFT...</td>\n",
       "      <td>[[], ['TFT_Item_WarmogsArmor', 'TFT_Item_Titan...</td>\n",
       "    </tr>\n",
       "    <tr>\n",
       "      <th>...</th>\n",
       "      <td>...</td>\n",
       "      <td>...</td>\n",
       "    </tr>\n",
       "    <tr>\n",
       "      <th>18091</th>\n",
       "      <td>['TFT8_Blitzcrank', 'TFT8_Renekton', 'TFT8_Vi'...</td>\n",
       "      <td>[[], ['TFT_Item_ArchangelsStaff', 'TFT_Item_Je...</td>\n",
       "    </tr>\n",
       "    <tr>\n",
       "      <th>18092</th>\n",
       "      <td>['TFT8_Fiora', 'TFT8_Yasuo', 'TFT8_Vayne', 'TF...</td>\n",
       "      <td>[['TFT_Item_TitanicHydra'], ['TFT_Item_ChainVe...</td>\n",
       "    </tr>\n",
       "    <tr>\n",
       "      <th>18093</th>\n",
       "      <td>['TFT8_WuKong', 'TFT8_Jax', 'TFT8_Zoe', 'TFT8_...</td>\n",
       "      <td>[[], [], ['TFT8_Item_HeartEmblemItem'], ['TFT_...</td>\n",
       "    </tr>\n",
       "    <tr>\n",
       "      <th>18094</th>\n",
       "      <td>['TFT8_Kayle', 'TFT8_Gangplank', 'TFT8_Fiora',...</td>\n",
       "      <td>[[], [], [], [], ['TFT_Item_StatikkShiv', 'TFT...</td>\n",
       "    </tr>\n",
       "    <tr>\n",
       "      <th>18095</th>\n",
       "      <td>['TFT8_Fiora', 'TFT8_Vi', 'TFT8_Alistar', 'TFT...</td>\n",
       "      <td>[['TFT_Item_ZekesHerald'], ['TFT_Item_Zephyr']...</td>\n",
       "    </tr>\n",
       "  </tbody>\n",
       "</table>\n",
       "<p>18096 rows × 2 columns</p>\n",
       "</div>"
      ],
      "text/plain": [
       "                                                Champion  \\\n",
       "0      ['TFT8_Gangplank', 'TFT8_Vi', 'TFT8_LeeSin', '...   \n",
       "1      ['TFT8_Lux', 'TFT8_Annie', 'TFT8_Yuumi', 'TFT8...   \n",
       "2      ['TFT8_Galio', 'TFT8_Nasus', 'TFT8_Gangplank',...   \n",
       "3      ['TFT8_Fiora', 'TFT8_Yasuo', 'TFT8_Vayne', 'TF...   \n",
       "4      ['TFT8_Lulu', 'TFT8_Annie', 'TFT8_Yuumi', 'TFT...   \n",
       "...                                                  ...   \n",
       "18091  ['TFT8_Blitzcrank', 'TFT8_Renekton', 'TFT8_Vi'...   \n",
       "18092  ['TFT8_Fiora', 'TFT8_Yasuo', 'TFT8_Vayne', 'TF...   \n",
       "18093  ['TFT8_WuKong', 'TFT8_Jax', 'TFT8_Zoe', 'TFT8_...   \n",
       "18094  ['TFT8_Kayle', 'TFT8_Gangplank', 'TFT8_Fiora',...   \n",
       "18095  ['TFT8_Fiora', 'TFT8_Vi', 'TFT8_Alistar', 'TFT...   \n",
       "\n",
       "                                          List Name Item  \n",
       "0      [['TFT_Item_ZekesHerald'], ['TFT_Item_BrambleV...  \n",
       "1      [['TFT8_Item_HeartEmblemItem'], ['TFT_Item_Bra...  \n",
       "2      [['TFT_Item_GargoyleStoneplate'], [], ['TFT_It...  \n",
       "3      [[], ['TFT8_Item_HackerEmblemItem'], ['TFT_Ite...  \n",
       "4      [[], ['TFT_Item_WarmogsArmor', 'TFT_Item_Titan...  \n",
       "...                                                  ...  \n",
       "18091  [[], ['TFT_Item_ArchangelsStaff', 'TFT_Item_Je...  \n",
       "18092  [['TFT_Item_TitanicHydra'], ['TFT_Item_ChainVe...  \n",
       "18093  [[], [], ['TFT8_Item_HeartEmblemItem'], ['TFT_...  \n",
       "18094  [[], [], [], [], ['TFT_Item_StatikkShiv', 'TFT...  \n",
       "18095  [['TFT_Item_ZekesHerald'], ['TFT_Item_Zephyr']...  \n",
       "\n",
       "[18096 rows x 2 columns]"
      ]
     },
     "execution_count": 104,
     "metadata": {},
     "output_type": "execute_result"
    }
   ],
   "source": [
    "item_df = pd.read_csv('../Data/process_data_tft_each_item_csv.csv', usecols=[\n",
    "                      'ID Match', 'Champion', 'List Name Item']).drop_duplicates().reset_index(drop=True)\n",
    "item_df = item_df[['Champion', 'List Name Item']]\n",
    "item_df"
   ]
  },
  {
   "attachments": {},
   "cell_type": "markdown",
   "metadata": {},
   "source": [
    "Đổi kiểu dữ liệu từ String sang List"
   ]
  },
  {
   "cell_type": "code",
   "execution_count": 105,
   "metadata": {},
   "outputs": [],
   "source": [
    "def changeStringToList(col_name, df):\n",
    "    for i in range(len(col_name)):\n",
    "        temp = []\n",
    "        for j in range(len(df[col_name[i]])):\n",
    "            temp.append(ast.literal_eval(df[col_name[i]][j]))\n",
    "        df[col_name[i]] = temp"
   ]
  },
  {
   "cell_type": "code",
   "execution_count": 106,
   "metadata": {},
   "outputs": [],
   "source": [
    "col_name_type_list = ['Champion', 'List Name Item']\n",
    "changeStringToList(col_name_type_list, item_df)"
   ]
  },
  {
   "attachments": {},
   "cell_type": "markdown",
   "metadata": {},
   "source": [
    "Tạo dataframe với mỗi tướng sẽ là trang bị gì:"
   ]
  },
  {
   "cell_type": "code",
   "execution_count": 107,
   "metadata": {},
   "outputs": [],
   "source": [
    "list_champion = list(chain.from_iterable(item_df['Champion']))\n",
    "list_item_of_champion = list(chain.from_iterable((item_df['List Name Item'])))\n",
    "\n",
    "champion_df = pd.DataFrame(data=list_champion, columns=['Champion'])\n",
    "item_of_champions_df = pd.DataFrame(data= list_item_of_champion, columns=['First', 'Second', 'Third', '0', '1', '2', '3']).iloc[:,:-4]\n",
    "\n",
    "extracted_col = champion_df['Champion']\n",
    "\n",
    "item_of_champions_df.insert(0, \"Champion\", extracted_col)\n",
    "pos = ['First', 'Second', 'Third']\n",
    "list_champion_unique = sorted(champion_df['Champion'].unique())\n"
   ]
  },
  {
   "attachments": {},
   "cell_type": "markdown",
   "metadata": {},
   "source": [
    "Với mỗi tướng sẽ tạo ra tập các trang bị được sử dụng với tỉ lệ là bao nhiêu:"
   ]
  },
  {
   "cell_type": "code",
   "execution_count": 108,
   "metadata": {},
   "outputs": [],
   "source": [
    "list_item_unique = list(set(i for j in list_item_of_champion for i in j))\n",
    "list_item_unique\n",
    "data_model = pd.DataFrame(columns=list_champion_unique, index=list_item_unique)\n",
    "for champ in list_champion_unique:\n",
    "    first_item = item_of_champions_df[['Champion','First']].value_counts()[champ]\n",
    "    second_item = item_of_champions_df[['Champion','Second']].value_counts()[champ]\n",
    "    third_item = item_of_champions_df[['Champion','Third']].value_counts()[champ]  \n",
    "    freq = first_item.add(second_item.add(third_item, fill_value=0), fill_value=0).sort_values(ascending=False) / first_item.add(second_item.add(third_item, fill_value=0), fill_value=0).sort_values(ascending=False).sum()\n",
    "    data_model[champ] = freq"
   ]
  },
  {
   "attachments": {},
   "cell_type": "markdown",
   "metadata": {},
   "source": [
    "Chuyển đổi giá trị Nan thành 0 (ứng với những trang bị không được lên)"
   ]
  },
  {
   "cell_type": "code",
   "execution_count": 109,
   "metadata": {},
   "outputs": [
    {
     "data": {
      "text/html": [
       "<div>\n",
       "<style scoped>\n",
       "    .dataframe tbody tr th:only-of-type {\n",
       "        vertical-align: middle;\n",
       "    }\n",
       "\n",
       "    .dataframe tbody tr th {\n",
       "        vertical-align: top;\n",
       "    }\n",
       "\n",
       "    .dataframe thead th {\n",
       "        text-align: right;\n",
       "    }\n",
       "</style>\n",
       "<table border=\"1\" class=\"dataframe\">\n",
       "  <thead>\n",
       "    <tr style=\"text-align: right;\">\n",
       "      <th></th>\n",
       "      <th>TFT_Item_RapidFireCannon</th>\n",
       "      <th>TFT5_Item_ShroudOfStillnessRadiant</th>\n",
       "      <th>TFT_Item_Chalice</th>\n",
       "      <th>TFT5_Item_ThiefsGlovesRadiant</th>\n",
       "      <th>TFT_Item_GiantsBelt</th>\n",
       "      <th>TFT5_Item_JeweledGauntletRadiant</th>\n",
       "      <th>TFT8_Item_Sunfire_GenAE</th>\n",
       "      <th>TFT8_Item_HeartEmblemItem</th>\n",
       "      <th>TFT_Item_ThiefsGloves</th>\n",
       "      <th>TFT8_Item_DefenderEmblemItem</th>\n",
       "      <th>...</th>\n",
       "      <th>TFT5_Item_GuinsoosRagebladeRadiant</th>\n",
       "      <th>TFT4_Item_OrnnObsidianCleaver</th>\n",
       "      <th>TFT4_Item_OrnnRocketPropelledFist</th>\n",
       "      <th>TFT5_Item_QuicksilverRadiant</th>\n",
       "      <th>TFT_Item_TearOfTheGoddess</th>\n",
       "      <th>TFT_Item_GargoyleStoneplate</th>\n",
       "      <th>TFT8_Item_AnimaSquadEmblemItem</th>\n",
       "      <th>TFT5_Item_IonicSparkRadiant</th>\n",
       "      <th>TFT_Item_PowerGauntlet</th>\n",
       "      <th>TFT8_Item_StarGuardianEmblemItem</th>\n",
       "    </tr>\n",
       "  </thead>\n",
       "  <tbody>\n",
       "    <tr>\n",
       "      <th>TFT8_Alistar</th>\n",
       "      <td>0.004998</td>\n",
       "      <td>0.000476</td>\n",
       "      <td>0.008329</td>\n",
       "      <td>0.000238</td>\n",
       "      <td>0.026654</td>\n",
       "      <td>0.000238</td>\n",
       "      <td>0.003332</td>\n",
       "      <td>0.008567</td>\n",
       "      <td>0.064493</td>\n",
       "      <td>0.002142</td>\n",
       "      <td>...</td>\n",
       "      <td>0.000000</td>\n",
       "      <td>0.000000</td>\n",
       "      <td>0.004760</td>\n",
       "      <td>0.000000</td>\n",
       "      <td>0.006901</td>\n",
       "      <td>0.054260</td>\n",
       "      <td>0.002856</td>\n",
       "      <td>0.000238</td>\n",
       "      <td>0.003808</td>\n",
       "      <td>0.004998</td>\n",
       "    </tr>\n",
       "    <tr>\n",
       "      <th>TFT8_Annie</th>\n",
       "      <td>0.000943</td>\n",
       "      <td>0.000000</td>\n",
       "      <td>0.002673</td>\n",
       "      <td>0.000000</td>\n",
       "      <td>0.006603</td>\n",
       "      <td>0.000000</td>\n",
       "      <td>0.005188</td>\n",
       "      <td>0.003144</td>\n",
       "      <td>0.013520</td>\n",
       "      <td>0.000943</td>\n",
       "      <td>...</td>\n",
       "      <td>0.000000</td>\n",
       "      <td>0.000000</td>\n",
       "      <td>0.002358</td>\n",
       "      <td>0.000000</td>\n",
       "      <td>0.000157</td>\n",
       "      <td>0.149033</td>\n",
       "      <td>0.000000</td>\n",
       "      <td>0.001258</td>\n",
       "      <td>0.001258</td>\n",
       "      <td>0.003144</td>\n",
       "    </tr>\n",
       "    <tr>\n",
       "      <th>TFT8_Aphelios</th>\n",
       "      <td>0.013351</td>\n",
       "      <td>0.000000</td>\n",
       "      <td>0.004360</td>\n",
       "      <td>0.001090</td>\n",
       "      <td>0.000545</td>\n",
       "      <td>0.000272</td>\n",
       "      <td>0.000000</td>\n",
       "      <td>0.000545</td>\n",
       "      <td>0.028610</td>\n",
       "      <td>0.000000</td>\n",
       "      <td>...</td>\n",
       "      <td>0.000272</td>\n",
       "      <td>0.002725</td>\n",
       "      <td>0.000545</td>\n",
       "      <td>0.000545</td>\n",
       "      <td>0.002997</td>\n",
       "      <td>0.001090</td>\n",
       "      <td>0.001090</td>\n",
       "      <td>0.000000</td>\n",
       "      <td>0.028065</td>\n",
       "      <td>0.000000</td>\n",
       "    </tr>\n",
       "    <tr>\n",
       "      <th>TFT8_Ashe</th>\n",
       "      <td>0.004545</td>\n",
       "      <td>0.000000</td>\n",
       "      <td>0.000909</td>\n",
       "      <td>0.000000</td>\n",
       "      <td>0.000000</td>\n",
       "      <td>0.000000</td>\n",
       "      <td>0.000000</td>\n",
       "      <td>0.000000</td>\n",
       "      <td>0.001818</td>\n",
       "      <td>0.000000</td>\n",
       "      <td>...</td>\n",
       "      <td>0.000000</td>\n",
       "      <td>0.003636</td>\n",
       "      <td>0.000000</td>\n",
       "      <td>0.000000</td>\n",
       "      <td>0.000000</td>\n",
       "      <td>0.000000</td>\n",
       "      <td>0.000000</td>\n",
       "      <td>0.000000</td>\n",
       "      <td>0.010909</td>\n",
       "      <td>0.000000</td>\n",
       "    </tr>\n",
       "    <tr>\n",
       "      <th>TFT8_AurelionSol</th>\n",
       "      <td>0.004950</td>\n",
       "      <td>0.000000</td>\n",
       "      <td>0.013614</td>\n",
       "      <td>0.000000</td>\n",
       "      <td>0.000825</td>\n",
       "      <td>0.000000</td>\n",
       "      <td>0.000000</td>\n",
       "      <td>0.002888</td>\n",
       "      <td>0.014851</td>\n",
       "      <td>0.000413</td>\n",
       "      <td>...</td>\n",
       "      <td>0.000000</td>\n",
       "      <td>0.004125</td>\n",
       "      <td>0.001238</td>\n",
       "      <td>0.000000</td>\n",
       "      <td>0.007013</td>\n",
       "      <td>0.000000</td>\n",
       "      <td>0.002475</td>\n",
       "      <td>0.000000</td>\n",
       "      <td>0.022277</td>\n",
       "      <td>0.002888</td>\n",
       "    </tr>\n",
       "    <tr>\n",
       "      <th>TFT8_BelVeth</th>\n",
       "      <td>0.024900</td>\n",
       "      <td>0.000000</td>\n",
       "      <td>0.001779</td>\n",
       "      <td>0.002223</td>\n",
       "      <td>0.000889</td>\n",
       "      <td>0.000445</td>\n",
       "      <td>0.000000</td>\n",
       "      <td>0.000445</td>\n",
       "      <td>0.028012</td>\n",
       "      <td>0.000000</td>\n",
       "      <td>...</td>\n",
       "      <td>0.000889</td>\n",
       "      <td>0.003557</td>\n",
       "      <td>0.000000</td>\n",
       "      <td>0.000445</td>\n",
       "      <td>0.000889</td>\n",
       "      <td>0.001334</td>\n",
       "      <td>0.000445</td>\n",
       "      <td>0.000445</td>\n",
       "      <td>0.020009</td>\n",
       "      <td>0.000000</td>\n",
       "    </tr>\n",
       "    <tr>\n",
       "      <th>TFT8_Blitzcrank</th>\n",
       "      <td>0.000944</td>\n",
       "      <td>0.000000</td>\n",
       "      <td>0.005666</td>\n",
       "      <td>0.000944</td>\n",
       "      <td>0.020774</td>\n",
       "      <td>0.000000</td>\n",
       "      <td>0.000000</td>\n",
       "      <td>0.009443</td>\n",
       "      <td>0.021719</td>\n",
       "      <td>0.003777</td>\n",
       "      <td>...</td>\n",
       "      <td>0.000000</td>\n",
       "      <td>0.000000</td>\n",
       "      <td>0.002833</td>\n",
       "      <td>0.000000</td>\n",
       "      <td>0.002833</td>\n",
       "      <td>0.090652</td>\n",
       "      <td>0.000000</td>\n",
       "      <td>0.000000</td>\n",
       "      <td>0.002833</td>\n",
       "      <td>0.000944</td>\n",
       "    </tr>\n",
       "    <tr>\n",
       "      <th>TFT8_Camille</th>\n",
       "      <td>0.000568</td>\n",
       "      <td>0.000000</td>\n",
       "      <td>0.001703</td>\n",
       "      <td>0.000000</td>\n",
       "      <td>0.001135</td>\n",
       "      <td>0.000000</td>\n",
       "      <td>0.000000</td>\n",
       "      <td>0.001135</td>\n",
       "      <td>0.010216</td>\n",
       "      <td>0.000000</td>\n",
       "      <td>...</td>\n",
       "      <td>0.000568</td>\n",
       "      <td>0.000000</td>\n",
       "      <td>0.000000</td>\n",
       "      <td>0.001135</td>\n",
       "      <td>0.001703</td>\n",
       "      <td>0.000568</td>\n",
       "      <td>0.000568</td>\n",
       "      <td>0.000568</td>\n",
       "      <td>0.007378</td>\n",
       "      <td>0.000000</td>\n",
       "    </tr>\n",
       "    <tr>\n",
       "      <th>TFT8_Chogath</th>\n",
       "      <td>0.004382</td>\n",
       "      <td>0.000000</td>\n",
       "      <td>0.007790</td>\n",
       "      <td>0.000000</td>\n",
       "      <td>0.014606</td>\n",
       "      <td>0.000000</td>\n",
       "      <td>0.000000</td>\n",
       "      <td>0.002434</td>\n",
       "      <td>0.106134</td>\n",
       "      <td>0.001947</td>\n",
       "      <td>...</td>\n",
       "      <td>0.000000</td>\n",
       "      <td>0.000487</td>\n",
       "      <td>0.002921</td>\n",
       "      <td>0.000000</td>\n",
       "      <td>0.003408</td>\n",
       "      <td>0.055015</td>\n",
       "      <td>0.000974</td>\n",
       "      <td>0.000000</td>\n",
       "      <td>0.006329</td>\n",
       "      <td>0.001461</td>\n",
       "    </tr>\n",
       "    <tr>\n",
       "      <th>TFT8_Draven</th>\n",
       "      <td>0.002703</td>\n",
       "      <td>0.000000</td>\n",
       "      <td>0.000000</td>\n",
       "      <td>0.000000</td>\n",
       "      <td>0.000000</td>\n",
       "      <td>0.000000</td>\n",
       "      <td>0.000000</td>\n",
       "      <td>0.000000</td>\n",
       "      <td>0.000000</td>\n",
       "      <td>0.001351</td>\n",
       "      <td>...</td>\n",
       "      <td>0.000000</td>\n",
       "      <td>0.000000</td>\n",
       "      <td>0.000000</td>\n",
       "      <td>0.001351</td>\n",
       "      <td>0.000000</td>\n",
       "      <td>0.000000</td>\n",
       "      <td>0.000000</td>\n",
       "      <td>0.000000</td>\n",
       "      <td>0.005405</td>\n",
       "      <td>0.000000</td>\n",
       "    </tr>\n",
       "    <tr>\n",
       "      <th>TFT8_Ekko</th>\n",
       "      <td>0.003481</td>\n",
       "      <td>0.000124</td>\n",
       "      <td>0.007336</td>\n",
       "      <td>0.000622</td>\n",
       "      <td>0.012185</td>\n",
       "      <td>0.000000</td>\n",
       "      <td>0.003979</td>\n",
       "      <td>0.005595</td>\n",
       "      <td>0.069874</td>\n",
       "      <td>0.003357</td>\n",
       "      <td>...</td>\n",
       "      <td>0.000000</td>\n",
       "      <td>0.000124</td>\n",
       "      <td>0.002114</td>\n",
       "      <td>0.000000</td>\n",
       "      <td>0.005968</td>\n",
       "      <td>0.085416</td>\n",
       "      <td>0.005844</td>\n",
       "      <td>0.000373</td>\n",
       "      <td>0.005719</td>\n",
       "      <td>0.000000</td>\n",
       "    </tr>\n",
       "    <tr>\n",
       "      <th>TFT8_Ezreal</th>\n",
       "      <td>0.002425</td>\n",
       "      <td>0.000000</td>\n",
       "      <td>0.021019</td>\n",
       "      <td>0.000000</td>\n",
       "      <td>0.000000</td>\n",
       "      <td>0.000000</td>\n",
       "      <td>0.000000</td>\n",
       "      <td>0.006467</td>\n",
       "      <td>0.020210</td>\n",
       "      <td>0.000000</td>\n",
       "      <td>...</td>\n",
       "      <td>0.000000</td>\n",
       "      <td>0.001617</td>\n",
       "      <td>0.000000</td>\n",
       "      <td>0.000000</td>\n",
       "      <td>0.006467</td>\n",
       "      <td>0.002425</td>\n",
       "      <td>0.002425</td>\n",
       "      <td>0.000000</td>\n",
       "      <td>0.016168</td>\n",
       "      <td>0.003234</td>\n",
       "    </tr>\n",
       "    <tr>\n",
       "      <th>TFT8_Fiddlesticks</th>\n",
       "      <td>0.002362</td>\n",
       "      <td>0.000337</td>\n",
       "      <td>0.010462</td>\n",
       "      <td>0.001350</td>\n",
       "      <td>0.005400</td>\n",
       "      <td>0.000337</td>\n",
       "      <td>0.000675</td>\n",
       "      <td>0.002025</td>\n",
       "      <td>0.062437</td>\n",
       "      <td>0.000337</td>\n",
       "      <td>...</td>\n",
       "      <td>0.000000</td>\n",
       "      <td>0.001350</td>\n",
       "      <td>0.001687</td>\n",
       "      <td>0.000000</td>\n",
       "      <td>0.002700</td>\n",
       "      <td>0.015862</td>\n",
       "      <td>0.005062</td>\n",
       "      <td>0.000337</td>\n",
       "      <td>0.025650</td>\n",
       "      <td>0.000675</td>\n",
       "    </tr>\n",
       "    <tr>\n",
       "      <th>TFT8_Fiora</th>\n",
       "      <td>0.006659</td>\n",
       "      <td>0.000000</td>\n",
       "      <td>0.011099</td>\n",
       "      <td>0.000000</td>\n",
       "      <td>0.013319</td>\n",
       "      <td>0.000000</td>\n",
       "      <td>0.001110</td>\n",
       "      <td>0.001110</td>\n",
       "      <td>0.069922</td>\n",
       "      <td>0.000000</td>\n",
       "      <td>...</td>\n",
       "      <td>0.000000</td>\n",
       "      <td>0.000000</td>\n",
       "      <td>0.002220</td>\n",
       "      <td>0.000000</td>\n",
       "      <td>0.006659</td>\n",
       "      <td>0.028857</td>\n",
       "      <td>0.001110</td>\n",
       "      <td>0.000000</td>\n",
       "      <td>0.005549</td>\n",
       "      <td>0.001110</td>\n",
       "    </tr>\n",
       "    <tr>\n",
       "      <th>TFT8_Galio</th>\n",
       "      <td>0.002219</td>\n",
       "      <td>0.000000</td>\n",
       "      <td>0.003171</td>\n",
       "      <td>0.000000</td>\n",
       "      <td>0.007609</td>\n",
       "      <td>0.000000</td>\n",
       "      <td>0.000000</td>\n",
       "      <td>0.006024</td>\n",
       "      <td>0.030120</td>\n",
       "      <td>0.000317</td>\n",
       "      <td>...</td>\n",
       "      <td>0.000000</td>\n",
       "      <td>0.000000</td>\n",
       "      <td>0.001902</td>\n",
       "      <td>0.000000</td>\n",
       "      <td>0.002536</td>\n",
       "      <td>0.069436</td>\n",
       "      <td>0.000634</td>\n",
       "      <td>0.000951</td>\n",
       "      <td>0.004756</td>\n",
       "      <td>0.000317</td>\n",
       "    </tr>\n",
       "    <tr>\n",
       "      <th>TFT8_Gangplank</th>\n",
       "      <td>0.018572</td>\n",
       "      <td>0.000413</td>\n",
       "      <td>0.043335</td>\n",
       "      <td>0.000825</td>\n",
       "      <td>0.005365</td>\n",
       "      <td>0.000000</td>\n",
       "      <td>0.000413</td>\n",
       "      <td>0.030953</td>\n",
       "      <td>0.077590</td>\n",
       "      <td>0.000000</td>\n",
       "      <td>...</td>\n",
       "      <td>0.000000</td>\n",
       "      <td>0.000413</td>\n",
       "      <td>0.000825</td>\n",
       "      <td>0.000413</td>\n",
       "      <td>0.005778</td>\n",
       "      <td>0.005365</td>\n",
       "      <td>0.001651</td>\n",
       "      <td>0.000413</td>\n",
       "      <td>0.012794</td>\n",
       "      <td>0.001238</td>\n",
       "    </tr>\n",
       "    <tr>\n",
       "      <th>TFT8_Janna</th>\n",
       "      <td>0.009655</td>\n",
       "      <td>0.000690</td>\n",
       "      <td>0.085517</td>\n",
       "      <td>0.000000</td>\n",
       "      <td>0.006897</td>\n",
       "      <td>0.000000</td>\n",
       "      <td>0.000690</td>\n",
       "      <td>0.020000</td>\n",
       "      <td>0.032414</td>\n",
       "      <td>0.000000</td>\n",
       "      <td>...</td>\n",
       "      <td>0.000000</td>\n",
       "      <td>0.001379</td>\n",
       "      <td>0.000690</td>\n",
       "      <td>0.000000</td>\n",
       "      <td>0.035172</td>\n",
       "      <td>0.002759</td>\n",
       "      <td>0.006897</td>\n",
       "      <td>0.000000</td>\n",
       "      <td>0.002069</td>\n",
       "      <td>0.028966</td>\n",
       "    </tr>\n",
       "    <tr>\n",
       "      <th>TFT8_Jax</th>\n",
       "      <td>0.069470</td>\n",
       "      <td>0.000000</td>\n",
       "      <td>0.001642</td>\n",
       "      <td>0.000000</td>\n",
       "      <td>0.000657</td>\n",
       "      <td>0.000657</td>\n",
       "      <td>0.000000</td>\n",
       "      <td>0.000000</td>\n",
       "      <td>0.006241</td>\n",
       "      <td>0.000328</td>\n",
       "      <td>...</td>\n",
       "      <td>0.000493</td>\n",
       "      <td>0.000657</td>\n",
       "      <td>0.000000</td>\n",
       "      <td>0.001478</td>\n",
       "      <td>0.000000</td>\n",
       "      <td>0.001478</td>\n",
       "      <td>0.000657</td>\n",
       "      <td>0.000000</td>\n",
       "      <td>0.008212</td>\n",
       "      <td>0.000000</td>\n",
       "    </tr>\n",
       "    <tr>\n",
       "      <th>TFT8_Jinx</th>\n",
       "      <td>0.009404</td>\n",
       "      <td>0.000000</td>\n",
       "      <td>0.053292</td>\n",
       "      <td>0.000000</td>\n",
       "      <td>0.003135</td>\n",
       "      <td>0.000000</td>\n",
       "      <td>0.000000</td>\n",
       "      <td>0.000000</td>\n",
       "      <td>0.012539</td>\n",
       "      <td>0.000000</td>\n",
       "      <td>...</td>\n",
       "      <td>0.003135</td>\n",
       "      <td>0.000000</td>\n",
       "      <td>0.003135</td>\n",
       "      <td>0.000000</td>\n",
       "      <td>0.015674</td>\n",
       "      <td>0.000000</td>\n",
       "      <td>0.000000</td>\n",
       "      <td>0.000000</td>\n",
       "      <td>0.003135</td>\n",
       "      <td>0.006270</td>\n",
       "    </tr>\n",
       "    <tr>\n",
       "      <th>TFT8_Kaisa</th>\n",
       "      <td>0.005877</td>\n",
       "      <td>0.000000</td>\n",
       "      <td>0.004521</td>\n",
       "      <td>0.000226</td>\n",
       "      <td>0.000000</td>\n",
       "      <td>0.000452</td>\n",
       "      <td>0.000000</td>\n",
       "      <td>0.002486</td>\n",
       "      <td>0.009720</td>\n",
       "      <td>0.000000</td>\n",
       "      <td>...</td>\n",
       "      <td>0.001130</td>\n",
       "      <td>0.002034</td>\n",
       "      <td>0.000000</td>\n",
       "      <td>0.000226</td>\n",
       "      <td>0.001582</td>\n",
       "      <td>0.000452</td>\n",
       "      <td>0.006555</td>\n",
       "      <td>0.000000</td>\n",
       "      <td>0.016275</td>\n",
       "      <td>0.000000</td>\n",
       "    </tr>\n",
       "    <tr>\n",
       "      <th>TFT8_Kayle</th>\n",
       "      <td>0.005517</td>\n",
       "      <td>0.000000</td>\n",
       "      <td>0.011034</td>\n",
       "      <td>0.000000</td>\n",
       "      <td>0.000000</td>\n",
       "      <td>0.000000</td>\n",
       "      <td>0.000000</td>\n",
       "      <td>0.000000</td>\n",
       "      <td>0.006897</td>\n",
       "      <td>0.000000</td>\n",
       "      <td>...</td>\n",
       "      <td>0.000000</td>\n",
       "      <td>0.002759</td>\n",
       "      <td>0.000000</td>\n",
       "      <td>0.000000</td>\n",
       "      <td>0.002759</td>\n",
       "      <td>0.000000</td>\n",
       "      <td>0.000000</td>\n",
       "      <td>0.000000</td>\n",
       "      <td>0.009655</td>\n",
       "      <td>0.000000</td>\n",
       "    </tr>\n",
       "    <tr>\n",
       "      <th>TFT8_Leblanc</th>\n",
       "      <td>0.008631</td>\n",
       "      <td>0.000000</td>\n",
       "      <td>0.016369</td>\n",
       "      <td>0.000595</td>\n",
       "      <td>0.001786</td>\n",
       "      <td>0.000298</td>\n",
       "      <td>0.001190</td>\n",
       "      <td>0.027381</td>\n",
       "      <td>0.048512</td>\n",
       "      <td>0.000000</td>\n",
       "      <td>...</td>\n",
       "      <td>0.000298</td>\n",
       "      <td>0.000000</td>\n",
       "      <td>0.000298</td>\n",
       "      <td>0.000298</td>\n",
       "      <td>0.004762</td>\n",
       "      <td>0.003571</td>\n",
       "      <td>0.000298</td>\n",
       "      <td>0.000298</td>\n",
       "      <td>0.017262</td>\n",
       "      <td>0.003869</td>\n",
       "    </tr>\n",
       "    <tr>\n",
       "      <th>TFT8_LeeSin</th>\n",
       "      <td>0.003572</td>\n",
       "      <td>0.000000</td>\n",
       "      <td>0.024114</td>\n",
       "      <td>0.000595</td>\n",
       "      <td>0.015779</td>\n",
       "      <td>0.000000</td>\n",
       "      <td>0.000000</td>\n",
       "      <td>0.000000</td>\n",
       "      <td>0.064900</td>\n",
       "      <td>0.002977</td>\n",
       "      <td>...</td>\n",
       "      <td>0.000000</td>\n",
       "      <td>0.000298</td>\n",
       "      <td>0.004466</td>\n",
       "      <td>0.000000</td>\n",
       "      <td>0.008931</td>\n",
       "      <td>0.027985</td>\n",
       "      <td>0.001489</td>\n",
       "      <td>0.000298</td>\n",
       "      <td>0.002977</td>\n",
       "      <td>0.001489</td>\n",
       "    </tr>\n",
       "    <tr>\n",
       "      <th>TFT8_Leona</th>\n",
       "      <td>0.010487</td>\n",
       "      <td>0.000000</td>\n",
       "      <td>0.006742</td>\n",
       "      <td>0.001748</td>\n",
       "      <td>0.005493</td>\n",
       "      <td>0.000250</td>\n",
       "      <td>0.000499</td>\n",
       "      <td>0.002247</td>\n",
       "      <td>0.045194</td>\n",
       "      <td>0.002497</td>\n",
       "      <td>...</td>\n",
       "      <td>0.000250</td>\n",
       "      <td>0.000250</td>\n",
       "      <td>0.000749</td>\n",
       "      <td>0.000000</td>\n",
       "      <td>0.006492</td>\n",
       "      <td>0.042447</td>\n",
       "      <td>0.003246</td>\n",
       "      <td>0.000250</td>\n",
       "      <td>0.009488</td>\n",
       "      <td>0.001498</td>\n",
       "    </tr>\n",
       "    <tr>\n",
       "      <th>TFT8_Lulu</th>\n",
       "      <td>0.000000</td>\n",
       "      <td>0.000000</td>\n",
       "      <td>0.019231</td>\n",
       "      <td>0.000000</td>\n",
       "      <td>0.000000</td>\n",
       "      <td>0.000000</td>\n",
       "      <td>0.000000</td>\n",
       "      <td>0.000000</td>\n",
       "      <td>0.012019</td>\n",
       "      <td>0.000000</td>\n",
       "      <td>...</td>\n",
       "      <td>0.000000</td>\n",
       "      <td>0.000000</td>\n",
       "      <td>0.000000</td>\n",
       "      <td>0.000000</td>\n",
       "      <td>0.007212</td>\n",
       "      <td>0.002404</td>\n",
       "      <td>0.000000</td>\n",
       "      <td>0.000000</td>\n",
       "      <td>0.004808</td>\n",
       "      <td>0.002404</td>\n",
       "    </tr>\n",
       "    <tr>\n",
       "      <th>TFT8_Lux</th>\n",
       "      <td>0.009740</td>\n",
       "      <td>0.000000</td>\n",
       "      <td>0.159091</td>\n",
       "      <td>0.000000</td>\n",
       "      <td>0.000000</td>\n",
       "      <td>0.000000</td>\n",
       "      <td>0.000000</td>\n",
       "      <td>0.071429</td>\n",
       "      <td>0.016234</td>\n",
       "      <td>0.000000</td>\n",
       "      <td>...</td>\n",
       "      <td>0.000000</td>\n",
       "      <td>0.000000</td>\n",
       "      <td>0.003247</td>\n",
       "      <td>0.000000</td>\n",
       "      <td>0.006494</td>\n",
       "      <td>0.000000</td>\n",
       "      <td>0.000000</td>\n",
       "      <td>0.000000</td>\n",
       "      <td>0.000000</td>\n",
       "      <td>0.000000</td>\n",
       "    </tr>\n",
       "    <tr>\n",
       "      <th>TFT8_Malphite</th>\n",
       "      <td>0.003000</td>\n",
       "      <td>0.000000</td>\n",
       "      <td>0.004500</td>\n",
       "      <td>0.000300</td>\n",
       "      <td>0.013501</td>\n",
       "      <td>0.000000</td>\n",
       "      <td>0.000000</td>\n",
       "      <td>0.009301</td>\n",
       "      <td>0.063306</td>\n",
       "      <td>0.000600</td>\n",
       "      <td>...</td>\n",
       "      <td>0.000000</td>\n",
       "      <td>0.000600</td>\n",
       "      <td>0.001200</td>\n",
       "      <td>0.000000</td>\n",
       "      <td>0.004800</td>\n",
       "      <td>0.082208</td>\n",
       "      <td>0.000900</td>\n",
       "      <td>0.000000</td>\n",
       "      <td>0.004500</td>\n",
       "      <td>0.000300</td>\n",
       "    </tr>\n",
       "    <tr>\n",
       "      <th>TFT8_MissFortune</th>\n",
       "      <td>0.003943</td>\n",
       "      <td>0.000000</td>\n",
       "      <td>0.007492</td>\n",
       "      <td>0.000394</td>\n",
       "      <td>0.000000</td>\n",
       "      <td>0.000789</td>\n",
       "      <td>0.000000</td>\n",
       "      <td>0.000000</td>\n",
       "      <td>0.016167</td>\n",
       "      <td>0.000000</td>\n",
       "      <td>...</td>\n",
       "      <td>0.000394</td>\n",
       "      <td>0.000789</td>\n",
       "      <td>0.000000</td>\n",
       "      <td>0.000000</td>\n",
       "      <td>0.005521</td>\n",
       "      <td>0.001183</td>\n",
       "      <td>0.000000</td>\n",
       "      <td>0.000000</td>\n",
       "      <td>0.031546</td>\n",
       "      <td>0.003155</td>\n",
       "    </tr>\n",
       "    <tr>\n",
       "      <th>TFT8_Mordekaiser</th>\n",
       "      <td>0.012125</td>\n",
       "      <td>0.000000</td>\n",
       "      <td>0.004619</td>\n",
       "      <td>0.000000</td>\n",
       "      <td>0.004042</td>\n",
       "      <td>0.000000</td>\n",
       "      <td>0.000000</td>\n",
       "      <td>0.001155</td>\n",
       "      <td>0.056005</td>\n",
       "      <td>0.000577</td>\n",
       "      <td>...</td>\n",
       "      <td>0.000000</td>\n",
       "      <td>0.000577</td>\n",
       "      <td>0.000000</td>\n",
       "      <td>0.000000</td>\n",
       "      <td>0.002887</td>\n",
       "      <td>0.019053</td>\n",
       "      <td>0.003464</td>\n",
       "      <td>0.000577</td>\n",
       "      <td>0.020208</td>\n",
       "      <td>0.004619</td>\n",
       "    </tr>\n",
       "    <tr>\n",
       "      <th>TFT8_Nasus</th>\n",
       "      <td>0.030928</td>\n",
       "      <td>0.000000</td>\n",
       "      <td>0.009164</td>\n",
       "      <td>0.000000</td>\n",
       "      <td>0.007446</td>\n",
       "      <td>0.000000</td>\n",
       "      <td>0.000000</td>\n",
       "      <td>0.021764</td>\n",
       "      <td>0.076747</td>\n",
       "      <td>0.001145</td>\n",
       "      <td>...</td>\n",
       "      <td>0.000000</td>\n",
       "      <td>0.000573</td>\n",
       "      <td>0.002864</td>\n",
       "      <td>0.000000</td>\n",
       "      <td>0.004582</td>\n",
       "      <td>0.020619</td>\n",
       "      <td>0.000000</td>\n",
       "      <td>0.000573</td>\n",
       "      <td>0.012027</td>\n",
       "      <td>0.001145</td>\n",
       "    </tr>\n",
       "    <tr>\n",
       "      <th>TFT8_Nilah</th>\n",
       "      <td>0.002092</td>\n",
       "      <td>0.000000</td>\n",
       "      <td>0.009761</td>\n",
       "      <td>0.000232</td>\n",
       "      <td>0.008831</td>\n",
       "      <td>0.000000</td>\n",
       "      <td>0.000232</td>\n",
       "      <td>0.001627</td>\n",
       "      <td>0.051824</td>\n",
       "      <td>0.001162</td>\n",
       "      <td>...</td>\n",
       "      <td>0.000000</td>\n",
       "      <td>0.000232</td>\n",
       "      <td>0.002092</td>\n",
       "      <td>0.000000</td>\n",
       "      <td>0.006042</td>\n",
       "      <td>0.072043</td>\n",
       "      <td>0.005113</td>\n",
       "      <td>0.000232</td>\n",
       "      <td>0.007204</td>\n",
       "      <td>0.000000</td>\n",
       "    </tr>\n",
       "    <tr>\n",
       "      <th>TFT8_Nunu</th>\n",
       "      <td>0.007303</td>\n",
       "      <td>0.000261</td>\n",
       "      <td>0.007564</td>\n",
       "      <td>0.001826</td>\n",
       "      <td>0.004173</td>\n",
       "      <td>0.000261</td>\n",
       "      <td>0.008086</td>\n",
       "      <td>0.007042</td>\n",
       "      <td>0.050078</td>\n",
       "      <td>0.000522</td>\n",
       "      <td>...</td>\n",
       "      <td>0.000000</td>\n",
       "      <td>0.001565</td>\n",
       "      <td>0.000261</td>\n",
       "      <td>0.000000</td>\n",
       "      <td>0.000782</td>\n",
       "      <td>0.018258</td>\n",
       "      <td>0.004173</td>\n",
       "      <td>0.000000</td>\n",
       "      <td>0.016432</td>\n",
       "      <td>0.005738</td>\n",
       "    </tr>\n",
       "    <tr>\n",
       "      <th>TFT8_Poppy</th>\n",
       "      <td>0.006452</td>\n",
       "      <td>0.000000</td>\n",
       "      <td>0.000000</td>\n",
       "      <td>0.000000</td>\n",
       "      <td>0.006452</td>\n",
       "      <td>0.000000</td>\n",
       "      <td>0.012903</td>\n",
       "      <td>0.006452</td>\n",
       "      <td>0.045161</td>\n",
       "      <td>0.000000</td>\n",
       "      <td>...</td>\n",
       "      <td>0.000000</td>\n",
       "      <td>0.000000</td>\n",
       "      <td>0.000000</td>\n",
       "      <td>0.000000</td>\n",
       "      <td>0.006452</td>\n",
       "      <td>0.083871</td>\n",
       "      <td>0.006452</td>\n",
       "      <td>0.000000</td>\n",
       "      <td>0.006452</td>\n",
       "      <td>0.012903</td>\n",
       "    </tr>\n",
       "    <tr>\n",
       "      <th>TFT8_Rammus</th>\n",
       "      <td>0.002234</td>\n",
       "      <td>0.000319</td>\n",
       "      <td>0.002234</td>\n",
       "      <td>0.000319</td>\n",
       "      <td>0.009572</td>\n",
       "      <td>0.000000</td>\n",
       "      <td>0.000000</td>\n",
       "      <td>0.000319</td>\n",
       "      <td>0.037013</td>\n",
       "      <td>0.003510</td>\n",
       "      <td>...</td>\n",
       "      <td>0.000000</td>\n",
       "      <td>0.000000</td>\n",
       "      <td>0.001914</td>\n",
       "      <td>0.000000</td>\n",
       "      <td>0.003510</td>\n",
       "      <td>0.100830</td>\n",
       "      <td>0.000957</td>\n",
       "      <td>0.000000</td>\n",
       "      <td>0.003191</td>\n",
       "      <td>0.000319</td>\n",
       "    </tr>\n",
       "    <tr>\n",
       "      <th>TFT8_Rell</th>\n",
       "      <td>0.001715</td>\n",
       "      <td>0.000000</td>\n",
       "      <td>0.006861</td>\n",
       "      <td>0.000000</td>\n",
       "      <td>0.018868</td>\n",
       "      <td>0.000000</td>\n",
       "      <td>0.001715</td>\n",
       "      <td>0.005146</td>\n",
       "      <td>0.056604</td>\n",
       "      <td>0.000000</td>\n",
       "      <td>...</td>\n",
       "      <td>0.000000</td>\n",
       "      <td>0.000000</td>\n",
       "      <td>0.000000</td>\n",
       "      <td>0.000000</td>\n",
       "      <td>0.005146</td>\n",
       "      <td>0.087479</td>\n",
       "      <td>0.003431</td>\n",
       "      <td>0.000000</td>\n",
       "      <td>0.005146</td>\n",
       "      <td>0.000000</td>\n",
       "    </tr>\n",
       "    <tr>\n",
       "      <th>TFT8_Renekton</th>\n",
       "      <td>0.004815</td>\n",
       "      <td>0.000000</td>\n",
       "      <td>0.004013</td>\n",
       "      <td>0.000000</td>\n",
       "      <td>0.011236</td>\n",
       "      <td>0.000000</td>\n",
       "      <td>0.000000</td>\n",
       "      <td>0.001605</td>\n",
       "      <td>0.036116</td>\n",
       "      <td>0.003210</td>\n",
       "      <td>...</td>\n",
       "      <td>0.000000</td>\n",
       "      <td>0.000803</td>\n",
       "      <td>0.002408</td>\n",
       "      <td>0.000000</td>\n",
       "      <td>0.002408</td>\n",
       "      <td>0.065008</td>\n",
       "      <td>0.000000</td>\n",
       "      <td>0.000000</td>\n",
       "      <td>0.007223</td>\n",
       "      <td>0.000000</td>\n",
       "    </tr>\n",
       "    <tr>\n",
       "      <th>TFT8_Riven</th>\n",
       "      <td>0.003888</td>\n",
       "      <td>0.000000</td>\n",
       "      <td>0.011868</td>\n",
       "      <td>0.000205</td>\n",
       "      <td>0.009003</td>\n",
       "      <td>0.000000</td>\n",
       "      <td>0.000000</td>\n",
       "      <td>0.003274</td>\n",
       "      <td>0.056886</td>\n",
       "      <td>0.000000</td>\n",
       "      <td>...</td>\n",
       "      <td>0.000000</td>\n",
       "      <td>0.000000</td>\n",
       "      <td>0.001637</td>\n",
       "      <td>0.000000</td>\n",
       "      <td>0.000614</td>\n",
       "      <td>0.046245</td>\n",
       "      <td>0.000000</td>\n",
       "      <td>0.000205</td>\n",
       "      <td>0.004706</td>\n",
       "      <td>0.002455</td>\n",
       "    </tr>\n",
       "    <tr>\n",
       "      <th>TFT8_Samira</th>\n",
       "      <td>0.004218</td>\n",
       "      <td>0.000169</td>\n",
       "      <td>0.001350</td>\n",
       "      <td>0.000169</td>\n",
       "      <td>0.000337</td>\n",
       "      <td>0.000000</td>\n",
       "      <td>0.000000</td>\n",
       "      <td>0.000000</td>\n",
       "      <td>0.007086</td>\n",
       "      <td>0.000000</td>\n",
       "      <td>...</td>\n",
       "      <td>0.001181</td>\n",
       "      <td>0.004387</td>\n",
       "      <td>0.000000</td>\n",
       "      <td>0.000169</td>\n",
       "      <td>0.000337</td>\n",
       "      <td>0.000506</td>\n",
       "      <td>0.000506</td>\n",
       "      <td>0.000000</td>\n",
       "      <td>0.022271</td>\n",
       "      <td>0.000000</td>\n",
       "    </tr>\n",
       "    <tr>\n",
       "      <th>TFT8_Sejuani</th>\n",
       "      <td>0.003135</td>\n",
       "      <td>0.000000</td>\n",
       "      <td>0.005297</td>\n",
       "      <td>0.000000</td>\n",
       "      <td>0.013081</td>\n",
       "      <td>0.000000</td>\n",
       "      <td>0.000000</td>\n",
       "      <td>0.000973</td>\n",
       "      <td>0.032757</td>\n",
       "      <td>0.003351</td>\n",
       "      <td>...</td>\n",
       "      <td>0.000000</td>\n",
       "      <td>0.000973</td>\n",
       "      <td>0.002486</td>\n",
       "      <td>0.000000</td>\n",
       "      <td>0.010703</td>\n",
       "      <td>0.065730</td>\n",
       "      <td>0.001946</td>\n",
       "      <td>0.000216</td>\n",
       "      <td>0.002270</td>\n",
       "      <td>0.000649</td>\n",
       "    </tr>\n",
       "    <tr>\n",
       "      <th>TFT8_Senna</th>\n",
       "      <td>0.004473</td>\n",
       "      <td>0.000000</td>\n",
       "      <td>0.007029</td>\n",
       "      <td>0.000000</td>\n",
       "      <td>0.000639</td>\n",
       "      <td>0.000000</td>\n",
       "      <td>0.000000</td>\n",
       "      <td>0.000000</td>\n",
       "      <td>0.021725</td>\n",
       "      <td>0.000639</td>\n",
       "      <td>...</td>\n",
       "      <td>0.000639</td>\n",
       "      <td>0.003834</td>\n",
       "      <td>0.000639</td>\n",
       "      <td>0.000000</td>\n",
       "      <td>0.001278</td>\n",
       "      <td>0.000639</td>\n",
       "      <td>0.000639</td>\n",
       "      <td>0.000000</td>\n",
       "      <td>0.016613</td>\n",
       "      <td>0.000000</td>\n",
       "    </tr>\n",
       "    <tr>\n",
       "      <th>TFT8_Sett</th>\n",
       "      <td>0.001299</td>\n",
       "      <td>0.000000</td>\n",
       "      <td>0.003247</td>\n",
       "      <td>0.000000</td>\n",
       "      <td>0.003896</td>\n",
       "      <td>0.000000</td>\n",
       "      <td>0.000000</td>\n",
       "      <td>0.000000</td>\n",
       "      <td>0.016234</td>\n",
       "      <td>0.000000</td>\n",
       "      <td>...</td>\n",
       "      <td>0.000000</td>\n",
       "      <td>0.000000</td>\n",
       "      <td>0.000649</td>\n",
       "      <td>0.000000</td>\n",
       "      <td>0.003247</td>\n",
       "      <td>0.112338</td>\n",
       "      <td>0.003247</td>\n",
       "      <td>0.000000</td>\n",
       "      <td>0.001948</td>\n",
       "      <td>0.000649</td>\n",
       "    </tr>\n",
       "    <tr>\n",
       "      <th>TFT8_Sivir</th>\n",
       "      <td>0.005675</td>\n",
       "      <td>0.000000</td>\n",
       "      <td>0.017026</td>\n",
       "      <td>0.000000</td>\n",
       "      <td>0.001135</td>\n",
       "      <td>0.000000</td>\n",
       "      <td>0.000000</td>\n",
       "      <td>0.007946</td>\n",
       "      <td>0.029512</td>\n",
       "      <td>0.000000</td>\n",
       "      <td>...</td>\n",
       "      <td>0.001135</td>\n",
       "      <td>0.001135</td>\n",
       "      <td>0.003405</td>\n",
       "      <td>0.000000</td>\n",
       "      <td>0.005675</td>\n",
       "      <td>0.004540</td>\n",
       "      <td>0.001135</td>\n",
       "      <td>0.000000</td>\n",
       "      <td>0.004540</td>\n",
       "      <td>0.001135</td>\n",
       "    </tr>\n",
       "    <tr>\n",
       "      <th>TFT8_Sona</th>\n",
       "      <td>0.004522</td>\n",
       "      <td>0.000000</td>\n",
       "      <td>0.049043</td>\n",
       "      <td>0.000348</td>\n",
       "      <td>0.002435</td>\n",
       "      <td>0.000348</td>\n",
       "      <td>0.000000</td>\n",
       "      <td>0.000000</td>\n",
       "      <td>0.044870</td>\n",
       "      <td>0.000000</td>\n",
       "      <td>...</td>\n",
       "      <td>0.000000</td>\n",
       "      <td>0.001391</td>\n",
       "      <td>0.000696</td>\n",
       "      <td>0.000000</td>\n",
       "      <td>0.010783</td>\n",
       "      <td>0.002783</td>\n",
       "      <td>0.000348</td>\n",
       "      <td>0.000000</td>\n",
       "      <td>0.021217</td>\n",
       "      <td>0.020522</td>\n",
       "    </tr>\n",
       "    <tr>\n",
       "      <th>TFT8_Soraka</th>\n",
       "      <td>0.005979</td>\n",
       "      <td>0.000000</td>\n",
       "      <td>0.008400</td>\n",
       "      <td>0.000000</td>\n",
       "      <td>0.000569</td>\n",
       "      <td>0.000142</td>\n",
       "      <td>0.000142</td>\n",
       "      <td>0.000000</td>\n",
       "      <td>0.015091</td>\n",
       "      <td>0.000142</td>\n",
       "      <td>...</td>\n",
       "      <td>0.000000</td>\n",
       "      <td>0.000854</td>\n",
       "      <td>0.000000</td>\n",
       "      <td>0.000142</td>\n",
       "      <td>0.005695</td>\n",
       "      <td>0.000997</td>\n",
       "      <td>0.000285</td>\n",
       "      <td>0.000000</td>\n",
       "      <td>0.027050</td>\n",
       "      <td>0.002847</td>\n",
       "    </tr>\n",
       "    <tr>\n",
       "      <th>TFT8_Sylas</th>\n",
       "      <td>0.000000</td>\n",
       "      <td>0.000000</td>\n",
       "      <td>0.004184</td>\n",
       "      <td>0.000000</td>\n",
       "      <td>0.020921</td>\n",
       "      <td>0.000000</td>\n",
       "      <td>0.000000</td>\n",
       "      <td>0.000000</td>\n",
       "      <td>0.037657</td>\n",
       "      <td>0.008368</td>\n",
       "      <td>...</td>\n",
       "      <td>0.000000</td>\n",
       "      <td>0.000000</td>\n",
       "      <td>0.004184</td>\n",
       "      <td>0.000000</td>\n",
       "      <td>0.000000</td>\n",
       "      <td>0.037657</td>\n",
       "      <td>0.000000</td>\n",
       "      <td>0.000000</td>\n",
       "      <td>0.004184</td>\n",
       "      <td>0.000000</td>\n",
       "    </tr>\n",
       "    <tr>\n",
       "      <th>TFT8_Syndra</th>\n",
       "      <td>0.020822</td>\n",
       "      <td>0.000000</td>\n",
       "      <td>0.066301</td>\n",
       "      <td>0.000000</td>\n",
       "      <td>0.002740</td>\n",
       "      <td>0.000000</td>\n",
       "      <td>0.000000</td>\n",
       "      <td>0.000000</td>\n",
       "      <td>0.027397</td>\n",
       "      <td>0.001644</td>\n",
       "      <td>...</td>\n",
       "      <td>0.000000</td>\n",
       "      <td>0.000548</td>\n",
       "      <td>0.000548</td>\n",
       "      <td>0.000548</td>\n",
       "      <td>0.030137</td>\n",
       "      <td>0.003288</td>\n",
       "      <td>0.000548</td>\n",
       "      <td>0.000000</td>\n",
       "      <td>0.006027</td>\n",
       "      <td>0.000000</td>\n",
       "    </tr>\n",
       "    <tr>\n",
       "      <th>TFT8_Taliyah</th>\n",
       "      <td>0.001476</td>\n",
       "      <td>0.000000</td>\n",
       "      <td>0.004919</td>\n",
       "      <td>0.000164</td>\n",
       "      <td>0.000328</td>\n",
       "      <td>0.000820</td>\n",
       "      <td>0.000000</td>\n",
       "      <td>0.005575</td>\n",
       "      <td>0.005903</td>\n",
       "      <td>0.000000</td>\n",
       "      <td>...</td>\n",
       "      <td>0.000164</td>\n",
       "      <td>0.001148</td>\n",
       "      <td>0.000000</td>\n",
       "      <td>0.000000</td>\n",
       "      <td>0.000656</td>\n",
       "      <td>0.000164</td>\n",
       "      <td>0.000328</td>\n",
       "      <td>0.000000</td>\n",
       "      <td>0.048041</td>\n",
       "      <td>0.000000</td>\n",
       "    </tr>\n",
       "    <tr>\n",
       "      <th>TFT8_Talon</th>\n",
       "      <td>0.018425</td>\n",
       "      <td>0.001675</td>\n",
       "      <td>0.046901</td>\n",
       "      <td>0.003350</td>\n",
       "      <td>0.001675</td>\n",
       "      <td>0.000000</td>\n",
       "      <td>0.000000</td>\n",
       "      <td>0.000000</td>\n",
       "      <td>0.041876</td>\n",
       "      <td>0.000000</td>\n",
       "      <td>...</td>\n",
       "      <td>0.000000</td>\n",
       "      <td>0.001675</td>\n",
       "      <td>0.001675</td>\n",
       "      <td>0.000000</td>\n",
       "      <td>0.003350</td>\n",
       "      <td>0.003350</td>\n",
       "      <td>0.000000</td>\n",
       "      <td>0.000000</td>\n",
       "      <td>0.010050</td>\n",
       "      <td>0.000000</td>\n",
       "    </tr>\n",
       "    <tr>\n",
       "      <th>TFT8_Urgot</th>\n",
       "      <td>0.018357</td>\n",
       "      <td>0.000000</td>\n",
       "      <td>0.009615</td>\n",
       "      <td>0.000437</td>\n",
       "      <td>0.004808</td>\n",
       "      <td>0.000000</td>\n",
       "      <td>0.000437</td>\n",
       "      <td>0.003497</td>\n",
       "      <td>0.060752</td>\n",
       "      <td>0.000874</td>\n",
       "      <td>...</td>\n",
       "      <td>0.000000</td>\n",
       "      <td>0.003059</td>\n",
       "      <td>0.000437</td>\n",
       "      <td>0.000437</td>\n",
       "      <td>0.021853</td>\n",
       "      <td>0.002622</td>\n",
       "      <td>0.002622</td>\n",
       "      <td>0.000000</td>\n",
       "      <td>0.022290</td>\n",
       "      <td>0.003497</td>\n",
       "    </tr>\n",
       "    <tr>\n",
       "      <th>TFT8_Vayne</th>\n",
       "      <td>0.009891</td>\n",
       "      <td>0.000000</td>\n",
       "      <td>0.006726</td>\n",
       "      <td>0.000198</td>\n",
       "      <td>0.000593</td>\n",
       "      <td>0.000000</td>\n",
       "      <td>0.000000</td>\n",
       "      <td>0.001385</td>\n",
       "      <td>0.031256</td>\n",
       "      <td>0.000000</td>\n",
       "      <td>...</td>\n",
       "      <td>0.000000</td>\n",
       "      <td>0.003363</td>\n",
       "      <td>0.000396</td>\n",
       "      <td>0.000000</td>\n",
       "      <td>0.000989</td>\n",
       "      <td>0.002374</td>\n",
       "      <td>0.000000</td>\n",
       "      <td>0.000000</td>\n",
       "      <td>0.024728</td>\n",
       "      <td>0.002176</td>\n",
       "    </tr>\n",
       "    <tr>\n",
       "      <th>TFT8_Velkoz</th>\n",
       "      <td>0.008197</td>\n",
       "      <td>0.000000</td>\n",
       "      <td>0.015962</td>\n",
       "      <td>0.000000</td>\n",
       "      <td>0.001294</td>\n",
       "      <td>0.000000</td>\n",
       "      <td>0.000000</td>\n",
       "      <td>0.002588</td>\n",
       "      <td>0.028473</td>\n",
       "      <td>0.000000</td>\n",
       "      <td>...</td>\n",
       "      <td>0.000000</td>\n",
       "      <td>0.000000</td>\n",
       "      <td>0.000431</td>\n",
       "      <td>0.000000</td>\n",
       "      <td>0.014668</td>\n",
       "      <td>0.001726</td>\n",
       "      <td>0.000431</td>\n",
       "      <td>0.000000</td>\n",
       "      <td>0.012079</td>\n",
       "      <td>0.002588</td>\n",
       "    </tr>\n",
       "    <tr>\n",
       "      <th>TFT8_Vi</th>\n",
       "      <td>0.003413</td>\n",
       "      <td>0.000569</td>\n",
       "      <td>0.011092</td>\n",
       "      <td>0.000000</td>\n",
       "      <td>0.009670</td>\n",
       "      <td>0.000000</td>\n",
       "      <td>0.000569</td>\n",
       "      <td>0.007679</td>\n",
       "      <td>0.055745</td>\n",
       "      <td>0.002275</td>\n",
       "      <td>...</td>\n",
       "      <td>0.000000</td>\n",
       "      <td>0.000000</td>\n",
       "      <td>0.005688</td>\n",
       "      <td>0.000000</td>\n",
       "      <td>0.003413</td>\n",
       "      <td>0.042662</td>\n",
       "      <td>0.002275</td>\n",
       "      <td>0.000853</td>\n",
       "      <td>0.004266</td>\n",
       "      <td>0.000284</td>\n",
       "    </tr>\n",
       "    <tr>\n",
       "      <th>TFT8_Viego</th>\n",
       "      <td>0.003070</td>\n",
       "      <td>0.000000</td>\n",
       "      <td>0.001535</td>\n",
       "      <td>0.000000</td>\n",
       "      <td>0.000384</td>\n",
       "      <td>0.001535</td>\n",
       "      <td>0.000000</td>\n",
       "      <td>0.000384</td>\n",
       "      <td>0.018035</td>\n",
       "      <td>0.000000</td>\n",
       "      <td>...</td>\n",
       "      <td>0.000000</td>\n",
       "      <td>0.000767</td>\n",
       "      <td>0.000384</td>\n",
       "      <td>0.000000</td>\n",
       "      <td>0.001151</td>\n",
       "      <td>0.000767</td>\n",
       "      <td>0.003070</td>\n",
       "      <td>0.000000</td>\n",
       "      <td>0.014965</td>\n",
       "      <td>0.000384</td>\n",
       "    </tr>\n",
       "    <tr>\n",
       "      <th>TFT8_WuKong</th>\n",
       "      <td>0.000000</td>\n",
       "      <td>0.000000</td>\n",
       "      <td>0.018433</td>\n",
       "      <td>0.000000</td>\n",
       "      <td>0.013825</td>\n",
       "      <td>0.000000</td>\n",
       "      <td>0.000000</td>\n",
       "      <td>0.000000</td>\n",
       "      <td>0.018433</td>\n",
       "      <td>0.000000</td>\n",
       "      <td>...</td>\n",
       "      <td>0.000000</td>\n",
       "      <td>0.000000</td>\n",
       "      <td>0.009217</td>\n",
       "      <td>0.000000</td>\n",
       "      <td>0.000000</td>\n",
       "      <td>0.023041</td>\n",
       "      <td>0.000000</td>\n",
       "      <td>0.000000</td>\n",
       "      <td>0.004608</td>\n",
       "      <td>0.009217</td>\n",
       "    </tr>\n",
       "    <tr>\n",
       "      <th>TFT8_Yasuo</th>\n",
       "      <td>0.011210</td>\n",
       "      <td>0.000000</td>\n",
       "      <td>0.006539</td>\n",
       "      <td>0.000467</td>\n",
       "      <td>0.004671</td>\n",
       "      <td>0.000467</td>\n",
       "      <td>0.000000</td>\n",
       "      <td>0.000467</td>\n",
       "      <td>0.083139</td>\n",
       "      <td>0.000000</td>\n",
       "      <td>...</td>\n",
       "      <td>0.000000</td>\n",
       "      <td>0.001401</td>\n",
       "      <td>0.003737</td>\n",
       "      <td>0.000000</td>\n",
       "      <td>0.010743</td>\n",
       "      <td>0.007006</td>\n",
       "      <td>0.000000</td>\n",
       "      <td>0.000467</td>\n",
       "      <td>0.019150</td>\n",
       "      <td>0.000934</td>\n",
       "    </tr>\n",
       "    <tr>\n",
       "      <th>TFT8_Yuumi</th>\n",
       "      <td>0.008105</td>\n",
       "      <td>0.000000</td>\n",
       "      <td>0.011193</td>\n",
       "      <td>0.000000</td>\n",
       "      <td>0.000386</td>\n",
       "      <td>0.000579</td>\n",
       "      <td>0.000000</td>\n",
       "      <td>0.000000</td>\n",
       "      <td>0.004438</td>\n",
       "      <td>0.000193</td>\n",
       "      <td>...</td>\n",
       "      <td>0.000000</td>\n",
       "      <td>0.000193</td>\n",
       "      <td>0.000000</td>\n",
       "      <td>0.000000</td>\n",
       "      <td>0.005017</td>\n",
       "      <td>0.000386</td>\n",
       "      <td>0.000193</td>\n",
       "      <td>0.000000</td>\n",
       "      <td>0.014473</td>\n",
       "      <td>0.000000</td>\n",
       "    </tr>\n",
       "    <tr>\n",
       "      <th>TFT8_Zac</th>\n",
       "      <td>0.001989</td>\n",
       "      <td>0.000000</td>\n",
       "      <td>0.004475</td>\n",
       "      <td>0.000000</td>\n",
       "      <td>0.015912</td>\n",
       "      <td>0.000000</td>\n",
       "      <td>0.000000</td>\n",
       "      <td>0.002486</td>\n",
       "      <td>0.062158</td>\n",
       "      <td>0.000000</td>\n",
       "      <td>...</td>\n",
       "      <td>0.000000</td>\n",
       "      <td>0.000497</td>\n",
       "      <td>0.006464</td>\n",
       "      <td>0.000000</td>\n",
       "      <td>0.002984</td>\n",
       "      <td>0.084535</td>\n",
       "      <td>0.000000</td>\n",
       "      <td>0.000000</td>\n",
       "      <td>0.006464</td>\n",
       "      <td>0.001492</td>\n",
       "    </tr>\n",
       "    <tr>\n",
       "      <th>TFT8_Zed</th>\n",
       "      <td>0.010113</td>\n",
       "      <td>0.000000</td>\n",
       "      <td>0.000686</td>\n",
       "      <td>0.000000</td>\n",
       "      <td>0.000343</td>\n",
       "      <td>0.000000</td>\n",
       "      <td>0.000171</td>\n",
       "      <td>0.000000</td>\n",
       "      <td>0.010627</td>\n",
       "      <td>0.000000</td>\n",
       "      <td>...</td>\n",
       "      <td>0.000514</td>\n",
       "      <td>0.002400</td>\n",
       "      <td>0.000000</td>\n",
       "      <td>0.000343</td>\n",
       "      <td>0.000000</td>\n",
       "      <td>0.000514</td>\n",
       "      <td>0.000514</td>\n",
       "      <td>0.000000</td>\n",
       "      <td>0.013027</td>\n",
       "      <td>0.000000</td>\n",
       "    </tr>\n",
       "    <tr>\n",
       "      <th>TFT8_Zoe</th>\n",
       "      <td>0.001664</td>\n",
       "      <td>0.000000</td>\n",
       "      <td>0.005408</td>\n",
       "      <td>0.000208</td>\n",
       "      <td>0.001664</td>\n",
       "      <td>0.000208</td>\n",
       "      <td>0.000208</td>\n",
       "      <td>0.098794</td>\n",
       "      <td>0.011647</td>\n",
       "      <td>0.000624</td>\n",
       "      <td>...</td>\n",
       "      <td>0.000000</td>\n",
       "      <td>0.002080</td>\n",
       "      <td>0.000000</td>\n",
       "      <td>0.000000</td>\n",
       "      <td>0.006864</td>\n",
       "      <td>0.000832</td>\n",
       "      <td>0.000416</td>\n",
       "      <td>0.000000</td>\n",
       "      <td>0.010191</td>\n",
       "      <td>0.001040</td>\n",
       "    </tr>\n",
       "  </tbody>\n",
       "</table>\n",
       "<p>59 rows × 124 columns</p>\n",
       "</div>"
      ],
      "text/plain": [
       "                   TFT_Item_RapidFireCannon  \\\n",
       "TFT8_Alistar                       0.004998   \n",
       "TFT8_Annie                         0.000943   \n",
       "TFT8_Aphelios                      0.013351   \n",
       "TFT8_Ashe                          0.004545   \n",
       "TFT8_AurelionSol                   0.004950   \n",
       "TFT8_BelVeth                       0.024900   \n",
       "TFT8_Blitzcrank                    0.000944   \n",
       "TFT8_Camille                       0.000568   \n",
       "TFT8_Chogath                       0.004382   \n",
       "TFT8_Draven                        0.002703   \n",
       "TFT8_Ekko                          0.003481   \n",
       "TFT8_Ezreal                        0.002425   \n",
       "TFT8_Fiddlesticks                  0.002362   \n",
       "TFT8_Fiora                         0.006659   \n",
       "TFT8_Galio                         0.002219   \n",
       "TFT8_Gangplank                     0.018572   \n",
       "TFT8_Janna                         0.009655   \n",
       "TFT8_Jax                           0.069470   \n",
       "TFT8_Jinx                          0.009404   \n",
       "TFT8_Kaisa                         0.005877   \n",
       "TFT8_Kayle                         0.005517   \n",
       "TFT8_Leblanc                       0.008631   \n",
       "TFT8_LeeSin                        0.003572   \n",
       "TFT8_Leona                         0.010487   \n",
       "TFT8_Lulu                          0.000000   \n",
       "TFT8_Lux                           0.009740   \n",
       "TFT8_Malphite                      0.003000   \n",
       "TFT8_MissFortune                   0.003943   \n",
       "TFT8_Mordekaiser                   0.012125   \n",
       "TFT8_Nasus                         0.030928   \n",
       "TFT8_Nilah                         0.002092   \n",
       "TFT8_Nunu                          0.007303   \n",
       "TFT8_Poppy                         0.006452   \n",
       "TFT8_Rammus                        0.002234   \n",
       "TFT8_Rell                          0.001715   \n",
       "TFT8_Renekton                      0.004815   \n",
       "TFT8_Riven                         0.003888   \n",
       "TFT8_Samira                        0.004218   \n",
       "TFT8_Sejuani                       0.003135   \n",
       "TFT8_Senna                         0.004473   \n",
       "TFT8_Sett                          0.001299   \n",
       "TFT8_Sivir                         0.005675   \n",
       "TFT8_Sona                          0.004522   \n",
       "TFT8_Soraka                        0.005979   \n",
       "TFT8_Sylas                         0.000000   \n",
       "TFT8_Syndra                        0.020822   \n",
       "TFT8_Taliyah                       0.001476   \n",
       "TFT8_Talon                         0.018425   \n",
       "TFT8_Urgot                         0.018357   \n",
       "TFT8_Vayne                         0.009891   \n",
       "TFT8_Velkoz                        0.008197   \n",
       "TFT8_Vi                            0.003413   \n",
       "TFT8_Viego                         0.003070   \n",
       "TFT8_WuKong                        0.000000   \n",
       "TFT8_Yasuo                         0.011210   \n",
       "TFT8_Yuumi                         0.008105   \n",
       "TFT8_Zac                           0.001989   \n",
       "TFT8_Zed                           0.010113   \n",
       "TFT8_Zoe                           0.001664   \n",
       "\n",
       "                   TFT5_Item_ShroudOfStillnessRadiant  TFT_Item_Chalice  \\\n",
       "TFT8_Alistar                                 0.000476          0.008329   \n",
       "TFT8_Annie                                   0.000000          0.002673   \n",
       "TFT8_Aphelios                                0.000000          0.004360   \n",
       "TFT8_Ashe                                    0.000000          0.000909   \n",
       "TFT8_AurelionSol                             0.000000          0.013614   \n",
       "TFT8_BelVeth                                 0.000000          0.001779   \n",
       "TFT8_Blitzcrank                              0.000000          0.005666   \n",
       "TFT8_Camille                                 0.000000          0.001703   \n",
       "TFT8_Chogath                                 0.000000          0.007790   \n",
       "TFT8_Draven                                  0.000000          0.000000   \n",
       "TFT8_Ekko                                    0.000124          0.007336   \n",
       "TFT8_Ezreal                                  0.000000          0.021019   \n",
       "TFT8_Fiddlesticks                            0.000337          0.010462   \n",
       "TFT8_Fiora                                   0.000000          0.011099   \n",
       "TFT8_Galio                                   0.000000          0.003171   \n",
       "TFT8_Gangplank                               0.000413          0.043335   \n",
       "TFT8_Janna                                   0.000690          0.085517   \n",
       "TFT8_Jax                                     0.000000          0.001642   \n",
       "TFT8_Jinx                                    0.000000          0.053292   \n",
       "TFT8_Kaisa                                   0.000000          0.004521   \n",
       "TFT8_Kayle                                   0.000000          0.011034   \n",
       "TFT8_Leblanc                                 0.000000          0.016369   \n",
       "TFT8_LeeSin                                  0.000000          0.024114   \n",
       "TFT8_Leona                                   0.000000          0.006742   \n",
       "TFT8_Lulu                                    0.000000          0.019231   \n",
       "TFT8_Lux                                     0.000000          0.159091   \n",
       "TFT8_Malphite                                0.000000          0.004500   \n",
       "TFT8_MissFortune                             0.000000          0.007492   \n",
       "TFT8_Mordekaiser                             0.000000          0.004619   \n",
       "TFT8_Nasus                                   0.000000          0.009164   \n",
       "TFT8_Nilah                                   0.000000          0.009761   \n",
       "TFT8_Nunu                                    0.000261          0.007564   \n",
       "TFT8_Poppy                                   0.000000          0.000000   \n",
       "TFT8_Rammus                                  0.000319          0.002234   \n",
       "TFT8_Rell                                    0.000000          0.006861   \n",
       "TFT8_Renekton                                0.000000          0.004013   \n",
       "TFT8_Riven                                   0.000000          0.011868   \n",
       "TFT8_Samira                                  0.000169          0.001350   \n",
       "TFT8_Sejuani                                 0.000000          0.005297   \n",
       "TFT8_Senna                                   0.000000          0.007029   \n",
       "TFT8_Sett                                    0.000000          0.003247   \n",
       "TFT8_Sivir                                   0.000000          0.017026   \n",
       "TFT8_Sona                                    0.000000          0.049043   \n",
       "TFT8_Soraka                                  0.000000          0.008400   \n",
       "TFT8_Sylas                                   0.000000          0.004184   \n",
       "TFT8_Syndra                                  0.000000          0.066301   \n",
       "TFT8_Taliyah                                 0.000000          0.004919   \n",
       "TFT8_Talon                                   0.001675          0.046901   \n",
       "TFT8_Urgot                                   0.000000          0.009615   \n",
       "TFT8_Vayne                                   0.000000          0.006726   \n",
       "TFT8_Velkoz                                  0.000000          0.015962   \n",
       "TFT8_Vi                                      0.000569          0.011092   \n",
       "TFT8_Viego                                   0.000000          0.001535   \n",
       "TFT8_WuKong                                  0.000000          0.018433   \n",
       "TFT8_Yasuo                                   0.000000          0.006539   \n",
       "TFT8_Yuumi                                   0.000000          0.011193   \n",
       "TFT8_Zac                                     0.000000          0.004475   \n",
       "TFT8_Zed                                     0.000000          0.000686   \n",
       "TFT8_Zoe                                     0.000000          0.005408   \n",
       "\n",
       "                   TFT5_Item_ThiefsGlovesRadiant  TFT_Item_GiantsBelt  \\\n",
       "TFT8_Alistar                            0.000238             0.026654   \n",
       "TFT8_Annie                              0.000000             0.006603   \n",
       "TFT8_Aphelios                           0.001090             0.000545   \n",
       "TFT8_Ashe                               0.000000             0.000000   \n",
       "TFT8_AurelionSol                        0.000000             0.000825   \n",
       "TFT8_BelVeth                            0.002223             0.000889   \n",
       "TFT8_Blitzcrank                         0.000944             0.020774   \n",
       "TFT8_Camille                            0.000000             0.001135   \n",
       "TFT8_Chogath                            0.000000             0.014606   \n",
       "TFT8_Draven                             0.000000             0.000000   \n",
       "TFT8_Ekko                               0.000622             0.012185   \n",
       "TFT8_Ezreal                             0.000000             0.000000   \n",
       "TFT8_Fiddlesticks                       0.001350             0.005400   \n",
       "TFT8_Fiora                              0.000000             0.013319   \n",
       "TFT8_Galio                              0.000000             0.007609   \n",
       "TFT8_Gangplank                          0.000825             0.005365   \n",
       "TFT8_Janna                              0.000000             0.006897   \n",
       "TFT8_Jax                                0.000000             0.000657   \n",
       "TFT8_Jinx                               0.000000             0.003135   \n",
       "TFT8_Kaisa                              0.000226             0.000000   \n",
       "TFT8_Kayle                              0.000000             0.000000   \n",
       "TFT8_Leblanc                            0.000595             0.001786   \n",
       "TFT8_LeeSin                             0.000595             0.015779   \n",
       "TFT8_Leona                              0.001748             0.005493   \n",
       "TFT8_Lulu                               0.000000             0.000000   \n",
       "TFT8_Lux                                0.000000             0.000000   \n",
       "TFT8_Malphite                           0.000300             0.013501   \n",
       "TFT8_MissFortune                        0.000394             0.000000   \n",
       "TFT8_Mordekaiser                        0.000000             0.004042   \n",
       "TFT8_Nasus                              0.000000             0.007446   \n",
       "TFT8_Nilah                              0.000232             0.008831   \n",
       "TFT8_Nunu                               0.001826             0.004173   \n",
       "TFT8_Poppy                              0.000000             0.006452   \n",
       "TFT8_Rammus                             0.000319             0.009572   \n",
       "TFT8_Rell                               0.000000             0.018868   \n",
       "TFT8_Renekton                           0.000000             0.011236   \n",
       "TFT8_Riven                              0.000205             0.009003   \n",
       "TFT8_Samira                             0.000169             0.000337   \n",
       "TFT8_Sejuani                            0.000000             0.013081   \n",
       "TFT8_Senna                              0.000000             0.000639   \n",
       "TFT8_Sett                               0.000000             0.003896   \n",
       "TFT8_Sivir                              0.000000             0.001135   \n",
       "TFT8_Sona                               0.000348             0.002435   \n",
       "TFT8_Soraka                             0.000000             0.000569   \n",
       "TFT8_Sylas                              0.000000             0.020921   \n",
       "TFT8_Syndra                             0.000000             0.002740   \n",
       "TFT8_Taliyah                            0.000164             0.000328   \n",
       "TFT8_Talon                              0.003350             0.001675   \n",
       "TFT8_Urgot                              0.000437             0.004808   \n",
       "TFT8_Vayne                              0.000198             0.000593   \n",
       "TFT8_Velkoz                             0.000000             0.001294   \n",
       "TFT8_Vi                                 0.000000             0.009670   \n",
       "TFT8_Viego                              0.000000             0.000384   \n",
       "TFT8_WuKong                             0.000000             0.013825   \n",
       "TFT8_Yasuo                              0.000467             0.004671   \n",
       "TFT8_Yuumi                              0.000000             0.000386   \n",
       "TFT8_Zac                                0.000000             0.015912   \n",
       "TFT8_Zed                                0.000000             0.000343   \n",
       "TFT8_Zoe                                0.000208             0.001664   \n",
       "\n",
       "                   TFT5_Item_JeweledGauntletRadiant  TFT8_Item_Sunfire_GenAE  \\\n",
       "TFT8_Alistar                               0.000238                 0.003332   \n",
       "TFT8_Annie                                 0.000000                 0.005188   \n",
       "TFT8_Aphelios                              0.000272                 0.000000   \n",
       "TFT8_Ashe                                  0.000000                 0.000000   \n",
       "TFT8_AurelionSol                           0.000000                 0.000000   \n",
       "TFT8_BelVeth                               0.000445                 0.000000   \n",
       "TFT8_Blitzcrank                            0.000000                 0.000000   \n",
       "TFT8_Camille                               0.000000                 0.000000   \n",
       "TFT8_Chogath                               0.000000                 0.000000   \n",
       "TFT8_Draven                                0.000000                 0.000000   \n",
       "TFT8_Ekko                                  0.000000                 0.003979   \n",
       "TFT8_Ezreal                                0.000000                 0.000000   \n",
       "TFT8_Fiddlesticks                          0.000337                 0.000675   \n",
       "TFT8_Fiora                                 0.000000                 0.001110   \n",
       "TFT8_Galio                                 0.000000                 0.000000   \n",
       "TFT8_Gangplank                             0.000000                 0.000413   \n",
       "TFT8_Janna                                 0.000000                 0.000690   \n",
       "TFT8_Jax                                   0.000657                 0.000000   \n",
       "TFT8_Jinx                                  0.000000                 0.000000   \n",
       "TFT8_Kaisa                                 0.000452                 0.000000   \n",
       "TFT8_Kayle                                 0.000000                 0.000000   \n",
       "TFT8_Leblanc                               0.000298                 0.001190   \n",
       "TFT8_LeeSin                                0.000000                 0.000000   \n",
       "TFT8_Leona                                 0.000250                 0.000499   \n",
       "TFT8_Lulu                                  0.000000                 0.000000   \n",
       "TFT8_Lux                                   0.000000                 0.000000   \n",
       "TFT8_Malphite                              0.000000                 0.000000   \n",
       "TFT8_MissFortune                           0.000789                 0.000000   \n",
       "TFT8_Mordekaiser                           0.000000                 0.000000   \n",
       "TFT8_Nasus                                 0.000000                 0.000000   \n",
       "TFT8_Nilah                                 0.000000                 0.000232   \n",
       "TFT8_Nunu                                  0.000261                 0.008086   \n",
       "TFT8_Poppy                                 0.000000                 0.012903   \n",
       "TFT8_Rammus                                0.000000                 0.000000   \n",
       "TFT8_Rell                                  0.000000                 0.001715   \n",
       "TFT8_Renekton                              0.000000                 0.000000   \n",
       "TFT8_Riven                                 0.000000                 0.000000   \n",
       "TFT8_Samira                                0.000000                 0.000000   \n",
       "TFT8_Sejuani                               0.000000                 0.000000   \n",
       "TFT8_Senna                                 0.000000                 0.000000   \n",
       "TFT8_Sett                                  0.000000                 0.000000   \n",
       "TFT8_Sivir                                 0.000000                 0.000000   \n",
       "TFT8_Sona                                  0.000348                 0.000000   \n",
       "TFT8_Soraka                                0.000142                 0.000142   \n",
       "TFT8_Sylas                                 0.000000                 0.000000   \n",
       "TFT8_Syndra                                0.000000                 0.000000   \n",
       "TFT8_Taliyah                               0.000820                 0.000000   \n",
       "TFT8_Talon                                 0.000000                 0.000000   \n",
       "TFT8_Urgot                                 0.000000                 0.000437   \n",
       "TFT8_Vayne                                 0.000000                 0.000000   \n",
       "TFT8_Velkoz                                0.000000                 0.000000   \n",
       "TFT8_Vi                                    0.000000                 0.000569   \n",
       "TFT8_Viego                                 0.001535                 0.000000   \n",
       "TFT8_WuKong                                0.000000                 0.000000   \n",
       "TFT8_Yasuo                                 0.000467                 0.000000   \n",
       "TFT8_Yuumi                                 0.000579                 0.000000   \n",
       "TFT8_Zac                                   0.000000                 0.000000   \n",
       "TFT8_Zed                                   0.000000                 0.000171   \n",
       "TFT8_Zoe                                   0.000208                 0.000208   \n",
       "\n",
       "                   TFT8_Item_HeartEmblemItem  TFT_Item_ThiefsGloves  \\\n",
       "TFT8_Alistar                        0.008567               0.064493   \n",
       "TFT8_Annie                          0.003144               0.013520   \n",
       "TFT8_Aphelios                       0.000545               0.028610   \n",
       "TFT8_Ashe                           0.000000               0.001818   \n",
       "TFT8_AurelionSol                    0.002888               0.014851   \n",
       "TFT8_BelVeth                        0.000445               0.028012   \n",
       "TFT8_Blitzcrank                     0.009443               0.021719   \n",
       "TFT8_Camille                        0.001135               0.010216   \n",
       "TFT8_Chogath                        0.002434               0.106134   \n",
       "TFT8_Draven                         0.000000               0.000000   \n",
       "TFT8_Ekko                           0.005595               0.069874   \n",
       "TFT8_Ezreal                         0.006467               0.020210   \n",
       "TFT8_Fiddlesticks                   0.002025               0.062437   \n",
       "TFT8_Fiora                          0.001110               0.069922   \n",
       "TFT8_Galio                          0.006024               0.030120   \n",
       "TFT8_Gangplank                      0.030953               0.077590   \n",
       "TFT8_Janna                          0.020000               0.032414   \n",
       "TFT8_Jax                            0.000000               0.006241   \n",
       "TFT8_Jinx                           0.000000               0.012539   \n",
       "TFT8_Kaisa                          0.002486               0.009720   \n",
       "TFT8_Kayle                          0.000000               0.006897   \n",
       "TFT8_Leblanc                        0.027381               0.048512   \n",
       "TFT8_LeeSin                         0.000000               0.064900   \n",
       "TFT8_Leona                          0.002247               0.045194   \n",
       "TFT8_Lulu                           0.000000               0.012019   \n",
       "TFT8_Lux                            0.071429               0.016234   \n",
       "TFT8_Malphite                       0.009301               0.063306   \n",
       "TFT8_MissFortune                    0.000000               0.016167   \n",
       "TFT8_Mordekaiser                    0.001155               0.056005   \n",
       "TFT8_Nasus                          0.021764               0.076747   \n",
       "TFT8_Nilah                          0.001627               0.051824   \n",
       "TFT8_Nunu                           0.007042               0.050078   \n",
       "TFT8_Poppy                          0.006452               0.045161   \n",
       "TFT8_Rammus                         0.000319               0.037013   \n",
       "TFT8_Rell                           0.005146               0.056604   \n",
       "TFT8_Renekton                       0.001605               0.036116   \n",
       "TFT8_Riven                          0.003274               0.056886   \n",
       "TFT8_Samira                         0.000000               0.007086   \n",
       "TFT8_Sejuani                        0.000973               0.032757   \n",
       "TFT8_Senna                          0.000000               0.021725   \n",
       "TFT8_Sett                           0.000000               0.016234   \n",
       "TFT8_Sivir                          0.007946               0.029512   \n",
       "TFT8_Sona                           0.000000               0.044870   \n",
       "TFT8_Soraka                         0.000000               0.015091   \n",
       "TFT8_Sylas                          0.000000               0.037657   \n",
       "TFT8_Syndra                         0.000000               0.027397   \n",
       "TFT8_Taliyah                        0.005575               0.005903   \n",
       "TFT8_Talon                          0.000000               0.041876   \n",
       "TFT8_Urgot                          0.003497               0.060752   \n",
       "TFT8_Vayne                          0.001385               0.031256   \n",
       "TFT8_Velkoz                         0.002588               0.028473   \n",
       "TFT8_Vi                             0.007679               0.055745   \n",
       "TFT8_Viego                          0.000384               0.018035   \n",
       "TFT8_WuKong                         0.000000               0.018433   \n",
       "TFT8_Yasuo                          0.000467               0.083139   \n",
       "TFT8_Yuumi                          0.000000               0.004438   \n",
       "TFT8_Zac                            0.002486               0.062158   \n",
       "TFT8_Zed                            0.000000               0.010627   \n",
       "TFT8_Zoe                            0.098794               0.011647   \n",
       "\n",
       "                   TFT8_Item_DefenderEmblemItem  ...  \\\n",
       "TFT8_Alistar                           0.002142  ...   \n",
       "TFT8_Annie                             0.000943  ...   \n",
       "TFT8_Aphelios                          0.000000  ...   \n",
       "TFT8_Ashe                              0.000000  ...   \n",
       "TFT8_AurelionSol                       0.000413  ...   \n",
       "TFT8_BelVeth                           0.000000  ...   \n",
       "TFT8_Blitzcrank                        0.003777  ...   \n",
       "TFT8_Camille                           0.000000  ...   \n",
       "TFT8_Chogath                           0.001947  ...   \n",
       "TFT8_Draven                            0.001351  ...   \n",
       "TFT8_Ekko                              0.003357  ...   \n",
       "TFT8_Ezreal                            0.000000  ...   \n",
       "TFT8_Fiddlesticks                      0.000337  ...   \n",
       "TFT8_Fiora                             0.000000  ...   \n",
       "TFT8_Galio                             0.000317  ...   \n",
       "TFT8_Gangplank                         0.000000  ...   \n",
       "TFT8_Janna                             0.000000  ...   \n",
       "TFT8_Jax                               0.000328  ...   \n",
       "TFT8_Jinx                              0.000000  ...   \n",
       "TFT8_Kaisa                             0.000000  ...   \n",
       "TFT8_Kayle                             0.000000  ...   \n",
       "TFT8_Leblanc                           0.000000  ...   \n",
       "TFT8_LeeSin                            0.002977  ...   \n",
       "TFT8_Leona                             0.002497  ...   \n",
       "TFT8_Lulu                              0.000000  ...   \n",
       "TFT8_Lux                               0.000000  ...   \n",
       "TFT8_Malphite                          0.000600  ...   \n",
       "TFT8_MissFortune                       0.000000  ...   \n",
       "TFT8_Mordekaiser                       0.000577  ...   \n",
       "TFT8_Nasus                             0.001145  ...   \n",
       "TFT8_Nilah                             0.001162  ...   \n",
       "TFT8_Nunu                              0.000522  ...   \n",
       "TFT8_Poppy                             0.000000  ...   \n",
       "TFT8_Rammus                            0.003510  ...   \n",
       "TFT8_Rell                              0.000000  ...   \n",
       "TFT8_Renekton                          0.003210  ...   \n",
       "TFT8_Riven                             0.000000  ...   \n",
       "TFT8_Samira                            0.000000  ...   \n",
       "TFT8_Sejuani                           0.003351  ...   \n",
       "TFT8_Senna                             0.000639  ...   \n",
       "TFT8_Sett                              0.000000  ...   \n",
       "TFT8_Sivir                             0.000000  ...   \n",
       "TFT8_Sona                              0.000000  ...   \n",
       "TFT8_Soraka                            0.000142  ...   \n",
       "TFT8_Sylas                             0.008368  ...   \n",
       "TFT8_Syndra                            0.001644  ...   \n",
       "TFT8_Taliyah                           0.000000  ...   \n",
       "TFT8_Talon                             0.000000  ...   \n",
       "TFT8_Urgot                             0.000874  ...   \n",
       "TFT8_Vayne                             0.000000  ...   \n",
       "TFT8_Velkoz                            0.000000  ...   \n",
       "TFT8_Vi                                0.002275  ...   \n",
       "TFT8_Viego                             0.000000  ...   \n",
       "TFT8_WuKong                            0.000000  ...   \n",
       "TFT8_Yasuo                             0.000000  ...   \n",
       "TFT8_Yuumi                             0.000193  ...   \n",
       "TFT8_Zac                               0.000000  ...   \n",
       "TFT8_Zed                               0.000000  ...   \n",
       "TFT8_Zoe                               0.000624  ...   \n",
       "\n",
       "                   TFT5_Item_GuinsoosRagebladeRadiant  \\\n",
       "TFT8_Alistar                                 0.000000   \n",
       "TFT8_Annie                                   0.000000   \n",
       "TFT8_Aphelios                                0.000272   \n",
       "TFT8_Ashe                                    0.000000   \n",
       "TFT8_AurelionSol                             0.000000   \n",
       "TFT8_BelVeth                                 0.000889   \n",
       "TFT8_Blitzcrank                              0.000000   \n",
       "TFT8_Camille                                 0.000568   \n",
       "TFT8_Chogath                                 0.000000   \n",
       "TFT8_Draven                                  0.000000   \n",
       "TFT8_Ekko                                    0.000000   \n",
       "TFT8_Ezreal                                  0.000000   \n",
       "TFT8_Fiddlesticks                            0.000000   \n",
       "TFT8_Fiora                                   0.000000   \n",
       "TFT8_Galio                                   0.000000   \n",
       "TFT8_Gangplank                               0.000000   \n",
       "TFT8_Janna                                   0.000000   \n",
       "TFT8_Jax                                     0.000493   \n",
       "TFT8_Jinx                                    0.003135   \n",
       "TFT8_Kaisa                                   0.001130   \n",
       "TFT8_Kayle                                   0.000000   \n",
       "TFT8_Leblanc                                 0.000298   \n",
       "TFT8_LeeSin                                  0.000000   \n",
       "TFT8_Leona                                   0.000250   \n",
       "TFT8_Lulu                                    0.000000   \n",
       "TFT8_Lux                                     0.000000   \n",
       "TFT8_Malphite                                0.000000   \n",
       "TFT8_MissFortune                             0.000394   \n",
       "TFT8_Mordekaiser                             0.000000   \n",
       "TFT8_Nasus                                   0.000000   \n",
       "TFT8_Nilah                                   0.000000   \n",
       "TFT8_Nunu                                    0.000000   \n",
       "TFT8_Poppy                                   0.000000   \n",
       "TFT8_Rammus                                  0.000000   \n",
       "TFT8_Rell                                    0.000000   \n",
       "TFT8_Renekton                                0.000000   \n",
       "TFT8_Riven                                   0.000000   \n",
       "TFT8_Samira                                  0.001181   \n",
       "TFT8_Sejuani                                 0.000000   \n",
       "TFT8_Senna                                   0.000639   \n",
       "TFT8_Sett                                    0.000000   \n",
       "TFT8_Sivir                                   0.001135   \n",
       "TFT8_Sona                                    0.000000   \n",
       "TFT8_Soraka                                  0.000000   \n",
       "TFT8_Sylas                                   0.000000   \n",
       "TFT8_Syndra                                  0.000000   \n",
       "TFT8_Taliyah                                 0.000164   \n",
       "TFT8_Talon                                   0.000000   \n",
       "TFT8_Urgot                                   0.000000   \n",
       "TFT8_Vayne                                   0.000000   \n",
       "TFT8_Velkoz                                  0.000000   \n",
       "TFT8_Vi                                      0.000000   \n",
       "TFT8_Viego                                   0.000000   \n",
       "TFT8_WuKong                                  0.000000   \n",
       "TFT8_Yasuo                                   0.000000   \n",
       "TFT8_Yuumi                                   0.000000   \n",
       "TFT8_Zac                                     0.000000   \n",
       "TFT8_Zed                                     0.000514   \n",
       "TFT8_Zoe                                     0.000000   \n",
       "\n",
       "                   TFT4_Item_OrnnObsidianCleaver  \\\n",
       "TFT8_Alistar                            0.000000   \n",
       "TFT8_Annie                              0.000000   \n",
       "TFT8_Aphelios                           0.002725   \n",
       "TFT8_Ashe                               0.003636   \n",
       "TFT8_AurelionSol                        0.004125   \n",
       "TFT8_BelVeth                            0.003557   \n",
       "TFT8_Blitzcrank                         0.000000   \n",
       "TFT8_Camille                            0.000000   \n",
       "TFT8_Chogath                            0.000487   \n",
       "TFT8_Draven                             0.000000   \n",
       "TFT8_Ekko                               0.000124   \n",
       "TFT8_Ezreal                             0.001617   \n",
       "TFT8_Fiddlesticks                       0.001350   \n",
       "TFT8_Fiora                              0.000000   \n",
       "TFT8_Galio                              0.000000   \n",
       "TFT8_Gangplank                          0.000413   \n",
       "TFT8_Janna                              0.001379   \n",
       "TFT8_Jax                                0.000657   \n",
       "TFT8_Jinx                               0.000000   \n",
       "TFT8_Kaisa                              0.002034   \n",
       "TFT8_Kayle                              0.002759   \n",
       "TFT8_Leblanc                            0.000000   \n",
       "TFT8_LeeSin                             0.000298   \n",
       "TFT8_Leona                              0.000250   \n",
       "TFT8_Lulu                               0.000000   \n",
       "TFT8_Lux                                0.000000   \n",
       "TFT8_Malphite                           0.000600   \n",
       "TFT8_MissFortune                        0.000789   \n",
       "TFT8_Mordekaiser                        0.000577   \n",
       "TFT8_Nasus                              0.000573   \n",
       "TFT8_Nilah                              0.000232   \n",
       "TFT8_Nunu                               0.001565   \n",
       "TFT8_Poppy                              0.000000   \n",
       "TFT8_Rammus                             0.000000   \n",
       "TFT8_Rell                               0.000000   \n",
       "TFT8_Renekton                           0.000803   \n",
       "TFT8_Riven                              0.000000   \n",
       "TFT8_Samira                             0.004387   \n",
       "TFT8_Sejuani                            0.000973   \n",
       "TFT8_Senna                              0.003834   \n",
       "TFT8_Sett                               0.000000   \n",
       "TFT8_Sivir                              0.001135   \n",
       "TFT8_Sona                               0.001391   \n",
       "TFT8_Soraka                             0.000854   \n",
       "TFT8_Sylas                              0.000000   \n",
       "TFT8_Syndra                             0.000548   \n",
       "TFT8_Taliyah                            0.001148   \n",
       "TFT8_Talon                              0.001675   \n",
       "TFT8_Urgot                              0.003059   \n",
       "TFT8_Vayne                              0.003363   \n",
       "TFT8_Velkoz                             0.000000   \n",
       "TFT8_Vi                                 0.000000   \n",
       "TFT8_Viego                              0.000767   \n",
       "TFT8_WuKong                             0.000000   \n",
       "TFT8_Yasuo                              0.001401   \n",
       "TFT8_Yuumi                              0.000193   \n",
       "TFT8_Zac                                0.000497   \n",
       "TFT8_Zed                                0.002400   \n",
       "TFT8_Zoe                                0.002080   \n",
       "\n",
       "                   TFT4_Item_OrnnRocketPropelledFist  \\\n",
       "TFT8_Alistar                                0.004760   \n",
       "TFT8_Annie                                  0.002358   \n",
       "TFT8_Aphelios                               0.000545   \n",
       "TFT8_Ashe                                   0.000000   \n",
       "TFT8_AurelionSol                            0.001238   \n",
       "TFT8_BelVeth                                0.000000   \n",
       "TFT8_Blitzcrank                             0.002833   \n",
       "TFT8_Camille                                0.000000   \n",
       "TFT8_Chogath                                0.002921   \n",
       "TFT8_Draven                                 0.000000   \n",
       "TFT8_Ekko                                   0.002114   \n",
       "TFT8_Ezreal                                 0.000000   \n",
       "TFT8_Fiddlesticks                           0.001687   \n",
       "TFT8_Fiora                                  0.002220   \n",
       "TFT8_Galio                                  0.001902   \n",
       "TFT8_Gangplank                              0.000825   \n",
       "TFT8_Janna                                  0.000690   \n",
       "TFT8_Jax                                    0.000000   \n",
       "TFT8_Jinx                                   0.003135   \n",
       "TFT8_Kaisa                                  0.000000   \n",
       "TFT8_Kayle                                  0.000000   \n",
       "TFT8_Leblanc                                0.000298   \n",
       "TFT8_LeeSin                                 0.004466   \n",
       "TFT8_Leona                                  0.000749   \n",
       "TFT8_Lulu                                   0.000000   \n",
       "TFT8_Lux                                    0.003247   \n",
       "TFT8_Malphite                               0.001200   \n",
       "TFT8_MissFortune                            0.000000   \n",
       "TFT8_Mordekaiser                            0.000000   \n",
       "TFT8_Nasus                                  0.002864   \n",
       "TFT8_Nilah                                  0.002092   \n",
       "TFT8_Nunu                                   0.000261   \n",
       "TFT8_Poppy                                  0.000000   \n",
       "TFT8_Rammus                                 0.001914   \n",
       "TFT8_Rell                                   0.000000   \n",
       "TFT8_Renekton                               0.002408   \n",
       "TFT8_Riven                                  0.001637   \n",
       "TFT8_Samira                                 0.000000   \n",
       "TFT8_Sejuani                                0.002486   \n",
       "TFT8_Senna                                  0.000639   \n",
       "TFT8_Sett                                   0.000649   \n",
       "TFT8_Sivir                                  0.003405   \n",
       "TFT8_Sona                                   0.000696   \n",
       "TFT8_Soraka                                 0.000000   \n",
       "TFT8_Sylas                                  0.004184   \n",
       "TFT8_Syndra                                 0.000548   \n",
       "TFT8_Taliyah                                0.000000   \n",
       "TFT8_Talon                                  0.001675   \n",
       "TFT8_Urgot                                  0.000437   \n",
       "TFT8_Vayne                                  0.000396   \n",
       "TFT8_Velkoz                                 0.000431   \n",
       "TFT8_Vi                                     0.005688   \n",
       "TFT8_Viego                                  0.000384   \n",
       "TFT8_WuKong                                 0.009217   \n",
       "TFT8_Yasuo                                  0.003737   \n",
       "TFT8_Yuumi                                  0.000000   \n",
       "TFT8_Zac                                    0.006464   \n",
       "TFT8_Zed                                    0.000000   \n",
       "TFT8_Zoe                                    0.000000   \n",
       "\n",
       "                   TFT5_Item_QuicksilverRadiant  TFT_Item_TearOfTheGoddess  \\\n",
       "TFT8_Alistar                           0.000000                   0.006901   \n",
       "TFT8_Annie                             0.000000                   0.000157   \n",
       "TFT8_Aphelios                          0.000545                   0.002997   \n",
       "TFT8_Ashe                              0.000000                   0.000000   \n",
       "TFT8_AurelionSol                       0.000000                   0.007013   \n",
       "TFT8_BelVeth                           0.000445                   0.000889   \n",
       "TFT8_Blitzcrank                        0.000000                   0.002833   \n",
       "TFT8_Camille                           0.001135                   0.001703   \n",
       "TFT8_Chogath                           0.000000                   0.003408   \n",
       "TFT8_Draven                            0.001351                   0.000000   \n",
       "TFT8_Ekko                              0.000000                   0.005968   \n",
       "TFT8_Ezreal                            0.000000                   0.006467   \n",
       "TFT8_Fiddlesticks                      0.000000                   0.002700   \n",
       "TFT8_Fiora                             0.000000                   0.006659   \n",
       "TFT8_Galio                             0.000000                   0.002536   \n",
       "TFT8_Gangplank                         0.000413                   0.005778   \n",
       "TFT8_Janna                             0.000000                   0.035172   \n",
       "TFT8_Jax                               0.001478                   0.000000   \n",
       "TFT8_Jinx                              0.000000                   0.015674   \n",
       "TFT8_Kaisa                             0.000226                   0.001582   \n",
       "TFT8_Kayle                             0.000000                   0.002759   \n",
       "TFT8_Leblanc                           0.000298                   0.004762   \n",
       "TFT8_LeeSin                            0.000000                   0.008931   \n",
       "TFT8_Leona                             0.000000                   0.006492   \n",
       "TFT8_Lulu                              0.000000                   0.007212   \n",
       "TFT8_Lux                               0.000000                   0.006494   \n",
       "TFT8_Malphite                          0.000000                   0.004800   \n",
       "TFT8_MissFortune                       0.000000                   0.005521   \n",
       "TFT8_Mordekaiser                       0.000000                   0.002887   \n",
       "TFT8_Nasus                             0.000000                   0.004582   \n",
       "TFT8_Nilah                             0.000000                   0.006042   \n",
       "TFT8_Nunu                              0.000000                   0.000782   \n",
       "TFT8_Poppy                             0.000000                   0.006452   \n",
       "TFT8_Rammus                            0.000000                   0.003510   \n",
       "TFT8_Rell                              0.000000                   0.005146   \n",
       "TFT8_Renekton                          0.000000                   0.002408   \n",
       "TFT8_Riven                             0.000000                   0.000614   \n",
       "TFT8_Samira                            0.000169                   0.000337   \n",
       "TFT8_Sejuani                           0.000000                   0.010703   \n",
       "TFT8_Senna                             0.000000                   0.001278   \n",
       "TFT8_Sett                              0.000000                   0.003247   \n",
       "TFT8_Sivir                             0.000000                   0.005675   \n",
       "TFT8_Sona                              0.000000                   0.010783   \n",
       "TFT8_Soraka                            0.000142                   0.005695   \n",
       "TFT8_Sylas                             0.000000                   0.000000   \n",
       "TFT8_Syndra                            0.000548                   0.030137   \n",
       "TFT8_Taliyah                           0.000000                   0.000656   \n",
       "TFT8_Talon                             0.000000                   0.003350   \n",
       "TFT8_Urgot                             0.000437                   0.021853   \n",
       "TFT8_Vayne                             0.000000                   0.000989   \n",
       "TFT8_Velkoz                            0.000000                   0.014668   \n",
       "TFT8_Vi                                0.000000                   0.003413   \n",
       "TFT8_Viego                             0.000000                   0.001151   \n",
       "TFT8_WuKong                            0.000000                   0.000000   \n",
       "TFT8_Yasuo                             0.000000                   0.010743   \n",
       "TFT8_Yuumi                             0.000000                   0.005017   \n",
       "TFT8_Zac                               0.000000                   0.002984   \n",
       "TFT8_Zed                               0.000343                   0.000000   \n",
       "TFT8_Zoe                               0.000000                   0.006864   \n",
       "\n",
       "                   TFT_Item_GargoyleStoneplate  \\\n",
       "TFT8_Alistar                          0.054260   \n",
       "TFT8_Annie                            0.149033   \n",
       "TFT8_Aphelios                         0.001090   \n",
       "TFT8_Ashe                             0.000000   \n",
       "TFT8_AurelionSol                      0.000000   \n",
       "TFT8_BelVeth                          0.001334   \n",
       "TFT8_Blitzcrank                       0.090652   \n",
       "TFT8_Camille                          0.000568   \n",
       "TFT8_Chogath                          0.055015   \n",
       "TFT8_Draven                           0.000000   \n",
       "TFT8_Ekko                             0.085416   \n",
       "TFT8_Ezreal                           0.002425   \n",
       "TFT8_Fiddlesticks                     0.015862   \n",
       "TFT8_Fiora                            0.028857   \n",
       "TFT8_Galio                            0.069436   \n",
       "TFT8_Gangplank                        0.005365   \n",
       "TFT8_Janna                            0.002759   \n",
       "TFT8_Jax                              0.001478   \n",
       "TFT8_Jinx                             0.000000   \n",
       "TFT8_Kaisa                            0.000452   \n",
       "TFT8_Kayle                            0.000000   \n",
       "TFT8_Leblanc                          0.003571   \n",
       "TFT8_LeeSin                           0.027985   \n",
       "TFT8_Leona                            0.042447   \n",
       "TFT8_Lulu                             0.002404   \n",
       "TFT8_Lux                              0.000000   \n",
       "TFT8_Malphite                         0.082208   \n",
       "TFT8_MissFortune                      0.001183   \n",
       "TFT8_Mordekaiser                      0.019053   \n",
       "TFT8_Nasus                            0.020619   \n",
       "TFT8_Nilah                            0.072043   \n",
       "TFT8_Nunu                             0.018258   \n",
       "TFT8_Poppy                            0.083871   \n",
       "TFT8_Rammus                           0.100830   \n",
       "TFT8_Rell                             0.087479   \n",
       "TFT8_Renekton                         0.065008   \n",
       "TFT8_Riven                            0.046245   \n",
       "TFT8_Samira                           0.000506   \n",
       "TFT8_Sejuani                          0.065730   \n",
       "TFT8_Senna                            0.000639   \n",
       "TFT8_Sett                             0.112338   \n",
       "TFT8_Sivir                            0.004540   \n",
       "TFT8_Sona                             0.002783   \n",
       "TFT8_Soraka                           0.000997   \n",
       "TFT8_Sylas                            0.037657   \n",
       "TFT8_Syndra                           0.003288   \n",
       "TFT8_Taliyah                          0.000164   \n",
       "TFT8_Talon                            0.003350   \n",
       "TFT8_Urgot                            0.002622   \n",
       "TFT8_Vayne                            0.002374   \n",
       "TFT8_Velkoz                           0.001726   \n",
       "TFT8_Vi                               0.042662   \n",
       "TFT8_Viego                            0.000767   \n",
       "TFT8_WuKong                           0.023041   \n",
       "TFT8_Yasuo                            0.007006   \n",
       "TFT8_Yuumi                            0.000386   \n",
       "TFT8_Zac                              0.084535   \n",
       "TFT8_Zed                              0.000514   \n",
       "TFT8_Zoe                              0.000832   \n",
       "\n",
       "                   TFT8_Item_AnimaSquadEmblemItem  \\\n",
       "TFT8_Alistar                             0.002856   \n",
       "TFT8_Annie                               0.000000   \n",
       "TFT8_Aphelios                            0.001090   \n",
       "TFT8_Ashe                                0.000000   \n",
       "TFT8_AurelionSol                         0.002475   \n",
       "TFT8_BelVeth                             0.000445   \n",
       "TFT8_Blitzcrank                          0.000000   \n",
       "TFT8_Camille                             0.000568   \n",
       "TFT8_Chogath                             0.000974   \n",
       "TFT8_Draven                              0.000000   \n",
       "TFT8_Ekko                                0.005844   \n",
       "TFT8_Ezreal                              0.002425   \n",
       "TFT8_Fiddlesticks                        0.005062   \n",
       "TFT8_Fiora                               0.001110   \n",
       "TFT8_Galio                               0.000634   \n",
       "TFT8_Gangplank                           0.001651   \n",
       "TFT8_Janna                               0.006897   \n",
       "TFT8_Jax                                 0.000657   \n",
       "TFT8_Jinx                                0.000000   \n",
       "TFT8_Kaisa                               0.006555   \n",
       "TFT8_Kayle                               0.000000   \n",
       "TFT8_Leblanc                             0.000298   \n",
       "TFT8_LeeSin                              0.001489   \n",
       "TFT8_Leona                               0.003246   \n",
       "TFT8_Lulu                                0.000000   \n",
       "TFT8_Lux                                 0.000000   \n",
       "TFT8_Malphite                            0.000900   \n",
       "TFT8_MissFortune                         0.000000   \n",
       "TFT8_Mordekaiser                         0.003464   \n",
       "TFT8_Nasus                               0.000000   \n",
       "TFT8_Nilah                               0.005113   \n",
       "TFT8_Nunu                                0.004173   \n",
       "TFT8_Poppy                               0.006452   \n",
       "TFT8_Rammus                              0.000957   \n",
       "TFT8_Rell                                0.003431   \n",
       "TFT8_Renekton                            0.000000   \n",
       "TFT8_Riven                               0.000000   \n",
       "TFT8_Samira                              0.000506   \n",
       "TFT8_Sejuani                             0.001946   \n",
       "TFT8_Senna                               0.000639   \n",
       "TFT8_Sett                                0.003247   \n",
       "TFT8_Sivir                               0.001135   \n",
       "TFT8_Sona                                0.000348   \n",
       "TFT8_Soraka                              0.000285   \n",
       "TFT8_Sylas                               0.000000   \n",
       "TFT8_Syndra                              0.000548   \n",
       "TFT8_Taliyah                             0.000328   \n",
       "TFT8_Talon                               0.000000   \n",
       "TFT8_Urgot                               0.002622   \n",
       "TFT8_Vayne                               0.000000   \n",
       "TFT8_Velkoz                              0.000431   \n",
       "TFT8_Vi                                  0.002275   \n",
       "TFT8_Viego                               0.003070   \n",
       "TFT8_WuKong                              0.000000   \n",
       "TFT8_Yasuo                               0.000000   \n",
       "TFT8_Yuumi                               0.000193   \n",
       "TFT8_Zac                                 0.000000   \n",
       "TFT8_Zed                                 0.000514   \n",
       "TFT8_Zoe                                 0.000416   \n",
       "\n",
       "                   TFT5_Item_IonicSparkRadiant  TFT_Item_PowerGauntlet  \\\n",
       "TFT8_Alistar                          0.000238                0.003808   \n",
       "TFT8_Annie                            0.001258                0.001258   \n",
       "TFT8_Aphelios                         0.000000                0.028065   \n",
       "TFT8_Ashe                             0.000000                0.010909   \n",
       "TFT8_AurelionSol                      0.000000                0.022277   \n",
       "TFT8_BelVeth                          0.000445                0.020009   \n",
       "TFT8_Blitzcrank                       0.000000                0.002833   \n",
       "TFT8_Camille                          0.000568                0.007378   \n",
       "TFT8_Chogath                          0.000000                0.006329   \n",
       "TFT8_Draven                           0.000000                0.005405   \n",
       "TFT8_Ekko                             0.000373                0.005719   \n",
       "TFT8_Ezreal                           0.000000                0.016168   \n",
       "TFT8_Fiddlesticks                     0.000337                0.025650   \n",
       "TFT8_Fiora                            0.000000                0.005549   \n",
       "TFT8_Galio                            0.000951                0.004756   \n",
       "TFT8_Gangplank                        0.000413                0.012794   \n",
       "TFT8_Janna                            0.000000                0.002069   \n",
       "TFT8_Jax                              0.000000                0.008212   \n",
       "TFT8_Jinx                             0.000000                0.003135   \n",
       "TFT8_Kaisa                            0.000000                0.016275   \n",
       "TFT8_Kayle                            0.000000                0.009655   \n",
       "TFT8_Leblanc                          0.000298                0.017262   \n",
       "TFT8_LeeSin                           0.000298                0.002977   \n",
       "TFT8_Leona                            0.000250                0.009488   \n",
       "TFT8_Lulu                             0.000000                0.004808   \n",
       "TFT8_Lux                              0.000000                0.000000   \n",
       "TFT8_Malphite                         0.000000                0.004500   \n",
       "TFT8_MissFortune                      0.000000                0.031546   \n",
       "TFT8_Mordekaiser                      0.000577                0.020208   \n",
       "TFT8_Nasus                            0.000573                0.012027   \n",
       "TFT8_Nilah                            0.000232                0.007204   \n",
       "TFT8_Nunu                             0.000000                0.016432   \n",
       "TFT8_Poppy                            0.000000                0.006452   \n",
       "TFT8_Rammus                           0.000000                0.003191   \n",
       "TFT8_Rell                             0.000000                0.005146   \n",
       "TFT8_Renekton                         0.000000                0.007223   \n",
       "TFT8_Riven                            0.000205                0.004706   \n",
       "TFT8_Samira                           0.000000                0.022271   \n",
       "TFT8_Sejuani                          0.000216                0.002270   \n",
       "TFT8_Senna                            0.000000                0.016613   \n",
       "TFT8_Sett                             0.000000                0.001948   \n",
       "TFT8_Sivir                            0.000000                0.004540   \n",
       "TFT8_Sona                             0.000000                0.021217   \n",
       "TFT8_Soraka                           0.000000                0.027050   \n",
       "TFT8_Sylas                            0.000000                0.004184   \n",
       "TFT8_Syndra                           0.000000                0.006027   \n",
       "TFT8_Taliyah                          0.000000                0.048041   \n",
       "TFT8_Talon                            0.000000                0.010050   \n",
       "TFT8_Urgot                            0.000000                0.022290   \n",
       "TFT8_Vayne                            0.000000                0.024728   \n",
       "TFT8_Velkoz                           0.000000                0.012079   \n",
       "TFT8_Vi                               0.000853                0.004266   \n",
       "TFT8_Viego                            0.000000                0.014965   \n",
       "TFT8_WuKong                           0.000000                0.004608   \n",
       "TFT8_Yasuo                            0.000467                0.019150   \n",
       "TFT8_Yuumi                            0.000000                0.014473   \n",
       "TFT8_Zac                              0.000000                0.006464   \n",
       "TFT8_Zed                              0.000000                0.013027   \n",
       "TFT8_Zoe                              0.000000                0.010191   \n",
       "\n",
       "                   TFT8_Item_StarGuardianEmblemItem  \n",
       "TFT8_Alistar                               0.004998  \n",
       "TFT8_Annie                                 0.003144  \n",
       "TFT8_Aphelios                              0.000000  \n",
       "TFT8_Ashe                                  0.000000  \n",
       "TFT8_AurelionSol                           0.002888  \n",
       "TFT8_BelVeth                               0.000000  \n",
       "TFT8_Blitzcrank                            0.000944  \n",
       "TFT8_Camille                               0.000000  \n",
       "TFT8_Chogath                               0.001461  \n",
       "TFT8_Draven                                0.000000  \n",
       "TFT8_Ekko                                  0.000000  \n",
       "TFT8_Ezreal                                0.003234  \n",
       "TFT8_Fiddlesticks                          0.000675  \n",
       "TFT8_Fiora                                 0.001110  \n",
       "TFT8_Galio                                 0.000317  \n",
       "TFT8_Gangplank                             0.001238  \n",
       "TFT8_Janna                                 0.028966  \n",
       "TFT8_Jax                                   0.000000  \n",
       "TFT8_Jinx                                  0.006270  \n",
       "TFT8_Kaisa                                 0.000000  \n",
       "TFT8_Kayle                                 0.000000  \n",
       "TFT8_Leblanc                               0.003869  \n",
       "TFT8_LeeSin                                0.001489  \n",
       "TFT8_Leona                                 0.001498  \n",
       "TFT8_Lulu                                  0.002404  \n",
       "TFT8_Lux                                   0.000000  \n",
       "TFT8_Malphite                              0.000300  \n",
       "TFT8_MissFortune                           0.003155  \n",
       "TFT8_Mordekaiser                           0.004619  \n",
       "TFT8_Nasus                                 0.001145  \n",
       "TFT8_Nilah                                 0.000000  \n",
       "TFT8_Nunu                                  0.005738  \n",
       "TFT8_Poppy                                 0.012903  \n",
       "TFT8_Rammus                                0.000319  \n",
       "TFT8_Rell                                  0.000000  \n",
       "TFT8_Renekton                              0.000000  \n",
       "TFT8_Riven                                 0.002455  \n",
       "TFT8_Samira                                0.000000  \n",
       "TFT8_Sejuani                               0.000649  \n",
       "TFT8_Senna                                 0.000000  \n",
       "TFT8_Sett                                  0.000649  \n",
       "TFT8_Sivir                                 0.001135  \n",
       "TFT8_Sona                                  0.020522  \n",
       "TFT8_Soraka                                0.002847  \n",
       "TFT8_Sylas                                 0.000000  \n",
       "TFT8_Syndra                                0.000000  \n",
       "TFT8_Taliyah                               0.000000  \n",
       "TFT8_Talon                                 0.000000  \n",
       "TFT8_Urgot                                 0.003497  \n",
       "TFT8_Vayne                                 0.002176  \n",
       "TFT8_Velkoz                                0.002588  \n",
       "TFT8_Vi                                    0.000284  \n",
       "TFT8_Viego                                 0.000384  \n",
       "TFT8_WuKong                                0.009217  \n",
       "TFT8_Yasuo                                 0.000934  \n",
       "TFT8_Yuumi                                 0.000000  \n",
       "TFT8_Zac                                   0.001492  \n",
       "TFT8_Zed                                   0.000000  \n",
       "TFT8_Zoe                                   0.001040  \n",
       "\n",
       "[59 rows x 124 columns]"
      ]
     },
     "execution_count": 109,
     "metadata": {},
     "output_type": "execute_result"
    }
   ],
   "source": [
    "data_model = data_model.fillna(0).T\n",
    "data_model"
   ]
  },
  {
   "cell_type": "code",
   "execution_count": 110,
   "metadata": {},
   "outputs": [],
   "source": [
    "# print(data_model.loc['TFT8_Lux'].sort_values(ascending=False)[:10])"
   ]
  },
  {
   "attachments": {},
   "cell_type": "markdown",
   "metadata": {},
   "source": [
    "Lưu dữ liệu vào file csv"
   ]
  },
  {
   "cell_type": "code",
   "execution_count": 111,
   "metadata": {},
   "outputs": [],
   "source": [
    "# data_model.to_csv('data_model_csv.csv')"
   ]
  },
  {
   "attachments": {},
   "cell_type": "markdown",
   "metadata": {},
   "source": [
    "Sử dụng dữ liệu được tạo ra phía trên để thực hiện gom cụm bằng thuật toán của thư viện sklearn với số cụm là 4 tương ứng với 4 nhóm tướng chính của trò chơi này:"
   ]
  },
  {
   "cell_type": "code",
   "execution_count": 112,
   "metadata": {},
   "outputs": [
    {
     "data": {
      "text/plain": [
       "array([3, 3, 0, 0, 1, 0, 3, 0, 3, 0, 3, 1, 2, 2, 3, 2, 2, 0, 2, 2, 0, 2,\n",
       "       2, 3, 1, 2, 3, 1, 2, 2, 3, 2, 3, 3, 3, 3, 3, 0, 3, 0, 3, 0, 1, 1,\n",
       "       3, 2, 1, 2, 2, 0, 1, 3, 2, 2, 2, 1, 3, 0, 1], dtype=int64)"
      ]
     },
     "execution_count": 112,
     "metadata": {},
     "output_type": "execute_result"
    }
   ],
   "source": [
    "clustering = AgglomerativeClustering(n_clusters=4).fit(data_model)\n",
    "clustering.labels_"
   ]
  },
  {
   "attachments": {},
   "cell_type": "markdown",
   "metadata": {},
   "source": [
    "Sau khi gom cụm xong ta phân được 4 nhóm khác nhau, bây giờ ta gắn nó với tên nhóm tương ứng:"
   ]
  },
  {
   "cell_type": "code",
   "execution_count": 113,
   "metadata": {},
   "outputs": [
    {
     "name": "stdout",
     "output_type": "stream",
     "text": [
      "TFT8_Alistar :  tank\n",
      "TFT8_Annie :  tank\n",
      "TFT8_Aphelios :  dame\n",
      "TFT8_Ashe :  dame\n",
      "TFT8_AurelionSol :  magic\n",
      "TFT8_BelVeth :  dame\n",
      "TFT8_Blitzcrank :  tank\n",
      "TFT8_Camille :  dame\n",
      "TFT8_Chogath :  tank\n",
      "TFT8_Draven :  dame\n",
      "TFT8_Ekko :  tank\n",
      "TFT8_Ezreal :  magic\n",
      "TFT8_Fiddlesticks :  utility\n",
      "TFT8_Fiora :  utility\n",
      "TFT8_Galio :  tank\n",
      "TFT8_Gangplank :  utility\n",
      "TFT8_Janna :  utility\n",
      "TFT8_Jax :  dame\n",
      "TFT8_Jinx :  utility\n",
      "TFT8_Kaisa :  utility\n",
      "TFT8_Kayle :  dame\n",
      "TFT8_Leblanc :  utility\n",
      "TFT8_LeeSin :  utility\n",
      "TFT8_Leona :  tank\n",
      "TFT8_Lulu :  magic\n",
      "TFT8_Lux :  utility\n",
      "TFT8_Malphite :  tank\n",
      "TFT8_MissFortune :  magic\n",
      "TFT8_Mordekaiser :  utility\n",
      "TFT8_Nasus :  utility\n",
      "TFT8_Nilah :  tank\n",
      "TFT8_Nunu :  utility\n",
      "TFT8_Poppy :  tank\n",
      "TFT8_Rammus :  tank\n",
      "TFT8_Rell :  tank\n",
      "TFT8_Renekton :  tank\n",
      "TFT8_Riven :  tank\n",
      "TFT8_Samira :  dame\n",
      "TFT8_Sejuani :  tank\n",
      "TFT8_Senna :  dame\n",
      "TFT8_Sett :  tank\n",
      "TFT8_Sivir :  dame\n",
      "TFT8_Sona :  magic\n",
      "TFT8_Soraka :  magic\n",
      "TFT8_Sylas :  tank\n",
      "TFT8_Syndra :  utility\n",
      "TFT8_Taliyah :  magic\n",
      "TFT8_Talon :  utility\n",
      "TFT8_Urgot :  utility\n",
      "TFT8_Vayne :  dame\n",
      "TFT8_Velkoz :  magic\n",
      "TFT8_Vi :  tank\n",
      "TFT8_Viego :  utility\n",
      "TFT8_WuKong :  utility\n",
      "TFT8_Yasuo :  utility\n",
      "TFT8_Yuumi :  magic\n",
      "TFT8_Zac :  tank\n",
      "TFT8_Zed :  dame\n",
      "TFT8_Zoe :  magic\n"
     ]
    }
   ],
   "source": [
    "champ_type = ['dame', 'magic','utility','tank']\n",
    "for i in range(len(data_model.index)):\n",
    "    print(data_model.index[i], ': ', champ_type[clustering.labels_[i]])"
   ]
  },
  {
   "attachments": {},
   "cell_type": "markdown",
   "metadata": {},
   "source": [
    "##### Thế là ta đã có được từng vị tướng sẽ có vai trò gì trong đội hình để dễ dàng cho việc sắp xếp (ví dụ nhưng tướng tank đứng trước tướng dame, phép đứng sau) và lên đồ cho chúng như thế nào (tank thì lên các món tăng chống chịu, pháp sư thì lên đồ phép còn dame thì lên đồ sát thương vật lý). Những người chơi mới có thể dựa vào đây mà làm quen trò chơi này nhanh hơn và cảm thấy thú vị hơn."
   ]
  }
 ],
 "metadata": {
  "kernelspec": {
   "display_name": "min_ds-env",
   "language": "python",
   "name": "python3"
  },
  "language_info": {
   "codemirror_mode": {
    "name": "ipython",
    "version": 3
   },
   "file_extension": ".py",
   "mimetype": "text/x-python",
   "name": "python",
   "nbconvert_exporter": "python",
   "pygments_lexer": "ipython3",
   "version": "3.8.8"
  },
  "vscode": {
   "interpreter": {
    "hash": "79aebf84914f6662b95d7ae9134837db3a2655ed7c44a08451f0a7933632525e"
   }
  }
 },
 "nbformat": 4,
 "nbformat_minor": 2
}
