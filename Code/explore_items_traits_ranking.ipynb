{
 "cells": [
  {
   "attachments": {},
   "cell_type": "markdown",
   "metadata": {},
   "source": [
    "## TÍNH TOÁN VÀ VẼ BIỂU ĐỒ TRÒN CỦA TRANG BỊ TỘC VÀ HỆ"
   ]
  },
  {
   "cell_type": "code",
   "execution_count": 4,
   "metadata": {},
   "outputs": [],
   "source": [
    "import pandas as pd\n",
    "import numpy as np\n",
    "import ast\n",
    "from itertools import chain"
   ]
  },
  {
   "attachments": {},
   "cell_type": "markdown",
   "metadata": {},
   "source": [
    "### ĐỌC DỮ LIỆU ĐỂ LẤY TẤT CẢ CÁC MÓN ĐỒ"
   ]
  },
  {
   "cell_type": "code",
   "execution_count": 5,
   "metadata": {},
   "outputs": [],
   "source": [
    "'''\n",
    "Lọc trùng theo mã trận đấu và danh sách đồ vì:\n",
    "* Các người chơi sẽ gặp nhau ở các trận đấu nên mã trận đấu sẽ bị trùng giữa các thư mục ngườichơi\n",
    "* Có 127 trang bị chia thành 4 loại, mỗi champion có tối đa 3 trang bị chưa kể 1 trận có từ 8-10 trang bị và 6-9 champion \n",
    "mà mỗi champion có thể để từ 0-3 trang bị nên số trường hợp tối đa là rất lớn mà dữ liệu đầu vào chỉ có 32000 đội hình nên các bộ trang bị\n",
    "sẽ không thể bị trùng giữa 2 người chơi khác nhau được!\n",
    "'''\n",
    "item_df = pd.read_csv('../Data/process_data_tft_each_item_csv.csv', usecols=[\n",
    "                      'ID Match', 'List Name Item']).drop_duplicates().reset_index(drop=True)\n",
    "# item_df = pd.read_csv('process_data_tft_each_item_csv.csv').drop_duplicates()"
   ]
  },
  {
   "attachments": {},
   "cell_type": "markdown",
   "metadata": {},
   "source": [
    "số lượng trận đấu thực tế từ dữ liệu rút trích về"
   ]
  },
  {
   "cell_type": "code",
   "execution_count": 6,
   "metadata": {},
   "outputs": [
    {
     "data": {
      "text/plain": [
       "18096"
      ]
     },
     "execution_count": 6,
     "metadata": {},
     "output_type": "execute_result"
    }
   ],
   "source": [
    "len(item_df)"
   ]
  },
  {
   "attachments": {},
   "cell_type": "markdown",
   "metadata": {},
   "source": [
    "### LẤY RA SỐ LƯỢNG ĐỒ CÓ TRONG TRẬN ĐẤU\n",
    "vì dữ liệu list được lưu vào csv thì sẽ tự động biến đổi thành 1 string. vì thế ta phải tự mình biến đổi về lại list. May mắn thay đã có thư viện làm việc đó giúp ta :)\n",
    "\n",
    "**ast.literak_eval**: dùng để biến đổi string thành list"
   ]
  },
  {
   "cell_type": "code",
   "execution_count": 7,
   "metadata": {},
   "outputs": [],
   "source": [
    "list_items = []\n",
    "for i in range(len(item_df['List Name Item'])):\n",
    "    list_items.append(ast.literal_eval(item_df['List Name Item'][i])) "
   ]
  },
  {
   "attachments": {},
   "cell_type": "markdown",
   "metadata": {},
   "source": [
    "### TÌM RA MÓN ĐỒ ĐƯỢC SỬ DỤNG NHIỀU NHẤT VÀ ÍT NHẤT"
   ]
  },
  {
   "attachments": {},
   "cell_type": "markdown",
   "metadata": {},
   "source": [
    "ta giảm chiều list item lại bằng list(chain.from_iterable)\n",
    "\n",
    "hàm zip dùng để biến 2 list được cho ra thành key và values\n",
    "\n",
    "list(chain) dùng để ép mảng xuống còn 1D và sau đó sort lại\n",
    "\n",
    "sau đó ta rút trích ra được những món đồ tốt nhất và món đồ tệ nhất"
   ]
  },
  {
   "cell_type": "code",
   "execution_count": 8,
   "metadata": {},
   "outputs": [],
   "source": [
    "def get_best_worst_items(list_items):\n",
    "    flatten_list = list(chain.from_iterable(list_items))\n",
    "    flatten_list = list(chain.from_iterable(flatten_list))\n",
    "    flatten_list = np.array(flatten_list, dtype = object)\n",
    "    unique, counts = np.unique(flatten_list, return_counts=True)\n",
    "    a = dict(zip(unique, counts))\n",
    "    b = dict(sorted(a.items(), key=lambda item: item[1]))\n",
    "    best_item = list(b.items())\n",
    "    worst_item = list(b.items())[0:5]\n",
    "    return best_item,worst_item"
   ]
  },
  {
   "cell_type": "code",
   "execution_count": 9,
   "metadata": {},
   "outputs": [],
   "source": [
    "best_item,worst_item = get_best_worst_items(list_items)"
   ]
  },
  {
   "attachments": {},
   "cell_type": "markdown",
   "metadata": {},
   "source": [
    "5 món đồ tốt nhất và tệ nhất"
   ]
  },
  {
   "cell_type": "code",
   "execution_count": 10,
   "metadata": {},
   "outputs": [
    {
     "name": "stdout",
     "output_type": "stream",
     "text": [
      "[('TFT5_Item_MorellonomiconRadiant', 12), ('TFT5_Item_ShroudOfStillnessRadiant', 12), ('TFT5_Item_FrozenHeartRadiant', 14), ('TFT5_Item_LastWhisperRadiant', 14), ('TFT5_Item_RedemptionRadiant', 14)]\n"
     ]
    }
   ],
   "source": [
    "print(best_item[:5])"
   ]
  },
  {
   "cell_type": "code",
   "execution_count": 11,
   "metadata": {},
   "outputs": [
    {
     "name": "stdout",
     "output_type": "stream",
     "text": [
      "[('TFT5_Item_MorellonomiconRadiant', 12), ('TFT5_Item_ShroudOfStillnessRadiant', 12), ('TFT5_Item_FrozenHeartRadiant', 14), ('TFT5_Item_LastWhisperRadiant', 14), ('TFT5_Item_RedemptionRadiant', 14)]\n"
     ]
    }
   ],
   "source": [
    "print(worst_item)"
   ]
  },
  {
   "attachments": {},
   "cell_type": "markdown",
   "metadata": {},
   "source": [
    "### TÌM VỊ TRÍ TRUNG BÌNH CỦA MÓN ĐỒ ĐÓ TRONG TRẬN ĐẤU"
   ]
  },
  {
   "attachments": {},
   "cell_type": "markdown",
   "metadata": {},
   "source": [
    "\n",
    "khi người chơi sử dụng món đồ đó thì sẽ được lọt vào top mấy của game"
   ]
  },
  {
   "cell_type": "code",
   "execution_count": 15,
   "metadata": {},
   "outputs": [],
   "source": [
    "average_df = pd.read_csv('../Data/process_data_tft_each_item_csv.csv', usecols = ['Puuid', 'Placement', 'List Name Item']).drop_duplicates().reset_index(drop = True)"
   ]
  },
  {
   "attachments": {},
   "cell_type": "markdown",
   "metadata": {},
   "source": [
    "chuyển đổi string sang list nhưng lần này ta để trong hàm để dễ sử dụng và nhìn trực quan hơn"
   ]
  },
  {
   "cell_type": "code",
   "execution_count": 16,
   "metadata": {},
   "outputs": [],
   "source": [
    "def convert_string_to_list(ok, placement, column):\n",
    "    temp = ok[ok.eq(placement).any(1)].reset_index(drop=True)\n",
    "    top = []\n",
    "    for i in range(len(temp)):\n",
    "        top.append(ast.literal_eval(temp[column][i]))\n",
    "    return top"
   ]
  },
  {
   "attachments": {},
   "cell_type": "markdown",
   "metadata": {},
   "source": [
    "lọc ra trong những top từ 1 đến 8 số lần item đó được sử dụng. Vòng for để duyệt từng top, sau đó lấy ra số lần sử dụn item đó"
   ]
  },
  {
   "cell_type": "code",
   "execution_count": 17,
   "metadata": {},
   "outputs": [],
   "source": [
    "item_on_top = {}\n",
    "for i in range(1,9,1):\n",
    "    temp = convert_string_to_list(average_df, i, 'List Name Item')\n",
    "    temp1 = 'top_' + str(i)\n",
    "    item_on_top[temp1] = get_best_worst_items(temp)"
   ]
  },
  {
   "attachments": {},
   "cell_type": "markdown",
   "metadata": {},
   "source": [
    "5 item tốt nhất mà người chơi top 1 sử dụng"
   ]
  },
  {
   "attachments": {},
   "cell_type": "markdown",
   "metadata": {},
   "source": [
    "nếu muốn xem các top khác thì chỉ cần thay đổi string\"top_1\" thành các top khác"
   ]
  },
  {
   "cell_type": "code",
   "execution_count": 19,
   "metadata": {},
   "outputs": [
    {
     "name": "stdout",
     "output_type": "stream",
     "text": [
      "[('TFT_Item_SeraphsEmbrace', 1054), ('TFT_Item_IonicSpark', 1114), ('TFT_Item_JeweledGauntlet', 1184), ('TFT_Item_RedBuff', 1194), ('TFT_Item_MadredsBloodrazor', 1510)]\n"
     ]
    }
   ],
   "source": [
    "best_item_top_1, worst_item_top_1 = item_on_top['top_1']\n",
    "print(best_item_top_1[-5:])"
   ]
  },
  {
   "attachments": {},
   "cell_type": "markdown",
   "metadata": {},
   "source": [
    "và 5 item tệ nhất mà người chơi top 1 sử dụng"
   ]
  },
  {
   "cell_type": "code",
   "execution_count": 22,
   "metadata": {},
   "outputs": [
    {
     "name": "stdout",
     "output_type": "stream",
     "text": [
      "[('TFT5_Item_RapidFirecannonRadiant', 1), ('TFT5_Item_StatikkShivRadiant', 1), ('TFT5_Item_ArchangelsStaffRadiant', 2), ('TFT5_Item_ChaliceOfPowerRadiant', 2), ('TFT5_Item_GargoyleStoneplateRadiant', 2)]\n"
     ]
    }
   ],
   "source": [
    "print(worst_item_top_1)"
   ]
  },
  {
   "attachments": {},
   "cell_type": "markdown",
   "metadata": {},
   "source": [
    "### TỈ LỆ CỦA MÓN ĐỒ ĐÓ TRONG TRẬN ĐẤU VÀ SỐ LẦN XUẤT HIỆN CỦA MÓN ĐỒ TRONG TỪNG TOP CỦA TRẬN ĐẤU"
   ]
  },
  {
   "cell_type": "code",
   "execution_count": 23,
   "metadata": {},
   "outputs": [],
   "source": [
    "all_item_df = pd.read_csv(\"../Data/item_tft_csv.csv\", usecols=[\"Item\"])"
   ]
  },
  {
   "cell_type": "code",
   "execution_count": 24,
   "metadata": {},
   "outputs": [],
   "source": [
    "all_items = all_item_df['Item'].to_list()"
   ]
  },
  {
   "attachments": {},
   "cell_type": "markdown",
   "metadata": {},
   "source": [
    "item_avg_top: vị trí trung bình của món đồ khi ở trong top từ 1 đến 8\n",
    "\n",
    "Nghĩa là khi món đồ đó được sử dụng thì trung bình bạn sẽ vào được top mấy\n",
    "\n",
    "item_avg_on_match: tỉ lệ số trận đấu từ top 1 đến 8 mà món đồ đó được sử dụng\n",
    "\n",
    "Nghĩa là tần suất sử dụng của món đồ đó trong từng top"
   ]
  },
  {
   "cell_type": "code",
   "execution_count": 26,
   "metadata": {},
   "outputs": [],
   "source": [
    "sum = 0\n",
    "temp = 0\n",
    "item_avg_top = []\n",
    "item_avg_on_match = []\n",
    "match_each_top = []\n",
    "for item in all_items:\n",
    "    temp1 = []\n",
    "    temp2 = []\n",
    "    for i in range(1,9,1):\n",
    "        cc = dict(item_on_top['top_' + str(i)][0])\n",
    "        if(item in cc):\n",
    "            temp = temp+dict(item_on_top['top_' + str(i)][0])[item]*i\n",
    "            sum = sum + (dict(item_on_top['top_' + str(i)][0])[item])\n",
    "        temp2.append(sum/32000)\n",
    "        item_avg_on_match.append(temp2)\n",
    "    temp1.append(temp/sum)\n",
    "    item_avg_top.append(temp1)\n",
    "    temp = 0\n",
    "    sum = 0"
   ]
  },
  {
   "attachments": {},
   "cell_type": "markdown",
   "metadata": {},
   "source": [
    "như ta thấy ở đây, món đồ đầu tiên sẽ có avg_top là 4.03: nghĩa là nếu bạn sử dụng món đồ đó thì tỉ lệ top mà bạn đạt được là 4.03. còn avg_on_match: nghĩa là món đồ đó trong từng top thì tần suất xuất hiện là bao nhiêu"
   ]
  },
  {
   "cell_type": "code",
   "execution_count": 27,
   "metadata": {},
   "outputs": [
    {
     "name": "stdout",
     "output_type": "stream",
     "text": [
      "[4.0321428571428575] [0.00153125, 0.00290625, 0.00409375, 0.00509375, 0.0063125, 0.007, 0.00778125, 0.00875]\n"
     ]
    }
   ],
   "source": [
    "print(item_avg_top[0], item_avg_on_match[0])"
   ]
  },
  {
   "attachments": {},
   "cell_type": "markdown",
   "metadata": {},
   "source": [
    "## TƯƠNG TỰ VỚI TỘC VÀ HỆ"
   ]
  },
  {
   "attachments": {},
   "cell_type": "markdown",
   "metadata": {},
   "source": [
    "#### đọc dữ liệu để lấy hệ và tộc"
   ]
  },
  {
   "cell_type": "code",
   "execution_count": 31,
   "metadata": {},
   "outputs": [],
   "source": [
    "traits_df = pd.read_csv('../Data/process_data_tft_general_csv.csv', usecols = ['ID Match','List Traits','List Number Items']).drop_duplicates().reset_index(drop=True)"
   ]
  },
  {
   "cell_type": "code",
   "execution_count": 32,
   "metadata": {},
   "outputs": [],
   "source": [
    "list_traits = []\n",
    "\n",
    "for i in range(len(traits_df['List Traits'])):\n",
    "    list_traits.append(ast.literal_eval(traits_df['List Traits'][i])) "
   ]
  },
  {
   "attachments": {},
   "cell_type": "markdown",
   "metadata": {},
   "source": [
    "### TÌM RA TỘC HỆ ĐƯỢC SỬ DỤNG NHIỀU NHẤT VÀ ÍT NHẤT"
   ]
  },
  {
   "cell_type": "code",
   "execution_count": 33,
   "metadata": {},
   "outputs": [],
   "source": [
    "def get_best_worst_traits(list_traits):\n",
    "    flatten_list = list(chain.from_iterable(list_traits))\n",
    "    flatten_list = np.array(flatten_list, dtype = object)\n",
    "    cc = flatten_list[0::3]\n",
    "    unique, counts= np.unique(cc, return_counts=True)\n",
    "    a = dict(zip(unique, counts))\n",
    "    b = dict(sorted(a.items(), key=lambda item: item[1]))\n",
    "    best_traits = list(b.items())\n",
    "    worst_traits = list(b.items())[:5]\n",
    "    return best_traits, worst_traits"
   ]
  },
  {
   "attachments": {},
   "cell_type": "markdown",
   "metadata": {},
   "source": [
    "5 tộc hệ tốt nhất và tệ nhất trong trò chơi này"
   ]
  },
  {
   "cell_type": "code",
   "execution_count": 35,
   "metadata": {},
   "outputs": [
    {
     "name": "stdout",
     "output_type": "stream",
     "text": [
      "[('Set8_OxForce', 10648), ('Set8_Mascot', 11301), ('Set8_Brawler', 11791), ('Set8_StarGuardian', 12293), ('Set8_Aegis', 13821)]\n"
     ]
    }
   ],
   "source": [
    "a, b = get_best_worst_traits(list_traits)\n",
    "print(a[-5:])"
   ]
  },
  {
   "cell_type": "code",
   "execution_count": 36,
   "metadata": {},
   "outputs": [
    {
     "name": "stdout",
     "output_type": "stream",
     "text": [
      "[('Set8_Arsenal', 2083), ('Set8_Corrupted', 2743), ('Set8_Forecaster', 3248), ('Set8_Deadeye', 3851), ('Set8_Recon', 4189)]\n"
     ]
    }
   ],
   "source": [
    "print(b)"
   ]
  },
  {
   "attachments": {},
   "cell_type": "markdown",
   "metadata": {},
   "source": [
    "### VỊ TRÍ TRUNG BÌNH CỦA TỘC VÀ HỆ"
   ]
  },
  {
   "cell_type": "code",
   "execution_count": 37,
   "metadata": {},
   "outputs": [],
   "source": [
    "list_traits_df = pd.read_csv('../Data/process_data_tft_general_csv.csv', usecols= ['Placement', 'List Traits','ID Match']).drop_duplicates().reset_index(drop=True)"
   ]
  },
  {
   "attachments": {},
   "cell_type": "markdown",
   "metadata": {},
   "source": [
    "Tộc và hệ tốt nhất và tệ nhất ở top 1. Ta làm tương tự như với món đồ."
   ]
  },
  {
   "cell_type": "code",
   "execution_count": 38,
   "metadata": {},
   "outputs": [],
   "source": [
    "traits_on_top = {}\n",
    "for i in range(1,9,1):\n",
    "    temp = convert_string_to_list(list_traits_df, i, 'List Traits')\n",
    "    temp1 = 'top_' + str(i)\n",
    "    traits_on_top[temp1] = get_best_worst_traits(temp)"
   ]
  },
  {
   "attachments": {},
   "cell_type": "markdown",
   "metadata": {},
   "source": [
    "5 tộc hệ tốt và tệ nhất trong top 1"
   ]
  },
  {
   "cell_type": "code",
   "execution_count": 42,
   "metadata": {},
   "outputs": [
    {
     "name": "stdout",
     "output_type": "stream",
     "text": [
      "[('Set8_Brawler', 1446), ('Set8_OxForce', 1450), ('Set8_Mascot', 1575), ('Set8_StarGuardian', 1626), ('Set8_Aegis', 1859)]\n"
     ]
    }
   ],
   "source": [
    "best_traits_on_top_1, worst_traits_on_top_1 = traits_on_top['top_1']\n",
    "print(best_traits_on_top_1[-5:])"
   ]
  },
  {
   "cell_type": "code",
   "execution_count": 45,
   "metadata": {},
   "outputs": [
    {
     "name": "stdout",
     "output_type": "stream",
     "text": [
      "[('Set8_Arsenal', 368), ('Set8_Recon', 379), ('Set8_Deadeye', 535), ('Set8_Corrupted', 541), ('Set8_Defender', 588)]\n"
     ]
    }
   ],
   "source": [
    "print(worst_traits_on_top_1)"
   ]
  },
  {
   "attachments": {},
   "cell_type": "markdown",
   "metadata": {},
   "source": [
    "### TỈ LỆ CỦA TỘC HỆ ĐÓ TRONG TRẬN ĐẤU VÀ SỐ LẦN XUẤT HIỆN CỦA TỘC HỆ TRONG TỪNG TOP CỦA TRẬN ĐẤU"
   ]
  },
  {
   "attachments": {},
   "cell_type": "markdown",
   "metadata": {},
   "source": [
    "traits_avg_top: tộc hệ trung bình trong các top trận đấu\n",
    "\n",
    "traits_avg_on_match: tần suất xuất hiện của tộc hệ trong trận đấu"
   ]
  },
  {
   "cell_type": "code",
   "execution_count": 46,
   "metadata": {},
   "outputs": [],
   "source": [
    "all_traits_df = pd.read_csv('../Data/TocHe.csv', usecols=['Trait'])"
   ]
  },
  {
   "cell_type": "code",
   "execution_count": 47,
   "metadata": {},
   "outputs": [],
   "source": [
    "all_traits = all_traits_df['Trait'].to_list()"
   ]
  },
  {
   "attachments": {},
   "cell_type": "markdown",
   "metadata": {},
   "source": [
    "**traits_avg_top**:  vị trí trung bình của tộc hệ khi ở trong top từ 1 đến 8\n",
    "\n",
    "Nghĩa là tộc hệ đó nếu được kích hoạt thì vị trí trung bình của nó là bao nhiêu\n",
    "\n",
    "**traits_avg_on_match**: tỉ lệ số trận đấu từ top 1 đến 8 mà tộc hệ đó được sử dụng\n",
    "\n",
    "Nghĩa là mỗi top tần suất xuất hiện tộc hệ đó là bao nhiêu"
   ]
  },
  {
   "cell_type": "code",
   "execution_count": 42,
   "metadata": {},
   "outputs": [],
   "source": [
    "sum = 0\n",
    "temp = 0\n",
    "traits_avg_top = []\n",
    "traits_avg_on_match = []\n",
    "for item in all_traits:\n",
    "    temp1 = []\n",
    "    temp2 = []\n",
    "    for i in range(1,9,1):\n",
    "        cc = dict(traits_on_top['top_' + str(i)][0])\n",
    "        if(item in cc):\n",
    "            temp = temp+dict(traits_on_top['top_' + str(i)][0])[item]*i\n",
    "            sum = sum + (dict(traits_on_top['top_' + str(i)][0])[item]) \n",
    "        temp2.append(sum/32000)\n",
    "        traits_avg_on_match.append(temp2)\n",
    "    temp1.append(temp/sum)\n",
    "    traits_avg_top.append(temp1)\n",
    "    \n",
    "    temp = 0\n",
    "    sum = 0"
   ]
  },
  {
   "attachments": {},
   "cell_type": "markdown",
   "metadata": {},
   "source": [
    "nếu kích hoạt được tộc hệ đầu tiên này thì top của bạn sẽ là 4.31, tần suất xuât hiện của tộc hệ theo từng top cũng được hiển thị ra."
   ]
  },
  {
   "cell_type": "code",
   "execution_count": 43,
   "metadata": {},
   "outputs": [
    {
     "name": "stdout",
     "output_type": "stream",
     "text": [
      "[4.317058172426516] [0.03509375, 0.06921875, 0.103125, 0.13615625, 0.16725, 0.19740625, 0.2275625, 0.25409375]\n"
     ]
    }
   ],
   "source": [
    "print(traits_avg_top[0], traits_avg_on_match[0])"
   ]
  }
 ],
 "metadata": {
  "kernelspec": {
   "display_name": "min_ds-env",
   "language": "python",
   "name": "python3"
  },
  "language_info": {
   "codemirror_mode": {
    "name": "ipython",
    "version": 3
   },
   "file_extension": ".py",
   "mimetype": "text/x-python",
   "name": "python",
   "nbconvert_exporter": "python",
   "pygments_lexer": "ipython3",
   "version": "3.8.8 | packaged by conda-forge | (default, Feb 20 2021, 15:50:08) [MSC v.1916 64 bit (AMD64)]"
  },
  "orig_nbformat": 4,
  "vscode": {
   "interpreter": {
    "hash": "1376b7d9f14531d76db176389414f8a4a73502f1aa581cb356349fabafd1ad74"
   }
  }
 },
 "nbformat": 4,
 "nbformat_minor": 2
}
