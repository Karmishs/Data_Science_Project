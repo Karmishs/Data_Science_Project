{
 "cells": [
  {
   "attachments": {},
   "cell_type": "markdown",
   "metadata": {},
   "source": [
    "### I) XỬ LÝ DỮ LIỆU TRẬN ĐẤU ĐƯỢC RÚT TRÍCH TỪ API VÀ LƯU TRỮ VÀO DATAFRAME"
   ]
  },
  {
   "cell_type": "code",
   "execution_count": 3,
   "metadata": {},
   "outputs": [],
   "source": [
    "import requests\n",
    "import json\n",
    "import pandas as pd\n",
    "import os \n",
    "import glob\n",
    "import numpy as np\n",
    "import csv"
   ]
  },
  {
   "attachments": {},
   "cell_type": "markdown",
   "metadata": {},
   "source": [
    "#### hàm get_all_json đọc tất cả các file json của từng người chơi và lưu vào biến all_players\n",
    "\n",
    "path_to_json: lấy đường dẫn của từng người chơi trong từng server\n",
    "\n",
    "json_files: lấy ra 20 file json của người chơi\n",
    "\n",
    "vòng for để lưu từng file json vào biến data dưới dạng mảng"
   ]
  },
  {
   "cell_type": "code",
   "execution_count": 5,
   "metadata": {},
   "outputs": [],
   "source": [
    "def get_all_json(player, region):\n",
    "    data = []\n",
    "    path_to_json = 'PROJECT/Data_Match/' + region + '/'+player+'/'\n",
    "    path_to_json = path_to_json.to_string()\n",
    "    path_to_json = path_to_json[path_to_json.find(\"..\"):len(path_to_json)]\n",
    "\n",
    "    json_files = [pos_json for pos_json in os.listdir(path_to_json) if pos_json.endswith('.json')]\n",
    "    for i in range(len(json_files)):\n",
    "        f = open(path_to_json + json_files[i], \"r\")\n",
    "        data.append(json.loads(f.read()))\n",
    "        f.close()\n",
    "    return data"
   ]
  },
  {
   "attachments": {},
   "cell_type": "markdown",
   "metadata": {},
   "source": [
    "hàm apply để chạy duyệt từng tên trong 2 server NA và KR"
   ]
  },
  {
   "cell_type": "code",
   "execution_count": 13,
   "metadata": {},
   "outputs": [
    {
     "ename": "FileNotFoundError",
     "evalue": "[Errno 2] No such file or directory: 'PROJECT/Data/data_summoner_tft_csv.csv'",
     "output_type": "error",
     "traceback": [
      "\u001b[1;31m---------------------------------------------------------------------------\u001b[0m",
      "\u001b[1;31mFileNotFoundError\u001b[0m                         Traceback (most recent call last)",
      "Cell \u001b[1;32mIn [13], line 1\u001b[0m\n\u001b[1;32m----> 1\u001b[0m df \u001b[39m=\u001b[39m pd\u001b[39m.\u001b[39;49mread_csv(\u001b[39m'\u001b[39;49m\u001b[39mPROJECT/Data/data_summoner_tft_csv.csv\u001b[39;49m\u001b[39m'\u001b[39;49m)\n\u001b[0;32m      2\u001b[0m kr \u001b[39m=\u001b[39m df[\u001b[39m'\u001b[39m\u001b[39mkr\u001b[39m\u001b[39m'\u001b[39m][:\u001b[39m100\u001b[39m]\n\u001b[0;32m      3\u001b[0m na \u001b[39m=\u001b[39m df[\u001b[39m'\u001b[39m\u001b[39mna\u001b[39m\u001b[39m'\u001b[39m][:\u001b[39m100\u001b[39m]\n",
      "File \u001b[1;32mc:\\Users\\ACER\\anaconda3\\envs\\min_ds-env\\lib\\site-packages\\pandas\\io\\parsers.py:610\u001b[0m, in \u001b[0;36mread_csv\u001b[1;34m(filepath_or_buffer, sep, delimiter, header, names, index_col, usecols, squeeze, prefix, mangle_dupe_cols, dtype, engine, converters, true_values, false_values, skipinitialspace, skiprows, skipfooter, nrows, na_values, keep_default_na, na_filter, verbose, skip_blank_lines, parse_dates, infer_datetime_format, keep_date_col, date_parser, dayfirst, cache_dates, iterator, chunksize, compression, thousands, decimal, lineterminator, quotechar, quoting, doublequote, escapechar, comment, encoding, dialect, error_bad_lines, warn_bad_lines, delim_whitespace, low_memory, memory_map, float_precision, storage_options)\u001b[0m\n\u001b[0;32m    605\u001b[0m kwds_defaults \u001b[39m=\u001b[39m _refine_defaults_read(\n\u001b[0;32m    606\u001b[0m     dialect, delimiter, delim_whitespace, engine, sep, defaults\u001b[39m=\u001b[39m{\u001b[39m\"\u001b[39m\u001b[39mdelimiter\u001b[39m\u001b[39m\"\u001b[39m: \u001b[39m\"\u001b[39m\u001b[39m,\u001b[39m\u001b[39m\"\u001b[39m}\n\u001b[0;32m    607\u001b[0m )\n\u001b[0;32m    608\u001b[0m kwds\u001b[39m.\u001b[39mupdate(kwds_defaults)\n\u001b[1;32m--> 610\u001b[0m \u001b[39mreturn\u001b[39;00m _read(filepath_or_buffer, kwds)\n",
      "File \u001b[1;32mc:\\Users\\ACER\\anaconda3\\envs\\min_ds-env\\lib\\site-packages\\pandas\\io\\parsers.py:462\u001b[0m, in \u001b[0;36m_read\u001b[1;34m(filepath_or_buffer, kwds)\u001b[0m\n\u001b[0;32m    459\u001b[0m _validate_names(kwds\u001b[39m.\u001b[39mget(\u001b[39m\"\u001b[39m\u001b[39mnames\u001b[39m\u001b[39m\"\u001b[39m, \u001b[39mNone\u001b[39;00m))\n\u001b[0;32m    461\u001b[0m \u001b[39m# Create the parser.\u001b[39;00m\n\u001b[1;32m--> 462\u001b[0m parser \u001b[39m=\u001b[39m TextFileReader(filepath_or_buffer, \u001b[39m*\u001b[39;49m\u001b[39m*\u001b[39;49mkwds)\n\u001b[0;32m    464\u001b[0m \u001b[39mif\u001b[39;00m chunksize \u001b[39mor\u001b[39;00m iterator:\n\u001b[0;32m    465\u001b[0m     \u001b[39mreturn\u001b[39;00m parser\n",
      "File \u001b[1;32mc:\\Users\\ACER\\anaconda3\\envs\\min_ds-env\\lib\\site-packages\\pandas\\io\\parsers.py:819\u001b[0m, in \u001b[0;36mTextFileReader.__init__\u001b[1;34m(self, f, engine, **kwds)\u001b[0m\n\u001b[0;32m    816\u001b[0m \u001b[39mif\u001b[39;00m \u001b[39m\"\u001b[39m\u001b[39mhas_index_names\u001b[39m\u001b[39m\"\u001b[39m \u001b[39min\u001b[39;00m kwds:\n\u001b[0;32m    817\u001b[0m     \u001b[39mself\u001b[39m\u001b[39m.\u001b[39moptions[\u001b[39m\"\u001b[39m\u001b[39mhas_index_names\u001b[39m\u001b[39m\"\u001b[39m] \u001b[39m=\u001b[39m kwds[\u001b[39m\"\u001b[39m\u001b[39mhas_index_names\u001b[39m\u001b[39m\"\u001b[39m]\n\u001b[1;32m--> 819\u001b[0m \u001b[39mself\u001b[39m\u001b[39m.\u001b[39m_engine \u001b[39m=\u001b[39m \u001b[39mself\u001b[39;49m\u001b[39m.\u001b[39;49m_make_engine(\u001b[39mself\u001b[39;49m\u001b[39m.\u001b[39;49mengine)\n",
      "File \u001b[1;32mc:\\Users\\ACER\\anaconda3\\envs\\min_ds-env\\lib\\site-packages\\pandas\\io\\parsers.py:1050\u001b[0m, in \u001b[0;36mTextFileReader._make_engine\u001b[1;34m(self, engine)\u001b[0m\n\u001b[0;32m   1046\u001b[0m     \u001b[39mraise\u001b[39;00m \u001b[39mValueError\u001b[39;00m(\n\u001b[0;32m   1047\u001b[0m         \u001b[39mf\u001b[39m\u001b[39m\"\u001b[39m\u001b[39mUnknown engine: \u001b[39m\u001b[39m{\u001b[39;00mengine\u001b[39m}\u001b[39;00m\u001b[39m (valid options are \u001b[39m\u001b[39m{\u001b[39;00mmapping\u001b[39m.\u001b[39mkeys()\u001b[39m}\u001b[39;00m\u001b[39m)\u001b[39m\u001b[39m\"\u001b[39m\n\u001b[0;32m   1048\u001b[0m     )\n\u001b[0;32m   1049\u001b[0m \u001b[39m# error: Too many arguments for \"ParserBase\"\u001b[39;00m\n\u001b[1;32m-> 1050\u001b[0m \u001b[39mreturn\u001b[39;00m mapping[engine](\u001b[39mself\u001b[39;49m\u001b[39m.\u001b[39;49mf, \u001b[39m*\u001b[39;49m\u001b[39m*\u001b[39;49m\u001b[39mself\u001b[39;49m\u001b[39m.\u001b[39;49moptions)\n",
      "File \u001b[1;32mc:\\Users\\ACER\\anaconda3\\envs\\min_ds-env\\lib\\site-packages\\pandas\\io\\parsers.py:1867\u001b[0m, in \u001b[0;36mCParserWrapper.__init__\u001b[1;34m(self, src, **kwds)\u001b[0m\n\u001b[0;32m   1864\u001b[0m kwds[\u001b[39m\"\u001b[39m\u001b[39musecols\u001b[39m\u001b[39m\"\u001b[39m] \u001b[39m=\u001b[39m \u001b[39mself\u001b[39m\u001b[39m.\u001b[39musecols\n\u001b[0;32m   1866\u001b[0m \u001b[39m# open handles\u001b[39;00m\n\u001b[1;32m-> 1867\u001b[0m \u001b[39mself\u001b[39;49m\u001b[39m.\u001b[39;49m_open_handles(src, kwds)\n\u001b[0;32m   1868\u001b[0m \u001b[39massert\u001b[39;00m \u001b[39mself\u001b[39m\u001b[39m.\u001b[39mhandles \u001b[39mis\u001b[39;00m \u001b[39mnot\u001b[39;00m \u001b[39mNone\u001b[39;00m\n\u001b[0;32m   1869\u001b[0m \u001b[39mfor\u001b[39;00m key \u001b[39min\u001b[39;00m (\u001b[39m\"\u001b[39m\u001b[39mstorage_options\u001b[39m\u001b[39m\"\u001b[39m, \u001b[39m\"\u001b[39m\u001b[39mencoding\u001b[39m\u001b[39m\"\u001b[39m, \u001b[39m\"\u001b[39m\u001b[39mmemory_map\u001b[39m\u001b[39m\"\u001b[39m, \u001b[39m\"\u001b[39m\u001b[39mcompression\u001b[39m\u001b[39m\"\u001b[39m):\n",
      "File \u001b[1;32mc:\\Users\\ACER\\anaconda3\\envs\\min_ds-env\\lib\\site-packages\\pandas\\io\\parsers.py:1362\u001b[0m, in \u001b[0;36mParserBase._open_handles\u001b[1;34m(self, src, kwds)\u001b[0m\n\u001b[0;32m   1358\u001b[0m \u001b[39mdef\u001b[39;00m \u001b[39m_open_handles\u001b[39m(\u001b[39mself\u001b[39m, src: FilePathOrBuffer, kwds: Dict[\u001b[39mstr\u001b[39m, Any]) \u001b[39m-\u001b[39m\u001b[39m>\u001b[39m \u001b[39mNone\u001b[39;00m:\n\u001b[0;32m   1359\u001b[0m     \u001b[39m\"\"\"\u001b[39;00m\n\u001b[0;32m   1360\u001b[0m \u001b[39m    Let the readers open IOHanldes after they are done with their potential raises.\u001b[39;00m\n\u001b[0;32m   1361\u001b[0m \u001b[39m    \"\"\"\u001b[39;00m\n\u001b[1;32m-> 1362\u001b[0m     \u001b[39mself\u001b[39m\u001b[39m.\u001b[39mhandles \u001b[39m=\u001b[39m get_handle(\n\u001b[0;32m   1363\u001b[0m         src,\n\u001b[0;32m   1364\u001b[0m         \u001b[39m\"\u001b[39;49m\u001b[39mr\u001b[39;49m\u001b[39m\"\u001b[39;49m,\n\u001b[0;32m   1365\u001b[0m         encoding\u001b[39m=\u001b[39;49mkwds\u001b[39m.\u001b[39;49mget(\u001b[39m\"\u001b[39;49m\u001b[39mencoding\u001b[39;49m\u001b[39m\"\u001b[39;49m, \u001b[39mNone\u001b[39;49;00m),\n\u001b[0;32m   1366\u001b[0m         compression\u001b[39m=\u001b[39;49mkwds\u001b[39m.\u001b[39;49mget(\u001b[39m\"\u001b[39;49m\u001b[39mcompression\u001b[39;49m\u001b[39m\"\u001b[39;49m, \u001b[39mNone\u001b[39;49;00m),\n\u001b[0;32m   1367\u001b[0m         memory_map\u001b[39m=\u001b[39;49mkwds\u001b[39m.\u001b[39;49mget(\u001b[39m\"\u001b[39;49m\u001b[39mmemory_map\u001b[39;49m\u001b[39m\"\u001b[39;49m, \u001b[39mFalse\u001b[39;49;00m),\n\u001b[0;32m   1368\u001b[0m         storage_options\u001b[39m=\u001b[39;49mkwds\u001b[39m.\u001b[39;49mget(\u001b[39m\"\u001b[39;49m\u001b[39mstorage_options\u001b[39;49m\u001b[39m\"\u001b[39;49m, \u001b[39mNone\u001b[39;49;00m),\n\u001b[0;32m   1369\u001b[0m     )\n",
      "File \u001b[1;32mc:\\Users\\ACER\\anaconda3\\envs\\min_ds-env\\lib\\site-packages\\pandas\\io\\common.py:642\u001b[0m, in \u001b[0;36mget_handle\u001b[1;34m(path_or_buf, mode, encoding, compression, memory_map, is_text, errors, storage_options)\u001b[0m\n\u001b[0;32m    640\u001b[0m         errors \u001b[39m=\u001b[39m \u001b[39m\"\u001b[39m\u001b[39mreplace\u001b[39m\u001b[39m\"\u001b[39m\n\u001b[0;32m    641\u001b[0m     \u001b[39m# Encoding\u001b[39;00m\n\u001b[1;32m--> 642\u001b[0m     handle \u001b[39m=\u001b[39m \u001b[39mopen\u001b[39;49m(\n\u001b[0;32m    643\u001b[0m         handle,\n\u001b[0;32m    644\u001b[0m         ioargs\u001b[39m.\u001b[39;49mmode,\n\u001b[0;32m    645\u001b[0m         encoding\u001b[39m=\u001b[39;49mioargs\u001b[39m.\u001b[39;49mencoding,\n\u001b[0;32m    646\u001b[0m         errors\u001b[39m=\u001b[39;49merrors,\n\u001b[0;32m    647\u001b[0m         newline\u001b[39m=\u001b[39;49m\u001b[39m\"\u001b[39;49m\u001b[39m\"\u001b[39;49m,\n\u001b[0;32m    648\u001b[0m     )\n\u001b[0;32m    649\u001b[0m \u001b[39melse\u001b[39;00m:\n\u001b[0;32m    650\u001b[0m     \u001b[39m# Binary mode\u001b[39;00m\n\u001b[0;32m    651\u001b[0m     handle \u001b[39m=\u001b[39m \u001b[39mopen\u001b[39m(handle, ioargs\u001b[39m.\u001b[39mmode)\n",
      "\u001b[1;31mFileNotFoundError\u001b[0m: [Errno 2] No such file or directory: 'PROJECT/Data/data_summoner_tft_csv.csv'"
     ]
    }
   ],
   "source": [
    "df = pd.read_csv('../PROJECT/Data/data_summoner_tft_csv.csv')\n",
    "kr = df['kr'][:100]\n",
    "na = df['na'][:100]\n",
    "\n",
    "kr_temp = kr.to_frame()\n",
    "na_temp = na.to_frame()\n",
    "all_players_kr = kr_temp.apply(get_all_json, args = (\"KR\",), axis = 1)\n",
    "all_players_na = na_temp.apply(get_all_json, args = (\"NA1\",), axis = 1)\n"
   ]
  },
  {
   "cell_type": "code",
   "execution_count": null,
   "metadata": {},
   "outputs": [],
   "source": [
    "all_players = (all_players_kr.append(all_players_na, ignore_index= True))"
   ]
  },
  {
   "attachments": {},
   "cell_type": "markdown",
   "metadata": {},
   "source": [
    "#### lấy lõi nâng cấp của từng người chơi trong 1 game đó"
   ]
  },
  {
   "attachments": {},
   "cell_type": "markdown",
   "metadata": {},
   "source": [
    "##### gồm 1 mảng 3 chiều:\n",
    "\n",
    "    +Chiều thứ nhất: số lượng trận đấu của từng người chơi(20)\n",
    "\n",
    "    +Chiều thứ hai: sô lượng lõi nâng cấp của 8 người chơi\n",
    "    \n",
    "    +Chiều thứ ba: lõi nâng cấp của người chơi"
   ]
  },
  {
   "cell_type": "code",
   "execution_count": null,
   "metadata": {},
   "outputs": [],
   "source": [
    "augments = []\n",
    "cc = []\n",
    "augment = []\n",
    "for player in range(len(all_players)):\n",
    "    for match in range(len(all_players[0])):\n",
    "        for each_player in range(8):\n",
    "            augment.append(all_players[player][match]['info']['participants'][each_player]['augments'])\n",
    "        \n",
    "        temp = augment.copy()\n",
    "        cc.append(temp)\n",
    "        augment.clear()\n",
    "        \n",
    "    test = cc.copy()\n",
    "    augments.append(test)\n",
    "    cc.clear()"
   ]
  },
  {
   "attachments": {},
   "cell_type": "markdown",
   "metadata": {},
   "source": [
    "#### lấy puuid và trận đấu của 8 người chơi"
   ]
  },
  {
   "attachments": {},
   "cell_type": "markdown",
   "metadata": {},
   "source": [
    "##### puuid là 1 mảng 3 chiều:\n",
    "\n",
    "    +Chiều thứ nhất: số lượng trận đấu của từng người chơi(20)\n",
    "    \n",
    "    +Chiều thứ hai: số lượng người chơi trong 1 trận đấu(thường là 8)\n",
    "\n",
    "    +Chiều thứ ba: Puuid của từng người chơi\n",
    "##### id là 1 mảng 2 chiều:\n",
    "\n",
    "    +Chiều thứ nhất: số lượng trận đấu của người chơi(20)\n",
    "\n",
    "    +Chiều thứ hai: mã trận đấu(20)"
   ]
  },
  {
   "cell_type": "code",
   "execution_count": null,
   "metadata": {},
   "outputs": [],
   "source": [
    "participants = []\n",
    "id_match = []\n",
    "participant = []\n",
    "id = []\n",
    "for player in range(len(all_players)):\n",
    "    for match in range(len(all_players[0])):\n",
    "        participant.append(all_players[player][match][\"metadata\"][\"participants\"])\n",
    "        id.append(all_players[player][match][\"metadata\"][\"match_id\"])   \n",
    "\n",
    "    temp1 = participant.copy()\n",
    "    temp2 = id.copy()\n",
    "    participants.append(temp1)\n",
    "    id_match.append(temp2)\n",
    "    participant.clear()\n",
    "    id.clear()"
   ]
  },
  {
   "attachments": {},
   "cell_type": "markdown",
   "metadata": {},
   "source": [
    "#### lấy số lượng tộc hệ kích hoạt được(list_traits)"
   ]
  },
  {
   "attachments": {},
   "cell_type": "markdown",
   "metadata": {},
   "source": [
    "traits name: tên của hệ được kích hoạt\n",
    "\n",
    "traits num_units: số tướng có trong hệ đó\n",
    "\n",
    "tier_current: số mốc kích hoạt được trong hệ đó"
   ]
  },
  {
   "attachments": {},
   "cell_type": "markdown",
   "metadata": {},
   "source": [
    "1 mảng 3 chiều:\n",
    "\n",
    "    +Chiều thứ nhất: số trận đấu của từng người chơi(20)\n",
    "\n",
    "    +Chiều thứ hai: số hệ có trong đội hình người chơi\n",
    "\n",
    "    +Chiều thứ ba: tên hệ, số lượng và cấp của hệ đó"
   ]
  },
  {
   "cell_type": "code",
   "execution_count": null,
   "metadata": {},
   "outputs": [],
   "source": [
    "list_traits = []\n",
    "in_match = []\n",
    "in_player = []\n",
    "for player in range(len(all_players)):\n",
    "    for match in range(len(all_players[0])):\n",
    "        for each_player in range(8):\n",
    "            traits_each_player = all_players[player][match]['info']['participants'][each_player]['traits']\n",
    "            temp = []\n",
    "            for trait in range(len(traits_each_player)):\n",
    "                temp.append(all_players[player][match]['info']['participants'][each_player]['traits'][trait]['name'])\n",
    "                temp.append(all_players[player][match]['info']['participants'][each_player]['traits'][trait]['num_units'])\n",
    "                temp.append(all_players[player][match]['info']['participants'][each_player]['traits'][trait]['tier_current'])\n",
    "            \n",
    "            test1 = temp.copy()\n",
    "            in_player.append(test1)\n",
    "            temp.clear()\n",
    "        \n",
    "        test2 = in_player.copy()\n",
    "        in_match.append(test2)\n",
    "        in_player.clear()\n",
    "    \n",
    "    test3 = in_match.copy()\n",
    "    list_traits.append(test3)\n",
    "    in_match.clear()\n"
   ]
  },
  {
   "cell_type": "markdown",
   "metadata": {},
   "source": [
    "#### danh sách các tướng có trong đội hình của từng người chơi"
   ]
  },
  {
   "attachments": {},
   "cell_type": "markdown",
   "metadata": {},
   "source": [
    "character_id: tên của tướng trnog đội hình người chơi\n",
    "\n",
    "len(items): số lượng đồ mà con tướng đó sử dụng"
   ]
  },
  {
   "attachments": {},
   "cell_type": "markdown",
   "metadata": {},
   "source": [
    "##### 1 mảng 3 chiều:\n",
    "\n",
    "    +Chiều thứ nhất: số lượng trận đấu của từng người chơi(20)\n",
    "\n",
    "    +Chiều thứ hai: số tướng có trong đội hình người chơi\n",
    "\n",
    "    +Chiều thứ ba: gồm tướng, số lượng đồ của tướng và bậc sao của tướng(1, 2, 3 sao)"
   ]
  },
  {
   "cell_type": "code",
   "execution_count": null,
   "metadata": {},
   "outputs": [],
   "source": [
    "list_champions = []\n",
    "\n",
    "for player in range(len(all_players)):\n",
    "    for match in range(len(all_players[0])):\n",
    "        for each_player in range(8):\n",
    "            temp = []\n",
    "            player_champions = all_players[player][match]['info']['participants'][each_player]['units']\n",
    "            for each_champion in range(len(player_champions)):\n",
    "                temp.append(all_players[player][match]['info']['participants'][each_player]['units'][each_champion]['character_id'])\n",
    "            test1 = temp.copy()\n",
    "            in_player.append(test1)\n",
    "            temp.clear()\n",
    "        \n",
    "        test2 = in_player.copy()\n",
    "        in_match.append(test2)\n",
    "        in_player.clear()\n",
    "    \n",
    "    test3 = in_match.copy()\n",
    "    list_champions.append(test3)\n",
    "    in_match.clear()"
   ]
  },
  {
   "cell_type": "code",
   "execution_count": null,
   "metadata": {},
   "outputs": [],
   "source": [
    "list_items = []\n",
    "\n",
    "for player in range(len(all_players)):\n",
    "    for match in range(len(all_players[0])):\n",
    "        for each_player in range(8):\n",
    "            temp = []\n",
    "            player_champions = all_players[player][match]['info']['participants'][each_player]['units']\n",
    "            for each_champion in range(len(player_champions)):\n",
    "                temp.append(len(all_players[player][match]['info']['participants'][each_player]['units'][each_champion]['items']))\n",
    "            test1 = temp.copy()\n",
    "            in_player.append(test1)\n",
    "            temp.clear()\n",
    "        \n",
    "        test2 = in_player.copy()\n",
    "        in_match.append(test2)\n",
    "        in_player.clear()\n",
    "    \n",
    "    test3 = in_match.copy()\n",
    "    list_items.append(test3)\n",
    "    in_match.clear()"
   ]
  },
  {
   "cell_type": "code",
   "execution_count": null,
   "metadata": {},
   "outputs": [],
   "source": [
    "list_tiers = []\n",
    "\n",
    "for player in range(len(all_players)):\n",
    "    for match in range(len(all_players[0])):\n",
    "        for each_player in range(8):\n",
    "            temp = []\n",
    "            player_champions = all_players[player][match]['info']['participants'][each_player]['units']\n",
    "            for each_champion in range(len(player_champions)):     \n",
    "                temp.append(all_players[player][match]['info']['participants'][each_player]['units'][each_champion]['tier'])      \n",
    "            test1 = temp.copy()\n",
    "            in_player.append(test1)\n",
    "            temp.clear()\n",
    "            \n",
    "        test2 = in_player.copy()\n",
    "        in_match.append(test2)\n",
    "        in_player.clear()\n",
    "\n",
    "    test3 = in_match.copy()\n",
    "    list_tiers.append(test3)\n",
    "    in_match.clear()"
   ]
  },
  {
   "attachments": {},
   "cell_type": "markdown",
   "metadata": {},
   "source": [
    "#### LẤY THỨ HẠNG CỦA TỪNG NGƯỜI CHƠI TRONG MỖI TRẬN ĐẤU"
   ]
  },
  {
   "attachments": {},
   "cell_type": "markdown",
   "metadata": {},
   "source": [
    "##### gồm 1 mảng 3 chiều: \n",
    "\n",
    "    +Chiều thứ nhất: gồm số lượng trận đấu người chơi(20)\n",
    "\n",
    "    +Chiều thứ hai: gồm số người chơi trong trận\n",
    "\n",
    "    +Chiều thứ ba: thứ hạng của người chơi"
   ]
  },
  {
   "cell_type": "code",
   "execution_count": null,
   "metadata": {},
   "outputs": [],
   "source": [
    "list_ranks = []\n",
    "player_rank = []\n",
    "in_match = []\n",
    "for player in range(len(all_players)):\n",
    "    for match in range(len(all_players[0])):\n",
    "        for each_player in range(8):\n",
    "            player_rank.append(all_players[player][match]['info']['participants'][each_player]['placement'])\n",
    "        temp1 = player_rank.copy()\n",
    "        in_match.append(temp1)\n",
    "        player_rank.clear()\n",
    "    temp2 = in_match.copy()\n",
    "    list_ranks.append(temp2)\n",
    "    in_match.clear()"
   ]
  },
  {
   "attachments": {},
   "cell_type": "markdown",
   "metadata": {},
   "source": [
    "### LƯU TẤT CẢ DỮ LIỆU VÀO DATAFRAME"
   ]
  },
  {
   "attachments": {},
   "cell_type": "markdown",
   "metadata": {},
   "source": [
    "##### tạo 1 dict để lưu trữ từng đội hình của từng trận đấu theo hàng:\n",
    "    \n",
    "    +Puuid: Sử dụng hàm flatten để chuyển mảng 2 chiều thành mảng 1 chiều, sau đó ép vào cột đầu của dataframe\n",
    "\n",
    "    +ID Match: vì 1 trận đấu có 8 người chỉ tương đương với 1 ID Match nên ta sẽ phải lặp lại ID Match 8 lần để phù hợp với kích thước của dataframe\n",
    "\n",
    "    +"
   ]
  },
  {
   "cell_type": "code",
   "execution_count": null,
   "metadata": {},
   "outputs": [],
   "source": [
    "temp = {'Puuid': np.array(participants).flatten(), \n",
    "        'ID Match': np.array(np.array(id_match).repeat(8)).flatten(), \n",
    "        'Placement': np.array(list_ranks).flatten(),\n",
    "        'List Augments': np.array(np.array(augments).flatten()),\n",
    "        'List Traits': np.array(np.array(list_traits).flatten()),\n",
    "        'List Champions': np.array(np.array(list_champions).flatten()),\n",
    "        'List Number Items':np.array(np.array(list_items).flatten()),\n",
    "        'List Champions Tier':(np.array(np.array(list_tiers).flatten())).flatten()}\n",
    "process_data_tft_general = pd.DataFrame(temp)"
   ]
  },
  {
   "cell_type": "code",
   "execution_count": null,
   "metadata": {},
   "outputs": [],
   "source": [
    "process_data_tft_general.to_csv(\"process_data_tft_general_csv.csv\")"
   ]
  },
  {
   "attachments": {},
   "cell_type": "markdown",
   "metadata": {},
   "source": [
    "### II) LẤY ĐỒ CỦA TỪNG TƯỚNG TRONG ĐỘI HÌNH CỦA NGƯỜI CHƠI"
   ]
  },
  {
   "attachments": {},
   "cell_type": "markdown",
   "metadata": {},
   "source": [
    "#### LẤY ĐỒ CỦA TỪNG TƯỚNG"
   ]
  },
  {
   "attachments": {},
   "cell_type": "markdown",
   "metadata": {},
   "source": [
    "##### 1 mảng 3 chiều:\n",
    "\n",
    "    +Chiều thứ nhất: số lượng trận đấu(20)\n",
    "\n",
    "    +Chiều thứ hai: số người chơi(8)\n",
    "\n",
    "    +Chiều thứ ba: đồ của từng tướng trong đội hình của người chơi"
   ]
  },
  {
   "cell_type": "code",
   "execution_count": null,
   "metadata": {},
   "outputs": [],
   "source": [
    "list_items = []\n",
    "in_match = []\n",
    "in_player = []\n",
    "for player in range(len(all_players)):\n",
    "    for match in range(len((all_players[0]))):\n",
    "        for each_player in range(8):\n",
    "            items_champion = all_players[player][match]['info']['participants'][each_player]['units']\n",
    "            temp = []\n",
    "            for item in range(len(items_champion)):\n",
    "                temp.append(all_players[player][match]['info']['participants'][each_player]['units'][item]['itemNames'])\n",
    "\n",
    "            temp1 = temp.copy()\n",
    "            in_match.append(temp1)\n",
    "            temp.clear()\n",
    "\n",
    "        temp2 = in_match.copy()\n",
    "        in_player.append(temp2)\n",
    "        in_match.clear()\n",
    "\n",
    "    temp3 = in_player.copy()\n",
    "    list_items.append(temp3)\n",
    "    in_player.clear()  "
   ]
  },
  {
   "attachments": {},
   "cell_type": "markdown",
   "metadata": {},
   "source": [
    "#### LẤY TÊN CỦA TƯỚNG"
   ]
  },
  {
   "attachments": {},
   "cell_type": "markdown",
   "metadata": {},
   "source": [
    "##### 1 mảng 3 chiều:\n",
    "\n",
    "    +Chiều thứ nhất: số trận đấu(20)\n",
    "\n",
    "    +Chiều thứ hai: số lượng người chơi\n",
    "\n",
    "    +Chiều thứ ba: 1 list tướng của người chơi đó"
   ]
  },
  {
   "cell_type": "code",
   "execution_count": null,
   "metadata": {},
   "outputs": [],
   "source": [
    "champions = []\n",
    "in_match = []\n",
    "in_player = []\n",
    "for player in range(len(all_players)):\n",
    "    for match in range(len(all_players[0])):\n",
    "        for each_player in range(8):\n",
    "            player_champions = all_players[player][match]['info']['participants'][each_player]['units']\n",
    "            temp = []\n",
    "            for name in range(len(player_champions)):\n",
    "                temp.append(all_players[player][match]['info']['participants'][each_player]['units'][name]['character_id'])\n",
    "\n",
    "            temp1 = temp.copy()\n",
    "            in_match.append(temp1)\n",
    "            temp.clear()\n",
    "\n",
    "        temp2 = in_match.copy()\n",
    "        in_player.append(temp2)\n",
    "        in_match.clear()\n",
    "\n",
    "    temp3 = in_player.copy()\n",
    "    champions.append(temp3)\n",
    "    in_player.clear() "
   ]
  },
  {
   "cell_type": "code",
   "execution_count": null,
   "metadata": {},
   "outputs": [],
   "source": [
    "temp = {'Puuid': np.array(participants).flatten(), \n",
    "        'ID Match': np.array(np.array(id_match).repeat(8)).flatten(), \n",
    "        'Champion': np.array(champions).flatten(),\n",
    "        'List Name Item':np.array(list_items).flatten(),\n",
    "        'Placement':np.array(list_ranks).flatten()}\n",
    "\n",
    "\n",
    "process_data_tft_each_item = pd.DataFrame(temp)"
   ]
  },
  {
   "cell_type": "code",
   "execution_count": null,
   "metadata": {},
   "outputs": [
    {
     "data": {
      "text/plain": [
       "Series([], Name: List Name Item, dtype: float64)"
      ]
     },
     "execution_count": 50,
     "metadata": {},
     "output_type": "execute_result"
    }
   ],
   "source": [
    "process_data_tft_each_item[\"List Name Item\"]"
   ]
  },
  {
   "cell_type": "code",
   "execution_count": null,
   "metadata": {},
   "outputs": [],
   "source": [
    "process_data_tft_each_item.to_csv(\"process_data_tft_each_item_csv.csv\")"
   ]
  }
 ],
 "metadata": {
  "kernelspec": {
   "display_name": "min_ds-env",
   "language": "python",
   "name": "python3"
  },
  "language_info": {
   "codemirror_mode": {
    "name": "ipython",
    "version": 3
   },
   "file_extension": ".py",
   "mimetype": "text/x-python",
   "name": "python",
   "nbconvert_exporter": "python",
   "pygments_lexer": "ipython3",
   "version": "3.8.8"
  },
  "orig_nbformat": 4,
  "vscode": {
   "interpreter": {
    "hash": "79aebf84914f6662b95d7ae9134837db3a2655ed7c44a08451f0a7933632525e"
   }
  }
 },
 "nbformat": 4,
 "nbformat_minor": 2
}
