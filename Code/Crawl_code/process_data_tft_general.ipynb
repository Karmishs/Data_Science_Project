{
 "cells": [
  {
   "attachments": {},
   "cell_type": "markdown",
   "metadata": {},
   "source": [
    "### I) XỬ LÝ DỮ LIỆU TRẬN ĐẤU ĐƯỢC RÚT TRÍCH TỪ API VÀ LƯU TRỮ VÀO DATAFRAME"
   ]
  },
  {
   "cell_type": "code",
   "execution_count": 8,
   "metadata": {},
   "outputs": [],
   "source": [
    "import requests\n",
    "import json\n",
    "import pandas as pd\n",
    "import os \n",
    "import glob\n",
    "import numpy as np\n",
    "import csv"
   ]
  },
  {
   "attachments": {},
   "cell_type": "markdown",
   "metadata": {},
   "source": [
    "#### hàm get_all_json đọc tất cả các file json của từng người chơi và lưu vào biến all_players\n",
    "\n",
    "path_to_json: lấy đường dẫn của từng người chơi trong từng server\n",
    "\n",
    "json_files: lấy ra 20 file json của người chơi\n",
    "\n",
    "vòng for để lưu từng file json vào biến data dưới dạng mảng"
   ]
  },
  {
   "cell_type": "code",
   "execution_count": 9,
   "metadata": {},
   "outputs": [],
   "source": [
    "def get_all_json(player, region):\n",
    "    data = []\n",
    "    path_to_json = '../../Data/Data_Match/' + region + '/'+player+'/'\n",
    "    path_to_json = path_to_json.to_string()\n",
    "    path_to_json = path_to_json[path_to_json.find(\"..\"):len(path_to_json)]\n",
    "\n",
    "    json_files = [pos_json for pos_json in os.listdir(path_to_json) if pos_json.endswith('.json')]\n",
    "    for i in range(len(json_files)):\n",
    "        f = open(path_to_json + json_files[i], \"r\")\n",
    "        data.append(json.loads(f.read()))\n",
    "        f.close()\n",
    "    return data"
   ]
  },
  {
   "attachments": {},
   "cell_type": "markdown",
   "metadata": {},
   "source": [
    "hàm apply để chạy duyệt từng tên trong 2 server NA và KR"
   ]
  },
  {
   "cell_type": "code",
   "execution_count": 10,
   "metadata": {},
   "outputs": [],
   "source": [
    "df = pd.read_csv('../../Data/data_summoner_tft_csv.csv')\n",
    "kr = df['kr'][:100]\n",
    "na = df['na'][:100]\n",
    "\n",
    "kr_temp = kr.to_frame()\n",
    "na_temp = na.to_frame()\n",
    "all_players_kr = kr_temp.apply(get_all_json, args = (\"KR\",), axis = 1)\n",
    "all_players_na = na_temp.apply(get_all_json, args = (\"NA1\",), axis = 1)\n"
   ]
  },
  {
   "cell_type": "code",
   "execution_count": 11,
   "metadata": {},
   "outputs": [],
   "source": [
    "all_players = (all_players_kr.append(all_players_na, ignore_index= True))"
   ]
  },
  {
   "attachments": {},
   "cell_type": "markdown",
   "metadata": {},
   "source": [
    "#### lấy lõi nâng cấp của từng người chơi trong 1 game đó"
   ]
  },
  {
   "attachments": {},
   "cell_type": "markdown",
   "metadata": {},
   "source": [
    "##### gồm 1 mảng 3 chiều:\n",
    "\n",
    "    +Chiều thứ nhất: số lượng trận đấu của từng người chơi(20)\n",
    "\n",
    "    +Chiều thứ hai: sô lượng lõi nâng cấp của 8 người chơi\n",
    "    \n",
    "    +Chiều thứ ba: lõi nâng cấp của người chơi"
   ]
  },
  {
   "cell_type": "code",
   "execution_count": 12,
   "metadata": {},
   "outputs": [],
   "source": [
    "augments = []\n",
    "cc = []\n",
    "augment = []\n",
    "for player in range(len(all_players)):\n",
    "    for match in range(len(all_players[0])):\n",
    "        for each_player in range(8):\n",
    "            augment.append(all_players[player][match]['info']['participants'][each_player]['augments'])\n",
    "        \n",
    "        temp = augment.copy()\n",
    "        cc.append(temp)\n",
    "        augment.clear()\n",
    "        \n",
    "    test = cc.copy()\n",
    "    augments.append(test)\n",
    "    cc.clear()"
   ]
  },
  {
   "attachments": {},
   "cell_type": "markdown",
   "metadata": {},
   "source": [
    "#### lấy puuid và trận đấu của 8 người chơi"
   ]
  },
  {
   "attachments": {},
   "cell_type": "markdown",
   "metadata": {},
   "source": [
    "##### puuid là 1 mảng 3 chiều:\n",
    "\n",
    "    +Chiều thứ nhất: số lượng trận đấu của từng người chơi(20)\n",
    "    \n",
    "    +Chiều thứ hai: số lượng người chơi trong 1 trận đấu(thường là 8)\n",
    "\n",
    "    +Chiều thứ ba: Puuid của từng người chơi\n",
    "##### id là 1 mảng 2 chiều:\n",
    "\n",
    "    +Chiều thứ nhất: số lượng trận đấu của người chơi(20)\n",
    "\n",
    "    +Chiều thứ hai: mã trận đấu(20)"
   ]
  },
  {
   "cell_type": "code",
   "execution_count": 13,
   "metadata": {},
   "outputs": [],
   "source": [
    "participants = []\n",
    "id_match = []\n",
    "participant = []\n",
    "id = []\n",
    "for player in range(len(all_players)):\n",
    "    for match in range(len(all_players[0])):\n",
    "        participant.append(all_players[player][match][\"metadata\"][\"participants\"])\n",
    "        id.append(all_players[player][match][\"metadata\"][\"match_id\"])   \n",
    "\n",
    "    temp1 = participant.copy()\n",
    "    temp2 = id.copy()\n",
    "    participants.append(temp1)\n",
    "    id_match.append(temp2)\n",
    "    participant.clear()\n",
    "    id.clear()"
   ]
  },
  {
   "attachments": {},
   "cell_type": "markdown",
   "metadata": {},
   "source": [
    "#### lấy số lượng tộc hệ kích hoạt được(list_traits)"
   ]
  },
  {
   "attachments": {},
   "cell_type": "markdown",
   "metadata": {},
   "source": [
    "traits name: tên của hệ được kích hoạt\n",
    "\n",
    "traits num_units: số tướng có trong hệ đó\n",
    "\n",
    "tier_current: số mốc kích hoạt được trong hệ đó"
   ]
  },
  {
   "attachments": {},
   "cell_type": "markdown",
   "metadata": {},
   "source": [
    "1 mảng 3 chiều:\n",
    "\n",
    "    +Chiều thứ nhất: số trận đấu của từng người chơi(20)\n",
    "\n",
    "    +Chiều thứ hai: số hệ có trong đội hình người chơi\n",
    "\n",
    "    +Chiều thứ ba: tên hệ, số lượng và cấp của hệ đó"
   ]
  },
  {
   "cell_type": "code",
   "execution_count": 14,
   "metadata": {},
   "outputs": [],
   "source": [
    "list_traits = []\n",
    "in_match = []\n",
    "in_player = []\n",
    "for player in range(len(all_players)):\n",
    "    for match in range(len(all_players[0])):\n",
    "        for each_player in range(8):\n",
    "            traits_each_player = all_players[player][match]['info']['participants'][each_player]['traits']\n",
    "            temp = []\n",
    "            for trait in range(len(traits_each_player)):\n",
    "                temp.append(all_players[player][match]['info']['participants'][each_player]['traits'][trait]['name'])\n",
    "                temp.append(all_players[player][match]['info']['participants'][each_player]['traits'][trait]['num_units'])\n",
    "                temp.append(all_players[player][match]['info']['participants'][each_player]['traits'][trait]['tier_current'])\n",
    "            \n",
    "            test1 = temp.copy()\n",
    "            in_player.append(test1)\n",
    "            temp.clear()\n",
    "        \n",
    "        test2 = in_player.copy()\n",
    "        in_match.append(test2)\n",
    "        in_player.clear()\n",
    "    \n",
    "    test3 = in_match.copy()\n",
    "    list_traits.append(test3)\n",
    "    in_match.clear()\n"
   ]
  },
  {
   "cell_type": "markdown",
   "metadata": {},
   "source": [
    "#### danh sách các tướng có trong đội hình của từng người chơi"
   ]
  },
  {
   "attachments": {},
   "cell_type": "markdown",
   "metadata": {},
   "source": [
    "character_id: tên của tướng trnog đội hình người chơi\n",
    "\n",
    "len(items): số lượng đồ mà con tướng đó sử dụng"
   ]
  },
  {
   "attachments": {},
   "cell_type": "markdown",
   "metadata": {},
   "source": [
    "##### 1 mảng 3 chiều:\n",
    "\n",
    "    +Chiều thứ nhất: số lượng trận đấu của từng người chơi(20)\n",
    "\n",
    "    +Chiều thứ hai: số tướng có trong đội hình người chơi\n",
    "\n",
    "    +Chiều thứ ba: gồm tướng, số lượng đồ của tướng và bậc sao của tướng(1, 2, 3 sao)"
   ]
  },
  {
   "cell_type": "code",
   "execution_count": 15,
   "metadata": {},
   "outputs": [],
   "source": [
    "list_champions = []\n",
    "\n",
    "for player in range(len(all_players)):\n",
    "    for match in range(len(all_players[0])):\n",
    "        for each_player in range(8):\n",
    "            temp = []\n",
    "            player_champions = all_players[player][match]['info']['participants'][each_player]['units']\n",
    "            for each_champion in range(len(player_champions)):\n",
    "                temp.append(all_players[player][match]['info']['participants'][each_player]['units'][each_champion]['character_id'])\n",
    "            test1 = temp.copy()\n",
    "            in_player.append(test1)\n",
    "            temp.clear()\n",
    "        \n",
    "        test2 = in_player.copy()\n",
    "        in_match.append(test2)\n",
    "        in_player.clear()\n",
    "    \n",
    "    test3 = in_match.copy()\n",
    "    list_champions.append(test3)\n",
    "    in_match.clear()"
   ]
  },
  {
   "cell_type": "code",
   "execution_count": 16,
   "metadata": {},
   "outputs": [],
   "source": [
    "list_items = []\n",
    "\n",
    "for player in range(len(all_players)):\n",
    "    for match in range(len(all_players[0])):\n",
    "        for each_player in range(8):\n",
    "            temp = []\n",
    "            player_champions = all_players[player][match]['info']['participants'][each_player]['units']\n",
    "            for each_champion in range(len(player_champions)):\n",
    "                temp.append(len(all_players[player][match]['info']['participants'][each_player]['units'][each_champion]['items']))\n",
    "            test1 = temp.copy()\n",
    "            in_player.append(test1)\n",
    "            temp.clear()\n",
    "        \n",
    "        test2 = in_player.copy()\n",
    "        in_match.append(test2)\n",
    "        in_player.clear()\n",
    "    \n",
    "    test3 = in_match.copy()\n",
    "    list_items.append(test3)\n",
    "    in_match.clear()"
   ]
  },
  {
   "cell_type": "code",
   "execution_count": 17,
   "metadata": {},
   "outputs": [],
   "source": [
    "list_tiers = []\n",
    "\n",
    "for player in range(len(all_players)):\n",
    "    for match in range(len(all_players[0])):\n",
    "        for each_player in range(8):\n",
    "            temp = []\n",
    "            player_champions = all_players[player][match]['info']['participants'][each_player]['units']\n",
    "            for each_champion in range(len(player_champions)):     \n",
    "                temp.append(all_players[player][match]['info']['participants'][each_player]['units'][each_champion]['tier'])      \n",
    "            test1 = temp.copy()\n",
    "            in_player.append(test1)\n",
    "            temp.clear()\n",
    "            \n",
    "        test2 = in_player.copy()\n",
    "        in_match.append(test2)\n",
    "        in_player.clear()\n",
    "\n",
    "    test3 = in_match.copy()\n",
    "    list_tiers.append(test3)\n",
    "    in_match.clear()"
   ]
  },
  {
   "attachments": {},
   "cell_type": "markdown",
   "metadata": {},
   "source": [
    "#### LẤY THỨ HẠNG CỦA TỪNG NGƯỜI CHƠI TRONG MỖI TRẬN ĐẤU"
   ]
  },
  {
   "attachments": {},
   "cell_type": "markdown",
   "metadata": {},
   "source": [
    "##### gồm 1 mảng 3 chiều: \n",
    "\n",
    "    +Chiều thứ nhất: gồm số lượng trận đấu người chơi(20)\n",
    "\n",
    "    +Chiều thứ hai: gồm số người chơi trong trận\n",
    "\n",
    "    +Chiều thứ ba: thứ hạng của người chơi"
   ]
  },
  {
   "cell_type": "code",
   "execution_count": 18,
   "metadata": {},
   "outputs": [],
   "source": [
    "list_ranks = []\n",
    "player_rank = []\n",
    "in_match = []\n",
    "for player in range(len(all_players)):\n",
    "    for match in range(len(all_players[0])):\n",
    "        for each_player in range(8):\n",
    "            player_rank.append(all_players[player][match]['info']['participants'][each_player]['placement'])\n",
    "        temp1 = player_rank.copy()\n",
    "        in_match.append(temp1)\n",
    "        player_rank.clear()\n",
    "    temp2 = in_match.copy()\n",
    "    list_ranks.append(temp2)\n",
    "    in_match.clear()"
   ]
  },
  {
   "attachments": {},
   "cell_type": "markdown",
   "metadata": {},
   "source": [
    "### LƯU TẤT CẢ DỮ LIỆU VÀO DATAFRAME"
   ]
  },
  {
   "attachments": {},
   "cell_type": "markdown",
   "metadata": {},
   "source": [
    "##### tạo 1 dict để lưu trữ từng đội hình của từng trận đấu theo hàng:\n",
    "    \n",
    "    +Puuid: Sử dụng hàm flatten để chuyển mảng 2 chiều thành mảng 1 chiều, sau đó ép vào cột đầu của dataframe\n",
    "\n",
    "    +ID Match: vì 1 trận đấu có 8 người chỉ tương đương với 1 ID Match nên ta sẽ phải lặp lại ID Match 8 lần để phù hợp với kích thước của dataframe\n",
    "\n",
    "    +"
   ]
  },
  {
   "cell_type": "code",
   "execution_count": 19,
   "metadata": {},
   "outputs": [
    {
     "name": "stderr",
     "output_type": "stream",
     "text": [
      "C:\\Users\\ACER\\AppData\\Local\\Temp\\ipykernel_11796\\2436253315.py:4: VisibleDeprecationWarning: Creating an ndarray from ragged nested sequences (which is a list-or-tuple of lists-or-tuples-or ndarrays with different lengths or shapes) is deprecated. If you meant to do this, you must specify 'dtype=object' when creating the ndarray.\n",
      "  'List Augments': np.array(np.array(augments).flatten()),\n",
      "C:\\Users\\ACER\\AppData\\Local\\Temp\\ipykernel_11796\\2436253315.py:5: VisibleDeprecationWarning: Creating an ndarray from ragged nested sequences (which is a list-or-tuple of lists-or-tuples-or ndarrays with different lengths or shapes) is deprecated. If you meant to do this, you must specify 'dtype=object' when creating the ndarray.\n",
      "  'List Traits': np.array(np.array(list_traits).flatten()),\n",
      "C:\\Users\\ACER\\AppData\\Local\\Temp\\ipykernel_11796\\2436253315.py:6: VisibleDeprecationWarning: Creating an ndarray from ragged nested sequences (which is a list-or-tuple of lists-or-tuples-or ndarrays with different lengths or shapes) is deprecated. If you meant to do this, you must specify 'dtype=object' when creating the ndarray.\n",
      "  'List Champions': np.array(np.array(list_champions).flatten()),\n",
      "C:\\Users\\ACER\\AppData\\Local\\Temp\\ipykernel_11796\\2436253315.py:7: VisibleDeprecationWarning: Creating an ndarray from ragged nested sequences (which is a list-or-tuple of lists-or-tuples-or ndarrays with different lengths or shapes) is deprecated. If you meant to do this, you must specify 'dtype=object' when creating the ndarray.\n",
      "  'List Number Items':np.array(np.array(list_items).flatten()),\n",
      "C:\\Users\\ACER\\AppData\\Local\\Temp\\ipykernel_11796\\2436253315.py:8: VisibleDeprecationWarning: Creating an ndarray from ragged nested sequences (which is a list-or-tuple of lists-or-tuples-or ndarrays with different lengths or shapes) is deprecated. If you meant to do this, you must specify 'dtype=object' when creating the ndarray.\n",
      "  'List Champions Tier':(np.array(np.array(list_tiers).flatten())).flatten()}\n"
     ]
    }
   ],
   "source": [
    "temp = {'Puuid': np.array(participants).flatten(), \n",
    "        'ID Match': np.array(np.array(id_match).repeat(8)).flatten(), \n",
    "        'Placement': np.array(list_ranks).flatten(),\n",
    "        'List Augments': np.array(np.array(augments).flatten()),\n",
    "        'List Traits': np.array(np.array(list_traits).flatten()),\n",
    "        'List Champions': np.array(np.array(list_champions).flatten()),\n",
    "        'List Number Items':np.array(np.array(list_items).flatten()),\n",
    "        'List Champions Tier':(np.array(np.array(list_tiers).flatten())).flatten()}\n",
    "process_data_tft_general = pd.DataFrame(temp)"
   ]
  },
  {
   "cell_type": "code",
   "execution_count": 20,
   "metadata": {},
   "outputs": [],
   "source": [
    "process_data_tft_general.to_csv(\"process_data_tft_general_csv.csv\")"
   ]
  },
  {
   "attachments": {},
   "cell_type": "markdown",
   "metadata": {},
   "source": [
    "### II) LẤY ĐỒ CỦA TỪNG TƯỚNG TRONG ĐỘI HÌNH CỦA NGƯỜI CHƠI"
   ]
  },
  {
   "attachments": {},
   "cell_type": "markdown",
   "metadata": {},
   "source": [
    "#### LẤY ĐỒ CỦA TỪNG TƯỚNG"
   ]
  },
  {
   "attachments": {},
   "cell_type": "markdown",
   "metadata": {},
   "source": [
    "##### 1 mảng 3 chiều:\n",
    "\n",
    "    +Chiều thứ nhất: số lượng trận đấu(20)\n",
    "\n",
    "    +Chiều thứ hai: số người chơi(8)\n",
    "\n",
    "    +Chiều thứ ba: đồ của từng tướng trong đội hình của người chơi"
   ]
  },
  {
   "cell_type": "code",
   "execution_count": 21,
   "metadata": {},
   "outputs": [],
   "source": [
    "list_items = []\n",
    "in_match = []\n",
    "in_player = []\n",
    "for player in range(len(all_players)):\n",
    "    for match in range(len((all_players[0]))):\n",
    "        for each_player in range(8):\n",
    "            items_champion = all_players[player][match]['info']['participants'][each_player]['units']\n",
    "            temp = []\n",
    "            for item in range(len(items_champion)):\n",
    "                temp.append(all_players[player][match]['info']['participants'][each_player]['units'][item]['itemNames'])\n",
    "\n",
    "            temp1 = temp.copy()\n",
    "            in_match.append(temp1)\n",
    "            temp.clear()\n",
    "\n",
    "        temp2 = in_match.copy()\n",
    "        in_player.append(temp2)\n",
    "        in_match.clear()\n",
    "\n",
    "    temp3 = in_player.copy()\n",
    "    list_items.append(temp3)\n",
    "    in_player.clear()  "
   ]
  },
  {
   "attachments": {},
   "cell_type": "markdown",
   "metadata": {},
   "source": [
    "#### LẤY TÊN CỦA TƯỚNG"
   ]
  },
  {
   "attachments": {},
   "cell_type": "markdown",
   "metadata": {},
   "source": [
    "##### 1 mảng 3 chiều:\n",
    "\n",
    "    +Chiều thứ nhất: số trận đấu(20)\n",
    "\n",
    "    +Chiều thứ hai: số lượng người chơi\n",
    "\n",
    "    +Chiều thứ ba: 1 list tướng của người chơi đó"
   ]
  },
  {
   "cell_type": "code",
   "execution_count": 22,
   "metadata": {},
   "outputs": [],
   "source": [
    "champions = []\n",
    "in_match = []\n",
    "in_player = []\n",
    "for player in range(len(all_players)):\n",
    "    for match in range(len(all_players[0])):\n",
    "        for each_player in range(8):\n",
    "            player_champions = all_players[player][match]['info']['participants'][each_player]['units']\n",
    "            temp = []\n",
    "            for name in range(len(player_champions)):\n",
    "                temp.append(all_players[player][match]['info']['participants'][each_player]['units'][name]['character_id'])\n",
    "\n",
    "            temp1 = temp.copy()\n",
    "            in_match.append(temp1)\n",
    "            temp.clear()\n",
    "\n",
    "        temp2 = in_match.copy()\n",
    "        in_player.append(temp2)\n",
    "        in_match.clear()\n",
    "\n",
    "    temp3 = in_player.copy()\n",
    "    champions.append(temp3)\n",
    "    in_player.clear() "
   ]
  },
  {
   "cell_type": "code",
   "execution_count": 23,
   "metadata": {},
   "outputs": [
    {
     "name": "stderr",
     "output_type": "stream",
     "text": [
      "C:\\Users\\ACER\\AppData\\Local\\Temp\\ipykernel_11796\\2279550580.py:3: VisibleDeprecationWarning: Creating an ndarray from ragged nested sequences (which is a list-or-tuple of lists-or-tuples-or ndarrays with different lengths or shapes) is deprecated. If you meant to do this, you must specify 'dtype=object' when creating the ndarray.\n",
      "  'Champion': np.array(champions).flatten(),\n",
      "C:\\Users\\ACER\\AppData\\Local\\Temp\\ipykernel_11796\\2279550580.py:4: VisibleDeprecationWarning: Creating an ndarray from ragged nested sequences (which is a list-or-tuple of lists-or-tuples-or ndarrays with different lengths or shapes) is deprecated. If you meant to do this, you must specify 'dtype=object' when creating the ndarray.\n",
      "  'List Name Item':np.array(list_items).flatten(),\n"
     ]
    }
   ],
   "source": [
    "temp = {'Puuid': np.array(participants).flatten(), \n",
    "        'ID Match': np.array(np.array(id_match).repeat(8)).flatten(), \n",
    "        'Champion': np.array(champions).flatten(),\n",
    "        'List Name Item':np.array(list_items).flatten(),\n",
    "        'Placement':np.array(list_ranks).flatten()}\n",
    "\n",
    "\n",
    "process_data_tft_each_item = pd.DataFrame(temp)"
   ]
  },
  {
   "cell_type": "code",
   "execution_count": 24,
   "metadata": {},
   "outputs": [
    {
     "data": {
      "text/plain": [
       "0        [[TFT_Item_ZekesHerald], [TFT_Item_BrambleVest...\n",
       "1        [[TFT8_Item_HeartEmblemItem], [TFT_Item_Brambl...\n",
       "2        [[TFT_Item_GargoyleStoneplate], [], [TFT_Item_...\n",
       "3        [[], [TFT8_Item_HackerEmblemItem], [TFT_Item_S...\n",
       "4        [[], [TFT_Item_WarmogsArmor, TFT_Item_TitansRe...\n",
       "                               ...                        \n",
       "31995    [[], [], [], [TFT_Item_TitanicHydra], [TFT_Ite...\n",
       "31996    [[TFT_Item_Shroud, TFT_Item_NegatronCloak], []...\n",
       "31997    [[TFT8_Item_CivilianEmblemItem], [], [], [], [...\n",
       "31998    [[TFT_Item_TitanicHydra, TFT_Item_ChainVest], ...\n",
       "31999    [[], [], [TFT_Item_TitansResolve, TFT_Item_Blo...\n",
       "Name: List Name Item, Length: 32000, dtype: object"
      ]
     },
     "execution_count": 24,
     "metadata": {},
     "output_type": "execute_result"
    }
   ],
   "source": [
    "process_data_tft_each_item[\"List Name Item\"]"
   ]
  },
  {
   "cell_type": "code",
   "execution_count": 25,
   "metadata": {},
   "outputs": [],
   "source": [
    "process_data_tft_each_item.to_csv(\"process_data_tft_each_item_csv.csv\")"
   ]
  }
 ],
 "metadata": {
  "kernelspec": {
   "display_name": "min_ds-env",
   "language": "python",
   "name": "python3"
  },
  "language_info": {
   "codemirror_mode": {
    "name": "ipython",
    "version": 3
   },
   "file_extension": ".py",
   "mimetype": "text/x-python",
   "name": "python",
   "nbconvert_exporter": "python",
   "pygments_lexer": "ipython3",
   "version": "3.8.8"
  },
  "orig_nbformat": 4,
  "vscode": {
   "interpreter": {
    "hash": "79aebf84914f6662b95d7ae9134837db3a2655ed7c44a08451f0a7933632525e"
   }
  }
 },
 "nbformat": 4,
 "nbformat_minor": 2
}
