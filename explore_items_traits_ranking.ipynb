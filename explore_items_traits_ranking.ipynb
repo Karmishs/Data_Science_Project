{
 "cells": [
  {
   "attachments": {},
   "cell_type": "markdown",
   "metadata": {},
   "source": [
    "## TÍNH TOÁN VÀ VẼ BIỂU ĐỒ TRÒN CỦA TRANG BỊ TỘC VÀ HỆ"
   ]
  },
  {
   "cell_type": "code",
   "execution_count": null,
   "metadata": {},
   "outputs": [],
   "source": [
    "import pandas as pd\n",
    "import numpy as np\n",
    "import ast\n",
    "from itertools import chain"
   ]
  },
  {
   "attachments": {},
   "cell_type": "markdown",
   "metadata": {},
   "source": [
    "### ĐỌC DỮ LIỆU ĐỂ LẤY TẤT CẢ CÁC MÓN ĐỒ"
   ]
  },
  {
   "cell_type": "code",
   "execution_count": null,
   "metadata": {},
   "outputs": [],
   "source": [
    "item_df = pd.read_csv('process_data_tft_each_item_csv.csv', usecols = ['List Name Item']).drop_duplicates().reset_index(drop=True)"
   ]
  },
  {
   "attachments": {},
   "cell_type": "markdown",
   "metadata": {},
   "source": [
    "### LẤY RA SỐ LƯỢNG ĐỒ CÓ TRONG TRẬN ĐẤU\n",
    "\n",
    "ast.literak_eval: dùng để biến đổi string thành list"
   ]
  },
  {
   "cell_type": "code",
   "execution_count": null,
   "metadata": {},
   "outputs": [],
   "source": [
    "list_items = []\n",
    "for i in range(len(item_df['List Name Item'])):\n",
    "    list_items.append(ast.literal_eval(item_df['List Name Item'][i])) "
   ]
  },
  {
   "attachments": {},
   "cell_type": "markdown",
   "metadata": {},
   "source": [
    "### TÌM RA MÓN ĐỒ ĐƯỢC SỬ DỤNG NHIỀU NHẤT VÀ ÍT NHẤT"
   ]
  },
  {
   "attachments": {},
   "cell_type": "markdown",
   "metadata": {},
   "source": [
    "hàm zip dùng để biến 2 list được cho ra thành key và values\n",
    "\n",
    "lisst(chain) dùng để ép mảng xuống còn 1D và sau đó sort lại"
   ]
  },
  {
   "cell_type": "code",
   "execution_count": null,
   "metadata": {},
   "outputs": [],
   "source": [
    "def get_best_worst_items(list_items):\n",
    "    flatten_list = list(chain.from_iterable(list_items))\n",
    "    flatten_list = list(chain.from_iterable(flatten_list))\n",
    "    flatten_list = np.array(flatten_list, dtype = object)\n",
    "    unique, counts = np.unique(flatten_list, return_counts=True)\n",
    "    a = dict(zip(unique, counts))\n",
    "    b = dict(sorted(a.items(), key=lambda item: item[1]))\n",
    "    best_item = list(b.items())\n",
    "    worst_item = list(b.items())[0:5]\n",
    "    return best_item,worst_item"
   ]
  },
  {
   "cell_type": "code",
   "execution_count": null,
   "metadata": {},
   "outputs": [],
   "source": [
    "get_best_worst_items(list_items)"
   ]
  },
  {
   "attachments": {},
   "cell_type": "markdown",
   "metadata": {},
   "source": [
    "### TÌM VỊ TRÍ TRUNG BÌNH CỦA MÓN ĐỒ ĐÓ TRONG TRẬN ĐẤU"
   ]
  },
  {
   "attachments": {},
   "cell_type": "markdown",
   "metadata": {},
   "source": [
    "\n",
    "khi người chơi sử dụng món đồ đó thì sẽ được lọt vào top mấy của game"
   ]
  },
  {
   "cell_type": "code",
   "execution_count": null,
   "metadata": {},
   "outputs": [],
   "source": [
    "average_df = pd.read_csv('process_data_tft_each_item_csv.csv', usecols = ['Puuid', 'Placement', 'List Name Item']).drop_duplicates().reset_index(drop = True)"
   ]
  },
  {
   "cell_type": "code",
   "execution_count": null,
   "metadata": {},
   "outputs": [],
   "source": [
    "def convert_string_to_list(ok, placement, column):\n",
    "    temp = ok[ok.eq(placement).any(1)].reset_index(drop=True)\n",
    "    top = []\n",
    "    for i in range(len(temp)):\n",
    "        top.append(ast.literal_eval(temp[column][i]))\n",
    "    return top"
   ]
  },
  {
   "attachments": {},
   "cell_type": "markdown",
   "metadata": {},
   "source": [
    "lọc ra trong những top từ 1 đến 8 số lần item đó được sử dụng"
   ]
  },
  {
   "cell_type": "code",
   "execution_count": null,
   "metadata": {},
   "outputs": [],
   "source": [
    "item_on_top = {}\n",
    "for i in range(1,9,1):\n",
    "    temp = convert_string_to_list(average_df, i, 'List Name Item')\n",
    "    temp1 = 'top_' + str(i)\n",
    "    item_on_top[temp1] = get_best_worst_items(temp)"
   ]
  },
  {
   "cell_type": "code",
   "execution_count": null,
   "metadata": {},
   "outputs": [],
   "source": [
    "item_on_top"
   ]
  },
  {
   "attachments": {},
   "cell_type": "markdown",
   "metadata": {},
   "source": [
    "### TỈ LỆ CỦA MÓN ĐỒ ĐÓ TRONG TRẬN ĐẤU VÀ SỐ LẦN XUẤT HIỆN CỦA MÓN ĐỒ TRONG TỪNG TOP CỦA TRẬN ĐẤU"
   ]
  },
  {
   "cell_type": "code",
   "execution_count": null,
   "metadata": {},
   "outputs": [],
   "source": [
    "all_item_df = pd.read_csv(\"item_tft_csv.csv\", usecols=[\"Item\"])"
   ]
  },
  {
   "cell_type": "code",
   "execution_count": null,
   "metadata": {},
   "outputs": [],
   "source": [
    "all_items = all_item_df['Item'].to_list()"
   ]
  },
  {
   "attachments": {},
   "cell_type": "markdown",
   "metadata": {},
   "source": [
    "temp: vị trí trung bình của món đồ khi ở trong top từ 1 đến 8\n",
    "\n",
    "temp1: tỉ lệ số trận đấu từ top 1 đến 8 mà món đồ đó được sử dụng"
   ]
  },
  {
   "cell_type": "code",
   "execution_count": null,
   "metadata": {},
   "outputs": [],
   "source": [
    "sum = 0\n",
    "temp = 0\n",
    "item_avg_top = []\n",
    "item_avg_on_match = []\n",
    "match_each_top = []\n",
    "for item in all_items:\n",
    "    temp1 = []\n",
    "    temp2 = []\n",
    "    for i in range(1,9,1):\n",
    "        cc = dict(item_on_top['top_' + str(i)][0])\n",
    "        if(item in cc):\n",
    "            temp = temp+dict(item_on_top['top_' + str(i)][0])[item]*i\n",
    "            sum = sum + (dict(item_on_top['top_' + str(i)][0])[item])\n",
    "            temp1.append(temp/sum)\n",
    "            temp2.append(sum/32000)\n",
    "            match_each_top.append(sum)\n",
    "    item_avg_top.append(temp1)\n",
    "    item_avg_on_match.append(temp2)\n",
    "    temp = 0\n",
    "    sum = 0"
   ]
  },
  {
   "cell_type": "code",
   "execution_count": null,
   "metadata": {},
   "outputs": [],
   "source": [
    "item_avg_top"
   ]
  },
  {
   "attachments": {},
   "cell_type": "markdown",
   "metadata": {},
   "source": [
    "avg_top: phần trăm của món đồ\n",
    "\n",
    "avg_on_match: phần trăm món đồ đó được sử dụng trong mỗi hạng(1->8)"
   ]
  },
  {
   "attachments": {},
   "cell_type": "markdown",
   "metadata": {},
   "source": [
    "## TƯƠNG TỰ VỚI TỘC VÀ HỆ"
   ]
  },
  {
   "attachments": {},
   "cell_type": "markdown",
   "metadata": {},
   "source": [
    "#### đọc dữ liệu để lấy hệ và tộc"
   ]
  },
  {
   "cell_type": "code",
   "execution_count": null,
   "metadata": {},
   "outputs": [],
   "source": [
    "traits_df = pd.read_csv('process_data_tft_general_csv.csv', usecols = ['List Traits']).drop_duplicates().reset_index(drop=True)"
   ]
  },
  {
   "cell_type": "code",
   "execution_count": null,
   "metadata": {},
   "outputs": [],
   "source": [
    "list_traits = []\n",
    "\n",
    "for i in range(len(traits_df['List Traits'])):\n",
    "    list_traits.append(ast.literal_eval(traits_df['List Traits'][i])) "
   ]
  },
  {
   "attachments": {},
   "cell_type": "markdown",
   "metadata": {},
   "source": [
    "### TÌM RA TỘC HỆ ĐƯỢC SỬ DỤNG NHIỀU NHẤT VÀ ÍT NHẤT"
   ]
  },
  {
   "cell_type": "code",
   "execution_count": null,
   "metadata": {},
   "outputs": [],
   "source": [
    "def get_best_worst_traits(list_traits):\n",
    "    flatten_list = list(chain.from_iterable(list_traits))\n",
    "    flatten_list = np.array(flatten_list, dtype = object)\n",
    "    cc = flatten_list[0::3]\n",
    "    unique, counts= np.unique(cc, return_counts=True)\n",
    "    a = dict(zip(unique, counts))\n",
    "    b = dict(sorted(a.items(), key=lambda item: item[1]))\n",
    "    best_traits = list(b.items())\n",
    "    worst_traits = list(b.items())[:5]\n",
    "    return best_traits, worst_traits"
   ]
  },
  {
   "cell_type": "code",
   "execution_count": null,
   "metadata": {},
   "outputs": [],
   "source": [
    "a, b = get_best_worst_traits(list_traits)\n",
    "print(a, b)"
   ]
  },
  {
   "attachments": {},
   "cell_type": "markdown",
   "metadata": {},
   "source": [
    "### VỊ TRÍ TRUNG BÌNH CỦA TỘC VÀ HỆ"
   ]
  },
  {
   "cell_type": "code",
   "execution_count": null,
   "metadata": {},
   "outputs": [],
   "source": [
    "list_traits_df = pd.read_csv('process_data_tft_general_csv.csv', usecols= ['Placement', 'List Traits'])"
   ]
  },
  {
   "cell_type": "code",
   "execution_count": null,
   "metadata": {},
   "outputs": [],
   "source": [
    "traits_on_top = {}\n",
    "for i in range(1,9,1):\n",
    "    temp = convert_string_to_list(list_traits_df, i, 'List Traits')\n",
    "    temp1 = 'top_' + str(i)\n",
    "    traits_on_top[temp1] = get_best_worst_traits(temp)"
   ]
  },
  {
   "attachments": {},
   "cell_type": "markdown",
   "metadata": {},
   "source": [
    "### TỈ LỆ CỦA TỘC HỆ ĐÓ TRONG TRẬN ĐẤU VÀ SỐ LẦN XUẤT HIỆN CỦA TỘC HỆ TRONG TỪNG TOP CỦA TRẬN ĐẤU"
   ]
  },
  {
   "attachments": {},
   "cell_type": "markdown",
   "metadata": {},
   "source": [
    "traits_avg_top: tộc hệ trung bình trong các top trận đấu\n",
    "\n",
    "traits_avg_on_match: tần suất xuất hiện của tộc hệ trong trận đấu"
   ]
  },
  {
   "cell_type": "code",
   "execution_count": null,
   "metadata": {},
   "outputs": [],
   "source": [
    "all_traits_df = pd.read_csv('TocHe.csv', usecols=['Trait'])"
   ]
  },
  {
   "cell_type": "code",
   "execution_count": null,
   "metadata": {},
   "outputs": [],
   "source": [
    "all_traits = all_traits_df['Trait'].to_list()"
   ]
  },
  {
   "cell_type": "code",
   "execution_count": null,
   "metadata": {},
   "outputs": [],
   "source": [
    "sum = 0\n",
    "temp = 0\n",
    "traits_avg_top = []\n",
    "traits_avg_on_match = []\n",
    "traits_match_each_top = []\n",
    "for item in all_traits:\n",
    "    temp1 = []\n",
    "    temp2 = []\n",
    "    for i in range(1,9,1):\n",
    "        cc = dict(traits_on_top['top_' + str(i)][0])\n",
    "        if(item in cc):\n",
    "            temp = temp+dict(traits_on_top['top_' + str(i)][0])[item]*i\n",
    "            sum = sum + (dict(traits_on_top['top_' + str(i)][0])[item])\n",
    "            temp1.append(temp/sum)\n",
    "            temp2.append(sum/32000)\n",
    "            traits_match_each_top.append(sum)\n",
    "    traits_avg_top.append(temp1)\n",
    "    traits_avg_on_match.append(temp2)\n",
    "    temp = 0\n",
    "    sum = 0"
   ]
  },
  {
   "cell_type": "code",
   "execution_count": null,
   "metadata": {},
   "outputs": [],
   "source": [
    "print(traits_avg_top,all_traits, traits_avg_on_match)"
   ]
  }
 ],
 "metadata": {
  "kernelspec": {
   "display_name": "min_ds-env",
   "language": "python",
   "name": "python3"
  },
  "language_info": {
   "codemirror_mode": {
    "name": "ipython",
    "version": 3
   },
   "file_extension": ".py",
   "mimetype": "text/x-python",
   "name": "python",
   "nbconvert_exporter": "python",
   "pygments_lexer": "ipython3",
   "version": "3.8.8"
  },
  "orig_nbformat": 4,
  "vscode": {
   "interpreter": {
    "hash": "1376b7d9f14531d76db176389414f8a4a73502f1aa581cb356349fabafd1ad74"
   }
  }
 },
 "nbformat": 4,
 "nbformat_minor": 2
}
