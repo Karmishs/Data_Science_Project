{
 "cells": [
  {
   "attachments": {},
   "cell_type": "markdown",
   "metadata": {},
   "source": [
    "### tính toán và vẽ biểu đồ tròn của trang bị và tộc hệ"
   ]
  },
  {
   "cell_type": "code",
   "execution_count": null,
   "metadata": {},
   "outputs": [],
   "source": [
    "import pandas as pd\n",
    "import numpy as np\n",
    "from ast import literal_eval\n",
    "from itertools import chain"
   ]
  },
  {
   "attachments": {},
   "cell_type": "markdown",
   "metadata": {},
   "source": [
    "#### đọc dữ liệu để lấy món đồ"
   ]
  },
  {
   "cell_type": "code",
   "execution_count": null,
   "metadata": {},
   "outputs": [],
   "source": [
    "item_df = pd.read_csv('process_data_tft_each_item_csv.csv', usecols = ['List Name Item']).drop_duplicates().reset_index(drop=True)"
   ]
  },
  {
   "cell_type": "code",
   "execution_count": null,
   "metadata": {},
   "outputs": [],
   "source": [
    "list_items = []\n",
    "for i in range(len(item_df['List Name Item'])):\n",
    "    list_items.append(ast.literal_eval(item_df['List Name Item'][i])) "
   ]
  },
  {
   "attachments": {},
   "cell_type": "markdown",
   "metadata": {},
   "source": [
    "### TÌM RA MÓN ĐỒ ĐƯỢC SỬ DỤNG NHIỀU NHẤT VÀ ÍT NHẤT"
   ]
  },
  {
   "attachments": {},
   "cell_type": "markdown",
   "metadata": {},
   "source": [
    "hàm zip dùng để biến 2 list được cho ra thành key và values\n",
    "\n",
    "lisst(chain) dùng để ép mảng xuống còn 1D và sau đó sort lại"
   ]
  },
  {
   "cell_type": "code",
   "execution_count": null,
   "metadata": {},
   "outputs": [],
   "source": [
    "def get_best_worst_items(list_items):\n",
    "    flatten_list = list(chain.from_iterable(list_items))\n",
    "    flatten_list = list(chain.from_iterable(flatten_list))\n",
    "    flatten_list = np.array(flatten_list, dtype = object)\n",
    "    unique, counts = np.unique(flatten_list, return_counts=True)\n",
    "    a = dict(zip(unique, counts))\n",
    "    b = dict(sorted(a.items(), key=lambda item: item[1]))\n",
    "    best_item = list(b.items())\n",
    "    worst_item = list(b.items())[0:5]\n",
    "    return best_item,worst_item"
   ]
  },
  {
   "cell_type": "code",
   "execution_count": null,
   "metadata": {},
   "outputs": [],
   "source": [
    "get_best_worst_items(list_items)"
   ]
  },
  {
   "attachments": {},
   "cell_type": "markdown",
   "metadata": {},
   "source": [
    "### TÌM VỊ TRÍ TRUNG BÌNH CỦA MÓN ĐỒ ĐÓ TRONG TRẬN ĐẤU"
   ]
  },
  {
   "attachments": {},
   "cell_type": "markdown",
   "metadata": {},
   "source": [
    "\n",
    "khi người chơi sử dụng món đồ đó thì sẽ được lọt vào top mấy của game"
   ]
  },
  {
   "cell_type": "code",
   "execution_count": null,
   "metadata": {},
   "outputs": [],
   "source": [
    "average_df = pd.read_csv('process_data_tft_each_item_csv.csv', usecols = ['Puuid', 'Placement', 'List Name Item']).drop_duplicates().reset_index(drop = True)"
   ]
  },
  {
   "cell_type": "code",
   "execution_count": null,
   "metadata": {},
   "outputs": [],
   "source": [
    "def convert_string_to_list(ok, placement):\n",
    "    temp = ok[ok.eq(placement).any(1)].reset_index(drop=True)\n",
    "    top = []\n",
    "    for i in range(len(temp)):\n",
    "        top.append(ast.literal_eval(temp['List Name Item'][i]))\n",
    "    return top"
   ]
  },
  {
   "cell_type": "code",
   "execution_count": null,
   "metadata": {},
   "outputs": [],
   "source": [
    "item_on_top = {}\n",
    "for i in range(1,9,1):\n",
    "    temp = convert_string_to_list(average_df, i)\n",
    "    temp1 = 'top_' + str(i)\n",
    "    item_on_top[temp1] = get_best_worst_items(temp)\n"
   ]
  },
  {
   "cell_type": "code",
   "execution_count": 262,
   "metadata": {},
   "outputs": [
    {
     "name": "stdout",
     "output_type": "stream",
     "text": [
      "3.75\n"
     ]
    }
   ],
   "source": [
    "sum = 0\n",
    "temp = 0\n",
    "# print(dict(item_on_top['top_' + str(5)][0]))\n",
    "for i in range(1,9,1):\n",
    "        cc = dict(item_on_top['top_' + str(i)][0])\n",
    "        if('TFT5_Item_MorellonomiconRadiant' in cc):\n",
    "                # print(dict(item_on_top['top_' + str(i)][0])['TFT5_Item_MorellonomiconRadiant'])\n",
    "                temp = temp+dict(item_on_top['top_' + str(i)][0])['TFT5_Item_MorellonomiconRadiant']*i\n",
    "                sum = sum + (dict(item_on_top['top_' + str(i)][0])['TFT5_Item_MorellonomiconRadiant'])\n",
    "print(temp/sum)"
   ]
  },
  {
   "attachments": {},
   "cell_type": "markdown",
   "metadata": {},
   "source": [
    "### TƯƠNG TỰ VỚI TỘC VÀ HỆ"
   ]
  },
  {
   "cell_type": "code",
   "execution_count": null,
   "metadata": {},
   "outputs": [],
   "source": [
    "traits_df = pd.read_csv('process_data_tft_general_csv.csv', usecols = ['List Traits']).drop_duplicates().reset_index(drop=True)"
   ]
  },
  {
   "cell_type": "code",
   "execution_count": null,
   "metadata": {},
   "outputs": [],
   "source": [
    "list_traits = []\n",
    "\n",
    "for i in range(len(traits_df['List Traits'])):\n",
    "    list_traits.append(ast.literal_eval(traits_df['List Traits'][i])) "
   ]
  },
  {
   "cell_type": "code",
   "execution_count": null,
   "metadata": {},
   "outputs": [],
   "source": [
    "def get_best_worst_traits(list_traits):\n",
    "    flatten_list = list(chain.from_iterable(list_traits))\n",
    "    flatten_list = np.array(flatten_list, dtype = object)\n",
    "    cc = flatten_list[0::3]\n",
    "    unique, counts= np.unique(cc, return_counts=True)\n",
    "    a = dict(zip(unique, counts))\n",
    "    b = dict(sorted(a.items(), key=lambda item: item[1]))\n",
    "    best_traits = list(b.items())[-5:]\n",
    "    worst_traits = list(b.items())[:5]\n",
    "    return best_traits, worst_traits"
   ]
  },
  {
   "cell_type": "code",
   "execution_count": null,
   "metadata": {},
   "outputs": [],
   "source": [
    "a, b = get_best_worst_traits(list_traits)\n",
    "print(a, b)"
   ]
  },
  {
   "attachments": {},
   "cell_type": "markdown",
   "metadata": {},
   "source": [
    "### top 1 và top 4"
   ]
  },
  {
   "cell_type": "code",
   "execution_count": null,
   "metadata": {},
   "outputs": [],
   "source": [
    "df4 = pd.read_csv('process_data_tft_general_csv.csv', usecols= ['Placement', 'List Traits'])"
   ]
  },
  {
   "cell_type": "code",
   "execution_count": null,
   "metadata": {},
   "outputs": [],
   "source": [
    "traits_top_1 = df4[df4.eq(1).any(1)].reset_index(drop=True)\n",
    "temp = []\n",
    "for i in range(len(traits_top_1['List Traits'])):\n",
    "    temp.append(ast.literal_eval(traits_top_1['List Traits'][i])) \n",
    "\n",
    "a, b = get_best_worst_traits(temp)\n",
    "print(a, b)"
   ]
  }
 ],
 "metadata": {
  "kernelspec": {
   "display_name": "min_ds-env",
   "language": "python",
   "name": "python3"
  },
  "language_info": {
   "codemirror_mode": {
    "name": "ipython",
    "version": 3
   },
   "file_extension": ".py",
   "mimetype": "text/x-python",
   "name": "python",
   "nbconvert_exporter": "python",
   "pygments_lexer": "ipython3",
   "version": "3.8.8 | packaged by conda-forge | (default, Feb 20 2021, 15:50:08) [MSC v.1916 64 bit (AMD64)]"
  },
  "orig_nbformat": 4,
  "vscode": {
   "interpreter": {
    "hash": "1376b7d9f14531d76db176389414f8a4a73502f1aa581cb356349fabafd1ad74"
   }
  }
 },
 "nbformat": 4,
 "nbformat_minor": 2
}
