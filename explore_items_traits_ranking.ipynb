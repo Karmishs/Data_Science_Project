{
 "cells": [
  {
   "attachments": {},
   "cell_type": "markdown",
   "metadata": {},
   "source": [
    "## TÍNH TOÁN VÀ VẼ BIỂU ĐỒ TRÒN CỦA TRANG BỊ TỘC VÀ HỆ"
   ]
  },
  {
   "cell_type": "code",
   "execution_count": 170,
   "metadata": {},
   "outputs": [],
   "source": [
    "import pandas as pd\n",
    "import numpy as np\n",
    "import ast\n",
    "from itertools import chain"
   ]
  },
  {
   "attachments": {},
   "cell_type": "markdown",
   "metadata": {},
   "source": [
    "### ĐỌC DỮ LIỆU ĐỂ LẤY TẤT CẢ CÁC MÓN ĐỒ"
   ]
  },
  {
   "cell_type": "code",
   "execution_count": 171,
   "metadata": {},
   "outputs": [],
   "source": [
    "item_df = pd.read_csv('process_data_tft_each_item_csv.csv', usecols = ['List Name Item']).drop_duplicates().reset_index(drop=True)"
   ]
  },
  {
   "attachments": {},
   "cell_type": "markdown",
   "metadata": {},
   "source": [
    "### LẤY RA SỐ LƯỢNG ĐỒ CÓ TRONG TRẬN ĐẤU\n",
    "\n",
    "ast.literak_eval: dùng để biến đổi string thành list"
   ]
  },
  {
   "cell_type": "code",
   "execution_count": 172,
   "metadata": {},
   "outputs": [],
   "source": [
    "list_items = []\n",
    "for i in range(len(item_df['List Name Item'])):\n",
    "    list_items.append(ast.literal_eval(item_df['List Name Item'][i])) "
   ]
  },
  {
   "attachments": {},
   "cell_type": "markdown",
   "metadata": {},
   "source": [
    "### TÌM RA MÓN ĐỒ ĐƯỢC SỬ DỤNG NHIỀU NHẤT VÀ ÍT NHẤT"
   ]
  },
  {
   "attachments": {},
   "cell_type": "markdown",
   "metadata": {},
   "source": [
    "hàm zip dùng để biến 2 list được cho ra thành key và values\n",
    "\n",
    "lisst(chain) dùng để ép mảng xuống còn 1D và sau đó sort lại"
   ]
  },
  {
   "cell_type": "code",
   "execution_count": 173,
   "metadata": {},
   "outputs": [],
   "source": [
    "def get_best_worst_items(list_items):\n",
    "    flatten_list = list(chain.from_iterable(list_items))\n",
    "    flatten_list = list(chain.from_iterable(flatten_list))\n",
    "    flatten_list = np.array(flatten_list, dtype = object)\n",
    "    unique, counts = np.unique(flatten_list, return_counts=True)\n",
    "    a = dict(zip(unique, counts))\n",
    "    b = dict(sorted(a.items(), key=lambda item: item[1]))\n",
    "    best_item = list(b.items())\n",
    "    worst_item = list(b.items())[0:5]\n",
    "    return best_item,worst_item"
   ]
  },
  {
   "cell_type": "code",
   "execution_count": 174,
   "metadata": {},
   "outputs": [],
   "source": [
    "best_item,worst_item = get_best_worst_items(list_items)"
   ]
  },
  {
   "attachments": {},
   "cell_type": "markdown",
   "metadata": {},
   "source": [
    "5 món đồ tốt nhất và tệ nhất"
   ]
  },
  {
   "cell_type": "code",
   "execution_count": 175,
   "metadata": {},
   "outputs": [
    {
     "name": "stdout",
     "output_type": "stream",
     "text": [
      "[('TFT5_Item_MorellonomiconRadiant', 12), ('TFT5_Item_ShroudOfStillnessRadiant', 12), ('TFT5_Item_FrozenHeartRadiant', 14), ('TFT5_Item_LastWhisperRadiant', 14), ('TFT5_Item_RedemptionRadiant', 14)] [('TFT5_Item_MorellonomiconRadiant', 12), ('TFT5_Item_ShroudOfStillnessRadiant', 12), ('TFT5_Item_FrozenHeartRadiant', 14), ('TFT5_Item_LastWhisperRadiant', 14), ('TFT5_Item_RedemptionRadiant', 14)]\n"
     ]
    }
   ],
   "source": [
    "print(best_item[:5], worst_item)"
   ]
  },
  {
   "attachments": {},
   "cell_type": "markdown",
   "metadata": {},
   "source": [
    "### TÌM VỊ TRÍ TRUNG BÌNH CỦA MÓN ĐỒ ĐÓ TRONG TRẬN ĐẤU"
   ]
  },
  {
   "attachments": {},
   "cell_type": "markdown",
   "metadata": {},
   "source": [
    "\n",
    "khi người chơi sử dụng món đồ đó thì sẽ được lọt vào top mấy của game"
   ]
  },
  {
   "cell_type": "code",
   "execution_count": 176,
   "metadata": {},
   "outputs": [],
   "source": [
    "average_df = pd.read_csv('process_data_tft_each_item_csv.csv', usecols = ['Puuid', 'Placement', 'List Name Item']).drop_duplicates().reset_index(drop = True)"
   ]
  },
  {
   "attachments": {},
   "cell_type": "markdown",
   "metadata": {},
   "source": [
    "Chuyển đổi từ string sang list bởi vì đọc từ csv ra các list sẽ bị chuyển thành string"
   ]
  },
  {
   "cell_type": "code",
   "execution_count": 177,
   "metadata": {},
   "outputs": [],
   "source": [
    "def convert_string_to_list(ok, placement, column):\n",
    "    temp = ok[ok.eq(placement).any(1)].reset_index(drop=True)\n",
    "    top = []\n",
    "    for i in range(len(temp)):\n",
    "        top.append(ast.literal_eval(temp[column][i]))\n",
    "    return top"
   ]
  },
  {
   "attachments": {},
   "cell_type": "markdown",
   "metadata": {},
   "source": [
    "lọc ra trong những top từ 1 đến 8 số lần item đó được sử dụng"
   ]
  },
  {
   "cell_type": "code",
   "execution_count": 178,
   "metadata": {},
   "outputs": [],
   "source": [
    "item_on_top = {}\n",
    "for i in range(1,9,1):\n",
    "    temp = convert_string_to_list(average_df, i, 'List Name Item')\n",
    "    temp1 = 'top_' + str(i)\n",
    "    item_on_top[temp1] = get_best_worst_items(temp)"
   ]
  },
  {
   "attachments": {},
   "cell_type": "markdown",
   "metadata": {},
   "source": [
    "top những item được sử dụng khi người chơi đạt top 1(thấp đến cao)"
   ]
  },
  {
   "cell_type": "code",
   "execution_count": 179,
   "metadata": {},
   "outputs": [
    {
     "name": "stdout",
     "output_type": "stream",
     "text": [
      "[('TFT5_Item_RapidFirecannonRadiant', 1), ('TFT5_Item_StatikkShivRadiant', 1), ('TFT5_Item_ArchangelsStaffRadiant', 2), ('TFT5_Item_ChaliceOfPowerRadiant', 2), ('TFT5_Item_GargoyleStoneplateRadiant', 2), ('TFT5_Item_GuinsoosRagebladeRadiant', 2), ('TFT5_Item_HextechGunbladeRadiant', 2), ('TFT5_Item_InfinityEdgeRadiant', 2), ('TFT5_Item_RedemptionRadiant', 2), ('TFT5_Item_BloodthirsterRadiant', 3), ('TFT5_Item_DragonsClawRadiant', 3), ('TFT5_Item_FrozenHeartRadiant', 3), ('TFT5_Item_LastWhisperRadiant', 3), ('TFT5_Item_QuicksilverRadiant', 3), ('TFT5_Item_SpearOfShojinRadiant', 3), ('TFT5_Item_ZzRotPortalRadiant', 3), ('TFT5_Item_BlueBuffRadiant', 4), ('TFT5_Item_DeathbladeRadiant', 4), ('TFT5_Item_HandOfJusticeRadiant', 4), ('TFT5_Item_MorellonomiconRadiant', 4), ('TFT5_Item_RunaansHurricaneRadiant', 4), ('TFT5_Item_ZephyrRadiant', 4), ('TFT5_Item_BrambleVestRadiant', 5), ('TFT5_Item_GuardianAngelRadiant', 5), ('TFT5_Item_LocketOfTheIronSolariRadiant', 5), ('TFT5_Item_RabadonsDeathcapRadiant', 5), ('TFT5_Item_SunfireCapeRadiant', 5), ('TFT5_Item_WarmogsArmorRadiant', 5), ('TFT5_Item_IonicSparkRadiant', 6), ('TFT5_Item_JeweledGauntletRadiant', 6), ('TFT5_Item_TitansResolveRadiant', 6), ('TFT5_Item_GiantSlayerRadiant', 7), ('TFT8_Item_UndergroundTheEmblemItem', 7), ('TFT5_Item_TrapClawRadiant', 8), ('TFT5_Item_ThiefsGlovesRadiant', 10), ('TFT8_Item_GenAEEmblemItem', 11), ('TFT_Item_Spatula', 11), ('TFT5_Item_ZekesHeraldRadiant', 13), ('TFT8_Item_GiantSlayer_GenAE', 16), ('TFT8_Item_Warmogs_GenAE', 16), ('TFT8_Item_Sunfire_GenAE', 17), ('TFT8_Item_DefenderEmblemItem', 18), ('TFT8_Item_Shojin_GenAE', 18), ('TFT8_Item_ExoPrimeEmblemItem', 19), ('TFT8_Item_Bloodthirster_GenAE', 20), ('TFT8_Item_HandOfJustice_GenAE', 20), ('TFT8_Item_Shroud_GenAE', 20), ('TFT8_Item_IonicSpark_GenAE', 21), ('TFT8_Item_RapidFireCannon_GenAE', 23), ('TFT4_Item_OrnnTheCollector', 25), ('TFT8_Item_AnimaSquadEmblemItem', 27), ('TFT4_Item_OrnnInfinityForce', 28), ('TFT8_Item_AceEmblemItem', 28), ('TFT8_Item_HackerEmblemItem', 31), ('TFT8_Item_ReconEmblemItem', 33), ('TFT4_Item_OrnnObsidianCleaver', 34), ('TFT4_Item_OrnnEternalWinter', 35), ('TFT8_Item_InterPolarisEmblemItem', 37), ('TFT8_Item_StarGuardianEmblemItem', 38), ('TFT8_Item_AegisEmblemItem', 41), ('TFT_Item_SparringGloves', 42), ('TFT4_Item_OrnnRocketPropelledFist', 43), ('TFT4_Item_OrnnZhonyasParadox', 43), ('TFT_Item_ForceOfNature', 43), ('TFT4_Item_OrnnAnimaVisage', 49), ('TFT4_Item_OrnnDeathsDefiance', 49), ('TFT8_Item_DeadeyeEmblemItem', 49), ('TFT_Item_BFSword', 54), ('TFT_Item_NegatronCloak', 55), ('TFT_Item_RecurveBow', 57), ('TFT4_Item_OrnnMuramana', 61), ('TFT4_Item_OrnnRanduinsSanctum', 61), ('TFT8_Item_CivilianEmblemItem', 61), ('TFT_Item_NeedlesslyLargeRod', 65), ('TFT8_Item_PranksterEmblemItem', 68), ('TFT8_Item_RenegadeEmblemItem', 68), ('TFT8_Item_ChannelerEmblemItem', 70), ('TFT_Item_ChainVest', 82), ('TFT8_Item_ADMINEmblemItem', 87), ('TFT_Item_TearOfTheGoddess', 100), ('TFT_Item_GiantsBelt', 111), ('TFT8_Item_DuelistEmblemItem', 123), ('TFT8_Item_OxForceEmblemItem', 133), ('TFT8_Item_BrawlerEmblemItem', 164), ('TFT8_Item_HeartEmblemItem', 196), ('TFT_Item_RapidFireCannon', 228), ('TFT_Item_Deathblade', 250), ('TFT_Item_LocketOfTheIronSolari', 265), ('TFT8_Item_MascotEmblemItem', 280), ('TFT_Item_Quicksilver', 290), ('TFT_Item_Chalice', 298), ('TFT_Item_Zephyr', 327), ('TFT_Item_PowerGauntlet', 369), ('TFT_Item_FrozenHeart', 370), ('TFT_Item_ZekesHerald', 383), ('TFT_Item_RunaansHurricane', 399), ('TFT_Item_Shroud', 414), ('TFT_Item_EmptyBag', 418), ('TFT_Item_ArchangelsStaff', 437), ('TFT_Item_TitanicHydra', 438), ('TFT_Item_RabadonsDeathcap', 447), ('TFT_Item_GuardianAngel', 477), ('TFT_Item_Morellonomicon', 484), ('TFT_Item_LastWhisper', 524), ('TFT_Item_HextechGunblade', 557), ('TFT_Item_StatikkShiv', 564), ('TFT_Item_UnstableConcoction', 572), ('TFT_Item_InfinityEdge', 599), ('TFT_Item_BrambleVest', 610), ('TFT_Item_GargoyleStoneplate', 633), ('TFT_Item_Bloodthirster', 690), ('TFT_Item_DragonsClaw', 704), ('TFT_Item_SpearOfShojin', 711), ('TFT_Item_TitansResolve', 739), ('TFT_Item_GuinsoosRageblade', 755), ('TFT_Item_Redemption', 874), ('TFT_Item_WarmogsArmor', 909), ('TFT_Item_ThiefsGloves', 953), ('TFT_Item_SeraphsEmbrace', 1054), ('TFT_Item_IonicSpark', 1114), ('TFT_Item_JeweledGauntlet', 1184), ('TFT_Item_RedBuff', 1194), ('TFT_Item_MadredsBloodrazor', 1510)]                  [('TFT5_Item_RapidFirecannonRadiant', 1), ('TFT5_Item_StatikkShivRadiant', 1), ('TFT5_Item_ArchangelsStaffRadiant', 2), ('TFT5_Item_ChaliceOfPowerRadiant', 2), ('TFT5_Item_GargoyleStoneplateRadiant', 2)]\n"
     ]
    }
   ],
   "source": [
    "best_item_top_1, worst_item_top_1 = item_on_top['top_1']\n",
    "print(best_item_top_1, \"                \", worst_item_top_1)"
   ]
  },
  {
   "attachments": {},
   "cell_type": "markdown",
   "metadata": {},
   "source": [
    "### TỈ LỆ CỦA MÓN ĐỒ ĐÓ TRONG TRẬN ĐẤU VÀ SỐ LẦN XUẤT HIỆN CỦA MÓN ĐỒ TRONG TỪNG TOP CỦA TRẬN ĐẤU"
   ]
  },
  {
   "cell_type": "code",
   "execution_count": 180,
   "metadata": {},
   "outputs": [],
   "source": [
    "all_item_df = pd.read_csv(\"item_tft_csv.csv\", usecols=[\"Item\"])"
   ]
  },
  {
   "cell_type": "code",
   "execution_count": 181,
   "metadata": {},
   "outputs": [],
   "source": [
    "all_items = all_item_df['Item'].to_list()"
   ]
  },
  {
   "attachments": {},
   "cell_type": "markdown",
   "metadata": {},
   "source": [
    "item_avg_top: vị trí trung bình của món đồ khi ở trong top từ 1 đến 8\n",
    "\n",
    "item_avg_on_match: tỉ lệ số trận đấu từ top 1 đến 8 mà món đồ đó được sử dụng"
   ]
  },
  {
   "cell_type": "code",
   "execution_count": 182,
   "metadata": {},
   "outputs": [],
   "source": [
    "sum = 0\n",
    "temp = 0\n",
    "item_avg_top = []\n",
    "item_avg_on_match = []\n",
    "match_each_top = []\n",
    "for item in all_items:\n",
    "    temp1 = []\n",
    "    temp2 = []\n",
    "    for i in range(1,9,1):\n",
    "        cc = dict(item_on_top['top_' + str(i)][0])\n",
    "        if(item in cc):\n",
    "            temp = temp+dict(item_on_top['top_' + str(i)][0])[item]*i\n",
    "            sum = sum + (dict(item_on_top['top_' + str(i)][0])[item])\n",
    "        temp2.append(sum/32000)\n",
    "        item_avg_on_match.append(temp2)\n",
    "    temp1.append(temp/sum)\n",
    "    item_avg_top.append(temp1)\n",
    "    temp = 0\n",
    "    sum = 0"
   ]
  },
  {
   "cell_type": "code",
   "execution_count": 183,
   "metadata": {},
   "outputs": [
    {
     "name": "stdout",
     "output_type": "stream",
     "text": [
      "[4.0321428571428575] [0.00153125, 0.00290625, 0.00409375, 0.00509375, 0.0063125, 0.007, 0.00778125, 0.00875]\n"
     ]
    }
   ],
   "source": [
    "print(item_avg_top[0], item_avg_on_match[0])"
   ]
  },
  {
   "attachments": {},
   "cell_type": "markdown",
   "metadata": {},
   "source": [
    "## TƯƠNG TỰ VỚI TỘC VÀ HỆ"
   ]
  },
  {
   "attachments": {},
   "cell_type": "markdown",
   "metadata": {},
   "source": [
    "#### đọc dữ liệu để lấy hệ và tộc"
   ]
  },
  {
   "cell_type": "code",
   "execution_count": 184,
   "metadata": {},
   "outputs": [],
   "source": [
    "traits_df = pd.read_csv('process_data_tft_general_csv.csv', usecols = ['List Traits']).drop_duplicates().reset_index(drop=True)"
   ]
  },
  {
   "cell_type": "code",
   "execution_count": 185,
   "metadata": {},
   "outputs": [],
   "source": [
    "list_traits = []\n",
    "\n",
    "for i in range(len(traits_df['List Traits'])):\n",
    "    list_traits.append(ast.literal_eval(traits_df['List Traits'][i])) "
   ]
  },
  {
   "attachments": {},
   "cell_type": "markdown",
   "metadata": {},
   "source": [
    "### TÌM RA TỘC HỆ ĐƯỢC SỬ DỤNG NHIỀU NHẤT VÀ ÍT NHẤT"
   ]
  },
  {
   "cell_type": "code",
   "execution_count": 186,
   "metadata": {},
   "outputs": [],
   "source": [
    "def get_best_worst_traits(list_traits):\n",
    "    flatten_list = list(chain.from_iterable(list_traits))\n",
    "    flatten_list = np.array(flatten_list, dtype = object)\n",
    "    cc = flatten_list[0::3]\n",
    "    unique, counts= np.unique(cc, return_counts=True)\n",
    "    a = dict(zip(unique, counts))\n",
    "    b = dict(sorted(a.items(), key=lambda item: item[1]))\n",
    "    best_traits = list(b.items())\n",
    "    worst_traits = list(b.items())[:5]\n",
    "    return best_traits, worst_traits"
   ]
  },
  {
   "cell_type": "code",
   "execution_count": 187,
   "metadata": {},
   "outputs": [
    {
     "name": "stdout",
     "output_type": "stream",
     "text": [
      "[('Set8_Arsenal', 1865), ('Set8_Corrupted', 2397), ('Set8_Forecaster', 2778), ('Set8_Supers', 3134), ('Set8_Recon', 3143), ('Set8_Deadeye', 3392), ('Set8_Defender', 3591), ('Set8_Ace', 4028), ('Set8_Renegade', 4058), ('Set8_Civilian', 4618), ('Set8_ExoPrime', 4744), ('Set8_Hacker', 4860), ('Set8_Admin', 5002), ('Set8_Duelist', 5282), ('Set8_AnimaSquad', 5423), ('Set8_Threat', 5858), ('Set8_GenAE', 6030), ('Set8_Heart', 6587), ('Set8_SpaceCorps', 6711), ('Set8_Channeler', 6763), ('Set8_Prankster', 7683), ('Set8_UndergroundThe', 7837), ('Set8_Brawler', 8371), ('Set8_OxForce', 8558), ('Set8_Mascot', 8655), ('Set8_StarGuardian', 9310), ('Set8_Aegis', 10518)]                  [('Set8_Arsenal', 1865), ('Set8_Corrupted', 2397), ('Set8_Forecaster', 2778), ('Set8_Supers', 3134), ('Set8_Recon', 3143)]\n"
     ]
    }
   ],
   "source": [
    "a, b = get_best_worst_traits(list_traits)\n",
    "print(a,\"                \", b)"
   ]
  },
  {
   "attachments": {},
   "cell_type": "markdown",
   "metadata": {},
   "source": [
    "### VỊ TRÍ TRUNG BÌNH CỦA TỘC VÀ HỆ"
   ]
  },
  {
   "cell_type": "code",
   "execution_count": 188,
   "metadata": {},
   "outputs": [],
   "source": [
    "list_traits_df = pd.read_csv('process_data_tft_general_csv.csv', usecols= ['Placement', 'List Traits'])"
   ]
  },
  {
   "attachments": {},
   "cell_type": "markdown",
   "metadata": {},
   "source": [
    "tộc và hệ tốt nhất và tệ nhất ở top 1"
   ]
  },
  {
   "cell_type": "code",
   "execution_count": 189,
   "metadata": {},
   "outputs": [],
   "source": [
    "traits_on_top = {}\n",
    "for i in range(1,9,1):\n",
    "    temp = convert_string_to_list(list_traits_df, i, 'List Traits')\n",
    "    temp1 = 'top_' + str(i)\n",
    "    traits_on_top[temp1] = get_best_worst_traits(temp)"
   ]
  },
  {
   "cell_type": "code",
   "execution_count": 190,
   "metadata": {},
   "outputs": [
    {
     "name": "stdout",
     "output_type": "stream",
     "text": [
      "[('Set8_Arsenal', 599), ('Set8_Recon', 690), ('Set8_Deadeye', 876), ('Set8_Corrupted', 908), ('Set8_Ace', 1037), ('Set8_Defender', 1067), ('Set8_Forecaster', 1115), ('Set8_Hacker', 1125), ('Set8_Renegade', 1361), ('Set8_Admin', 1511), ('Set8_Supers', 1592), ('Set8_Duelist', 1643), ('Set8_GenAE', 1727), ('Set8_ExoPrime', 1775), ('Set8_SpaceCorps', 1793), ('Set8_Civilian', 1826), ('Set8_AnimaSquad', 1867), ('Set8_Threat', 1893), ('Set8_Channeler', 1988), ('Set8_Prankster', 2083), ('Set8_UndergroundThe', 2302), ('Set8_OxForce', 2513), ('Set8_Brawler', 2556), ('Set8_Heart', 2565), ('Set8_Mascot', 2765), ('Set8_StarGuardian', 2907), ('Set8_Aegis', 3250)]                [('Set8_Arsenal', 599), ('Set8_Recon', 690), ('Set8_Deadeye', 876), ('Set8_Corrupted', 908), ('Set8_Ace', 1037)]\n"
     ]
    }
   ],
   "source": [
    "best_traits_on_top_1, worst_traits_on_top_1 = traits_on_top['top_1']\n",
    "print(best_traits_on_top_1, \"              \", worst_traits_on_top_1)"
   ]
  },
  {
   "attachments": {},
   "cell_type": "markdown",
   "metadata": {},
   "source": [
    "### TỈ LỆ CỦA TỘC HỆ ĐÓ TRONG TRẬN ĐẤU VÀ SỐ LẦN XUẤT HIỆN CỦA TỘC HỆ TRONG TỪNG TOP CỦA TRẬN ĐẤU"
   ]
  },
  {
   "attachments": {},
   "cell_type": "markdown",
   "metadata": {},
   "source": [
    "traits_avg_top: tộc hệ trung bình trong các top trận đấu\n",
    "\n",
    "traits_avg_on_match: tần suất xuất hiện của tộc hệ trong trận đấu"
   ]
  },
  {
   "cell_type": "code",
   "execution_count": 191,
   "metadata": {},
   "outputs": [],
   "source": [
    "all_traits_df = pd.read_csv('TocHe.csv', usecols=['Trait'])"
   ]
  },
  {
   "cell_type": "code",
   "execution_count": 192,
   "metadata": {},
   "outputs": [],
   "source": [
    "all_traits = all_traits_df['Trait'].to_list()"
   ]
  },
  {
   "attachments": {},
   "cell_type": "markdown",
   "metadata": {},
   "source": [
    "traits_avg_top:  vị trí trung bình của tộc hệ khi ở trong top từ 1 đến 8\n",
    "\n",
    "traits_avg_on_match: tỉ lệ số trận đấu từ top 1 đến 8 mà tộc hệ đó được sử dụng"
   ]
  },
  {
   "cell_type": "code",
   "execution_count": 193,
   "metadata": {},
   "outputs": [],
   "source": [
    "sum = 0\n",
    "temp = 0\n",
    "traits_avg_top = []\n",
    "traits_avg_on_match = []\n",
    "for item in all_traits:\n",
    "    temp1 = []\n",
    "    temp2 = []\n",
    "    for i in range(1,9,1):\n",
    "        cc = dict(traits_on_top['top_' + str(i)][0])\n",
    "        if(item in cc):\n",
    "            temp = temp+dict(traits_on_top['top_' + str(i)][0])[item]*i\n",
    "            sum = sum + (dict(traits_on_top['top_' + str(i)][0])[item]) \n",
    "        temp2.append(sum/32000)\n",
    "        traits_avg_on_match.append(temp2)\n",
    "    temp1.append(temp/sum)\n",
    "    traits_avg_top.append(temp1)\n",
    "    \n",
    "    temp = 0\n",
    "    sum = 0"
   ]
  },
  {
   "cell_type": "code",
   "execution_count": 194,
   "metadata": {},
   "outputs": [
    {
     "name": "stdout",
     "output_type": "stream",
     "text": [
      "[4.304307974335472] [0.062125, 0.1213125, 0.18178125, 0.23821875, 0.2930625, 0.34475, 0.39675, 0.44321875]\n"
     ]
    }
   ],
   "source": [
    "print(traits_avg_top[0], traits_avg_on_match[0])"
   ]
  }
 ],
 "metadata": {
  "kernelspec": {
   "display_name": "min_ds-env",
   "language": "python",
   "name": "python3"
  },
  "language_info": {
   "codemirror_mode": {
    "name": "ipython",
    "version": 3
   },
   "file_extension": ".py",
   "mimetype": "text/x-python",
   "name": "python",
   "nbconvert_exporter": "python",
   "pygments_lexer": "ipython3",
   "version": "3.8.8"
  },
  "orig_nbformat": 4,
  "vscode": {
   "interpreter": {
    "hash": "1376b7d9f14531d76db176389414f8a4a73502f1aa581cb356349fabafd1ad74"
   }
  }
 },
 "nbformat": 4,
 "nbformat_minor": 2
}
