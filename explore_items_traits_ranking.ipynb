{
 "cells": [
  {
   "attachments": {},
   "cell_type": "markdown",
   "metadata": {},
   "source": [
    "### tính toán và vẽ biểu đồ tròn của trang bị và tộc hệ"
   ]
  },
  {
   "cell_type": "code",
   "execution_count": 9,
   "metadata": {},
   "outputs": [],
   "source": [
    "import pandas as pd\n",
    "import numpy as np\n",
    "import ast\n",
    "from itertools import chain"
   ]
  },
  {
   "attachments": {},
   "cell_type": "markdown",
   "metadata": {},
   "source": [
    "#### đọc dữ liệu để lấy món đồ"
   ]
  },
  {
   "cell_type": "code",
   "execution_count": 10,
   "metadata": {},
   "outputs": [],
   "source": [
    "item_df = pd.read_csv('process_data_tft_each_item_csv.csv', usecols = ['List Name Item']).drop_duplicates().reset_index(drop=True)"
   ]
  },
  {
   "cell_type": "code",
   "execution_count": 11,
   "metadata": {},
   "outputs": [],
   "source": [
    "list_items = []\n",
    "for i in range(len(item_df['List Name Item'])):\n",
    "    list_items.append(ast.literal_eval(item_df['List Name Item'][i])) "
   ]
  },
  {
   "attachments": {},
   "cell_type": "markdown",
   "metadata": {},
   "source": [
    "### TÌM RA MÓN ĐỒ ĐƯỢC SỬ DỤNG NHIỀU NHẤT VÀ ÍT NHẤT"
   ]
  },
  {
   "attachments": {},
   "cell_type": "markdown",
   "metadata": {},
   "source": [
    "hàm zip dùng để biến 2 list được cho ra thành key và values\n",
    "\n",
    "lisst(chain) dùng để ép mảng xuống còn 1D và sau đó sort lại"
   ]
  },
  {
   "cell_type": "code",
   "execution_count": 12,
   "metadata": {},
   "outputs": [],
   "source": [
    "def get_best_worst_items(list_items):\n",
    "    flatten_list = list(chain.from_iterable(list_items))\n",
    "    flatten_list = list(chain.from_iterable(flatten_list))\n",
    "    flatten_list = np.array(flatten_list, dtype = object)\n",
    "    unique, counts = np.unique(flatten_list, return_counts=True)\n",
    "    a = dict(zip(unique, counts))\n",
    "    b = dict(sorted(a.items(), key=lambda item: item[1]))\n",
    "    best_item = list(b.items())\n",
    "    worst_item = list(b.items())[0:5]\n",
    "    return best_item,worst_item"
   ]
  },
  {
   "cell_type": "code",
   "execution_count": 13,
   "metadata": {},
   "outputs": [
    {
     "data": {
      "text/plain": [
       "([('TFT5_Item_MorellonomiconRadiant', 12),\n",
       "  ('TFT5_Item_ShroudOfStillnessRadiant', 12),\n",
       "  ('TFT5_Item_FrozenHeartRadiant', 14),\n",
       "  ('TFT5_Item_LastWhisperRadiant', 14),\n",
       "  ('TFT5_Item_RedemptionRadiant', 14),\n",
       "  ('TFT5_Item_BloodthirsterRadiant', 15),\n",
       "  ('TFT5_Item_RunaansHurricaneRadiant', 16),\n",
       "  ('TFT5_Item_HextechGunbladeRadiant', 19),\n",
       "  ('TFT5_Item_InfinityEdgeRadiant', 19),\n",
       "  ('TFT5_Item_RapidFirecannonRadiant', 20),\n",
       "  ('TFT5_Item_ChaliceOfPowerRadiant', 22),\n",
       "  ('TFT5_Item_DeathbladeRadiant', 22),\n",
       "  ('TFT5_Item_GargoyleStoneplateRadiant', 24),\n",
       "  ('TFT5_Item_LocketOfTheIronSolariRadiant', 24),\n",
       "  ('TFT5_Item_QuicksilverRadiant', 24),\n",
       "  ('TFT5_Item_StatikkShivRadiant', 24),\n",
       "  ('TFT5_Item_BrambleVestRadiant', 25),\n",
       "  ('TFT5_Item_GuardianAngelRadiant', 25),\n",
       "  ('TFT5_Item_SpearOfShojinRadiant', 25),\n",
       "  ('TFT5_Item_ZzRotPortalRadiant', 25),\n",
       "  ('TFT5_Item_ArchangelsStaffRadiant', 26),\n",
       "  ('TFT5_Item_RabadonsDeathcapRadiant', 26),\n",
       "  ('TFT5_Item_TrapClawRadiant', 26),\n",
       "  ('TFT5_Item_BlueBuffRadiant', 27),\n",
       "  ('TFT5_Item_DragonsClawRadiant', 27),\n",
       "  ('TFT5_Item_GuinsoosRagebladeRadiant', 29),\n",
       "  ('TFT5_Item_HandOfJusticeRadiant', 30),\n",
       "  ('TFT5_Item_JeweledGauntletRadiant', 31),\n",
       "  ('TFT5_Item_SunfireCapeRadiant', 31),\n",
       "  ('TFT5_Item_IonicSparkRadiant', 32),\n",
       "  ('TFT5_Item_TitansResolveRadiant', 34),\n",
       "  ('TFT5_Item_WarmogsArmorRadiant', 37),\n",
       "  ('TFT5_Item_ZephyrRadiant', 38),\n",
       "  ('TFT5_Item_ZekesHeraldRadiant', 41),\n",
       "  ('TFT5_Item_GiantSlayerRadiant', 46),\n",
       "  ('TFT8_Item_UndergroundTheEmblemItem', 48),\n",
       "  ('TFT5_Item_ThiefsGlovesRadiant', 55),\n",
       "  ('TFT8_Item_GenAEEmblemItem', 58),\n",
       "  ('TFT_Item_Spatula', 73),\n",
       "  ('TFT8_Item_Sunfire_GenAE', 131),\n",
       "  ('TFT8_Item_AceEmblemItem', 132),\n",
       "  ('TFT8_Item_GiantSlayer_GenAE', 135),\n",
       "  ('TFT8_Item_HandOfJustice_GenAE', 139),\n",
       "  ('TFT4_Item_OrnnTheCollector', 141),\n",
       "  ('TFT8_Item_IonicSpark_GenAE', 153),\n",
       "  ('TFT8_Item_DefenderEmblemItem', 155),\n",
       "  ('TFT8_Item_Warmogs_GenAE', 156),\n",
       "  ('TFT8_Item_RapidFireCannon_GenAE', 157),\n",
       "  ('TFT8_Item_Shroud_GenAE', 157),\n",
       "  ('TFT8_Item_Shojin_GenAE', 159),\n",
       "  ('TFT8_Item_ExoPrimeEmblemItem', 165),\n",
       "  ('TFT8_Item_Bloodthirster_GenAE', 174),\n",
       "  ('TFT4_Item_OrnnObsidianCleaver', 190),\n",
       "  ('TFT4_Item_OrnnInfinityForce', 197),\n",
       "  ('TFT4_Item_OrnnZhonyasParadox', 207),\n",
       "  ('TFT4_Item_OrnnDeathsDefiance', 212),\n",
       "  ('TFT4_Item_OrnnRocketPropelledFist', 220),\n",
       "  ('TFT_Item_ForceOfNature', 222),\n",
       "  ('TFT8_Item_AegisEmblemItem', 249),\n",
       "  ('TFT4_Item_OrnnRanduinsSanctum', 250),\n",
       "  ('TFT4_Item_OrnnMuramana', 252),\n",
       "  ('TFT4_Item_OrnnEternalWinter', 260),\n",
       "  ('TFT8_Item_AnimaSquadEmblemItem', 276),\n",
       "  ('TFT8_Item_HackerEmblemItem', 277),\n",
       "  ('TFT4_Item_OrnnAnimaVisage', 280),\n",
       "  ('TFT8_Item_InterPolarisEmblemItem', 291),\n",
       "  ('TFT8_Item_ReconEmblemItem', 301),\n",
       "  ('TFT8_Item_StarGuardianEmblemItem', 314),\n",
       "  ('TFT8_Item_DeadeyeEmblemItem', 331),\n",
       "  ('TFT8_Item_PranksterEmblemItem', 390),\n",
       "  ('TFT8_Item_RenegadeEmblemItem', 422),\n",
       "  ('TFT8_Item_CivilianEmblemItem', 437),\n",
       "  ('TFT_Item_SparringGloves', 448),\n",
       "  ('TFT_Item_EmptyBag', 454),\n",
       "  ('TFT8_Item_ChannelerEmblemItem', 470),\n",
       "  ('TFT_Item_BFSword', 488),\n",
       "  ('TFT_Item_NegatronCloak', 561),\n",
       "  ('TFT_Item_ChainVest', 598),\n",
       "  ('TFT8_Item_ADMINEmblemItem', 625),\n",
       "  ('TFT_Item_RecurveBow', 630),\n",
       "  ('TFT_Item_NeedlesslyLargeRod', 650),\n",
       "  ('TFT8_Item_OxForceEmblemItem', 709),\n",
       "  ('TFT_Item_TearOfTheGoddess', 837),\n",
       "  ('TFT8_Item_BrawlerEmblemItem', 879),\n",
       "  ('TFT_Item_GiantsBelt', 956),\n",
       "  ('TFT8_Item_HeartEmblemItem', 1108),\n",
       "  ('TFT8_Item_MascotEmblemItem', 1204),\n",
       "  ('TFT8_Item_DuelistEmblemItem', 1301),\n",
       "  ('TFT_Item_RapidFireCannon', 1429),\n",
       "  ('TFT_Item_Chalice', 1694),\n",
       "  ('TFT_Item_Zephyr', 1796),\n",
       "  ('TFT_Item_LocketOfTheIronSolari', 1911),\n",
       "  ('TFT_Item_Quicksilver', 2035),\n",
       "  ('TFT_Item_ZekesHerald', 2085),\n",
       "  ('TFT_Item_Shroud', 2156),\n",
       "  ('TFT_Item_Deathblade', 2202),\n",
       "  ('TFT_Item_PowerGauntlet', 2257),\n",
       "  ('TFT_Item_FrozenHeart', 2465),\n",
       "  ('TFT_Item_TitanicHydra', 2836),\n",
       "  ('TFT_Item_ArchangelsStaff', 2891),\n",
       "  ('TFT_Item_RabadonsDeathcap', 3014),\n",
       "  ('TFT_Item_HextechGunblade', 3269),\n",
       "  ('TFT_Item_RunaansHurricane', 3294),\n",
       "  ('TFT_Item_Morellonomicon', 3325),\n",
       "  ('TFT_Item_StatikkShiv', 3770),\n",
       "  ('TFT_Item_GuardianAngel', 3965),\n",
       "  ('TFT_Item_LastWhisper', 4072),\n",
       "  ('TFT_Item_BrambleVest', 4130),\n",
       "  ('TFT_Item_UnstableConcoction', 4178),\n",
       "  ('TFT_Item_InfinityEdge', 4264),\n",
       "  ('TFT_Item_DragonsClaw', 4330),\n",
       "  ('TFT_Item_TitansResolve', 4657),\n",
       "  ('TFT_Item_Bloodthirster', 4658),\n",
       "  ('TFT_Item_GargoyleStoneplate', 5288),\n",
       "  ('TFT_Item_Redemption', 5632),\n",
       "  ('TFT_Item_SpearOfShojin', 5674),\n",
       "  ('TFT_Item_GuinsoosRageblade', 5761),\n",
       "  ('TFT_Item_ThiefsGloves', 5865),\n",
       "  ('TFT_Item_SeraphsEmbrace', 6047),\n",
       "  ('TFT_Item_WarmogsArmor', 6312),\n",
       "  ('TFT_Item_IonicSpark', 6347),\n",
       "  ('TFT_Item_RedBuff', 7694),\n",
       "  ('TFT_Item_JeweledGauntlet', 8427),\n",
       "  ('TFT_Item_MadredsBloodrazor', 9805)],\n",
       " [('TFT5_Item_MorellonomiconRadiant', 12),\n",
       "  ('TFT5_Item_ShroudOfStillnessRadiant', 12),\n",
       "  ('TFT5_Item_FrozenHeartRadiant', 14),\n",
       "  ('TFT5_Item_LastWhisperRadiant', 14),\n",
       "  ('TFT5_Item_RedemptionRadiant', 14)])"
      ]
     },
     "execution_count": 13,
     "metadata": {},
     "output_type": "execute_result"
    }
   ],
   "source": [
    "get_best_worst_items(list_items)"
   ]
  },
  {
   "attachments": {},
   "cell_type": "markdown",
   "metadata": {},
   "source": [
    "### TÌM VỊ TRÍ TRUNG BÌNH CỦA MÓN ĐỒ ĐÓ TRONG TRẬN ĐẤU"
   ]
  },
  {
   "attachments": {},
   "cell_type": "markdown",
   "metadata": {},
   "source": [
    "\n",
    "khi người chơi sử dụng món đồ đó thì sẽ được lọt vào top mấy của game"
   ]
  },
  {
   "cell_type": "code",
   "execution_count": 14,
   "metadata": {},
   "outputs": [],
   "source": [
    "average_df = pd.read_csv('process_data_tft_each_item_csv.csv', usecols = ['Puuid', 'Placement', 'List Name Item']).drop_duplicates().reset_index(drop = True)"
   ]
  },
  {
   "cell_type": "code",
   "execution_count": 15,
   "metadata": {},
   "outputs": [],
   "source": [
    "def convert_string_to_list(ok, placement):\n",
    "    temp = ok[ok.eq(placement).any(1)].reset_index(drop=True)\n",
    "    top = []\n",
    "    for i in range(len(temp)):\n",
    "        top.append(ast.literal_eval(temp['List Name Item'][i]))\n",
    "    return top"
   ]
  },
  {
   "cell_type": "code",
   "execution_count": 16,
   "metadata": {},
   "outputs": [],
   "source": [
    "item_on_top = {}\n",
    "for i in range(1,9,1):\n",
    "    temp = convert_string_to_list(average_df, i)\n",
    "    temp1 = 'top_' + str(i)\n",
    "    item_on_top[temp1] = get_best_worst_items(temp)\n"
   ]
  },
  {
   "cell_type": "code",
   "execution_count": 17,
   "metadata": {},
   "outputs": [
    {
     "name": "stdout",
     "output_type": "stream",
     "text": [
      "3.75\n",
      "0.000375\n"
     ]
    }
   ],
   "source": [
    "sum = 0\n",
    "temp = 0\n",
    "# print(dict(item_on_top['top_' + str(5)][0]))\n",
    "for i in range(1,9,1):\n",
    "        cc = dict(item_on_top['top_' + str(i)][0])\n",
    "        if('TFT5_Item_MorellonomiconRadiant' in cc):\n",
    "                # print(dict(item_on_top['top_' + str(i)][0])['TFT5_Item_MorellonomiconRadiant'])\n",
    "                temp = temp+dict(item_on_top['top_' + str(i)][0])['TFT5_Item_MorellonomiconRadiant']*i\n",
    "                sum = sum + (dict(item_on_top['top_' + str(i)][0])['TFT5_Item_MorellonomiconRadiant'])\n",
    "print(temp/sum)\n",
    "print(sum/32000)"
   ]
  },
  {
   "attachments": {},
   "cell_type": "markdown",
   "metadata": {},
   "source": [
    "### TƯƠNG TỰ VỚI TỘC VÀ HỆ"
   ]
  },
  {
   "cell_type": "code",
   "execution_count": 18,
   "metadata": {},
   "outputs": [],
   "source": [
    "traits_df = pd.read_csv('process_data_tft_general_csv.csv', usecols = ['List Traits']).drop_duplicates().reset_index(drop=True)"
   ]
  },
  {
   "cell_type": "code",
   "execution_count": 19,
   "metadata": {},
   "outputs": [],
   "source": [
    "list_traits = []\n",
    "\n",
    "for i in range(len(traits_df['List Traits'])):\n",
    "    list_traits.append(ast.literal_eval(traits_df['List Traits'][i])) "
   ]
  },
  {
   "cell_type": "code",
   "execution_count": 20,
   "metadata": {},
   "outputs": [],
   "source": [
    "def get_best_worst_traits(list_traits):\n",
    "    flatten_list = list(chain.from_iterable(list_traits))\n",
    "    flatten_list = np.array(flatten_list, dtype = object)\n",
    "    cc = flatten_list[0::3]\n",
    "    unique, counts= np.unique(cc, return_counts=True)\n",
    "    a = dict(zip(unique, counts))\n",
    "    b = dict(sorted(a.items(), key=lambda item: item[1]))\n",
    "    best_traits = list(b.items())[-5:]\n",
    "    worst_traits = list(b.items())[:5]\n",
    "    return best_traits, worst_traits"
   ]
  },
  {
   "cell_type": "code",
   "execution_count": 21,
   "metadata": {},
   "outputs": [
    {
     "name": "stdout",
     "output_type": "stream",
     "text": [
      "[('Set8_Brawler', 8371), ('Set8_OxForce', 8558), ('Set8_Mascot', 8655), ('Set8_StarGuardian', 9310), ('Set8_Aegis', 10518)] [('Set8_Arsenal', 1865), ('Set8_Corrupted', 2397), ('Set8_Forecaster', 2778), ('Set8_Supers', 3134), ('Set8_Recon', 3143)]\n"
     ]
    }
   ],
   "source": [
    "a, b = get_best_worst_traits(list_traits)\n",
    "print(a, b)"
   ]
  },
  {
   "attachments": {},
   "cell_type": "markdown",
   "metadata": {},
   "source": [
    "### top 1 và top 4"
   ]
  },
  {
   "cell_type": "code",
   "execution_count": 22,
   "metadata": {},
   "outputs": [],
   "source": [
    "df4 = pd.read_csv('process_data_tft_general_csv.csv', usecols= ['Placement', 'List Traits'])"
   ]
  },
  {
   "cell_type": "code",
   "execution_count": 23,
   "metadata": {},
   "outputs": [
    {
     "name": "stdout",
     "output_type": "stream",
     "text": [
      "[('Set8_Brawler', 2556), ('Set8_Heart', 2565), ('Set8_Mascot', 2765), ('Set8_StarGuardian', 2907), ('Set8_Aegis', 3250)] [('Set8_Arsenal', 599), ('Set8_Recon', 690), ('Set8_Deadeye', 876), ('Set8_Corrupted', 908), ('Set8_Ace', 1037)]\n"
     ]
    }
   ],
   "source": [
    "traits_top_1 = df4[df4.eq(1).any(1)].reset_index(drop=True)\n",
    "temp = []\n",
    "for i in range(len(traits_top_1['List Traits'])):\n",
    "    temp.append(ast.literal_eval(traits_top_1['List Traits'][i])) \n",
    "\n",
    "a, b = get_best_worst_traits(temp)\n",
    "print(a, b)"
   ]
  }
 ],
 "metadata": {
  "kernelspec": {
   "display_name": "min_ds-env",
   "language": "python",
   "name": "python3"
  },
  "language_info": {
   "codemirror_mode": {
    "name": "ipython",
    "version": 3
   },
   "file_extension": ".py",
   "mimetype": "text/x-python",
   "name": "python",
   "nbconvert_exporter": "python",
   "pygments_lexer": "ipython3",
   "version": "3.8.8"
  },
  "orig_nbformat": 4,
  "vscode": {
   "interpreter": {
    "hash": "1376b7d9f14531d76db176389414f8a4a73502f1aa581cb356349fabafd1ad74"
   }
  }
 },
 "nbformat": 4,
 "nbformat_minor": 2
}
