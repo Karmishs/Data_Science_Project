{
 "cells": [
  {
   "cell_type": "code",
   "execution_count": 1,
   "metadata": {},
   "outputs": [],
   "source": [
    "import pandas as pd\n",
    "import matplotlib.pyplot as plt\n",
    "import numpy as np\n",
    "import ast"
   ]
  },
  {
   "attachments": {},
   "cell_type": "markdown",
   "metadata": {},
   "source": [
    "# Data exploration"
   ]
  },
  {
   "attachments": {},
   "cell_type": "markdown",
   "metadata": {},
   "source": [
    "## Khám phá dữ liệu về đội hình trong tập dữ liệu"
   ]
  },
  {
   "attachments": {},
   "cell_type": "markdown",
   "metadata": {},
   "source": [
    "### Đọc data từ file"
   ]
  },
  {
   "cell_type": "code",
   "execution_count": 2,
   "metadata": {},
   "outputs": [],
   "source": [
    "data_team_df = pd.read_csv('process_data_tft_general_csv.csv', usecols=['Puuid', 'ID Match', 'Placement', 'List Augments', 'List Traits', 'List Champions', 'List Number Items', 'List Champions Tier'])"
   ]
  },
  {
   "cell_type": "code",
   "execution_count": 3,
   "metadata": {},
   "outputs": [
    {
     "data": {
      "text/html": [
       "<div>\n",
       "<style scoped>\n",
       "    .dataframe tbody tr th:only-of-type {\n",
       "        vertical-align: middle;\n",
       "    }\n",
       "\n",
       "    .dataframe tbody tr th {\n",
       "        vertical-align: top;\n",
       "    }\n",
       "\n",
       "    .dataframe thead th {\n",
       "        text-align: right;\n",
       "    }\n",
       "</style>\n",
       "<table border=\"1\" class=\"dataframe\">\n",
       "  <thead>\n",
       "    <tr style=\"text-align: right;\">\n",
       "      <th></th>\n",
       "      <th>Puuid</th>\n",
       "      <th>ID Match</th>\n",
       "      <th>Placement</th>\n",
       "      <th>List Augments</th>\n",
       "      <th>List Traits</th>\n",
       "      <th>List Champions</th>\n",
       "      <th>List Number Items</th>\n",
       "      <th>List Champions Tier</th>\n",
       "    </tr>\n",
       "  </thead>\n",
       "  <tbody>\n",
       "    <tr>\n",
       "      <th>0</th>\n",
       "      <td>_NjJNkxpeKQ-po15A8N1GVKYqYTAjiN1WoqkVUGfwmpHqg...</td>\n",
       "      <td>KR_6267320509</td>\n",
       "      <td>1</td>\n",
       "      <td>['TFT7_Augment_Preparation', 'TFT8_Augment_ViC...</td>\n",
       "      <td>['Set8_Aegis', 1, 0, 'Set8_Brawler', 2, 1, 'Se...</td>\n",
       "      <td>['TFT8_Gangplank', 'TFT8_Vi', 'TFT8_LeeSin', '...</td>\n",
       "      <td>[1, 3, 0, 2, 3, 3, 0]</td>\n",
       "      <td>[2, 3, 2, 3, 3, 3, 1]</td>\n",
       "    </tr>\n",
       "    <tr>\n",
       "      <th>1</th>\n",
       "      <td>WgAZ0CQHGmDf8yctPx5SXkU-rt-9HWv758OmfE6t_Wod8X...</td>\n",
       "      <td>KR_6267320509</td>\n",
       "      <td>4</td>\n",
       "      <td>['TFT8_Augment_ChannelerTrait', 'TFT8_Augment_...</td>\n",
       "      <td>['Set8_Aegis', 2, 1, 'Set8_Channeler', 5, 2, '...</td>\n",
       "      <td>['TFT8_Lux', 'TFT8_Annie', 'TFT8_Yuumi', 'TFT8...</td>\n",
       "      <td>[1, 3, 1, 0, 0, 1, 3, 0]</td>\n",
       "      <td>[2, 3, 2, 2, 2, 2, 2, 1]</td>\n",
       "    </tr>\n",
       "    <tr>\n",
       "      <th>2</th>\n",
       "      <td>WO7vH445Mvh-59sDpk4OAtffIxLMrm2R4wsrGT5ZcUb7cN...</td>\n",
       "      <td>KR_6267320509</td>\n",
       "      <td>7</td>\n",
       "      <td>['TFT6_Augment_ItemGrabBag1', 'TFT8_Augment_Yu...</td>\n",
       "      <td>['Set8_Aegis', 1, 0, 'Set8_AnimaSquad', 1, 0, ...</td>\n",
       "      <td>['TFT8_Galio', 'TFT8_Nasus', 'TFT8_Gangplank',...</td>\n",
       "      <td>[1, 0, 3, 0, 0, 3, 0, 1]</td>\n",
       "      <td>[2, 2, 3, 2, 2, 3, 2, 1]</td>\n",
       "    </tr>\n",
       "    <tr>\n",
       "      <th>3</th>\n",
       "      <td>LjGpzsuqxxKX_8HDCyOmX5bBgwC-p59Oj7rTLhaSwOgN7U...</td>\n",
       "      <td>KR_6267320509</td>\n",
       "      <td>2</td>\n",
       "      <td>['TFT6_Augment_SecondWind1', 'TFT8_Augment_Yas...</td>\n",
       "      <td>['Set8_Admin', 1, 0, 'Set8_AnimaSquad', 1, 0, ...</td>\n",
       "      <td>['TFT8_Fiora', 'TFT8_Yasuo', 'TFT8_Vayne', 'TF...</td>\n",
       "      <td>[0, 1, 1, 0, 1, 1, 3, 3]</td>\n",
       "      <td>[2, 2, 2, 2, 2, 2, 2, 2]</td>\n",
       "    </tr>\n",
       "    <tr>\n",
       "      <th>4</th>\n",
       "      <td>XdejWcFYkQS2jJwSPR2FXlv_IZuw1txCPOLZJtUkqyusTn...</td>\n",
       "      <td>KR_6267320509</td>\n",
       "      <td>5</td>\n",
       "      <td>['TFT6_Augment_ItemGrabBag1', 'TFT8_Augment_Yu...</td>\n",
       "      <td>['Set8_Admin', 1, 0, 'Set8_Aegis', 2, 1, 'Set8...</td>\n",
       "      <td>['TFT8_Lulu', 'TFT8_Annie', 'TFT8_Yuumi', 'TFT...</td>\n",
       "      <td>[0, 3, 1, 0, 1, 3, 1, 3]</td>\n",
       "      <td>[2, 2, 2, 2, 2, 2, 2, 2]</td>\n",
       "    </tr>\n",
       "    <tr>\n",
       "      <th>5</th>\n",
       "      <td>CtB6YjZTon2Z-pYgNfubDLUKwxAZoBQcZVQ12LyNanULi3...</td>\n",
       "      <td>KR_6267320509</td>\n",
       "      <td>6</td>\n",
       "      <td>['TFT6_Augment_TinyTitans', 'TFT8_Augment_Cami...</td>\n",
       "      <td>['Set8_Admin', 4, 2, 'Set8_Aegis', 1, 0, 'Set8...</td>\n",
       "      <td>['TFT8_Talon', 'TFT8_Blitzcrank', 'TFT8_Vi', '...</td>\n",
       "      <td>[0, 2, 0, 3, 0, 0, 1, 1]</td>\n",
       "      <td>[2, 2, 1, 3, 1, 2, 2, 2]</td>\n",
       "    </tr>\n",
       "    <tr>\n",
       "      <th>6</th>\n",
       "      <td>y6gI4h6o614IhVvGBBp45jA-XhRHxqx2tleVdE0egluOSK...</td>\n",
       "      <td>KR_6267320509</td>\n",
       "      <td>3</td>\n",
       "      <td>['TFT6_Augment_TinyTitans', 'TFT8_Augment_Sivi...</td>\n",
       "      <td>['Set8_Ace', 1, 1, 'Set8_Civilian', 1, 1, 'Set...</td>\n",
       "      <td>['TFT8_Sivir', 'TFT8_Velkoz', 'TFT8_Chogath', ...</td>\n",
       "      <td>[0, 0, 3, 0, 3, 3, 0, 1]</td>\n",
       "      <td>[2, 2, 3, 2, 2, 2, 2, 1]</td>\n",
       "    </tr>\n",
       "    <tr>\n",
       "      <th>7</th>\n",
       "      <td>YFHBmecEZcAKDUkoNKCvM_--z5qekvafrDJzBgqJFz6l5a...</td>\n",
       "      <td>KR_6267320509</td>\n",
       "      <td>8</td>\n",
       "      <td>['TFT6_Augment_ItemGrabBag1', 'TFT8_Augment_An...</td>\n",
       "      <td>['Set8_Admin', 1, 0, 'Set8_Aegis', 1, 0, 'Set8...</td>\n",
       "      <td>['TFT8_Lulu', 'TFT8_Annie', 'TFT8_Yuumi', 'TFT...</td>\n",
       "      <td>[0, 3, 1, 0, 3, 3, 1, 0]</td>\n",
       "      <td>[2, 2, 1, 2, 2, 1, 1, 1]</td>\n",
       "    </tr>\n",
       "    <tr>\n",
       "      <th>8</th>\n",
       "      <td>y6gI4h6o614IhVvGBBp45jA-XhRHxqx2tleVdE0egluOSK...</td>\n",
       "      <td>KR_6267390363</td>\n",
       "      <td>6</td>\n",
       "      <td>['TFT8_Augment_AnnieSupport', 'TFT6_Augment_Se...</td>\n",
       "      <td>['Set8_Admin', 1, 0, 'Set8_Aegis', 2, 1, 'Set8...</td>\n",
       "      <td>['TFT8_Lulu', 'TFT8_Annie', 'TFT8_Sona', 'TFT8...</td>\n",
       "      <td>[0, 3, 0, 0, 3, 1, 1]</td>\n",
       "      <td>[2, 3, 2, 1, 2, 2, 2]</td>\n",
       "    </tr>\n",
       "    <tr>\n",
       "      <th>9</th>\n",
       "      <td>GSXdu-IDqnhxAjE9OC-rEbktUy7Q-YfRmdz7P6nztlNYHj...</td>\n",
       "      <td>KR_6267390363</td>\n",
       "      <td>7</td>\n",
       "      <td>['TFT8_Augment_RellCarry', 'TFT6_Augment_Luden...</td>\n",
       "      <td>['Set8_Aegis', 2, 1, 'Set8_Channeler', 2, 1, '...</td>\n",
       "      <td>['TFT8_Rell', 'TFT8_Yuumi', 'TFT8_Nilah', 'TFT...</td>\n",
       "      <td>[3, 0, 0, 1, 0, 1, 3, 0]</td>\n",
       "      <td>[2, 2, 2, 1, 1, 2, 1, 1]</td>\n",
       "    </tr>\n",
       "  </tbody>\n",
       "</table>\n",
       "</div>"
      ],
      "text/plain": [
       "                                               Puuid       ID Match  \\\n",
       "0  _NjJNkxpeKQ-po15A8N1GVKYqYTAjiN1WoqkVUGfwmpHqg...  KR_6267320509   \n",
       "1  WgAZ0CQHGmDf8yctPx5SXkU-rt-9HWv758OmfE6t_Wod8X...  KR_6267320509   \n",
       "2  WO7vH445Mvh-59sDpk4OAtffIxLMrm2R4wsrGT5ZcUb7cN...  KR_6267320509   \n",
       "3  LjGpzsuqxxKX_8HDCyOmX5bBgwC-p59Oj7rTLhaSwOgN7U...  KR_6267320509   \n",
       "4  XdejWcFYkQS2jJwSPR2FXlv_IZuw1txCPOLZJtUkqyusTn...  KR_6267320509   \n",
       "5  CtB6YjZTon2Z-pYgNfubDLUKwxAZoBQcZVQ12LyNanULi3...  KR_6267320509   \n",
       "6  y6gI4h6o614IhVvGBBp45jA-XhRHxqx2tleVdE0egluOSK...  KR_6267320509   \n",
       "7  YFHBmecEZcAKDUkoNKCvM_--z5qekvafrDJzBgqJFz6l5a...  KR_6267320509   \n",
       "8  y6gI4h6o614IhVvGBBp45jA-XhRHxqx2tleVdE0egluOSK...  KR_6267390363   \n",
       "9  GSXdu-IDqnhxAjE9OC-rEbktUy7Q-YfRmdz7P6nztlNYHj...  KR_6267390363   \n",
       "\n",
       "   Placement                                      List Augments  \\\n",
       "0          1  ['TFT7_Augment_Preparation', 'TFT8_Augment_ViC...   \n",
       "1          4  ['TFT8_Augment_ChannelerTrait', 'TFT8_Augment_...   \n",
       "2          7  ['TFT6_Augment_ItemGrabBag1', 'TFT8_Augment_Yu...   \n",
       "3          2  ['TFT6_Augment_SecondWind1', 'TFT8_Augment_Yas...   \n",
       "4          5  ['TFT6_Augment_ItemGrabBag1', 'TFT8_Augment_Yu...   \n",
       "5          6  ['TFT6_Augment_TinyTitans', 'TFT8_Augment_Cami...   \n",
       "6          3  ['TFT6_Augment_TinyTitans', 'TFT8_Augment_Sivi...   \n",
       "7          8  ['TFT6_Augment_ItemGrabBag1', 'TFT8_Augment_An...   \n",
       "8          6  ['TFT8_Augment_AnnieSupport', 'TFT6_Augment_Se...   \n",
       "9          7  ['TFT8_Augment_RellCarry', 'TFT6_Augment_Luden...   \n",
       "\n",
       "                                         List Traits  \\\n",
       "0  ['Set8_Aegis', 1, 0, 'Set8_Brawler', 2, 1, 'Se...   \n",
       "1  ['Set8_Aegis', 2, 1, 'Set8_Channeler', 5, 2, '...   \n",
       "2  ['Set8_Aegis', 1, 0, 'Set8_AnimaSquad', 1, 0, ...   \n",
       "3  ['Set8_Admin', 1, 0, 'Set8_AnimaSquad', 1, 0, ...   \n",
       "4  ['Set8_Admin', 1, 0, 'Set8_Aegis', 2, 1, 'Set8...   \n",
       "5  ['Set8_Admin', 4, 2, 'Set8_Aegis', 1, 0, 'Set8...   \n",
       "6  ['Set8_Ace', 1, 1, 'Set8_Civilian', 1, 1, 'Set...   \n",
       "7  ['Set8_Admin', 1, 0, 'Set8_Aegis', 1, 0, 'Set8...   \n",
       "8  ['Set8_Admin', 1, 0, 'Set8_Aegis', 2, 1, 'Set8...   \n",
       "9  ['Set8_Aegis', 2, 1, 'Set8_Channeler', 2, 1, '...   \n",
       "\n",
       "                                      List Champions  \\\n",
       "0  ['TFT8_Gangplank', 'TFT8_Vi', 'TFT8_LeeSin', '...   \n",
       "1  ['TFT8_Lux', 'TFT8_Annie', 'TFT8_Yuumi', 'TFT8...   \n",
       "2  ['TFT8_Galio', 'TFT8_Nasus', 'TFT8_Gangplank',...   \n",
       "3  ['TFT8_Fiora', 'TFT8_Yasuo', 'TFT8_Vayne', 'TF...   \n",
       "4  ['TFT8_Lulu', 'TFT8_Annie', 'TFT8_Yuumi', 'TFT...   \n",
       "5  ['TFT8_Talon', 'TFT8_Blitzcrank', 'TFT8_Vi', '...   \n",
       "6  ['TFT8_Sivir', 'TFT8_Velkoz', 'TFT8_Chogath', ...   \n",
       "7  ['TFT8_Lulu', 'TFT8_Annie', 'TFT8_Yuumi', 'TFT...   \n",
       "8  ['TFT8_Lulu', 'TFT8_Annie', 'TFT8_Sona', 'TFT8...   \n",
       "9  ['TFT8_Rell', 'TFT8_Yuumi', 'TFT8_Nilah', 'TFT...   \n",
       "\n",
       "          List Number Items       List Champions Tier  \n",
       "0     [1, 3, 0, 2, 3, 3, 0]     [2, 3, 2, 3, 3, 3, 1]  \n",
       "1  [1, 3, 1, 0, 0, 1, 3, 0]  [2, 3, 2, 2, 2, 2, 2, 1]  \n",
       "2  [1, 0, 3, 0, 0, 3, 0, 1]  [2, 2, 3, 2, 2, 3, 2, 1]  \n",
       "3  [0, 1, 1, 0, 1, 1, 3, 3]  [2, 2, 2, 2, 2, 2, 2, 2]  \n",
       "4  [0, 3, 1, 0, 1, 3, 1, 3]  [2, 2, 2, 2, 2, 2, 2, 2]  \n",
       "5  [0, 2, 0, 3, 0, 0, 1, 1]  [2, 2, 1, 3, 1, 2, 2, 2]  \n",
       "6  [0, 0, 3, 0, 3, 3, 0, 1]  [2, 2, 3, 2, 2, 2, 2, 1]  \n",
       "7  [0, 3, 1, 0, 3, 3, 1, 0]  [2, 2, 1, 2, 2, 1, 1, 1]  \n",
       "8     [0, 3, 0, 0, 3, 1, 1]     [2, 3, 2, 1, 2, 2, 2]  \n",
       "9  [3, 0, 0, 1, 0, 1, 3, 0]  [2, 2, 2, 1, 1, 2, 1, 1]  "
      ]
     },
     "execution_count": 3,
     "metadata": {},
     "output_type": "execute_result"
    }
   ],
   "source": [
    "data_team_df[:10]"
   ]
  },
  {
   "attachments": {},
   "cell_type": "markdown",
   "metadata": {},
   "source": [
    "## Data exploration"
   ]
  },
  {
   "attachments": {},
   "cell_type": "markdown",
   "metadata": {},
   "source": [
    "Dữ liệu có bao nhiêu cột và hàng:"
   ]
  },
  {
   "cell_type": "code",
   "execution_count": 4,
   "metadata": {},
   "outputs": [
    {
     "data": {
      "text/plain": [
       "(32000, 8)"
      ]
     },
     "execution_count": 4,
     "metadata": {},
     "output_type": "execute_result"
    }
   ],
   "source": [
    "row, col = data_team_df.shape\n",
    "row, col"
   ]
  },
  {
   "attachments": {},
   "cell_type": "markdown",
   "metadata": {},
   "source": [
    "Kiểm tra dữ liệu trùng:"
   ]
  },
  {
   "cell_type": "code",
   "execution_count": 5,
   "metadata": {},
   "outputs": [
    {
     "data": {
      "text/plain": [
       "13904"
      ]
     },
     "execution_count": 5,
     "metadata": {},
     "output_type": "execute_result"
    }
   ],
   "source": [
    "have_duplicated_rows = data_team_df.duplicated().sum()\n",
    "have_duplicated_rows"
   ]
  },
  {
   "attachments": {},
   "cell_type": "markdown",
   "metadata": {},
   "source": [
    "Tổng cổng có 13904 đội hình bị trùng nhau trên tổng số 32000 đội hình. Sở dĩ con số lớn như vậy là do các người chơi có thể chơi cùng nhau rất nhiều trận nên việc lặp là khá nhiều."
   ]
  },
  {
   "attachments": {},
   "cell_type": "markdown",
   "metadata": {},
   "source": [
    "### Loại bỏ các đội hình bị trùng trong các trận đấu:"
   ]
  },
  {
   "cell_type": "code",
   "execution_count": 6,
   "metadata": {},
   "outputs": [
    {
     "data": {
      "text/html": [
       "<div>\n",
       "<style scoped>\n",
       "    .dataframe tbody tr th:only-of-type {\n",
       "        vertical-align: middle;\n",
       "    }\n",
       "\n",
       "    .dataframe tbody tr th {\n",
       "        vertical-align: top;\n",
       "    }\n",
       "\n",
       "    .dataframe thead th {\n",
       "        text-align: right;\n",
       "    }\n",
       "</style>\n",
       "<table border=\"1\" class=\"dataframe\">\n",
       "  <thead>\n",
       "    <tr style=\"text-align: right;\">\n",
       "      <th></th>\n",
       "      <th>Puuid</th>\n",
       "      <th>ID Match</th>\n",
       "      <th>Placement</th>\n",
       "      <th>List Augments</th>\n",
       "      <th>List Traits</th>\n",
       "      <th>List Champions</th>\n",
       "      <th>List Number Items</th>\n",
       "      <th>List Champions Tier</th>\n",
       "    </tr>\n",
       "  </thead>\n",
       "  <tbody>\n",
       "    <tr>\n",
       "      <th>0</th>\n",
       "      <td>_NjJNkxpeKQ-po15A8N1GVKYqYTAjiN1WoqkVUGfwmpHqg...</td>\n",
       "      <td>KR_6267320509</td>\n",
       "      <td>1</td>\n",
       "      <td>['TFT7_Augment_Preparation', 'TFT8_Augment_ViC...</td>\n",
       "      <td>['Set8_Aegis', 1, 0, 'Set8_Brawler', 2, 1, 'Se...</td>\n",
       "      <td>['TFT8_Gangplank', 'TFT8_Vi', 'TFT8_LeeSin', '...</td>\n",
       "      <td>[1, 3, 0, 2, 3, 3, 0]</td>\n",
       "      <td>[2, 3, 2, 3, 3, 3, 1]</td>\n",
       "    </tr>\n",
       "    <tr>\n",
       "      <th>1</th>\n",
       "      <td>WgAZ0CQHGmDf8yctPx5SXkU-rt-9HWv758OmfE6t_Wod8X...</td>\n",
       "      <td>KR_6267320509</td>\n",
       "      <td>4</td>\n",
       "      <td>['TFT8_Augment_ChannelerTrait', 'TFT8_Augment_...</td>\n",
       "      <td>['Set8_Aegis', 2, 1, 'Set8_Channeler', 5, 2, '...</td>\n",
       "      <td>['TFT8_Lux', 'TFT8_Annie', 'TFT8_Yuumi', 'TFT8...</td>\n",
       "      <td>[1, 3, 1, 0, 0, 1, 3, 0]</td>\n",
       "      <td>[2, 3, 2, 2, 2, 2, 2, 1]</td>\n",
       "    </tr>\n",
       "    <tr>\n",
       "      <th>2</th>\n",
       "      <td>WO7vH445Mvh-59sDpk4OAtffIxLMrm2R4wsrGT5ZcUb7cN...</td>\n",
       "      <td>KR_6267320509</td>\n",
       "      <td>7</td>\n",
       "      <td>['TFT6_Augment_ItemGrabBag1', 'TFT8_Augment_Yu...</td>\n",
       "      <td>['Set8_Aegis', 1, 0, 'Set8_AnimaSquad', 1, 0, ...</td>\n",
       "      <td>['TFT8_Galio', 'TFT8_Nasus', 'TFT8_Gangplank',...</td>\n",
       "      <td>[1, 0, 3, 0, 0, 3, 0, 1]</td>\n",
       "      <td>[2, 2, 3, 2, 2, 3, 2, 1]</td>\n",
       "    </tr>\n",
       "    <tr>\n",
       "      <th>3</th>\n",
       "      <td>LjGpzsuqxxKX_8HDCyOmX5bBgwC-p59Oj7rTLhaSwOgN7U...</td>\n",
       "      <td>KR_6267320509</td>\n",
       "      <td>2</td>\n",
       "      <td>['TFT6_Augment_SecondWind1', 'TFT8_Augment_Yas...</td>\n",
       "      <td>['Set8_Admin', 1, 0, 'Set8_AnimaSquad', 1, 0, ...</td>\n",
       "      <td>['TFT8_Fiora', 'TFT8_Yasuo', 'TFT8_Vayne', 'TF...</td>\n",
       "      <td>[0, 1, 1, 0, 1, 1, 3, 3]</td>\n",
       "      <td>[2, 2, 2, 2, 2, 2, 2, 2]</td>\n",
       "    </tr>\n",
       "    <tr>\n",
       "      <th>4</th>\n",
       "      <td>XdejWcFYkQS2jJwSPR2FXlv_IZuw1txCPOLZJtUkqyusTn...</td>\n",
       "      <td>KR_6267320509</td>\n",
       "      <td>5</td>\n",
       "      <td>['TFT6_Augment_ItemGrabBag1', 'TFT8_Augment_Yu...</td>\n",
       "      <td>['Set8_Admin', 1, 0, 'Set8_Aegis', 2, 1, 'Set8...</td>\n",
       "      <td>['TFT8_Lulu', 'TFT8_Annie', 'TFT8_Yuumi', 'TFT...</td>\n",
       "      <td>[0, 3, 1, 0, 1, 3, 1, 3]</td>\n",
       "      <td>[2, 2, 2, 2, 2, 2, 2, 2]</td>\n",
       "    </tr>\n",
       "    <tr>\n",
       "      <th>5</th>\n",
       "      <td>CtB6YjZTon2Z-pYgNfubDLUKwxAZoBQcZVQ12LyNanULi3...</td>\n",
       "      <td>KR_6267320509</td>\n",
       "      <td>6</td>\n",
       "      <td>['TFT6_Augment_TinyTitans', 'TFT8_Augment_Cami...</td>\n",
       "      <td>['Set8_Admin', 4, 2, 'Set8_Aegis', 1, 0, 'Set8...</td>\n",
       "      <td>['TFT8_Talon', 'TFT8_Blitzcrank', 'TFT8_Vi', '...</td>\n",
       "      <td>[0, 2, 0, 3, 0, 0, 1, 1]</td>\n",
       "      <td>[2, 2, 1, 3, 1, 2, 2, 2]</td>\n",
       "    </tr>\n",
       "    <tr>\n",
       "      <th>6</th>\n",
       "      <td>y6gI4h6o614IhVvGBBp45jA-XhRHxqx2tleVdE0egluOSK...</td>\n",
       "      <td>KR_6267320509</td>\n",
       "      <td>3</td>\n",
       "      <td>['TFT6_Augment_TinyTitans', 'TFT8_Augment_Sivi...</td>\n",
       "      <td>['Set8_Ace', 1, 1, 'Set8_Civilian', 1, 1, 'Set...</td>\n",
       "      <td>['TFT8_Sivir', 'TFT8_Velkoz', 'TFT8_Chogath', ...</td>\n",
       "      <td>[0, 0, 3, 0, 3, 3, 0, 1]</td>\n",
       "      <td>[2, 2, 3, 2, 2, 2, 2, 1]</td>\n",
       "    </tr>\n",
       "    <tr>\n",
       "      <th>7</th>\n",
       "      <td>YFHBmecEZcAKDUkoNKCvM_--z5qekvafrDJzBgqJFz6l5a...</td>\n",
       "      <td>KR_6267320509</td>\n",
       "      <td>8</td>\n",
       "      <td>['TFT6_Augment_ItemGrabBag1', 'TFT8_Augment_An...</td>\n",
       "      <td>['Set8_Admin', 1, 0, 'Set8_Aegis', 1, 0, 'Set8...</td>\n",
       "      <td>['TFT8_Lulu', 'TFT8_Annie', 'TFT8_Yuumi', 'TFT...</td>\n",
       "      <td>[0, 3, 1, 0, 3, 3, 1, 0]</td>\n",
       "      <td>[2, 2, 1, 2, 2, 1, 1, 1]</td>\n",
       "    </tr>\n",
       "    <tr>\n",
       "      <th>8</th>\n",
       "      <td>y6gI4h6o614IhVvGBBp45jA-XhRHxqx2tleVdE0egluOSK...</td>\n",
       "      <td>KR_6267390363</td>\n",
       "      <td>6</td>\n",
       "      <td>['TFT8_Augment_AnnieSupport', 'TFT6_Augment_Se...</td>\n",
       "      <td>['Set8_Admin', 1, 0, 'Set8_Aegis', 2, 1, 'Set8...</td>\n",
       "      <td>['TFT8_Lulu', 'TFT8_Annie', 'TFT8_Sona', 'TFT8...</td>\n",
       "      <td>[0, 3, 0, 0, 3, 1, 1]</td>\n",
       "      <td>[2, 3, 2, 1, 2, 2, 2]</td>\n",
       "    </tr>\n",
       "    <tr>\n",
       "      <th>9</th>\n",
       "      <td>GSXdu-IDqnhxAjE9OC-rEbktUy7Q-YfRmdz7P6nztlNYHj...</td>\n",
       "      <td>KR_6267390363</td>\n",
       "      <td>7</td>\n",
       "      <td>['TFT8_Augment_RellCarry', 'TFT6_Augment_Luden...</td>\n",
       "      <td>['Set8_Aegis', 2, 1, 'Set8_Channeler', 2, 1, '...</td>\n",
       "      <td>['TFT8_Rell', 'TFT8_Yuumi', 'TFT8_Nilah', 'TFT...</td>\n",
       "      <td>[3, 0, 0, 1, 0, 1, 3, 0]</td>\n",
       "      <td>[2, 2, 2, 1, 1, 2, 1, 1]</td>\n",
       "    </tr>\n",
       "  </tbody>\n",
       "</table>\n",
       "</div>"
      ],
      "text/plain": [
       "                                               Puuid       ID Match  \\\n",
       "0  _NjJNkxpeKQ-po15A8N1GVKYqYTAjiN1WoqkVUGfwmpHqg...  KR_6267320509   \n",
       "1  WgAZ0CQHGmDf8yctPx5SXkU-rt-9HWv758OmfE6t_Wod8X...  KR_6267320509   \n",
       "2  WO7vH445Mvh-59sDpk4OAtffIxLMrm2R4wsrGT5ZcUb7cN...  KR_6267320509   \n",
       "3  LjGpzsuqxxKX_8HDCyOmX5bBgwC-p59Oj7rTLhaSwOgN7U...  KR_6267320509   \n",
       "4  XdejWcFYkQS2jJwSPR2FXlv_IZuw1txCPOLZJtUkqyusTn...  KR_6267320509   \n",
       "5  CtB6YjZTon2Z-pYgNfubDLUKwxAZoBQcZVQ12LyNanULi3...  KR_6267320509   \n",
       "6  y6gI4h6o614IhVvGBBp45jA-XhRHxqx2tleVdE0egluOSK...  KR_6267320509   \n",
       "7  YFHBmecEZcAKDUkoNKCvM_--z5qekvafrDJzBgqJFz6l5a...  KR_6267320509   \n",
       "8  y6gI4h6o614IhVvGBBp45jA-XhRHxqx2tleVdE0egluOSK...  KR_6267390363   \n",
       "9  GSXdu-IDqnhxAjE9OC-rEbktUy7Q-YfRmdz7P6nztlNYHj...  KR_6267390363   \n",
       "\n",
       "   Placement                                      List Augments  \\\n",
       "0          1  ['TFT7_Augment_Preparation', 'TFT8_Augment_ViC...   \n",
       "1          4  ['TFT8_Augment_ChannelerTrait', 'TFT8_Augment_...   \n",
       "2          7  ['TFT6_Augment_ItemGrabBag1', 'TFT8_Augment_Yu...   \n",
       "3          2  ['TFT6_Augment_SecondWind1', 'TFT8_Augment_Yas...   \n",
       "4          5  ['TFT6_Augment_ItemGrabBag1', 'TFT8_Augment_Yu...   \n",
       "5          6  ['TFT6_Augment_TinyTitans', 'TFT8_Augment_Cami...   \n",
       "6          3  ['TFT6_Augment_TinyTitans', 'TFT8_Augment_Sivi...   \n",
       "7          8  ['TFT6_Augment_ItemGrabBag1', 'TFT8_Augment_An...   \n",
       "8          6  ['TFT8_Augment_AnnieSupport', 'TFT6_Augment_Se...   \n",
       "9          7  ['TFT8_Augment_RellCarry', 'TFT6_Augment_Luden...   \n",
       "\n",
       "                                         List Traits  \\\n",
       "0  ['Set8_Aegis', 1, 0, 'Set8_Brawler', 2, 1, 'Se...   \n",
       "1  ['Set8_Aegis', 2, 1, 'Set8_Channeler', 5, 2, '...   \n",
       "2  ['Set8_Aegis', 1, 0, 'Set8_AnimaSquad', 1, 0, ...   \n",
       "3  ['Set8_Admin', 1, 0, 'Set8_AnimaSquad', 1, 0, ...   \n",
       "4  ['Set8_Admin', 1, 0, 'Set8_Aegis', 2, 1, 'Set8...   \n",
       "5  ['Set8_Admin', 4, 2, 'Set8_Aegis', 1, 0, 'Set8...   \n",
       "6  ['Set8_Ace', 1, 1, 'Set8_Civilian', 1, 1, 'Set...   \n",
       "7  ['Set8_Admin', 1, 0, 'Set8_Aegis', 1, 0, 'Set8...   \n",
       "8  ['Set8_Admin', 1, 0, 'Set8_Aegis', 2, 1, 'Set8...   \n",
       "9  ['Set8_Aegis', 2, 1, 'Set8_Channeler', 2, 1, '...   \n",
       "\n",
       "                                      List Champions  \\\n",
       "0  ['TFT8_Gangplank', 'TFT8_Vi', 'TFT8_LeeSin', '...   \n",
       "1  ['TFT8_Lux', 'TFT8_Annie', 'TFT8_Yuumi', 'TFT8...   \n",
       "2  ['TFT8_Galio', 'TFT8_Nasus', 'TFT8_Gangplank',...   \n",
       "3  ['TFT8_Fiora', 'TFT8_Yasuo', 'TFT8_Vayne', 'TF...   \n",
       "4  ['TFT8_Lulu', 'TFT8_Annie', 'TFT8_Yuumi', 'TFT...   \n",
       "5  ['TFT8_Talon', 'TFT8_Blitzcrank', 'TFT8_Vi', '...   \n",
       "6  ['TFT8_Sivir', 'TFT8_Velkoz', 'TFT8_Chogath', ...   \n",
       "7  ['TFT8_Lulu', 'TFT8_Annie', 'TFT8_Yuumi', 'TFT...   \n",
       "8  ['TFT8_Lulu', 'TFT8_Annie', 'TFT8_Sona', 'TFT8...   \n",
       "9  ['TFT8_Rell', 'TFT8_Yuumi', 'TFT8_Nilah', 'TFT...   \n",
       "\n",
       "          List Number Items       List Champions Tier  \n",
       "0     [1, 3, 0, 2, 3, 3, 0]     [2, 3, 2, 3, 3, 3, 1]  \n",
       "1  [1, 3, 1, 0, 0, 1, 3, 0]  [2, 3, 2, 2, 2, 2, 2, 1]  \n",
       "2  [1, 0, 3, 0, 0, 3, 0, 1]  [2, 2, 3, 2, 2, 3, 2, 1]  \n",
       "3  [0, 1, 1, 0, 1, 1, 3, 3]  [2, 2, 2, 2, 2, 2, 2, 2]  \n",
       "4  [0, 3, 1, 0, 1, 3, 1, 3]  [2, 2, 2, 2, 2, 2, 2, 2]  \n",
       "5  [0, 2, 0, 3, 0, 0, 1, 1]  [2, 2, 1, 3, 1, 2, 2, 2]  \n",
       "6  [0, 0, 3, 0, 3, 3, 0, 1]  [2, 2, 3, 2, 2, 2, 2, 1]  \n",
       "7  [0, 3, 1, 0, 3, 3, 1, 0]  [2, 2, 1, 2, 2, 1, 1, 1]  \n",
       "8     [0, 3, 0, 0, 3, 1, 1]     [2, 3, 2, 1, 2, 2, 2]  \n",
       "9  [3, 0, 0, 1, 0, 1, 3, 0]  [2, 2, 2, 1, 1, 2, 1, 1]  "
      ]
     },
     "execution_count": 6,
     "metadata": {},
     "output_type": "execute_result"
    }
   ],
   "source": [
    "data_team_df = data_team_df.drop_duplicates().reset_index(drop=True)\n",
    "data_team_df[:10]"
   ]
  },
  {
   "attachments": {},
   "cell_type": "markdown",
   "metadata": {},
   "source": [
    "Số hàng và cột của dataframe sau khi loại bỏ các đội hình bị trùng:"
   ]
  },
  {
   "cell_type": "code",
   "execution_count": 7,
   "metadata": {},
   "outputs": [
    {
     "data": {
      "text/plain": [
       "(18096, 8)"
      ]
     },
     "execution_count": 7,
     "metadata": {},
     "output_type": "execute_result"
    }
   ],
   "source": [
    "row, col = data_team_df.shape\n",
    "row, col"
   ]
  },
  {
   "attachments": {},
   "cell_type": "markdown",
   "metadata": {},
   "source": [
    "Ý nghĩa của từng cột:\n",
    "- **Puuid**: id của các người chơi .\n",
    "- **ID Match**: id của trận đấu.\n",
    "- **Placement**: thứ hạng của các người chơi trong 1 trận đấu.\n",
    "- **List Augments**: danh sách lõi nâng cấp trong trận đấu của 1 người chơi.\n",
    "- **List Traits**: danh sách tộc, hệ được kích hoạt của 1 đội hình.\n",
    "- **List Champions**: danh sách các tướng có trong 1 đội hình."
   ]
  },
  {
   "attachments": {},
   "cell_type": "markdown",
   "metadata": {},
   "source": [
    "Kiểu dữ liệu của từng cột trong dataframe:"
   ]
  },
  {
   "cell_type": "code",
   "execution_count": 8,
   "metadata": {},
   "outputs": [
    {
     "data": {
      "text/plain": [
       "Puuid                  object\n",
       "ID Match               object\n",
       "Placement               int64\n",
       "List Augments          object\n",
       "List Traits            object\n",
       "List Champions         object\n",
       "List Number Items      object\n",
       "List Champions Tier    object\n",
       "dtype: object"
      ]
     },
     "execution_count": 8,
     "metadata": {},
     "output_type": "execute_result"
    }
   ],
   "source": [
    "col_dtypes = data_team_df.dtypes\n",
    "col_dtypes"
   ]
  },
  {
   "attachments": {},
   "cell_type": "markdown",
   "metadata": {},
   "source": [
    "Dữ liệu có một số cột có kiểu dữ liệu là list nhưng mà khi đọc vào dataframe thì nó chuyển thành series và nó được hiểu là kiểu string nên ta cần chuyển nó lại dạng list"
   ]
  },
  {
   "cell_type": "code",
   "execution_count": 9,
   "metadata": {},
   "outputs": [],
   "source": [
    "def changeStringToList(col_name, df):\n",
    "    for i in range(len(col_name)):\n",
    "        temp = []\n",
    "        for j in range(len(df[col_name[i]])):\n",
    "            temp.append(ast.literal_eval(df[col_name[i]][j]))\n",
    "        df[col_name[i]] = temp"
   ]
  },
  {
   "cell_type": "code",
   "execution_count": 10,
   "metadata": {},
   "outputs": [],
   "source": [
    "col_name_type_list = ['List Augments', 'List Champions', 'List Traits', 'List Number Items', 'List Champions Tier']\n",
    "changeStringToList(col_name_type_list, data_team_df)"
   ]
  },
  {
   "attachments": {},
   "cell_type": "markdown",
   "metadata": {},
   "source": [
    "## Preprocess"
   ]
  },
  {
   "attachments": {},
   "cell_type": "markdown",
   "metadata": {},
   "source": [
    "### Kiểm tra dữ liệu bị trống"
   ]
  },
  {
   "cell_type": "code",
   "execution_count": 11,
   "metadata": {},
   "outputs": [
    {
     "data": {
      "text/plain": [
       "Puuid                  0\n",
       "ID Match               0\n",
       "Placement              0\n",
       "List Augments          0\n",
       "List Traits            0\n",
       "List Champions         0\n",
       "List Number Items      0\n",
       "List Champions Tier    0\n",
       "dtype: int64"
      ]
     },
     "execution_count": 11,
     "metadata": {},
     "output_type": "execute_result"
    }
   ],
   "source": [
    "data_team_df.isna().sum()"
   ]
  },
  {
   "attachments": {},
   "cell_type": "markdown",
   "metadata": {},
   "source": [
    "Không có những dữ liệu bị thiếu trong dataframe này."
   ]
  },
  {
   "attachments": {},
   "cell_type": "markdown",
   "metadata": {},
   "source": [
    "### Thông tin về người chơi:"
   ]
  },
  {
   "attachments": {},
   "cell_type": "markdown",
   "metadata": {},
   "source": [
    "- Tổng số người chơi có trong tập dữ liệu"
   ]
  },
  {
   "cell_type": "code",
   "execution_count": 12,
   "metadata": {},
   "outputs": [
    {
     "data": {
      "text/plain": [
       "2449"
      ]
     },
     "execution_count": 12,
     "metadata": {},
     "output_type": "execute_result"
    }
   ],
   "source": [
    "len(data_team_df['Puuid'].unique())"
   ]
  },
  {
   "attachments": {},
   "cell_type": "markdown",
   "metadata": {},
   "source": [
    "- Tổng số trận đấu trong tập dữ liệu:"
   ]
  },
  {
   "cell_type": "code",
   "execution_count": 13,
   "metadata": {},
   "outputs": [
    {
     "data": {
      "text/plain": [
       "2262"
      ]
     },
     "execution_count": 13,
     "metadata": {},
     "output_type": "execute_result"
    }
   ],
   "source": [
    "len(data_team_df['ID Match'].unique())"
   ]
  },
  {
   "attachments": {},
   "cell_type": "markdown",
   "metadata": {},
   "source": [
    "Dựa trên dữ liệu này ta sẽ thấy được rằng số dữ liệu bị trùng ở trên tìm ra được là 13904, nó sẽ bằng với tổng số trận đấu trừ đi số trận bị trùng nhân với 8 (vì có 8 đội hình), vì 13904 = 32000 - 2262*8"
   ]
  },
  {
   "attachments": {},
   "cell_type": "markdown",
   "metadata": {},
   "source": [
    "- Người chơi có số trận đấu nhiều nhất là:"
   ]
  },
  {
   "cell_type": "code",
   "execution_count": 14,
   "metadata": {},
   "outputs": [
    {
     "data": {
      "text/plain": [
       "70"
      ]
     },
     "execution_count": 14,
     "metadata": {},
     "output_type": "execute_result"
    }
   ],
   "source": [
    "data_team_df['Puuid'].value_counts().max()"
   ]
  },
  {
   "attachments": {},
   "cell_type": "markdown",
   "metadata": {},
   "source": [
    "- Số lượng đội hình được sử dụng trong các trận đấu:"
   ]
  },
  {
   "cell_type": "code",
   "execution_count": 15,
   "metadata": {},
   "outputs": [
    {
     "data": {
      "text/plain": [
       "12530"
      ]
     },
     "execution_count": 15,
     "metadata": {},
     "output_type": "execute_result"
    }
   ],
   "source": [
    "num_of_team = set()\n",
    "for i in range(len(data_team_df['List Champions'])):\n",
    "    num_of_team.add(str(data_team_df['List Champions'][i]))\n",
    "len(num_of_team)"
   ]
  },
  {
   "attachments": {},
   "cell_type": "markdown",
   "metadata": {},
   "source": [
    "## Khám phá dữ liệu về trang bị của tướng trong tập dữ liệu"
   ]
  },
  {
   "attachments": {},
   "cell_type": "markdown",
   "metadata": {},
   "source": [
    "### Đọc data từ dataframe"
   ]
  },
  {
   "cell_type": "code",
   "execution_count": 30,
   "metadata": {},
   "outputs": [],
   "source": [
    "data_item_df = pd.read_csv('process_data_tft_each_item_csv.csv', usecols=['Puuid','ID Match','Champion','List Name Item'])"
   ]
  },
  {
   "cell_type": "code",
   "execution_count": 31,
   "metadata": {},
   "outputs": [
    {
     "data": {
      "text/html": [
       "<div>\n",
       "<style scoped>\n",
       "    .dataframe tbody tr th:only-of-type {\n",
       "        vertical-align: middle;\n",
       "    }\n",
       "\n",
       "    .dataframe tbody tr th {\n",
       "        vertical-align: top;\n",
       "    }\n",
       "\n",
       "    .dataframe thead th {\n",
       "        text-align: right;\n",
       "    }\n",
       "</style>\n",
       "<table border=\"1\" class=\"dataframe\">\n",
       "  <thead>\n",
       "    <tr style=\"text-align: right;\">\n",
       "      <th></th>\n",
       "      <th>Puuid</th>\n",
       "      <th>ID Match</th>\n",
       "      <th>Champion</th>\n",
       "      <th>List Name Item</th>\n",
       "    </tr>\n",
       "  </thead>\n",
       "  <tbody>\n",
       "    <tr>\n",
       "      <th>0</th>\n",
       "      <td>_NjJNkxpeKQ-po15A8N1GVKYqYTAjiN1WoqkVUGfwmpHqg...</td>\n",
       "      <td>KR_6267320509</td>\n",
       "      <td>['TFT8_Gangplank', 'TFT8_Vi', 'TFT8_LeeSin', '...</td>\n",
       "      <td>[['TFT_Item_ZekesHerald'], ['TFT_Item_BrambleV...</td>\n",
       "    </tr>\n",
       "    <tr>\n",
       "      <th>1</th>\n",
       "      <td>WgAZ0CQHGmDf8yctPx5SXkU-rt-9HWv758OmfE6t_Wod8X...</td>\n",
       "      <td>KR_6267320509</td>\n",
       "      <td>['TFT8_Lux', 'TFT8_Annie', 'TFT8_Yuumi', 'TFT8...</td>\n",
       "      <td>[['TFT8_Item_HeartEmblemItem'], ['TFT_Item_Bra...</td>\n",
       "    </tr>\n",
       "    <tr>\n",
       "      <th>2</th>\n",
       "      <td>WO7vH445Mvh-59sDpk4OAtffIxLMrm2R4wsrGT5ZcUb7cN...</td>\n",
       "      <td>KR_6267320509</td>\n",
       "      <td>['TFT8_Galio', 'TFT8_Nasus', 'TFT8_Gangplank',...</td>\n",
       "      <td>[['TFT_Item_GargoyleStoneplate'], [], ['TFT_It...</td>\n",
       "    </tr>\n",
       "    <tr>\n",
       "      <th>3</th>\n",
       "      <td>LjGpzsuqxxKX_8HDCyOmX5bBgwC-p59Oj7rTLhaSwOgN7U...</td>\n",
       "      <td>KR_6267320509</td>\n",
       "      <td>['TFT8_Fiora', 'TFT8_Yasuo', 'TFT8_Vayne', 'TF...</td>\n",
       "      <td>[[], ['TFT8_Item_HackerEmblemItem'], ['TFT_Ite...</td>\n",
       "    </tr>\n",
       "    <tr>\n",
       "      <th>4</th>\n",
       "      <td>XdejWcFYkQS2jJwSPR2FXlv_IZuw1txCPOLZJtUkqyusTn...</td>\n",
       "      <td>KR_6267320509</td>\n",
       "      <td>['TFT8_Lulu', 'TFT8_Annie', 'TFT8_Yuumi', 'TFT...</td>\n",
       "      <td>[[], ['TFT_Item_WarmogsArmor', 'TFT_Item_Titan...</td>\n",
       "    </tr>\n",
       "    <tr>\n",
       "      <th>5</th>\n",
       "      <td>CtB6YjZTon2Z-pYgNfubDLUKwxAZoBQcZVQ12LyNanULi3...</td>\n",
       "      <td>KR_6267320509</td>\n",
       "      <td>['TFT8_Talon', 'TFT8_Blitzcrank', 'TFT8_Vi', '...</td>\n",
       "      <td>[[], ['TFT_Item_TitanicHydra', 'TFT_Item_Titan...</td>\n",
       "    </tr>\n",
       "    <tr>\n",
       "      <th>6</th>\n",
       "      <td>y6gI4h6o614IhVvGBBp45jA-XhRHxqx2tleVdE0egluOSK...</td>\n",
       "      <td>KR_6267320509</td>\n",
       "      <td>['TFT8_Sivir', 'TFT8_Velkoz', 'TFT8_Chogath', ...</td>\n",
       "      <td>[[], [], ['TFT_Item_TitansResolve', 'TFT_Item_...</td>\n",
       "    </tr>\n",
       "    <tr>\n",
       "      <th>7</th>\n",
       "      <td>YFHBmecEZcAKDUkoNKCvM_--z5qekvafrDJzBgqJFz6l5a...</td>\n",
       "      <td>KR_6267320509</td>\n",
       "      <td>['TFT8_Lulu', 'TFT8_Annie', 'TFT8_Yuumi', 'TFT...</td>\n",
       "      <td>[[], ['TFT_Item_WarmogsArmor', 'TFT_Item_Gargo...</td>\n",
       "    </tr>\n",
       "    <tr>\n",
       "      <th>8</th>\n",
       "      <td>y6gI4h6o614IhVvGBBp45jA-XhRHxqx2tleVdE0egluOSK...</td>\n",
       "      <td>KR_6267390363</td>\n",
       "      <td>['TFT8_Lulu', 'TFT8_Annie', 'TFT8_Sona', 'TFT8...</td>\n",
       "      <td>[[], ['TFT_Item_GargoyleStoneplate', 'TFT_Item...</td>\n",
       "    </tr>\n",
       "    <tr>\n",
       "      <th>9</th>\n",
       "      <td>GSXdu-IDqnhxAjE9OC-rEbktUy7Q-YfRmdz7P6nztlNYHj...</td>\n",
       "      <td>KR_6267390363</td>\n",
       "      <td>['TFT8_Rell', 'TFT8_Yuumi', 'TFT8_Nilah', 'TFT...</td>\n",
       "      <td>[['TFT_Item_IonicSpark', 'TFT_Item_Redemption'...</td>\n",
       "    </tr>\n",
       "  </tbody>\n",
       "</table>\n",
       "</div>"
      ],
      "text/plain": [
       "                                               Puuid       ID Match  \\\n",
       "0  _NjJNkxpeKQ-po15A8N1GVKYqYTAjiN1WoqkVUGfwmpHqg...  KR_6267320509   \n",
       "1  WgAZ0CQHGmDf8yctPx5SXkU-rt-9HWv758OmfE6t_Wod8X...  KR_6267320509   \n",
       "2  WO7vH445Mvh-59sDpk4OAtffIxLMrm2R4wsrGT5ZcUb7cN...  KR_6267320509   \n",
       "3  LjGpzsuqxxKX_8HDCyOmX5bBgwC-p59Oj7rTLhaSwOgN7U...  KR_6267320509   \n",
       "4  XdejWcFYkQS2jJwSPR2FXlv_IZuw1txCPOLZJtUkqyusTn...  KR_6267320509   \n",
       "5  CtB6YjZTon2Z-pYgNfubDLUKwxAZoBQcZVQ12LyNanULi3...  KR_6267320509   \n",
       "6  y6gI4h6o614IhVvGBBp45jA-XhRHxqx2tleVdE0egluOSK...  KR_6267320509   \n",
       "7  YFHBmecEZcAKDUkoNKCvM_--z5qekvafrDJzBgqJFz6l5a...  KR_6267320509   \n",
       "8  y6gI4h6o614IhVvGBBp45jA-XhRHxqx2tleVdE0egluOSK...  KR_6267390363   \n",
       "9  GSXdu-IDqnhxAjE9OC-rEbktUy7Q-YfRmdz7P6nztlNYHj...  KR_6267390363   \n",
       "\n",
       "                                            Champion  \\\n",
       "0  ['TFT8_Gangplank', 'TFT8_Vi', 'TFT8_LeeSin', '...   \n",
       "1  ['TFT8_Lux', 'TFT8_Annie', 'TFT8_Yuumi', 'TFT8...   \n",
       "2  ['TFT8_Galio', 'TFT8_Nasus', 'TFT8_Gangplank',...   \n",
       "3  ['TFT8_Fiora', 'TFT8_Yasuo', 'TFT8_Vayne', 'TF...   \n",
       "4  ['TFT8_Lulu', 'TFT8_Annie', 'TFT8_Yuumi', 'TFT...   \n",
       "5  ['TFT8_Talon', 'TFT8_Blitzcrank', 'TFT8_Vi', '...   \n",
       "6  ['TFT8_Sivir', 'TFT8_Velkoz', 'TFT8_Chogath', ...   \n",
       "7  ['TFT8_Lulu', 'TFT8_Annie', 'TFT8_Yuumi', 'TFT...   \n",
       "8  ['TFT8_Lulu', 'TFT8_Annie', 'TFT8_Sona', 'TFT8...   \n",
       "9  ['TFT8_Rell', 'TFT8_Yuumi', 'TFT8_Nilah', 'TFT...   \n",
       "\n",
       "                                      List Name Item  \n",
       "0  [['TFT_Item_ZekesHerald'], ['TFT_Item_BrambleV...  \n",
       "1  [['TFT8_Item_HeartEmblemItem'], ['TFT_Item_Bra...  \n",
       "2  [['TFT_Item_GargoyleStoneplate'], [], ['TFT_It...  \n",
       "3  [[], ['TFT8_Item_HackerEmblemItem'], ['TFT_Ite...  \n",
       "4  [[], ['TFT_Item_WarmogsArmor', 'TFT_Item_Titan...  \n",
       "5  [[], ['TFT_Item_TitanicHydra', 'TFT_Item_Titan...  \n",
       "6  [[], [], ['TFT_Item_TitansResolve', 'TFT_Item_...  \n",
       "7  [[], ['TFT_Item_WarmogsArmor', 'TFT_Item_Gargo...  \n",
       "8  [[], ['TFT_Item_GargoyleStoneplate', 'TFT_Item...  \n",
       "9  [['TFT_Item_IonicSpark', 'TFT_Item_Redemption'...  "
      ]
     },
     "execution_count": 31,
     "metadata": {},
     "output_type": "execute_result"
    }
   ],
   "source": [
    "data_item_df[:10]"
   ]
  },
  {
   "attachments": {},
   "cell_type": "markdown",
   "metadata": {},
   "source": [
    "## Data exploration"
   ]
  },
  {
   "attachments": {},
   "cell_type": "markdown",
   "metadata": {},
   "source": [
    "Dữ liệu có bao nhiêu hàng và cột:"
   ]
  },
  {
   "cell_type": "code",
   "execution_count": 32,
   "metadata": {},
   "outputs": [
    {
     "data": {
      "text/plain": [
       "(32000, 4)"
      ]
     },
     "execution_count": 32,
     "metadata": {},
     "output_type": "execute_result"
    }
   ],
   "source": [
    "row, col = data_item_df.shape\n",
    "row, col"
   ]
  },
  {
   "cell_type": "code",
   "execution_count": 33,
   "metadata": {},
   "outputs": [
    {
     "data": {
      "text/plain": [
       "13909"
      ]
     },
     "execution_count": 33,
     "metadata": {},
     "output_type": "execute_result"
    }
   ],
   "source": [
    "have_duplicated_rows = data_item_df.duplicated('List Name Item').sum()\n",
    "have_duplicated_rows"
   ]
  },
  {
   "attachments": {},
   "cell_type": "markdown",
   "metadata": {},
   "source": [
    "Số lượng dữ liệu trùng cũng giống bên dữ liệu đội hình."
   ]
  },
  {
   "cell_type": "code",
   "execution_count": 34,
   "metadata": {},
   "outputs": [],
   "source": [
    "data_item_df = data_item_df.drop_duplicates().reset_index(drop = True)"
   ]
  },
  {
   "attachments": {},
   "cell_type": "markdown",
   "metadata": {},
   "source": [
    "Ý nghĩa của từng cột:\n",
    "- **Puuid**: id của các người chơi .\n",
    "- **ID Match**: id của trận đấu.\n",
    "- **Champion**: danh sách tướng trong 1 đội hình.\n",
    "- **List Augments**: danh sách trang bị ứng với từng tướng trong đội hình."
   ]
  },
  {
   "attachments": {},
   "cell_type": "markdown",
   "metadata": {},
   "source": [
    "Kiểu dữ liệu của từng cột trong dataframe"
   ]
  },
  {
   "cell_type": "code",
   "execution_count": 35,
   "metadata": {},
   "outputs": [
    {
     "data": {
      "text/plain": [
       "Puuid             object\n",
       "ID Match          object\n",
       "Champion          object\n",
       "List Name Item    object\n",
       "dtype: object"
      ]
     },
     "execution_count": 35,
     "metadata": {},
     "output_type": "execute_result"
    }
   ],
   "source": [
    "col_dtypes = data_item_df.dtypes\n",
    "col_dtypes"
   ]
  },
  {
   "attachments": {},
   "cell_type": "markdown",
   "metadata": {},
   "source": [
    "Có 2 cột dữ liệu dạng list nhưng khi lưu vào csv thì nó chuyển thành string nên ta cần chuyển nó trở lại về list"
   ]
  },
  {
   "cell_type": "code",
   "execution_count": 36,
   "metadata": {},
   "outputs": [],
   "source": [
    "col_name_type_list = ['Champion', 'List Name Item']\n",
    "changeStringToList(col_name_type_list, data_item_df)"
   ]
  },
  {
   "attachments": {},
   "cell_type": "markdown",
   "metadata": {},
   "source": [
    "## Preprocess"
   ]
  },
  {
   "attachments": {},
   "cell_type": "markdown",
   "metadata": {},
   "source": [
    "### Kiểm tra dữ liệu trống:"
   ]
  },
  {
   "cell_type": "code",
   "execution_count": 37,
   "metadata": {},
   "outputs": [
    {
     "data": {
      "text/plain": [
       "Puuid             0\n",
       "ID Match          0\n",
       "Champion          0\n",
       "List Name Item    0\n",
       "dtype: int64"
      ]
     },
     "execution_count": 37,
     "metadata": {},
     "output_type": "execute_result"
    }
   ],
   "source": [
    "data_item_df.isna().sum()"
   ]
  },
  {
   "attachments": {},
   "cell_type": "markdown",
   "metadata": {},
   "source": [
    "Không có dữ liệu bị trống trong dataframe này"
   ]
  },
  {
   "attachments": {},
   "cell_type": "markdown",
   "metadata": {},
   "source": [
    "# Thông tin về tướng và trang bị"
   ]
  },
  {
   "attachments": {},
   "cell_type": "markdown",
   "metadata": {},
   "source": [
    "- Tổng số tướng được sử dụng:"
   ]
  },
  {
   "cell_type": "code",
   "execution_count": 38,
   "metadata": {},
   "outputs": [
    {
     "name": "stdout",
     "output_type": "stream",
     "text": [
      "59\n"
     ]
    }
   ],
   "source": [
    "a = np.array(data_item_df['Champion'])\n",
    "numbers_champ = set(i for j in a for i in j)\n",
    "print(len(numbers_champ)) # 10"
   ]
  },
  {
   "attachments": {},
   "cell_type": "markdown",
   "metadata": {},
   "source": [
    "- Tổng số item được sử dụng"
   ]
  },
  {
   "cell_type": "code",
   "execution_count": 42,
   "metadata": {},
   "outputs": [
    {
     "data": {
      "text/plain": [
       "124"
      ]
     },
     "execution_count": 42,
     "metadata": {},
     "output_type": "execute_result"
    }
   ],
   "source": [
    "b = np.array(data_item_df['List Name Item'])\n",
    "numbers_item = set()\n",
    "for i in b:\n",
    "    for j in i:\n",
    "        for k in j:\n",
    "            numbers_item.add(k)\n",
    "\n",
    "len(numbers_item)"
   ]
  }
 ],
 "metadata": {
  "kernelspec": {
   "display_name": "min_ds-env",
   "language": "python",
   "name": "python3"
  },
  "language_info": {
   "codemirror_mode": {
    "name": "ipython",
    "version": 3
   },
   "file_extension": ".py",
   "mimetype": "text/x-python",
   "name": "python",
   "nbconvert_exporter": "python",
   "pygments_lexer": "ipython3",
   "version": "3.8.8"
  },
  "orig_nbformat": 4,
  "vscode": {
   "interpreter": {
    "hash": "79aebf84914f6662b95d7ae9134837db3a2655ed7c44a08451f0a7933632525e"
   }
  }
 },
 "nbformat": 4,
 "nbformat_minor": 2
}
