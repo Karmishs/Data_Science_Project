{
 "cells": [
  {
   "attachments": {},
   "cell_type": "markdown",
   "id": "a577d301",
   "metadata": {
    "id": "a577d301"
   },
   "source": [
    "## LẤY DỮ LIỆU LÕI NÂNG CẤP(AUGMENTS)\n"
   ]
  },
  {
   "attachments": {},
   "cell_type": "markdown",
   "id": "7d1e6421",
   "metadata": {},
   "source": [
    "file này sẽ lấy tất cả những lõi nâng cấp từ trang web mobafire về và lưu trữ trong DataFrame"
   ]
  },
  {
   "cell_type": "code",
   "execution_count": 1,
   "id": "652e004b",
   "metadata": {
    "id": "652e004b"
   },
   "outputs": [],
   "source": [
    "# Import requests for crawling a page and Beautiful Soup for parse the HTML content\n",
    "# Import other libraries for demonstration\n",
    "from bs4 import BeautifulSoup\n",
    "import requests\n",
    "import pandas as pd\n",
    "import matplotlib.pyplot as plt\n",
    "import numpy as np\n",
    "import re\n",
    "!conda activate min_ds-env"
   ]
  },
  {
   "cell_type": "code",
   "execution_count": 2,
   "id": "01f8d403",
   "metadata": {
    "id": "01f8d403"
   },
   "outputs": [],
   "source": [
    "# Fetch a website URL and store it to webpage\n",
    "webpage = requests.get(\"https://www.mobafire.com/teamfight-tactics/augment-tier-list\")\n",
    "#Take the webpage variable and fetch the content using BeautifulSoup\n",
    "soup = BeautifulSoup(webpage.content, \"html.parser\")\n",
    "\n",
    "data_augments = soup.find_all(attrs = {\"class\": \"view-hex-tier__augment__name\"})#tìm ra các đội hình"
   ]
  },
  {
   "cell_type": "code",
   "execution_count": 3,
   "id": "e17156d4",
   "metadata": {},
   "outputs": [],
   "source": [
    "augments = []\n",
    "for i in range(len(data_augments)):\n",
    "    temp = data_augments[i].text\n",
    "    augments.append(temp)\n",
    "    "
   ]
  },
  {
   "cell_type": "code",
   "execution_count": 4,
   "id": "790a1973",
   "metadata": {},
   "outputs": [],
   "source": [
    "augments\n",
    "data_augments_tft_df = pd.DataFrame(data = augments, columns = ['Augment'])"
   ]
  },
  {
   "cell_type": "code",
   "execution_count": 6,
   "id": "86325326",
   "metadata": {},
   "outputs": [
    {
     "data": {
      "text/html": [
       "<div>\n",
       "<style scoped>\n",
       "    .dataframe tbody tr th:only-of-type {\n",
       "        vertical-align: middle;\n",
       "    }\n",
       "\n",
       "    .dataframe tbody tr th {\n",
       "        vertical-align: top;\n",
       "    }\n",
       "\n",
       "    .dataframe thead th {\n",
       "        text-align: right;\n",
       "    }\n",
       "</style>\n",
       "<table border=\"1\" class=\"dataframe\">\n",
       "  <thead>\n",
       "    <tr style=\"text-align: right;\">\n",
       "      <th></th>\n",
       "      <th>Augment</th>\n",
       "    </tr>\n",
       "  </thead>\n",
       "  <tbody>\n",
       "    <tr>\n",
       "      <th>0</th>\n",
       "      <td>Big Friend I</td>\n",
       "    </tr>\n",
       "    <tr>\n",
       "      <th>1</th>\n",
       "      <td>Renegade Heart</td>\n",
       "    </tr>\n",
       "    <tr>\n",
       "      <th>2</th>\n",
       "      <td>Electrocharge I</td>\n",
       "    </tr>\n",
       "    <tr>\n",
       "      <th>3</th>\n",
       "      <td>Luden's Echo I</td>\n",
       "    </tr>\n",
       "    <tr>\n",
       "      <th>4</th>\n",
       "      <td>AFK</td>\n",
       "    </tr>\n",
       "    <tr>\n",
       "      <th>...</th>\n",
       "      <td>...</td>\n",
       "    </tr>\n",
       "    <tr>\n",
       "      <th>288</th>\n",
       "      <td>Flurry</td>\n",
       "    </tr>\n",
       "    <tr>\n",
       "      <th>289</th>\n",
       "      <td>Absolute Corruption</td>\n",
       "    </tr>\n",
       "    <tr>\n",
       "      <th>290</th>\n",
       "      <td>Rock Solid</td>\n",
       "    </tr>\n",
       "    <tr>\n",
       "      <th>291</th>\n",
       "      <td>Hold the Line</td>\n",
       "    </tr>\n",
       "    <tr>\n",
       "      <th>292</th>\n",
       "      <td>Reflector Shield</td>\n",
       "    </tr>\n",
       "  </tbody>\n",
       "</table>\n",
       "<p>293 rows × 1 columns</p>\n",
       "</div>"
      ],
      "text/plain": [
       "                 Augment\n",
       "0           Big Friend I\n",
       "1         Renegade Heart\n",
       "2        Electrocharge I\n",
       "3         Luden's Echo I\n",
       "4                    AFK\n",
       "..                   ...\n",
       "288               Flurry\n",
       "289  Absolute Corruption\n",
       "290           Rock Solid\n",
       "291        Hold the Line\n",
       "292     Reflector Shield\n",
       "\n",
       "[293 rows x 1 columns]"
      ]
     },
     "execution_count": 6,
     "metadata": {},
     "output_type": "execute_result"
    }
   ],
   "source": [
    "data_augments_tft_df"
   ]
  },
  {
   "attachments": {},
   "cell_type": "markdown",
   "id": "757079aa",
   "metadata": {},
   "source": [
    "#end of cell"
   ]
  }
 ],
 "metadata": {
  "colab": {
   "provenance": []
  },
  "kernelspec": {
   "display_name": "min_ds-env",
   "language": "python",
   "name": "python3"
  },
  "language_info": {
   "codemirror_mode": {
    "name": "ipython",
    "version": 3
   },
   "file_extension": ".py",
   "mimetype": "text/x-python",
   "name": "python",
   "nbconvert_exporter": "python",
   "pygments_lexer": "ipython3",
   "version": "3.8.8 | packaged by conda-forge | (default, Feb 20 2021, 15:50:08) [MSC v.1916 64 bit (AMD64)]"
  },
  "vscode": {
   "interpreter": {
    "hash": "1376b7d9f14531d76db176389414f8a4a73502f1aa581cb356349fabafd1ad74"
   }
  }
 },
 "nbformat": 4,
 "nbformat_minor": 5
}
